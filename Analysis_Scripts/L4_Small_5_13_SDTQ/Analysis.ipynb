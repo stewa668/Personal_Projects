{
 "cells": [
  {
   "cell_type": "code",
   "execution_count": 508,
   "id": "ed6dc3b4",
   "metadata": {},
   "outputs": [],
   "source": [
    "import numpy as np\n",
    "from scipy.linalg import expm\n",
    "import matplotlib.pyplot as plt\n",
    "# %matplotlib notebook\n",
    "%matplotlib inline\n",
    "\n",
    "import pickle5 as pk\n",
    "import lzma\n",
    "import mayavi.mlab as mlab\n",
    "import mayavi\n",
    "%gui qt\n",
    "import os\n",
    "from IPython.display import clear_output\n",
    "from tvtk.util.ctf import PiecewiseFunction, ColorTransferFunction\n",
    "\n",
    "fs2au = 41.341374575751\n",
    "au2cm = 219474.63\n",
    "pi = np.pi\n",
    "\n",
    "hbar = 1.054571817E-34\n",
    "elem = 1.602176634E-19\n",
    "mass = 9.109383701528E-31\n",
    "coul = 8.987551792314E9\n",
    "perm = 8.854187812813E-12\n",
    "bohr = 4*pi*perm*hbar**2/elem**2/mass\n",
    "hart = hbar**2/mass/bohr**2"
   ]
  },
  {
   "cell_type": "code",
   "execution_count": 509,
   "id": "1586a111",
   "metadata": {},
   "outputs": [],
   "source": [
    "nstate = 400"
   ]
  },
  {
   "cell_type": "code",
   "execution_count": 510,
   "id": "44f578ac",
   "metadata": {},
   "outputs": [
    {
     "data": {
      "text/plain": [
       "True"
      ]
     },
     "execution_count": 510,
     "metadata": {},
     "output_type": "execute_result"
    }
   ],
   "source": [
    "E = []\n",
    "states = []\n",
    "dipx = np.zeros((nstate,nstate), dtype=np.complex128)\n",
    "ex = []\n",
    "dipy = np.zeros((nstate,nstate), dtype=np.complex128)\n",
    "ey = []\n",
    "dipz = np.zeros((nstate,nstate), dtype=np.complex128)\n",
    "ez = []\n",
    "SocH = [[]]\n",
    "\n",
    "#  $SPNORB ---   CI   SPIN-ORBIT MATRIX ELEMENTS.\n",
    "#  CI   ADIABATIC STATES---\n",
    "#   CI   SPIN-MIXED STATES---\n",
    "#  $SPNTRN MOMENT\n",
    "\n",
    "\n",
    "f = open(\"Febpy_CI.dat\", \"r\")\n",
    "\n",
    "SPN_ROT_FLAG = False\n",
    "SPN_ROT_IND = 1\n",
    "SPN_ENS_FLAG = False\n",
    "SPN_TRN_FLAG = False\n",
    "\n",
    "\n",
    "for line in f.readlines():\n",
    "    \n",
    "    if line.strip() ==  \"$SPNORB ---   CI   SPIN-ORBIT MATRIX ELEMENTS.\":\n",
    "        SPN_ROT_FLAG = True\n",
    "        continue\n",
    "        \n",
    "    if SPN_ROT_FLAG:\n",
    "        if line.strip() == \"CI   ADIABATIC STATES---\":\n",
    "            SPN_ROT_FLAG = False\n",
    "            continue\n",
    "        l = line.replace(\" \", \"  \").replace(\"-\", \" -\").replace(\"E -\", \"E-\").split()\n",
    "        if len(l) == 6:\n",
    "            if int(l[0]) != SPN_ROT_IND % 100:\n",
    "                SPN_ROT_IND += 1\n",
    "                SocH.append([])\n",
    "            SocH[-1].extend(l[1:])\n",
    "        else:\n",
    "            SocH[-1].extend(l)\n",
    "\n",
    "        \n",
    "        \n",
    "    if line.strip() == \"CI   SPIN-MIXED STATES---\":\n",
    "        SPN_ENS_FLAG = True\n",
    "        continue\n",
    "        \n",
    "    if SPN_ENS_FLAG:\n",
    "        if line.strip() == \"$END\":\n",
    "            SPN_ENS_FLAG = False\n",
    "            continue\n",
    "        l = line.split()\n",
    "        E.extend(l)\n",
    "        \n",
    "    if line.strip() == \"$SPNTRN MOMENT\":\n",
    "        SPN_TRN_FLAG = True\n",
    "        continue\n",
    "        \n",
    "    if SPN_TRN_FLAG:\n",
    "        if line.strip() == \"$END\":\n",
    "            SPN_TRN_FLAG = False\n",
    "            continue\n",
    "        l = line.replace(\"-\", \" -\").replace(\"E -\", \"E-\").split()\n",
    "        dipx[int(l[0])-1,int(l[2])-1] = float(l[5]) + 1j*float(l[6])\n",
    "        dipx[int(l[2])-1,int(l[0])-1] = float(l[5]) - 1j*float(l[6])\n",
    "        dipy[int(l[0])-1,int(l[2])-1] = float(l[7]) + 1j*float(l[8])\n",
    "        dipy[int(l[2])-1,int(l[0])-1] = float(l[7]) - 1j*float(l[8])\n",
    "        dipz[int(l[0])-1,int(l[2])-1] = float(l[9]) + 1j*float(l[10])\n",
    "        dipz[int(l[2])-1,int(l[0])-1] = float(l[9]) - 1j*float(l[10])\n",
    "\n",
    "SocH = np.array(SocH, float)\n",
    "SocH = (SocH[:,0::2] + 1j*SocH[:,1::2]) / au2cm\n",
    "\n",
    "E = np.array(E, float) \n",
    "E /= au2cm\n",
    "SocH -= np.diag([E[0]]*nstate)\n",
    "E -= E[0]\n",
    "\n",
    "H_0 = np.diag(E)\n",
    "\n",
    "# Zero of energy set to spin mixed ground state\n",
    "# Diag of SocH gives spin pure energies\n",
    "\n",
    "U_s_ev, U_s = np.linalg.eigh(SocH)\n",
    "min(np.isclose(U_s_ev, E))\n",
    "\n",
    "# U_s of spin pure to mix transformation matrix"
   ]
  },
  {
   "cell_type": "code",
   "execution_count": 511,
   "id": "80bf1e0e",
   "metadata": {},
   "outputs": [],
   "source": [
    "or0 = list(np.arange(0,nstate))\n",
    "or1 = or0[0:100] + or0[100:175:3] + or0[101:175:3] + or0[102:175:3] + or0[175:250:3] + or0[176:250:3] + or0[177:250:3] + or0[250:325:3] + or0[251:325:3] + or0[252:325:3] + or0[325:400:3] + or0[326:400:3] + or0[327:400:3]\n",
    "SocH_reordered = SocH[or1, :]\n",
    "SocH_reordered = SocH_reordered[:, or1]\n",
    "\n",
    "U_s_ev_re, U_s_re = np.linalg.eigh(SocH_reordered)\n"
   ]
  },
  {
   "cell_type": "code",
   "execution_count": 512,
   "id": "8e0ee6af",
   "metadata": {},
   "outputs": [
    {
     "data": {
      "text/plain": [
       "<matplotlib.image.AxesImage at 0x16608292448>"
      ]
     },
     "execution_count": 512,
     "metadata": {},
     "output_type": "execute_result"
    },
    {
     "data": {
      "image/png": "[encoded data removed]",
      "text/plain": [
       "<Figure size 640x480 with 1 Axes>"
      ]
     },
     "metadata": {},
     "output_type": "display_data"
    }
   ],
   "source": [
    "plt.imshow(np.sign(-.00001+np.abs((SocH_reordered))))"
   ]
  },
  {
   "cell_type": "code",
   "execution_count": 513,
   "id": "a7ca43ab",
   "metadata": {},
   "outputs": [],
   "source": [
    "SocH_W = np.real((U_s.T)*np.conj(U_s.T))\n",
    "SocH_W_re = np.real((U_s_re.T)*np.conj(U_s_re.T))"
   ]
  },
  {
   "cell_type": "code",
   "execution_count": 514,
   "id": "ed921a18",
   "metadata": {},
   "outputs": [],
   "source": [
    "SM_state_makeup = []\n",
    "for c in SocH_W_re:\n",
    "    SM_state_makeup.append([sum(c[i:i+25]) for i in range(0, len(c), 25)])"
   ]
  },
  {
   "cell_type": "code",
   "execution_count": 515,
   "id": "48b63434",
   "metadata": {
    "scrolled": false
   },
   "outputs": [
    {
     "data": {
      "text/plain": [
       "(0, 12)"
      ]
     },
     "execution_count": 515,
     "metadata": {},
     "output_type": "execute_result"
    },
    {
     "data": {
      "image/png": "[encoded data removed]",
      "text/plain": [
       "<Figure size 800x1600 with 1 Axes>"
      ]
     },
     "metadata": {},
     "output_type": "display_data"
    }
   ],
   "source": [
    "plt.figure(figsize=(8,16))\n",
    "for i,sms in enumerate(SM_state_makeup):\n",
    "    plt.hlines(E[i], 0, 0+sms[0], color=\"C\"+str(i))\n",
    "    plt.hlines(E[i], 1, 1+sms[1], color=\"C\"+str(i))\n",
    "    plt.hlines(E[i], 2, 2+sms[2], color=\"C\"+str(i))\n",
    "    plt.hlines(E[i], 3, 3+sms[3], color=\"C\"+str(i))\n",
    "    plt.hlines(E[i], 4, (4+2*sms[4]), color=\"C\"+str(i))\n",
    "    plt.hlines(E[i], 5, (5+sms[5]), color=\"C\"+str(i))\n",
    "    plt.hlines(E[i], 6, (6+2*sms[7]), color=\"C\"+str(i))\n",
    "    plt.hlines(E[i], 7, (7+sms[8]), color=\"C\"+str(i))\n",
    "    plt.hlines(E[i], 8, (8+2*sms[10]), color=\"C\"+str(i))\n",
    "    plt.hlines(E[i], 9, (9+sms[11]), color=\"C\"+str(i))\n",
    "    plt.hlines(E[i], 10, (10+2*sms[13]), color=\"C\"+str(i))\n",
    "    plt.hlines(E[i], 11, (11+sms[14]), color=\"C\"+str(i))\n",
    "plt.grid(axis='x')\n",
    "plt.ylim(0, .20)\n",
    "plt.xlim(0,12)"
   ]
  },
  {
   "cell_type": "code",
   "execution_count": 516,
   "id": "bd8cb8a3",
   "metadata": {},
   "outputs": [
    {
     "name": "stdout",
     "output_type": "stream",
     "text": [
      "[(0, 1), (0, 2), (0, 13), (0, 14), (0, 17), (0, 18), (1, 3), (1, 5), (2, 4), (2, 6), (3, 4), (3, 9), (4, 10), (5, 7), (5, 21), (6, 8), (6, 22), (7, 11), (7, 23), (8, 12), (8, 24), (9, 11), (9, 25), (10, 12), (10, 26), (11, 27), (12, 28), (13, 15), (14, 16), (17, 19), (18, 20)]\n"
     ]
    }
   ],
   "source": [
    "coords = [\n",
    " [ 0.000000  ,   0.000000  ,   1.067746],\n",
    " [-0.000000  ,  -1.264707  ,  -0.409742],\n",
    " [ 0.000000  ,   1.264707  ,  -0.409742],\n",
    " [-0.000000  ,  -0.724671  ,  -1.664414],\n",
    " [ 0.000000  ,   0.724671  ,  -1.664414],\n",
    " [-0.000000  ,  -2.612048  ,  -0.307324],\n",
    " [ 0.000000  ,   2.612048  ,  -0.307324],\n",
    " [-0.000000  ,  -3.448780  ,  -1.406501],\n",
    " [ 0.000000  ,   3.448780  ,  -1.406501],\n",
    " [-0.000000  ,  -1.522307  ,  -2.812129],\n",
    " [ 0.000000  ,   1.522307  ,  -2.812129],\n",
    " [-0.000000  ,  -2.900360  ,  -2.694111],\n",
    " [ 0.000000  ,   2.900360  ,  -2.694111],\n",
    " [-0.000000  ,  -1.407956  ,   2.389421],\n",
    " [ 0.000000  ,   1.407956  ,   2.389421],\n",
    " [-0.000000  ,  -2.334790  ,   3.104529],\n",
    " [ 0.000000  ,   2.334790  ,   3.104529],\n",
    " [-1.961435  ,   0.000000  ,   1.124970],\n",
    " [ 1.961435  ,   0.000000  ,   1.124970],\n",
    " [-3.128701  ,   0.000000  ,   1.052766],\n",
    " [ 3.128701  ,   0.000000  ,   1.052766],\n",
    " [-0.000000  ,  -2.983730  ,   0.710460],\n",
    " [ 0.000000  ,   2.983730  ,   0.710460],\n",
    " [-0.000000  ,  -4.521787  ,  -1.251756],\n",
    " [ 0.000000  ,   4.521787  ,  -1.251756],\n",
    " [-0.000000  ,  -1.053286  ,  -3.788927],\n",
    " [ 0.000000  ,   1.053286  ,  -3.788927],\n",
    " [-0.000000  ,  -3.533235  ,  -3.575317],\n",
    " [ 0.000000  ,   3.533235  ,  -3.575317]\n",
    "]\n",
    "charges = np.array([\n",
    "  26,\n",
    "  7,\n",
    "  7,\n",
    "  6,\n",
    "  6,\n",
    "  6,\n",
    "  6,\n",
    "  6,\n",
    "  6,\n",
    "  6,\n",
    "  6,\n",
    "  6,\n",
    "  6,\n",
    "  6,\n",
    "  6,\n",
    "  7,\n",
    "  7,\n",
    "  6,\n",
    "  6,\n",
    "  7,\n",
    "  7,\n",
    "  1,\n",
    "  1,\n",
    "  1,\n",
    "  1,\n",
    "  1,\n",
    "  1,\n",
    "  1,\n",
    "  1], dtype=float)\n",
    "\n",
    "coords = np.array(coords)/0.529177210903\n",
    "\n",
    "coords = np.c_[coords, charges]\n",
    "\n",
    "bonds = []\n",
    "for i1,atom1 in enumerate(coords[:,:-1]):\n",
    "    for i2,atom2 in enumerate(coords[1+i1:,:-1]):\n",
    "        i2+=i1+1\n",
    "\n",
    "        if np.linalg.norm(atom1-atom2) < 3.75:\n",
    "            bonds.append((i1,i2))\n",
    "print(bonds)"
   ]
  },
  {
   "cell_type": "code",
   "execution_count": 517,
   "id": "a13ede04",
   "metadata": {},
   "outputs": [],
   "source": [
    "vw = (-42.537585270415676,\n",
    " 89.7402743118783,\n",
    " 31.046066152956463,\n",
    " np.array([ 0.03573193, -0.57389574, -0.22883734]))\n",
    "\n",
    "mlab.points3d(coords[:,0], coords[:,1], coords[:,2], np.sqrt(coords[:,3])*0)\n",
    "for pair in bonds:\n",
    "    plotpair = np.vstack((coords[pair[0]], coords[pair[1]]))\n",
    "    mlab.plot3d(plotpair[:,0], plotpair[:,1], plotpair[:,2], tube_radius=.1)"
   ]
  },
  {
   "cell_type": "code",
   "execution_count": 518,
   "id": "9f45bc3f",
   "metadata": {},
   "outputs": [],
   "source": [
    "vw = (-42.537585270415676,\n",
    " 89.7402743118783,\n",
    " 31.046066152956463,\n",
    " np.array([ 0.03573193, -0.57389574, -0.22883734]))"
   ]
  },
  {
   "cell_type": "code",
   "execution_count": 519,
   "id": "f5b2ff65",
   "metadata": {},
   "outputs": [],
   "source": [
    "with open('rho.pk','rb') as infile:\n",
    "    rho = pk.load(infile)\n",
    "    \n",
    "with open('rho_a.pk','rb') as infile:\n",
    "    rho_a = pk.load(infile)\n",
    "    \n",
    "with open('rho_b.pk','rb') as infile:\n",
    "    rho_b = pk.load(infile)\n",
    "    \n",
    "with open('j.pk','rb') as infile:\n",
    "    J = pk.load(infile)\n",
    "    \n",
    "with open('j_a.pk','rb') as infile:\n",
    "    J_a = pk.load(infile)\n",
    "    \n",
    "with open('j_b.pk','rb') as infile:\n",
    "    J_b = pk.load(infile)\n",
    "\n",
    "with open('grid.pk','rb') as infile:\n",
    "    grid = pk.load(infile)\n",
    "    \n",
    "C = np.load(\"nstate.npy\")\n",
    "\n",
    "# SoI = [0, 3, 4, 7, 8, 10, 12, 18, 19, 22, 25, 27, 30, 31, 34, 38, 40, 45, 48, 50, 52, 55, 57, 59, 63]\n",
    "SoI = [0, 3, 4, 7, 8, 10, 12, 18, 19, 22, 25, 27, 30, 31, 34, 38, 40, 45, 48, 50, 52, 53, 54, 55, 57, 59, 63]\n",
    "    \n",
    "X, Y, Z = np.meshgrid(grid[0], grid[1], grid[2], indexing='ij')"
   ]
  },
  {
   "cell_type": "code",
   "execution_count": 520,
   "id": "924c4b1a",
   "metadata": {},
   "outputs": [],
   "source": [
    "state = 0\n",
    "\n",
    "c_r = np.real(U_s[:,state])\n",
    "c_i = np.imag(U_s[:,state])\n",
    "\n",
    "# TODO rewrite for new format\n",
    "\n",
    "rho_0 = 0.*rho[\"0,0\"]\n",
    "for i in SoI:\n",
    "    c = c_r[i]**2 + c_i[i]**2\n",
    "    rho_0 += c*rho[str(i)+\",\"+str(i)]\n",
    "    for j in [x for x in SoI if x > i]:\n",
    "        c = c_r[i]*c_r[j] + c_i[i]*c_i[j]\n",
    "        if c <= .0001: continue\n",
    "        rho_0 += 2*c*rho[str(i)+\",\"+str(j)]"
   ]
  },
  {
   "cell_type": "code",
   "execution_count": 521,
   "id": "79465da6",
   "metadata": {},
   "outputs": [
    {
     "data": {
      "text/plain": [
       "(6976, 400)"
      ]
     },
     "execution_count": 521,
     "metadata": {},
     "output_type": "execute_result"
    }
   ],
   "source": [
    "np.shape(C)"
   ]
  },
  {
   "cell_type": "code",
   "execution_count": 571,
   "id": "138dc5ec",
   "metadata": {},
   "outputs": [
    {
     "name": "stdout",
     "output_type": "stream",
     "text": [
      "0.001\n",
      "0.0\n"
     ]
    },
    {
     "data": {
      "text/plain": [
       "(-42.537585270415676,\n",
       " 89.7402743118783,\n",
       " 31.046066152956463,\n",
       " array([ 0.        ,  0.        , -0.64666247]))"
      ]
     },
     "execution_count": 571,
     "metadata": {},
     "output_type": "execute_result"
    }
   ],
   "source": [
    "f = mlab.figure(size=(1920,1080))\n",
    "\n",
    "mlab.points3d(coords[:,0], coords[:,1], coords[:,2], coords[:,3]*0)\n",
    "for pair in bonds:\n",
    "    plotpair = np.vstack((coords[pair[0]], coords[pair[1]]))\n",
    "    mlab.plot3d(plotpair[:,0], plotpair[:,1], plotpair[:,2], tube_radius=0.1)\n",
    "\n",
    "c_r = np.real(C[6300,:])\n",
    "c_i = np.imag(C[6300,:])\n",
    "\n",
    "rho_t = -0*rho_0\n",
    "for i in SoI:\n",
    "    c = c_r[i]**2 + c_i[i]**2\n",
    "\n",
    "    rho_t += c*(rho_a[str(i)+\",\"+str(i)]+0*rho_b[str(i)+\",\"+str(i)])\n",
    "    for j in [x for x in SoI if x > i]:\n",
    "        c = c_r[i]*c_r[j] - c_i[i]*c_i[j]\n",
    "        if c <= .0001: continue\n",
    "        rho_t += 2*c*(rho_a[str(i)+\",\"+str(j)]+0*rho_b[str(i)+\",\"+str(j)])\n",
    "        \n",
    "J_t = -0*J_a[\"0,3\"]\n",
    "for i in SoI:\n",
    "    for j in [x for x in SoI if x > i]:\n",
    "        c = c_r[i]*c_r[j] - c_i[i]*c_i[j] # might be wrong\n",
    "        if c <= .0001: continue\n",
    "        J_t += 2*c*(J_a[str(i)+\",\"+str(j)]+0*J_b[str(i)+\",\"+str(j)])\n",
    "\n",
    "source = mlab.pipeline.scalar_field(X,Y,Z,rho_t-rho_a[\"0,0\"])\n",
    "\n",
    "vol = mlab.pipeline.volume(source, vmin=-.0012, vmax=.0012)\n",
    "\n",
    "ctf = ColorTransferFunction()\n",
    "# ctf.range = [-.0001,.0001]\n",
    "# vol._ctf = ctf\n",
    "# vol.update_ctf = True\n",
    "\n",
    "otf = PiecewiseFunction()\n",
    "# otf.add_point(0-.1,0)\n",
    "\n",
    "otf.add_point(0-0.0015,0)\n",
    "otf.add_point(0-0.0010,1)\n",
    "otf.add_point(0-0.0005,0.0)\n",
    "# otf.add_point(0-0.00005,0)\n",
    "\n",
    "# otf.add_point(0+0.00005,0)\n",
    "otf.add_point(0+0.0005,0.0)\n",
    "otf.add_point(0+0.0010,1)\n",
    "otf.add_point(0+0.0015,0)\n",
    "\n",
    "# otf.add_point(0+.1,0)\n",
    "vol._otf = otf\n",
    "vol._volume_property.set_scalar_opacity(otf)\n",
    "\n",
    "#     J_t[0] += (rho_t+rho['0,0'])*Ax[t_i]\n",
    "#     J_t[1] += (rho_t+rho['0,0'])*Ay[t_i]\n",
    "#     J_t[2] += (rho_t+rho['0,0'])*Az[t_i]\n",
    "\n",
    "jnorm = np.sqrt(J_t[0]**2+J_t[1]**2+J_t[2]**2)\n",
    "jnorm[ jnorm < 1E-6 ] = 0\n",
    "jnorm[ jnorm > 1E-3 ] = 1E-3\n",
    "print(jnorm.max())\n",
    "print(jnorm.min())\n",
    "\n",
    "qui = mlab.quiver3d(X,Y,Z,J_t[0],J_t[1],J_t[2], scalars=jnorm,\n",
    "               scale_mode=\"scalar\", transparent=True, mask_points=1, vmin=1E-6)\n",
    "\n",
    "vw = (-42.537585270415676,\n",
    " 89.7402743118783,\n",
    " 31.046066152956463,\n",
    " np.array([ 0.03573193, -0.57389574, -0.22883734]))\n",
    "\n",
    "mlab.view(vw[0], vw[1], vw[2], vw[3], roll=0)\n"
   ]
  },
  {
   "cell_type": "code",
   "execution_count": 486,
   "id": "9fd364c6",
   "metadata": {},
   "outputs": [
    {
     "name": "stdout",
     "output_type": "stream",
     "text": [
      "0.0\n"
     ]
    },
    {
     "data": {
      "text/plain": [
       "(-42.537585270415676,\n",
       " 89.7402743118783,\n",
       " 31.046066152956463,\n",
       " array([ 0.        ,  0.        , -0.64666247]))"
      ]
     },
     "execution_count": 486,
     "metadata": {},
     "output_type": "execute_result"
    }
   ],
   "source": [
    "f = mlab.figure(size=(1920,1080), figure=\"J\")\n",
    "\n",
    "mlab.points3d(coords[:,0], coords[:,1], coords[:,2], coords[:,3]*0)\n",
    "for pair in bonds:\n",
    "    plotpair = np.vstack((coords[pair[0]], coords[pair[1]]))\n",
    "    mlab.plot3d(plotpair[:,0], plotpair[:,1], plotpair[:,2], tube_radius=0.1)\n",
    "\n",
    "source = mlab.pipeline.scalar_field(X,Y,Z,rho_b[\"52,52\"]-rho_b[\"0,0\"])\n",
    "\n",
    "J_t = J[\"10,52\"]\n",
    "jnorm = np.sqrt(J_t[0]**2+J_t[1]**2+J_t[2]**2)\n",
    "jnorm[ jnorm > 1E-8 ] = 0\n",
    "jnorm[ jnorm < 1E-4 ] = 0\n",
    "\n",
    "qui = mlab.quiver3d(X,Y,Z,J_t[0],J_t[1],J_t[2], scalars=jnorm,\n",
    "               scale_mode=\"scalar\", transparent=True, mask_points=1)\n",
    "\n",
    "# vol = mlab.pipeline.volume(source, vmin=-.0012, vmax=.0012)\n",
    "\n",
    "ctf = ColorTransferFunction()\n",
    "# ctf.range = [-.0001,.0001]\n",
    "# vol._ctf = ctf\n",
    "# vol.update_ctf = True\n",
    "\n",
    "otf = PiecewiseFunction()\n",
    "# otf.add_point(0-.1,0)\n",
    "\n",
    "otf.add_point(0-0.0015,0)\n",
    "otf.add_point(0-0.0010,1)\n",
    "otf.add_point(0-0.0005,0.0)\n",
    "# otf.add_point(0-0.00005,0)\n",
    "\n",
    "# otf.add_point(0+0.00005,0)\n",
    "otf.add_point(0+0.0005,0.0)\n",
    "otf.add_point(0+0.0010,1)\n",
    "otf.add_point(0+0.0015,0)\n",
    "\n",
    "# otf.add_point(0+.1,0)\n",
    "vol._otf = otf\n",
    "vol._volume_property.set_scalar_opacity(otf)\n",
    "\n",
    "vw = (-42.537585270415676,\n",
    " 89.7402743118783,\n",
    " 31.046066152956463,\n",
    " np.array([ 0.03573193, -0.57389574, -0.22883734]))\n",
    "\n",
    "mlab.view(vw[0], vw[1], vw[2], vw[3], roll=0)"
   ]
  },
  {
   "cell_type": "code",
   "execution_count": 505,
   "id": "7b9cddb0",
   "metadata": {},
   "outputs": [
    {
     "name": "stdout",
     "output_type": "stream",
     "text": [
      "6.616663005197753e-17\n"
     ]
    }
   ],
   "source": [
    "J_t = J[\"0,10\"]\n",
    "jnorm = np.sqrt(J_t[0]**2+J_t[1]**2+J_t[2]**2)\n",
    "print(jnorm.max())"
   ]
  },
  {
   "cell_type": "code",
   "execution_count": 396,
   "id": "8aa3b1ee",
   "metadata": {},
   "outputs": [
    {
     "ename": "FileNotFoundError",
     "evalue": "[Errno 2] No such file or directory: '../L4_Small_Final_Par/rho.pk.lzma'",
     "output_type": "error",
     "traceback": [
      "\u001b[1;31m---------------------------------------------------------------------------\u001b[0m",
      "\u001b[1;31mFileNotFoundError\u001b[0m                         Traceback (most recent call last)",
      "\u001b[1;32m~\\AppData\\Local\\Temp\\ipykernel_7936\\1849680645.py\u001b[0m in \u001b[0;36m<module>\u001b[1;34m\u001b[0m\n\u001b[1;32m----> 1\u001b[1;33m \u001b[1;32mwith\u001b[0m \u001b[0mlzma\u001b[0m\u001b[1;33m.\u001b[0m\u001b[0mopen\u001b[0m\u001b[1;33m(\u001b[0m\u001b[1;34m'../L4_Small_Final_Par/rho.pk.lzma'\u001b[0m\u001b[1;33m,\u001b[0m\u001b[1;34m'rb'\u001b[0m\u001b[1;33m)\u001b[0m \u001b[1;32mas\u001b[0m \u001b[0minfile\u001b[0m\u001b[1;33m:\u001b[0m\u001b[1;33m\u001b[0m\u001b[1;33m\u001b[0m\u001b[0m\n\u001b[0m\u001b[0;32m      2\u001b[0m     \u001b[0mrhocn\u001b[0m \u001b[1;33m=\u001b[0m \u001b[0mpk\u001b[0m\u001b[1;33m.\u001b[0m\u001b[0mload\u001b[0m\u001b[1;33m(\u001b[0m\u001b[0minfile\u001b[0m\u001b[1;33m)\u001b[0m\u001b[1;33m\u001b[0m\u001b[1;33m\u001b[0m\u001b[0m\n\u001b[0;32m      3\u001b[0m \u001b[1;33m\u001b[0m\u001b[0m\n\u001b[0;32m      4\u001b[0m \u001b[1;32mwith\u001b[0m \u001b[0mlzma\u001b[0m\u001b[1;33m.\u001b[0m\u001b[0mopen\u001b[0m\u001b[1;33m(\u001b[0m\u001b[1;34m'../L4_Small_Final_Par/j.pk.lzma'\u001b[0m\u001b[1;33m,\u001b[0m\u001b[1;34m'rb'\u001b[0m\u001b[1;33m)\u001b[0m \u001b[1;32mas\u001b[0m \u001b[0minfile\u001b[0m\u001b[1;33m:\u001b[0m\u001b[1;33m\u001b[0m\u001b[1;33m\u001b[0m\u001b[0m\n\u001b[0;32m      5\u001b[0m     \u001b[0mJcn\u001b[0m \u001b[1;33m=\u001b[0m \u001b[0mpk\u001b[0m\u001b[1;33m.\u001b[0m\u001b[0mload\u001b[0m\u001b[1;33m(\u001b[0m\u001b[0minfile\u001b[0m\u001b[1;33m)\u001b[0m\u001b[1;33m\u001b[0m\u001b[1;33m\u001b[0m\u001b[0m\n",
      "\u001b[1;32mC:\\ProgramData\\Anaconda3\\lib\\lzma.py\u001b[0m in \u001b[0;36mopen\u001b[1;34m(filename, mode, format, check, preset, filters, encoding, errors, newline)\u001b[0m\n\u001b[0;32m    300\u001b[0m     \u001b[0mlz_mode\u001b[0m \u001b[1;33m=\u001b[0m \u001b[0mmode\u001b[0m\u001b[1;33m.\u001b[0m\u001b[0mreplace\u001b[0m\u001b[1;33m(\u001b[0m\u001b[1;34m\"t\"\u001b[0m\u001b[1;33m,\u001b[0m \u001b[1;34m\"\"\u001b[0m\u001b[1;33m)\u001b[0m\u001b[1;33m\u001b[0m\u001b[1;33m\u001b[0m\u001b[0m\n\u001b[0;32m    301\u001b[0m     binary_file = LZMAFile(filename, lz_mode, format=format, check=check,\n\u001b[1;32m--> 302\u001b[1;33m                            preset=preset, filters=filters)\n\u001b[0m\u001b[0;32m    303\u001b[0m \u001b[1;33m\u001b[0m\u001b[0m\n\u001b[0;32m    304\u001b[0m     \u001b[1;32mif\u001b[0m \u001b[1;34m\"t\"\u001b[0m \u001b[1;32min\u001b[0m \u001b[0mmode\u001b[0m\u001b[1;33m:\u001b[0m\u001b[1;33m\u001b[0m\u001b[1;33m\u001b[0m\u001b[0m\n",
      "\u001b[1;32mC:\\ProgramData\\Anaconda3\\lib\\lzma.py\u001b[0m in \u001b[0;36m__init__\u001b[1;34m(self, filename, mode, format, check, preset, filters)\u001b[0m\n\u001b[0;32m    118\u001b[0m             \u001b[1;32mif\u001b[0m \u001b[1;34m\"b\"\u001b[0m \u001b[1;32mnot\u001b[0m \u001b[1;32min\u001b[0m \u001b[0mmode\u001b[0m\u001b[1;33m:\u001b[0m\u001b[1;33m\u001b[0m\u001b[1;33m\u001b[0m\u001b[0m\n\u001b[0;32m    119\u001b[0m                 \u001b[0mmode\u001b[0m \u001b[1;33m+=\u001b[0m \u001b[1;34m\"b\"\u001b[0m\u001b[1;33m\u001b[0m\u001b[1;33m\u001b[0m\u001b[0m\n\u001b[1;32m--> 120\u001b[1;33m             \u001b[0mself\u001b[0m\u001b[1;33m.\u001b[0m\u001b[0m_fp\u001b[0m \u001b[1;33m=\u001b[0m \u001b[0mbuiltins\u001b[0m\u001b[1;33m.\u001b[0m\u001b[0mopen\u001b[0m\u001b[1;33m(\u001b[0m\u001b[0mfilename\u001b[0m\u001b[1;33m,\u001b[0m \u001b[0mmode\u001b[0m\u001b[1;33m)\u001b[0m\u001b[1;33m\u001b[0m\u001b[1;33m\u001b[0m\u001b[0m\n\u001b[0m\u001b[0;32m    121\u001b[0m             \u001b[0mself\u001b[0m\u001b[1;33m.\u001b[0m\u001b[0m_closefp\u001b[0m \u001b[1;33m=\u001b[0m \u001b[1;32mTrue\u001b[0m\u001b[1;33m\u001b[0m\u001b[1;33m\u001b[0m\u001b[0m\n\u001b[0;32m    122\u001b[0m             \u001b[0mself\u001b[0m\u001b[1;33m.\u001b[0m\u001b[0m_mode\u001b[0m \u001b[1;33m=\u001b[0m \u001b[0mmode_code\u001b[0m\u001b[1;33m\u001b[0m\u001b[1;33m\u001b[0m\u001b[0m\n",
      "\u001b[1;31mFileNotFoundError\u001b[0m: [Errno 2] No such file or directory: '../L4_Small_Final_Par/rho.pk.lzma'"
     ]
    }
   ],
   "source": [
    "with lzma.open('../L4_Small_Final_Par/rho.pk.lzma','rb') as infile:\n",
    "    rhocn = pk.load(infile)\n",
    "    \n",
    "with lzma.open('../L4_Small_Final_Par/j.pk.lzma','rb') as infile:\n",
    "    Jcn = pk.load(infile)\n",
    "    \n",
    "X, Y, Z = np.meshgrid(grid[0], grid[1], grid[2], indexing='ij')"
   ]
  },
  {
   "cell_type": "code",
   "execution_count": 28,
   "id": "9cfdecb8",
   "metadata": {},
   "outputs": [],
   "source": [
    "statecn = 0\n",
    "\n",
    "c_r = np.real(U_scn[:,statecn])\n",
    "c_i = np.imag(U_scn[:,statecn])\n",
    "\n",
    "rho_0cn = 0.*rhocn[\"0,0\"]\n",
    "for i in range(nstate):\n",
    "    c = c_r[i]**2 + c_i[i]**2\n",
    "    rho_0cn += c*rhocn[str(i)+\",\"+str(i)]\n",
    "    for j in [x+i+1 for x in range(nstate-i-1)]:\n",
    "        c = c_r[i]*c_r[j] + c_i[i]*c_i[j]\n",
    "        if c <= .0001: continue\n",
    "        rho_0cn += 2*c*rhocn[str(i)+\",\"+str(j)]"
   ]
  },
  {
   "cell_type": "code",
   "execution_count": null,
   "id": "af644ad6",
   "metadata": {},
   "outputs": [],
   "source": [
    "f = mlab.figure(size=(1080,720))\n",
    "\n",
    "statecn = 1\n",
    "state = 1\n",
    "\n",
    "c_r = np.real(U_scn[:,statecn])\n",
    "c_i = np.imag(U_scn[:,statecn])\n",
    "\n",
    "rho_tcn = 0*rho[\"0,0\"]\n",
    "for i in range(nstate):\n",
    "    c = c_r[i]**2 + c_i[i]**2\n",
    "    if c <= 0.0001: continue\n",
    "    rho_tcn += c*rhocn[str(i)+\",\"+str(i)]\n",
    "    for j in [x+i+1 for x in range(nstate-i-1)]:\n",
    "        c = c_r[i]*c_r[j] + c_i[i]*c_i[j]\n",
    "        if c <= 0.0001: continue\n",
    "        rho_tcn += 2*c*rhocn[str(i)+\",\"+str(j)]\n",
    "        \n",
    "c_r = np.real(U_s[:,state])\n",
    "c_i = np.imag(U_s[:,state])\n",
    "\n",
    "rho_t = 0*rho[\"0,0\"]\n",
    "for i in range(nstate):\n",
    "#     print(i)\n",
    "    c = c_r[i]**2 + c_i[i]**2\n",
    "    if c <= 0.0001: continue\n",
    "    rho_t += c*rho[str(i)+\",\"+str(i)]\n",
    "    for j in [x+i+1 for x in range(nstate-i-1)]:\n",
    "        c = c_r[i]*c_r[j] + c_i[i]*c_i[j]\n",
    "        if c <= 0.0001: continue\n",
    "        rho_t += 2*c*rho[str(i)+\",\"+str(j)]\n",
    "        \n",
    "# source = mlab.pipeline.scalar_field(X,Y,Z,(rho_tcn-rho_t).astype(\"float32\"))\n",
    "\n",
    "source = mlab.pipeline.scalar_field(X,Y,Z,(rho_tcn+rho_t).astype(\"float32\"))\n",
    "\n",
    "vol = mlab.pipeline.volume(source, vmin=-.03, vmax=.03)\n",
    "\n",
    "ctf = ColorTransferFunction()\n",
    "# ctf.range = [-.0001,.0001]\n",
    "# vol._ctf = ctf\n",
    "# vol.update_ctf = True\n",
    "\n",
    "otf = PiecewiseFunction()\n",
    "# otf.add_point(0-.1,0)\n",
    "\n",
    "otf.add_point(0-0.05,0)\n",
    "otf.add_point(0-0.025,1)\n",
    "otf.add_point(0-0.01,0.01)\n",
    "otf.add_point(0-0.005,0)\n",
    "\n",
    "otf.add_point(0+0.005,0)\n",
    "otf.add_point(0+0.01,0.01)\n",
    "otf.add_point(0+0.025,1)\n",
    "otf.add_point(0+0.05,0)\n",
    "\n",
    "# otf.add_point(0+.1,0)\n",
    "vol._otf = otf\n",
    "vol._volume_property.set_scalar_opacity(otf)\n",
    "\n",
    "#     J_t[0] += (rho_t+rho['0,0'])*Ax[t_i]\n",
    "#     J_t[1] += (rho_t+rho['0,0'])*Ay[t_i]\n",
    "#     J_t[2] += (rho_t+rho['0,0'])*Az[t_i]\n",
    "\n",
    "# jnorm = sqrt(J_t[0]**2+J_t[1]**2+J_t[2]**2)\n",
    "# jnorm[ jnorm < 2E-4 ] = 0\n",
    "\n",
    "# qui = quiver3d(X,Y,Z,J_t[0],J_t[1],J_t[2], scalars=jnorm,\n",
    "#                scale_mode=\"scalar\", transparent=True)\n",
    "\n",
    "mlab.view(vw[0], vw[1], vw[2], vw[3], roll=0)\n"
   ]
  },
  {
   "cell_type": "code",
   "execution_count": 256,
   "id": "74c881a8",
   "metadata": {},
   "outputs": [
    {
     "data": {
      "text/plain": [
       "array([-5.30005560e-12+1.87363203e-13j,  2.02177880e-05-6.99476369e-01j,\n",
       "       -5.30005266e-12+1.79895104e-13j])"
      ]
     },
     "execution_count": 256,
     "metadata": {},
     "output_type": "execute_result"
    }
   ],
   "source": [
    "(U_s[337:340,54])"
   ]
  },
  {
   "cell_type": "code",
   "execution_count": null,
   "id": "7af5aa0a",
   "metadata": {},
   "outputs": [],
   "source": []
  }
 ],
 "metadata": {
  "kernelspec": {
   "display_name": "Python 3 (ipykernel)",
   "language": "python",
   "name": "python3"
  },
  "language_info": {
   "codemirror_mode": {
    "name": "ipython",
    "version": 3
   },
   "file_extension": ".py",
   "mimetype": "text/x-python",
   "name": "python",
   "nbconvert_exporter": "python",
   "pygments_lexer": "ipython3",
   "version": "3.7.15"
  }
 },
 "nbformat": 4,
 "nbformat_minor": 5
}
