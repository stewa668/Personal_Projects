{
 "cells": [
  {
   "cell_type": "markdown",
   "metadata": {},
   "source": [
    "In order to successfully complete this assignment you must follow all instructions in this notebook and upload your files with your answers on or before **11:59pm on Friday January 21th**."
   ]
  },
  {
   "cell_type": "markdown",
   "metadata": {},
   "source": [
    "# Homework 1: 1D Wave Equation\n",
    "\n",
    "In this homework we will solve the wave equation in 1-D through a finite difference approach using Euler's method. The purpose of the assignment is to allow students to compare and benchmark language choice and its impact on time to science using an easy to describe and read, mostly memory coherent application.\n",
    "\n",
    "### Goals for this assignment:\n",
    "\n",
    "By the end of this assignment, you should be able to:\n",
    "\n",
    "* Implement a 1D wave equation using the finite difference method\n",
    "* Conduct a timing study of your code\n",
    "\n",
    "\n",
    "The 1D wave equation can be thought of as a wave propagating along a string.\n",
    "\n",
    "<img src=\"https://i.stack.imgur.com/75vyK.gif\" width=50%>\n"
   ]
  },
  {
   "cell_type": "markdown",
   "metadata": {},
   "source": [
    "The wave equation is an  second-order linear partial differential equation for the description of waves as they occur in classical physics (for example: water waves, sound waves and seismic waves, light waves).  The basic algorithm splits the wave into a grid of points and calculates the point's position, velocity and acceleration.  The key incite to making the wave equations work that an individuals point will lead/follow the behavior of that points neighbors.  \n",
    "\n",
    "\n",
    "In the 1D case we will model a line of points in the x-direction such that thy can only move in the y direction. The position for each point  $y$ can be calculated by the particle's previous position and the particle's velocity multiplied by the change in time:\n",
    "\n",
    "$$y_{i+1} = y_i + \\dot{y}_idt$$\n",
    "\n",
    "Notation:\n",
    "$$\\frac{dy}{dt} = \\dot{y} = v = \\text{velocity of particle in y direction}$$\n",
    "\n",
    "We calculation the velocity using the acceleration:\n",
    "\n",
    "$$\\dot{y}_{i+1} = \\dot{y}_i + \\ddot{y}_idt$$\n",
    "\n",
    "Notation:\n",
    "$$\\frac{d^2y}{dt^2} = \\frac{dv}{dt} = \\ddot{y} = a = \\text{acceleration of particle in y direction}$$\n",
    "\n",
    "\n",
    "Given the above equations,  if we know the starting values $y_0$, $\\dot{y}_0$, $\\ddot{y}_0$ then the only unknown is the equation for how the acceleration changes.  "
   ]
  },
  {
   "cell_type": "markdown",
   "metadata": {},
   "source": [
    "**Wave Equation:** We will estimate acceleration in time by using acceleration in space. Intuitively we can think about this as any point can estimate where it will be in the future by looking at it's neighbors. Mathematically we show this equation as follows:\n",
    "\n",
    "\n",
    "$$\\frac{d^2y}{dt^2} = \\gamma\\frac{d^2y}{dx^2}$$"
   ]
  },
  {
   "cell_type": "markdown",
   "metadata": {},
   "source": [
    "We know the acceleration in space using the Euler's finite difference of the particle's position:"
   ]
  },
  {
   "cell_type": "markdown",
   "metadata": {},
   "source": [
    "$$\\frac{d^2y}{dx^2} \\approx \\frac{y[i+1]-2y[i]+y[i-1]}{dx^2}$$"
   ]
  },
  {
   "cell_type": "markdown",
   "metadata": {},
   "source": [
    "To get the above equation we estimate the velocity to the Left and Right (Before and After) the point of interest using Finite Difference:\n",
    "\n",
    "$$\\dot{y}[i]_L = \\frac{y[i]-y[i-1]}{dx}$$\n",
    "\n",
    "$$\\dot{y}[i]_R = \\frac{y[i+1]-y[i]}{dx}$$"
   ]
  },
  {
   "cell_type": "markdown",
   "metadata": {},
   "source": [
    "Second, using the Left and Right Velocity,  we use finite difference again to estimate the acceleration:\n",
    "\n",
    "$$\\ddot{y}[i] = \\frac{\\dot{y}[i]_R - \\dot{y}[i]_L}{dx}$$"
   ]
  },
  {
   "cell_type": "markdown",
   "metadata": {},
   "source": [
    "Putting it all together and simplifying we get the followign:"
   ]
  },
  {
   "cell_type": "markdown",
   "metadata": {},
   "source": [
    "$$\\ddot{y}[i] = \\frac{y[i+1]-2y[i]+y[i-1]}{dx^2}$$"
   ]
  },
  {
   "cell_type": "markdown",
   "metadata": {},
   "source": [
    "Given the above we can calculate a points position at time step $t+1$ by using it's position/velocity at timestep $t$ and it's neighbors position at time step $t-1$.\n",
    "\n",
    "\n",
    "# 1. Implement the 1D wave equation\n",
    "\n",
    "<font color=red>**DO THIS:**</font> Write a 1D wave equation in your program language of choice using the following pseudocode as a guide. "
   ]
  },
  {
   "cell_type": "markdown",
   "metadata": {},
   "source": [
    "Pseudocode and settings for 1D Wave Equation\n",
    "\n",
    "> ### Divide simulation into grid in the x direction\n",
    "> \n",
    "> $xmin = 0; xmax=10; nx=500$\n",
    ">\n",
    "> $dx = \\frac{xmax-xmin}{nx}$\n",
    ">\n",
    "> $x = \\text{linspace}(xmin, xmax, nx)$  #Returns a row vector of nx evenly spaced points between xmin and xmax.\n",
    ">\n",
    "> ### Divide time into discrete units\n",
    ">\n",
    "> $tmin = 0; tmax=10; nt=1000000$\n",
    ">\n",
    "> $dt = \\frac{tmax-tmin}{nt}$\n",
    ">\n",
    "> $times = \\text{linespace}(tmin,tmax, nt)$ #Returns a row vector of nt evenly spaced points between tmin and tmax.\n",
    ">\n",
    "> ### Initialize starting position as a simple pulse\n",
    ">\n",
    "> $y_i = e^{-(x_i-5)^2}$ for all $i \\in [0,nx)$\n",
    ">\n",
    "> ### Initialize velocity and acceleration to zero\n",
    ">\n",
    "> $\\dot{y}_i = 0$ for all $i \\in [0,nx)$\n",
    ">\n",
    "> $\\ddot{y}_i = 0$ for all $i \\in [0,nx)$\n",
    ">\n",
    "> $\\gamma = 1$\n",
    ">\n",
    "> ### Run the simulation of t timesteps\n",
    "> Loop over index $t$ in $times$:\n",
    ">\n",
    ">    > $\\ddot{y}_0 = 0$ # Keep acceleration to zero on ends\n",
    ">    >\n",
    ">    > $\\ddot{y}_{nx-1} = 0$ # Keep acceleration to zero on ends\n",
    ">    >\n",
    ">    > $\\ddot{y}_i \\approx \\gamma \\frac{y_{(i+1)} + y_{(i-1)}-2y_i}{dx^2}$ for all $i \\in (0,nx-1)$ # Estimate acceleration using position\n",
    ">    > \n",
    ">    > $y_i = y_i + \\dot{y}_i dt$   for all $i \\in [0,nx)$ # Update position\n",
    ">    >\n",
    ">    > $\\dot{y}_{t+1} = \\dot{y}_t+ \\ddot{y}_tdt$   for all $i \\in [0,nx)$ # Update velocity\n"
   ]
  },
  {
   "cell_type": "code",
   "execution_count": 25,
   "metadata": {},
   "outputs": [],
   "source": [
    "from numpy import *\n",
    "import matplotlib.pyplot as plt\n",
    "from scipy import linalg, integrate\n",
    "import numpy as np\n",
    "from IPython.display import display, clear_output\n",
    "import time\n",
    "import numba\n",
    "from numba import jit, autojit\n",
    "%matplotlib inline\n",
    "from numpy import *"
   ]
  },
  {
   "cell_type": "code",
   "execution_count": 26,
   "metadata": {},
   "outputs": [],
   "source": [
    "import time\n"
   ]
  },
  {
   "cell_type": "code",
   "execution_count": 79,
   "metadata": {},
   "outputs": [],
   "source": [
    "# %%timeit  ## THIS IS THE ONE\n",
    "\n",
    "\n",
    "# # i = linspace(1,nx-2,nx-2,dtype=int)\n",
    "# @jit\n",
    "# def wfn1d():\n",
    "#     xmin = 0\n",
    "#     xmax = 10\n",
    "#     nx = 500\n",
    "#     x = linspace(xmin, xmax, nx)\n",
    "#     dx = (xmax - xmin)/(nx-1)\n",
    "\n",
    "#     tmin = 0\n",
    "#     tmax = 10\n",
    "#     nt = 1000\n",
    "\n",
    "#     times = linspace(tmin, tmax, nt)\n",
    "#     dt = (tmax - tmin)/nt\n",
    "#     y = exp(-(x - 5)**2)\n",
    "#     v = zeros(nx)\n",
    "#     a = zeros(nx)\n",
    "\n",
    "#     for t in times:\n",
    "\n",
    "#         a[1:-1] = (y[:-2] + y[2:] - 2*y[1:-1])/(dx)**2\n",
    "\n",
    "#         v += a*dt\n",
    "#         y += v*dt\n",
    "\n",
    "#     return a\n",
    "\n",
    "# wfn1d()\n",
    "# # print(y-exp(-(x-5)**2))\n",
    "# # print(\"DO TIMES\")"
   ]
  },
  {
   "cell_type": "code",
   "execution_count": 80,
   "metadata": {},
   "outputs": [
    {
     "name": "stdout",
     "output_type": "stream",
     "text": [
      "18.1 s ± 379 ms per loop (mean ± std. dev. of 7 runs, 1 loop each)\n"
     ]
    }
   ],
   "source": [
    "%%timeit  ## THIS IS THE ONE\n",
    "xmin = 0\n",
    "xmax = 10\n",
    "nx = 500\n",
    "x = linspace(xmin, xmax, nx)\n",
    "dx = (xmax-xmin)/(nx-1)\n",
    "\n",
    "tmin = 0\n",
    "tmax = 10\n",
    "nt = 1000000\n",
    "times = linspace(tmin, tmax, nt)\n",
    "times.size\n",
    "dt = (tmax-tmin)/(nt-1)\n",
    "\n",
    "y = exp(-(x-5)**2)\n",
    "\n",
    "v = zeros(nx)\n",
    "a = zeros(nx)\n",
    "\n",
    "for t in times:\n",
    "    a[1:-1] = (y[:-2] + y[2:] - 2*y[1:-1])/(dx)**2\n",
    "\n",
    "    v += a*dt\n",
    "    y += v*dt\n",
    "# print(y-exp(-(x-5)**2))\n",
    "# print(\"DO TIMES\")"
   ]
  },
  {
   "cell_type": "markdown",
   "metadata": {},
   "source": [
    "# git some "
   ]
  },
  {
   "cell_type": "markdown",
   "metadata": {},
   "source": [
    "# 2. Timeing / Scaling Study"
   ]
  },
  {
   "cell_type": "markdown",
   "metadata": {},
   "source": [
    "<font color=red>**DO THIS:**</font> Conduct a timing study of your 1D wave equation.  Make sure you have run it enough times to get accurate results.  (You are encouraged to compare timing results if you have different versions of the code and/or if you run your code on different machines)"
   ]
  },
  {
   "cell_type": "code",
   "execution_count": 83,
   "metadata": {},
   "outputs": [
    {
     "name": "stdout",
     "output_type": "stream",
     "text": [
      "PYTHON_LOCAL:  18.1  seconds\n",
      "dev-intel14:  0.36239999999999994  seconds\n",
      "dev-intel14-phi: could not get onto it sorry Dirk.\n",
      "dev-intel14-k20:  0.36160000000000003  seconds\n",
      "dev-intel16:  0.2564  seconds\n",
      "dev-intel16-k80:  0.21539999999999998  seconds\n",
      "dev-intel18:  0.194  seconds\n",
      "A certain grad-students computer:  0.212  seconds\n",
      "\n",
      "System times tended to be around .002 seconds on better systems, the above are real times.\n"
     ]
    }
   ],
   "source": [
    "print(\"PYTHON_LOCAL: \", average([18.1]), \" seconds\")\n",
    "print(\"dev-intel14: \", average([.361, .363, .362, .363, .363]), \" seconds\")\n",
    "print(\"dev-intel14-phi: could not get onto it sorry Dirk.\",)\n",
    "print(\"dev-intel14-k20: \", average([.362, .361, .361, .362, .362]), \" seconds\")\n",
    "print(\"dev-intel16: \", average([.255, .258, .253, .257, .259]), \" seconds\")\n",
    "print(\"dev-intel16-k80: \", average([.216, .215, .215, .216, .215]), \" seconds\")\n",
    "print(\"dev-intel18: \", average([.194, .195, .194, .194, .193]), \" seconds\")\n",
    "print(\"A certain grad-students computer: \", average([.212]), \" seconds\")\n",
    "print(\"\\nSystem times tended to be around .002 seconds on better systems, the above are real times.\")"
   ]
  },
  {
   "cell_type": "markdown",
   "metadata": {},
   "source": [
    "PYTHON_LOCAL:    18.1  seconds\n",
    "\n",
    "dev-intel14:     0.3624  seconds\n",
    "\n",
    "dev-intel14-phi: could not get onto it sorry Dirk.\n",
    "\n",
    "dev-intel14-k20: 0.3616  seconds\n",
    "\n",
    "dev-intel16:     0.2564  seconds\n",
    "\n",
    "dev-intel16-k80: 0.2154  seconds\n",
    "\n",
    "dev-intel18:     0.1940  seconds\n",
    "\n",
    "A certain grad-students computer:  0.212  seconds"
   ]
  },
  {
   "cell_type": "markdown",
   "metadata": {},
   "source": [
    "# 3. Homework Report\n",
    "\n",
    "Write a short (approx. 1-page) report for this homework.  Include the report and all of your code/instructions when you turn in the project. Make sure the report answers the following questions:"
   ]
  },
  {
   "cell_type": "markdown",
   "metadata": {},
   "source": [
    "<font color=red>**QUESTION:**</font>  How long did it take to execute the simulation above?"
   ]
  },
  {
   "cell_type": "markdown",
   "metadata": {},
   "source": [
    "<font color=red>**QUESTION:**</font> What programming language/version did you use to implement your 1D wave equation?"
   ]
  },
  {
   "cell_type": "markdown",
   "metadata": {},
   "source": [
    "<font color=red>**QUESTION:**</font> What instructions are needed for the instructor to reproduce your results? i.e. what commands are needed to compile your code?  What libraries (if any) Libraries are needed?  Do not assume that the instructor is familiar with your language. Make sure instructions are complete. Write them as if you were giving them to another student in this course or maybe CMSE202. "
   ]
  },
  {
   "cell_type": "markdown",
   "metadata": {},
   "source": [
    "<font color=red>**QUESTION:**</font>  Describe the computer which you conducted the timing study (CPU speed, RAM, OS, software version, Cores used, etc.)."
   ]
  },
  {
   "cell_type": "markdown",
   "metadata": {},
   "source": [
    "<font color=red>**QUESTION:**</font>  Describe ways you could make your program go faster. "
   ]
  },
  {
   "cell_type": "markdown",
   "metadata": {},
   "source": [
    "While my original plan was to write a code that does the graphical side through python, the computation through FORTRAN, and have it all run through python using f2py, but that plan fell through because Dr. Scott Pratt believes assigning 15 hours of homework a week is an effective way to teach students.\n",
    "\n",
    "So I just wrote it in serial with FORTRAN, and timed it, with no writing of the y-positions to a .dat file.\n",
    "\n",
    "On dev-intel18, when complied using ifort with optimizers, it reaches times of less than 200 milliseconds to run the entire code.\n",
    "\n",
    "I wrote instructions for running and timing the code inside the directory, in a README.txt file. The simple_make script should also load all necessary libraries, but its possible I am loading a module in my .bashrc that you will need to load yourself.\n",
    "\n",
    "I really don't know what the hardware being used on the hpcc nodes are... how can I find out? \n",
    "\n",
    "I also don't really know how to make it go faster, other than doing a parrallel calculation by dividing the 500 x positions into smaller segments, and giving those to different cores... but I'm not certain it would speed it up.\n",
    "As far as I know, FORTRAN is the fastest language for this kind of thing... is there a faster one?"
   ]
  },
  {
   "cell_type": "markdown",
   "metadata": {},
   "source": [
    "# 4. Optional Bonus\n",
    "\n",
    "Using your code, generate a visualization of the simulation similar to the animated gif at the top of this notebook. Include this visualization as part of your report."
   ]
  },
  {
   "cell_type": "code",
   "execution_count": 85,
   "metadata": {},
   "outputs": [
    {
     "data": {
      "image/png": "[encoded data removed]",
      "text/plain": [
       "<matplotlib.figure.Figure at 0x264cf0b55f8>"
      ]
     },
     "metadata": {},
     "output_type": "display_data"
    },
    {
     "data": {
      "text/plain": [
       "<matplotlib.figure.Figure at 0x264cf0b55f8>"
      ]
     },
     "metadata": {},
     "output_type": "display_data"
    }
   ],
   "source": [
    "fig, ax = plt.subplots(figsize=(6,4))\n",
    "\n",
    "xmin = 0\n",
    "xmax = 10\n",
    "nx = 500\n",
    "x = linspace(xmin, xmax, nx)\n",
    "dx = (xmax-xmin)/nx\n",
    "\n",
    "tmin = 0\n",
    "tmax = 10\n",
    "nt = 1000000\n",
    "# nt = 3000\n",
    "times = linspace(tmin, tmax, nt)\n",
    "dt = (tmax-tmin)/nt\n",
    "\n",
    "y = exp(-(x-5)**2)\n",
    "\n",
    "v = zeros(nx)\n",
    "a = zeros(nx)\n",
    "\n",
    "i = linspace(1,nx-2,nx-2,dtype=int)\n",
    "\n",
    "ax.set_xlim(0,10)\n",
    "ax.set_ylim(0,1)\n",
    "ax.plot(x,y)\n",
    "\n",
    "clear_output(wait=True) \n",
    "display(fig)            \n",
    "ax.clear()        \n",
    "time.sleep(0.0001)\n",
    "num = 0\n",
    "\n",
    "for t in times:\n",
    "    a[1:-1] = (y[:-2] + y[2:] - 2*y[1:-1])/(dx)**2\n",
    "\n",
    "    #v += a*dt\n",
    "    y += v*dt\n",
    "    v += a*dt\n",
    "    num+=1\n",
    "    if num%5000 != 0:\n",
    "        continue   \n",
    "    ax.set_xlim(0,10)\n",
    "    ax.set_ylim(-1,1)\n",
    "    ax.plot(x, y)\n",
    "    ax.set_title(num)\n",
    "    clear_output(wait=True) \n",
    "    display(fig)            \n",
    "    ax.clear()        \n",
    "    time.sleep(0.0001)\n",
    "fig.clear()"
   ]
  },
  {
   "cell_type": "markdown",
   "metadata": {},
   "source": [
    "----\n",
    "\n",
    "### Turning in your homework\n",
    "\n",
    "Now, you need to submit this assignment by uploading your files to the course Desire2Learn web page. Make sure you include your report and source code so the instructor can reproduce your results. "
   ]
  },
  {
   "cell_type": "markdown",
   "metadata": {},
   "source": [
    "&#169; Copyright 2019,  Michigan State University Board of Trustees"
   ]
  },
  {
   "cell_type": "code",
   "execution_count": 241,
   "metadata": {},
   "outputs": [
    {
     "data": {
      "image/png": "[encoded data removed]",
      "text/plain": [
       "<matplotlib.figure.Figure at 0x1df9525bb38>"
      ]
     },
     "metadata": {
      "needs_background": "light"
     },
     "output_type": "display_data"
    }
   ],
   "source": [
    "fig, ax = plt.subplots(figsize=(8,12))\n",
    "\n",
    "m = 2.5\n",
    "v = 75\n",
    "L = 10\n",
    "U0 = 15\n",
    "E = (1/2) * m * v**2\n",
    "\n",
    "xmin = 0\n",
    "xmax = L*(E/U0)**2\n",
    "dx = (xmax - xmin)/50000\n",
    "\n",
    "x = array([0])\n",
    "t = array([0])\n",
    "while True:\n",
    "    U = U0 * (x[-1]/L)**(1/2)\n",
    "    T = E - U\n",
    "    if x[-1] == xmax:\n",
    "        break\n",
    "    oldv = v\n",
    "    v = (2*T/m)**(1/2)\n",
    "    t = append(t, t[-1] + dx*(1/v + 1/oldv)/2 )\n",
    "    x = append(x, x[-1]+dx)\n",
    "x = append(x, x[-2])\n",
    "t = append(t, 2*t[-1]-t[-2])\n",
    "while True:\n",
    "    U = U0 * (x[-1]/L)**(1/2)\n",
    "    T = E - U\n",
    "    if x[-1] == 0:\n",
    "        break\n",
    "    oldv = v\n",
    "    v = (2*T/m)**(1/2)\n",
    "    t = append(t, t[-1] + dx*(1/v + 1/oldv)/2 )\n",
    "    x = append(x, x[-1]-dx)\n",
    "\n",
    "    \n",
    "plt.ylim(0,xmax*1.1)\n",
    "plt.xlim(0, t[-1]*1.1)\n",
    "plt.grid()\n",
    "plt.title(\"x(t), with 100,001 points\", fontsize=14)\n",
    "plt.plot(t,x)\n",
    "plt.savefig(\"PRINTIT.png\", dpi=300)"
   ]
  },
  {
   "cell_type": "code",
   "execution_count": 270,
   "metadata": {},
   "outputs": [
    {
     "data": {
      "image/png": "[encoded data removed]",
      "text/plain": [
       "<matplotlib.figure.Figure at 0x1df964a7ba8>"
      ]
     },
     "metadata": {
      "needs_background": "light"
     },
     "output_type": "display_data"
    }
   ],
   "source": [
    "import pandas as pd\n",
    "the_data = pd.read_csv('scotts_data2.csv', sep='\\s+')\n",
    "tdat = the_data.t \n",
    "xdat = the_data.x\n",
    "vdat = the_data.v\n",
    "# the_data.columns\n",
    "fig, ax = plt.subplots(figsize=(5,6))\n",
    "ax.plot(tdat, xdat,'-o')\n",
    "tdat_2 = tdat.max() + tdat.values[::-1]\n",
    "tdat_3 = -tdat_2+tdat.max()*3\n",
    "# ax.plot(tdat_3, xdat.values[::-1], color='C0', ls='-', marker='o', )\n",
    "ax.set_title('Great job Scott! Awesome solution Code!')\n",
    "ax.set_xlabel('$t$ (s)')\n",
    "ax.set_ylabel('$x$ (m)')\n",
    "ax.set_xlim(0, 74582.5*2)\n",
    "ax.set_ylim(0, 2.19727e6)\n",
    "ax.tick_params(labelsize=6)\n",
    "plt.tight_layout()\n",
    "plt.savefig('scotts_halfassed_graph.png', dpi=300)\n",
    "plt.show()"
   ]
  }
 ],
 "metadata": {
  "anaconda-cloud": {},
  "kernelspec": {
   "display_name": "Python [default]",
   "language": "python",
   "name": "python3"
  },
  "language_info": {
   "codemirror_mode": {
    "name": "ipython",
    "version": 3
   },
   "file_extension": ".py",
   "mimetype": "text/x-python",
   "name": "python",
   "nbconvert_exporter": "python",
   "pygments_lexer": "ipython3",
   "version": "3.5.6"
  },
  "toc": {
   "base_numbering": 1,
   "nav_menu": {},
   "number_sections": false,
   "sideBar": false,
   "skip_h1_title": false,
   "title_cell": "Table of Contents",
   "title_sidebar": "Contents",
   "toc_cell": false,
   "toc_position": {},
   "toc_section_display": false,
   "toc_window_display": false
  }
 },
 "nbformat": 4,
 "nbformat_minor": 2
}
