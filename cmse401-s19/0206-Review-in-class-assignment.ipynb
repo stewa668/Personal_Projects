{
 "cells": [
  {
   "cell_type": "markdown",
   "metadata": {},
   "source": [
    "<p style=\"text-align: right;\">\n",
    "In order to successfully complete this assignment you need to participate both individually and in groups during class on **Wednesday February 6th**.\n",
    "</p>\n"
   ]
  },
  {
   "cell_type": "markdown",
   "metadata": {},
   "source": [
    "# In-Class Assignment: Review"
   ]
  },
  {
   "cell_type": "markdown",
   "metadata": {},
   "source": [
    "### Agenda for today's class (70 minutes)\n",
    "\n",
    "</p>\n",
    "\n",
    "1. (10 minutes) Student Cluster Competition\n",
    "1. (20 minutes) BASH Challenges\n",
    "1. (20 minutes) XSEDE\n",
    "1. (20 minutes) Final Review"
   ]
  },
  {
   "cell_type": "markdown",
   "metadata": {},
   "source": [
    "---\n",
    "# 1. Student Cluster Competition\n",
    "\n",
    "http://www.studentclustercompetition.us/\n"
   ]
  },
  {
   "cell_type": "markdown",
   "metadata": {},
   "source": [
    "---\n",
    "# 2. BASH Challenges\n",
    "\n",
    "[0204-BASH_Scripting-in-class-assignment.ipynb](0204-BASH_Scripting-in-class-assignment.ipynb)"
   ]
  },
  {
   "cell_type": "markdown",
   "metadata": {},
   "source": [
    "----\n",
    "# 3. XSEDE \n",
    "\n",
    "https://www.xsede.org/"
   ]
  },
  {
   "cell_type": "markdown",
   "metadata": {},
   "source": [
    "----\n",
    "# 4. Final Review \n",
    "\n",
    "- Things I want to test for\n",
    "- Logging onto the HPC\n",
    "- Setting your path\n",
    "- Writing a submission script\n",
    "- Reading man and info pages and googling help\n",
    "- Edit a file\n",
    "- Debugging problems\n",
    "- Benchmarking code\n",
    "- Using the module system\n",
    "- Tick Trick\n",
    "- Piping information\n",
    "- BASH Block code\n",
    "- File redirection\n",
    "- File permissions\n",
    "- Shared memory vs Shared network parallel\n",
    "- Block memory\n",
    "- Finding commands\n",
    "- Multiple solutions to finding answers\n"
   ]
  },
  {
   "cell_type": "markdown",
   "metadata": {},
   "source": [
    "---\n",
    "\n",
    "# Question 3 - (25 points) N-Queens Problem (Examplish question)\n",
    "\n",
    "<img src=\"http://wikistack.com/wp-content/uploads/2015/03/8queen.jpeg\" width=400 height=400>\n",
    "\n",
    "> The eight queens puzzle is the problem of placing eight chess queens on an 8×8 chessboard so that no two queens threaten each other. Thus, a solution requires that no two queens share the same row, column, or diagonal. The eight queens puzzle is an example of the more general n queens problem of placing n non-attacking queens on an n×n chessboard, for which solutions exist for all natural numbers n with the exception of n=2 and n=3.\n",
    "<p style=\"text-align: right;\">From: https://en.wikipedia.org/wiki/Eight_queens_puzzle</p>\n",
    "\n",
    "\n",
    "In this question you will compile and benchmark a solution to the N-Queens problem written in C using OpenMP. Complete the following instructions and answer each of the provided questions."
   ]
  },
  {
   "cell_type": "markdown",
   "metadata": {},
   "source": [
    "### Step 3.a: Download the source code.\n",
    "\n",
    "The source code for this problem can be found in the following GitHub repository:\n",
    "\n",
    "https://github.com/Shafaet/OpenMP-Examples\n",
    "\n",
    "Download the N-Queens cpp file and put a copy on the HPCC. (I recommend creating a directory called NQueens but you can put it anywhere you see fit). \n",
    "\n",
    "&#9989; <font color=red>**Question 3.a**</font>: There are many correct ways to download this file.  Describe the procedure you used."
   ]
  },
  {
   "cell_type": "markdown",
   "metadata": {},
   "source": [
    "Type your answer to the above question here."
   ]
  },
  {
   "cell_type": "markdown",
   "metadata": {},
   "source": [
    "### Step 3.b:  Compile and Benchmark the code.\n",
    "\n",
    "Compile the N-Queens example using the ```g++``` compiler and name the output executable ```nQueens```.\n",
    "\n",
    "**HINT:** If you are unable to get this part to work, run the following command and move on to **Step c**.\n",
    "\n",
    "    cp /mnt/scratch/colbrydi/exam1/nQueens .\n",
    "\n",
    "&#9989; <font color=red>**Question 3.b**</font>: What command did you use to compile the code?"
   ]
  },
  {
   "cell_type": "raw",
   "metadata": {},
   "source": [
    "Put your answer to the above question here."
   ]
  },
  {
   "cell_type": "markdown",
   "metadata": {},
   "source": [
    "### Step 3.c:  Run a benchmark\n",
    "\n",
    "Do not worry if you were unable to compile the code.  For the rest of the problem you can use the NQueens executable\n",
    "\n",
    "&#9989; <font color=red>**Question 3.c**</font>: "
   ]
  },
  {
   "cell_type": "markdown",
   "metadata": {},
   "source": [
    "### Step 3.d:  \n",
    "\n",
    "&#9989; <font color=red>**Question 3.d**</font>: "
   ]
  },
  {
   "cell_type": "markdown",
   "metadata": {},
   "source": [
    "### Step 3.e:  \n",
    "\n",
    "&#9989; <font color=red>**Question 3.e**</font>: "
   ]
  },
  {
   "cell_type": "markdown",
   "metadata": {},
   "source": [
    "-----\n",
    "### Congratulations, we're done!"
   ]
  },
  {
   "cell_type": "markdown",
   "metadata": {},
   "source": [
    "\n",
    "**Course Resources:**\n",
    "- [Syllabus](https://tinyurl.com/y75cnzam)\n",
    "- [Preliminary Schedule](https://tinyurl.com/CMSE314-Schedule)\n",
    "- [Git Repository](https://gitlab.msu.edu/colbrydi/cmse401-s19)\n",
    "- [Jargon Jar and Command History](https://tinyurl.com/CMSE314-JargonJar) \n",
    "\n"
   ]
  },
  {
   "cell_type": "markdown",
   "metadata": {},
   "source": [
    "&#169; Copyright 2019,  Michigan State University Board of Trustees"
   ]
  }
 ],
 "metadata": {
  "kernelspec": {
   "display_name": "Python 3",
   "language": "python",
   "name": "python3"
  },
  "language_info": {
   "codemirror_mode": {
    "name": "ipython",
    "version": 3
   },
   "file_extension": ".py",
   "mimetype": "text/x-python",
   "name": "python",
   "nbconvert_exporter": "python",
   "pygments_lexer": "ipython3",
   "version": "3.6.5"
  }
 },
 "nbformat": 4,
 "nbformat_minor": 2
}
