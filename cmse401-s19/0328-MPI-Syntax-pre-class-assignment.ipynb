{
 "cells": [
  {
   "cell_type": "markdown",
   "metadata": {},
   "source": [
    "In order to successfully complete this assignment you must do the required reading, watch the provided videos and complete all instructions.  The embedded Google form must be entirely filled out and submitted on or before **11:59pm on Thursday March 28th**.  Students must come to class the next day prepared to discuss the material covered in this assignment."
   ]
  },
  {
   "cell_type": "markdown",
   "metadata": {},
   "source": [
    "# Pre-Class Assignment: MPI Programming Syntax"
   ]
  },
  {
   "cell_type": "markdown",
   "metadata": {},
   "source": [
    "### Goals for today's pre-class assignment \n",
    "\n",
    "</p>\n",
    "\n",
    "1. Initializing MPI job\n",
    "1. Basic Send/Recive\n",
    "1. Synchronizing Threads\n",
    "1. Blocking vs Non_blocking Communication\n",
    "1. Broadcasting \n",
    "1. Finishing a job\n",
    "4. Assignment wrap-up\n"
   ]
  },
  {
   "cell_type": "markdown",
   "metadata": {},
   "source": [
    "-----\n",
    "\n",
    "# 1.  Initializing MPI job\n",
    "\n",
    "The following code initializes a typical MPI job.  Read the MPI documentation and answer the questions.\n",
    "```c++\n",
    "\n",
    "int rank, size;\n",
    "\n",
    "MPI_Init(&argc, &argv);\n",
    "MPI_Comm_rank(MPI_COMM_WORLD, &rank); // Rank (ID) of this process\n",
    "MPI_Comm_size(MPI_COMM_WORLD, &size); // Total size of MPI job\n",
    "```"
   ]
  },
  {
   "cell_type": "markdown",
   "metadata": {},
   "source": [
    "&#9989; <font color=red>**QUESTION:**</font> What is ```MPI_COMM_WORLD```?"
   ]
  },
  {
   "cell_type": "markdown",
   "metadata": {},
   "source": [
    "Put your answer here."
   ]
  },
  {
   "cell_type": "markdown",
   "metadata": {},
   "source": [
    "&#9989; <font color=red>**QUESTION:**</font> Where is the ```MPI_COMM_WORLD``` Defined?"
   ]
  },
  {
   "cell_type": "markdown",
   "metadata": {},
   "source": [
    "Put your answer here."
   ]
  },
  {
   "cell_type": "markdown",
   "metadata": {},
   "source": [
    "&#9989; <font color=red>**QUESTION:**</font> It is possible to use something besides ```MPI_COMMM_WORLD```, provide an example when this might be useful in your program?"
   ]
  },
  {
   "cell_type": "markdown",
   "metadata": {},
   "source": [
    "Put your answer here."
   ]
  },
  {
   "cell_type": "markdown",
   "metadata": {},
   "source": [
    "-----\n",
    "\n",
    "# 2.  Basic Send/Recive\n",
    "\n",
    "Read the following blog post provides a good descrtiption of how to use MPI Send/Recieve\n",
    "\n",
    "http://mpitutorial.com/tutorials/mpi-send-and-receive/\n",
    "\n",
    "\n",
    "\n",
    "```c++\n",
    "int MPI_Send( void* data,\n",
    "              int count,\n",
    "              MPI_Datatype datatype,\n",
    "              int destination,\n",
    "              int tag,\n",
    "              MPI_Comm communicator) \n",
    "    \n",
    "int MPI_Recv( void* data,\n",
    "              int count,\n",
    "              MPI_Datatype datatype,\n",
    "              int source,\n",
    "              int tag,\n",
    "              MPI_Comm communicator,\n",
    "              MPI_Status* status)\n",
    "```\n",
    "\n",
    "Example Send and recieves:\n",
    "\n",
    "```c++\n",
    "MPI_Send(&processor_name,str_length,MPI_INT,0,1,MPI_COMM_WORLD);\n",
    "```\n",
    "\n",
    "```c++\n",
    "MPI_Recv(&hostname[0][proc],str_length,MPI_INT,proc,1,MPI_COMM_WORLD,&status);\n",
    "```\n",
    "\n",
    "The types of data (and their C equivelents) are as follows.\n",
    "\n",
    "\n",
    "| MPI datatype\t        |           C equivalent |\n",
    "|-----------------------|------------------------|\n",
    "| MPI_SHORT\t            |  short int             |\n",
    "| MPI_INT\t            |  int                   |\n",
    "| MPI_LONG\t            |  long int              |\n",
    "| MPI_LONG_LONG\t        |  long long int         |\n",
    "| MPI_UNSIGNED_CHAR \t| unsigned char          |\n",
    "| MPI_UNSIGNED_SHORT\t| unsigned short int     |\n",
    "| MPI_UNSIGNED\t        | unsigned int           |\n",
    "| MPI_UNSIGNED_LONG\t    | unsigned long int      |\n",
    "| MPI_UNSIGNED_LONG_LONG| unsigned long long int |\n",
    "| MPI_FLOAT\t            | float                  |\n",
    "| MPI_DOUBLE\t        | double                 |\n",
    "| MPI_LONG_DOUBLE\t    | long double            |\n",
    "| MPI_BYTE\t            | char                   |"
   ]
  },
  {
   "cell_type": "markdown",
   "metadata": {},
   "source": [
    "&#9989; <font color=red>**QUESTION:**</font> In the above example code, the ```MPI_INT``` data type is incorrect, which data type should be used instead? "
   ]
  },
  {
   "cell_type": "markdown",
   "metadata": {},
   "source": [
    "Put your answer here."
   ]
  },
  {
   "cell_type": "markdown",
   "metadata": {},
   "source": [
    "&#9989; <font color=red>**QUESTION:**</font> Although ```MPI_INT``` is an error, why doesn't it cause a bug in the code?"
   ]
  },
  {
   "cell_type": "markdown",
   "metadata": {},
   "source": [
    "Put your answer here."
   ]
  },
  {
   "cell_type": "markdown",
   "metadata": {},
   "source": [
    "# 3. Synchronizing Threads\n",
    "\n",
    "In OpenMP we synchronize threads using ```#pragma omp barrier```; in CUDA we can synchronize threads between blocks using the ```__synchronize()``` function. \n",
    "\n",
    "&#9989; <font color=red>**QUESTION:**</font> What is an equivalent process synchronizing function in MPI?"
   ]
  },
  {
   "cell_type": "markdown",
   "metadata": {},
   "source": [
    "Put your answer here."
   ]
  },
  {
   "cell_type": "markdown",
   "metadata": {},
   "source": [
    "# 4. Blocking vs Non_blocking Communication\n",
    "\n",
    "The ```MPI_send``` and ```MPI_recv``` functions are \"blocking\" meaning they do not complete until the message has been passed.  ```MPI_send``` waits for a conformation from the receiving core and ```MPI_recv``` will wait until it gets the message it is looking for.  These effectively are types of locks and can cause MPI programs to **DEADLOCK**.  \n",
    "\n",
    "An alternative to these function are ```MPI_isend``` and ```MPI_irecv```. These functions will not block execution of the program.  Meaning that ```MPI_isend``` will send off a message and assume the recipient will get it. And ```MPI_irecv``` will look to see if a message is coming in and if not continue the program while returning a kind of message not found error.  \n",
    "\n",
    "```\n",
    "MPI_send\n",
    "MPI_recv\n",
    "MPI_isend\n",
    "MPI_irecv\n",
    "MPI_Bcast\n",
    "\n",
    "```"
   ]
  },
  {
   "cell_type": "markdown",
   "metadata": {},
   "source": [
    "&#9989; <font color=red>**QUESTION:**</font> Give an example, when you might want to use ```MPI_isend``` and/or ```MPI_irecv``` instead of the typical ```MPI_send``` and ```MPI_recv```."
   ]
  },
  {
   "cell_type": "markdown",
   "metadata": {},
   "source": [
    "Put your answer here."
   ]
  },
  {
   "cell_type": "markdown",
   "metadata": {},
   "source": [
    "# 5. Broadcasting \n",
    "\n",
    "Think of broadcasting as syncing a variable on one machine with all other machines. A kind of global copy.  \n",
    "\n",
    "```c++\n",
    "int MPI_Bcast( void *buffer, \n",
    "               int count, \n",
    "               MPI_Datatype datatype, \n",
    "               int root, \n",
    "               MPI_Comm comm )\n",
    "    \n",
    "```\n",
    "```c++\n",
    "\n",
    "#include <mpi.h>\n",
    "#include <stdio.h>\n",
    "\n",
    "int main(int argc, char** argv) {\n",
    "        int rank;\n",
    "        int buf;\n",
    "        const int root=0;\n",
    "\n",
    "        MPI_Init(&argc, &argv);\n",
    "        MPI_Comm_rank(MPI_COMM_WORLD, &rank);\n",
    "\n",
    "        if(rank == root) {\n",
    "           buf = 777;\n",
    "        }\n",
    "\n",
    "        printf(\"[%d]: Before Bcast, buf is %d\\n\", rank, buf);\n",
    "\n",
    "        /* everyone calls bcast, data is taken from root and ends up in everyone's buf */\n",
    "        MPI_Bcast(&buf, 1, MPI_INT, root, MPI_COMM_WORLD);\n",
    "\n",
    "        printf(\"[%d]: After Bcast, buf is %d\\n\", rank, buf);\n",
    "\n",
    "        MPI_Finalize();\n",
    "        return 0;\n",
    "}\n",
    "\n",
    "```"
   ]
  },
  {
   "cell_type": "markdown",
   "metadata": {},
   "source": [
    "&#9989; <font color=red>**QUESTION:**</font> Give an example about when you might want to use the ```MPI_Bcast``` function?"
   ]
  },
  {
   "cell_type": "markdown",
   "metadata": {},
   "source": [
    "Put your answer here."
   ]
  },
  {
   "cell_type": "markdown",
   "metadata": {},
   "source": [
    "-----\n",
    "\n",
    "# 5.  Finishing a job\n",
    "\n",
    "At the end of the program you need to include the ```MPI_Finalize``` function to close down all of the communication channels and clean up the program.\n",
    "\n",
    "```c++\n",
    "\n",
    "MPI_Finalize();\n",
    "\n",
    "```"
   ]
  },
  {
   "cell_type": "markdown",
   "metadata": {},
   "source": [
    "----\n",
    "# 6. Assignment wrap-up\n",
    "\n",
    "Please fill out the form that appears when you run the code below.  **You must completely fill this out in order to receive credit for the assignment!**\n",
    "\n",
    "[Direct Link](https://docs.google.com/forms/d/e/1FAIpQLSe04P6FS-YWHouL0qIXUSrW28Cn5x0lh5JJQ6FwRp9mYeWxag/viewform)"
   ]
  },
  {
   "cell_type": "markdown",
   "metadata": {},
   "source": [
    "&#9989; <font color=red>**QUESTION:**</font> Approximately how long (in minutes) did this assignment take for you to complete."
   ]
  },
  {
   "cell_type": "markdown",
   "metadata": {},
   "source": [
    "Put your answer to the above question here"
   ]
  },
  {
   "cell_type": "markdown",
   "metadata": {},
   "source": [
    "&#9989; <font color=red>**QUESTION:**</font>  What questions do you have, if any, about any of the topics discussed in this assignment after working through the jupyter notebook?"
   ]
  },
  {
   "cell_type": "markdown",
   "metadata": {},
   "source": [
    "Put your answer to the above question here"
   ]
  },
  {
   "cell_type": "markdown",
   "metadata": {},
   "source": [
    "&#9989; <font color=red>**QUESTION:**</font>  Do you have any further questions or comments about this material, or anything else that's going on in class? "
   ]
  },
  {
   "cell_type": "markdown",
   "metadata": {},
   "source": [
    "Put your answer to the above question here"
   ]
  },
  {
   "cell_type": "code",
   "execution_count": 2,
   "metadata": {},
   "outputs": [
    {
     "data": {
      "text/html": [
       "\n",
       "<iframe \n",
       "\tsrc=\"https://docs.google.com/forms/d/e/1FAIpQLSe04P6FS-YWHouL0qIXUSrW28Cn5x0lh5JJQ6FwRp9mYeWxag/viewform?embedded=true\" \n",
       "\twidth=\"100%\" \n",
       "\theight=\"1200px\" \n",
       "\tframeborder=\"0\" \n",
       "\tmarginheight=\"0\" \n",
       "\tmarginwidth=\"0\">\n",
       "\tLoading...\n",
       "</iframe>\n"
      ],
      "text/plain": [
       "<IPython.core.display.HTML object>"
      ]
     },
     "execution_count": 2,
     "metadata": {},
     "output_type": "execute_result"
    }
   ],
   "source": [
    "from IPython.display import HTML\n",
    "HTML(\n",
    "\"\"\"\n",
    "<iframe \n",
    "\tsrc=\"https://docs.google.com/forms/d/e/1FAIpQLSe04P6FS-YWHouL0qIXUSrW28Cn5x0lh5JJQ6FwRp9mYeWxag/viewform?embedded=true\" \n",
    "\twidth=\"100%\" \n",
    "\theight=\"1200px\" \n",
    "\tframeborder=\"0\" \n",
    "\tmarginheight=\"0\" \n",
    "\tmarginwidth=\"0\">\n",
    "\tLoading...\n",
    "</iframe>\n",
    "\"\"\"\n",
    ")"
   ]
  },
  {
   "cell_type": "markdown",
   "metadata": {},
   "source": [
    "---------\n",
    "### Congratulations, we're done!\n",
    "\n",
    "To get credit for this assignment you must fill out and submit the above Google From on or before the assignment due date."
   ]
  },
  {
   "cell_type": "markdown",
   "metadata": {},
   "source": [
    "\n",
    "**Course Resources:**\n",
    "- [Syllabus](https://tinyurl.com/y75cnzam)\n",
    "- [Preliminary Schedule](https://tinyurl.com/CMSE314-Schedule)\n",
    "- [Git Repository](https://gitlab.msu.edu/colbrydi/cmse401-s19)\n",
    "- [Jargon Jar and Command History](https://tinyurl.com/CMSE314-JargonJar) \n",
    "\n"
   ]
  },
  {
   "cell_type": "markdown",
   "metadata": {},
   "source": [
    "&#169; Copyright 2019,  Michigan State University Board of Trustees"
   ]
  }
 ],
 "metadata": {
  "anaconda-cloud": {},
  "kernelspec": {
   "display_name": "Python 3",
   "language": "python",
   "name": "python3"
  },
  "language_info": {
   "codemirror_mode": {
    "name": "ipython",
    "version": 3
   },
   "file_extension": ".py",
   "mimetype": "text/x-python",
   "name": "python",
   "nbconvert_exporter": "python",
   "pygments_lexer": "ipython3",
   "version": "3.6.5"
  }
 },
 "nbformat": 4,
 "nbformat_minor": 2
}
