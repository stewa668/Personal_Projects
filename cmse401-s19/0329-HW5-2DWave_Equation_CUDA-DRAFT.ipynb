{
 "cells": [
  {
   "cell_type": "markdown",
   "metadata": {},
   "source": [
    "In order to successfully complete this assignment you must follow all instructions in this notebook and upload your files with your answers on or before **11:59pm on Friday March 29th**."
   ]
  },
  {
   "cell_type": "markdown",
   "metadata": {},
   "source": [
    "# Homework 5: 2D Wave Equation on CUDA\n",
    "\n",
    "In this homework we will modify a 2D Wave Equation to run using CUDA.\n",
    "\n",
    "### Goals for this assignment:\n",
    "\n",
    "By the end of this assignment, you should be able to:\n",
    "\n",
    "* Write code to run part of a C/C++ program in CUDA\n",
    "* Optomize the CUDA code to run faster\n",
    "* Conduct a timing study of your code\n",
    "\n",
    "<img src=\"https://colbrydi.github.io/images/wave2d.gif\" width=30% alt=\"animated gif\">\n"
   ]
  },
  {
   "cell_type": "markdown",
   "metadata": {},
   "source": [
    "----\n",
    "\n",
    "# 1. Benchmark 2D wave equation\n",
    "\n",
    "&#9989; <font color=red>**DO THIS:**</font> Download the code provided in the class repository in the folder called ```HW5_CUDA```.  Compile and run the code on the ```dev-intel14-k20``` and the ```dev-intel16-k80``` nodes. Generate a figure to compare how the serial code runs on both machines.\n",
    "\n",
    "\n",
    "**Optional Bonus:** improve the speed of the serial code and report what you did to get improvements in performance. Include graphs that measure performance."
   ]
  },
  {
   "cell_type": "markdown",
   "metadata": {},
   "source": [
    "----\n",
    "# 2. Measuring Speedup\n",
    "\n",
    "&#9989; <font color=red>**DO THIS:**</font> Modify the code to time the individual components of the algorithm using a timing library that is accurate to at least milliseconds.  Separate the total \"setup\" time from the total main \"simulation\" loop time and the total \"file I/O\" time inside the main loop.  Redo the above timing study with a breakdown for each and generate a figure. "
   ]
  },
  {
   "cell_type": "markdown",
   "metadata": {},
   "source": [
    "# 3. Cudafy the code"
   ]
  },
  {
   "cell_type": "markdown",
   "metadata": {},
   "source": [
    "&#9989; <font color=red>**DO THIS:**</font> Rewrite the code to use the CUDA programming language.  Use the provided ```wave_2d_cuda.cu``` file as a starting point (which is just the serial code with a few minor changes to get it to compile with ```nvcc```, do a ```diff wave_2d_serial.c wave_2d_cuda.cu``` to review the changes made).   For this homework, you only need to cudify the main timing loop however you will also need to add some additional startup code.  Some things to ensure are in your solution include:\n",
    "\n",
    "- Make sure that the entire code run is faster than the provided serial code.  (it should also be faster than your optimized code but, depending on your changes, this could be hard)\n",
    "- The code still needs to stop and output the image files.  \n",
    "- Keep track of changes made and include the improvements in your final report.  \n",
    "- The output images and videos should look the same.\n",
    "\n",
    "Some things that may help speed up your code:\n",
    "- Think about memory locality.  What should be in global memory vs local block memory?\n",
    "- Think about ways you could tile your code memory access."
   ]
  },
  {
   "cell_type": "markdown",
   "metadata": {},
   "source": [
    "# 3. Homework Report\n",
    "\n",
    "Write a short (approx. 1-page) report for this homework.  Include the report and all of your code/instructions when you turn in the project (ex. Makefiles, library install instructions, etc). Make sure the report answers the following questions:"
   ]
  },
  {
   "cell_type": "markdown",
   "metadata": {},
   "source": [
    "&#9989; <font color=red>**QUESTION:**</font>  On Average how long did it take to execute the simulation above?"
   ]
  },
  {
   "cell_type": "markdown",
   "metadata": {},
   "source": [
    "&#9989; <font color=red>**QUESTION:**</font> What changes did you make to the code to use the CUDA programming languages.  Describe these at a high level.  "
   ]
  },
  {
   "cell_type": "markdown",
   "metadata": {},
   "source": [
    "&#9989; <font color=red>**QUESTION:**</font> What instructions are needed for the instructor to reproduce your results? i.e. what commands are needed to compile your code?  What libraries (if any) Libraries are needed?  Do not assume that the instructor is familiar with your language. Make sure instructions are complete. Write them as if you were giving them to another student in this course or maybe CMSE202. "
   ]
  },
  {
   "cell_type": "markdown",
   "metadata": {},
   "source": [
    "&#9989; <font color=red>**QUESTION:**</font>  Describe the computer which you conducted the timing study (CPU speed, RAM, OS, software version, Cores used, etc.)."
   ]
  },
  {
   "cell_type": "markdown",
   "metadata": {},
   "source": [
    "&#9989; <font color=red>**QUESTION:**</font>  Describe other ways you could make your program go faster. "
   ]
  },
  {
   "cell_type": "markdown",
   "metadata": {},
   "source": [
    "# 4. Optional Bonus\n",
    "There is a bug in how the 2D wave function is estimated. Review the following paper to see if you can improve the output:\n",
    "\n",
    "http://hplgit.github.io/num-methods-for-PDEs/doc/pub/wave/pdf/wave-4print.pdf\n",
    "\n",
    "\n",
    "In your report, explain exactly how you fixed the bug and include an updated video file.  "
   ]
  },
  {
   "cell_type": "markdown",
   "metadata": {},
   "source": [
    "----\n",
    "\n",
    "### Turning in your homework\n",
    "\n",
    "Now, you need to submit this assignment by uploading your files to the course Desire2Learn web page. Make sure you include your report and source code so the instructor can reproduce your results. "
   ]
  },
  {
   "cell_type": "markdown",
   "metadata": {},
   "source": [
    "&#169; Copyright 2019,  Michigan State University Board of Trustees"
   ]
  }
 ],
 "metadata": {
  "anaconda-cloud": {},
  "kernelspec": {
   "display_name": "Python 3",
   "language": "python",
   "name": "python3"
  },
  "language_info": {
   "codemirror_mode": {
    "name": "ipython",
    "version": 3
   },
   "file_extension": ".py",
   "mimetype": "text/x-python",
   "name": "python",
   "nbconvert_exporter": "python",
   "pygments_lexer": "ipython3",
   "version": "3.6.5"
  }
 },
 "nbformat": 4,
 "nbformat_minor": 2
}
