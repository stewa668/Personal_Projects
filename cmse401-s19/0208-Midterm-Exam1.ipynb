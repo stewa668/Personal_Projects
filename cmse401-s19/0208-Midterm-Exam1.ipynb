{
 "cells": [
  {
   "cell_type": "markdown",
   "metadata": {},
   "source": [
    "# CMSE/MTH 401 - Midterm Exam 1\n",
    "This is an open internet exam.  Feel free to use anything on the internet with one important exception...\n",
    "\n",
    "- **DO NOT** communicate live with other people during the exam (either verbally or on-line).  The goal here is to find answers to problems as you would in the real world.  \n",
    "\n",
    "You will be given **60 minutes (wishful thinking by the instructor, you will be given the entire exam time if needed)** to complete this test.  Use your time wisely. \n",
    "\n",
    "**HINTS:**\n",
    "- Neatness is important.  we will ignore all notes or code we can not read. \n",
    "- Read the entire exam from beginning to end before starting.  Not all questions are equal in points vs. time so plan your time accordingly.   \n",
    "- Skip questions you can not answer. \n",
    "- Some of the information provided my be a distraction. Do not assume you need to understand everything written to answer the questions. \n",
    "- Spaces for answers are provided. Delete the prompting text such as \"Put your answer to the above question here\" and replace it with your answer. Do not leave the prompting text with your answer.\n",
    "- Do not assume that the answer must be in the same format of the cell provided. Feel free to change the cell formatting (ex. markdown to code) or add additional cells as needed to provide your answer.\n",
    "- When we say \"in your own words\" it is still okay to search the Internet for the answer as a reminder, however, we would like you to do more than cut and paste.  Make the answer your own. \n",
    "- If you get stuck, try not to leave an answer blank. It is better to include some notes or stub functions so we have an idea about your thinking process so we can give you partial credit.   \n",
    "- Always provided links to any references you find helpful. \n",
    "- Feel free to delete the provided check marks (&#9989;) as a way to keep track of which questions you have successfully completed. \n",
    "\n"
   ]
  },
  {
   "cell_type": "markdown",
   "metadata": {},
   "source": [
    "### Exam Summary\n",
    "1. (25 points) Navigating the HPCC\n",
    "2. (25 points) Software Exploration\n",
    "2. (25 points) Computational Fluid Dynamics\n",
    "3. (25 points) Making Code Go Faster"
   ]
  },
  {
   "cell_type": "markdown",
   "metadata": {},
   "source": [
    "----\n",
    "# Question 1 - (25 points) Navigating the HPCC \n",
    "\n",
    "<img src=\"https://colbrydi.github.io/images/cluster.jpg\" width=\"65%\">\n",
    "\n",
    "This question is designed to test your general understanding of how to navigate in Linux/BASH on the HPCC.  Complete the following instructions and answer each of the provided questions."
   ]
  },
  {
   "cell_type": "markdown",
   "metadata": {},
   "source": [
    "### Step 1.a: Log into the HPCC\n",
    "\n",
    "For the first step, log into the HPCC and pick a development node (doesn't matter which one). Add the following directory to front of your PATH:\n",
    "\n",
    "    /mnt/scratch/colbrydi/exam1"
   ]
  },
  {
   "cell_type": "markdown",
   "metadata": {},
   "source": [
    "&#9989; <font color=red>**Question 1.a**</font>: What command did you use to add the directory to the beginning of your existing path? **HINT** Copy and Paste your answer after logging out and back in to check your syntax and make sure it works. "
   ]
  },
  {
   "cell_type": "raw",
   "metadata": {},
   "source": [
    "Put the answer to the above question here"
   ]
  },
  {
   "cell_type": "markdown",
   "metadata": {},
   "source": [
    "### Step 1.b: Run an OpenMP program\n",
    "\n",
    "In the directory you just added to your path is a program called ```omp-hello```.  This is a fairly simple program (feel free to review the source code provided in the same directory). Run the code\n",
    "\n",
    "\n",
    "&#9989; <font color=red>**Question 1.b:**</font>: What development node are you on and how many threads did the program use? \n"
   ]
  },
  {
   "cell_type": "markdown",
   "metadata": {},
   "source": [
    "Put the answer to the above question here"
   ]
  },
  {
   "cell_type": "markdown",
   "metadata": {},
   "source": [
    "### Step 1.c: Write a Submission Script\n",
    "Write (or modify) a submission script to run the ```omp-hello``` program on the HPCC.  Have the script run on a single node with 10 Cores for 1 minute and 1gb of RAM.\n",
    "\n",
    "**HINT** you will probably need to include the PATH command from **Step 2.a** in your submission script so your job will know where to find the command.\n",
    "\n",
    "&#9989; <font color=red>**Question 1.c**</font>: Copy and paste the contents of your working submission script here."
   ]
  },
  {
   "cell_type": "raw",
   "metadata": {},
   "source": [
    "Put the answer to the above question here"
   ]
  },
  {
   "cell_type": "markdown",
   "metadata": {},
   "source": [
    "### Step 1.d: Email your instructor\n",
    "The SLURM Scheduler has the ability to send emails when a job starts, stops and/or has an error.  Modify your submission script to email the instructor (colbrydi@msu.edu) when the job starts. **HINT** look at the ```man``` page for the ```sbatch``` command.\n",
    "\n",
    "Submit your submission script so that the instructor will get at least one automated email. Please don't SPAM your instructor too much. \n",
    "\n",
    "&#9989; <font color=red>**Question 1.d**</font>: What lines did you add to your submission script to email the instructor. "
   ]
  },
  {
   "cell_type": "raw",
   "metadata": {},
   "source": [
    "Put the answer to the above question here"
   ]
  },
  {
   "cell_type": "markdown",
   "metadata": {},
   "source": [
    "### Step 1.e:  Edit a file and make publicly readable\n",
    "Using the ```vim``` editor, create a file called ```.plan``` in your home directory (note the first character is a dot in the filename). In that file write one to two sentences to share with your classmates.  This can be a your life philosophy, a joke, a URL to your homepage, or anything you are willing to share about yourself.  \n",
    "\n",
    "Make the `.plan` file publicly readable and ensure that the ```.plan``` file is publicly readable by checking its properties string.\n",
    "\n",
    "\n",
    "&#9989; <font color=red>**Question 1.e**</font>:  What is your ```.plan``` file's ten (10) character properties string?"
   ]
  },
  {
   "cell_type": "raw",
   "metadata": {},
   "source": [
    "Put the answer to the above question here"
   ]
  },
  {
   "cell_type": "markdown",
   "metadata": {},
   "source": [
    "----\n",
    "# Question 4 - (25 points) Software Exploration\n",
    "\n",
    "\n",
    "\n",
    "<img src=\"https://lh6.googleusercontent.com/FzGgYgJ4BPfytKOwZvYNj-wyJ6R18T1JaRHf9jxifRvN_PHvyGHpN3nJg_jGWn6mUYvR9WdPrQ=w740\" width=\"30%\">\n",
    "\n",
    "For this question, assume you have just joined a lab under the guidence of Prof A who has asked you to benchmark a FORTRAN program called ```givemeana``` (aka \"give me an A\").  **NOTE:** the program ```givemeana``` is not real program. It is only used here as a way for me to ask you exam questions without you getting distracted trying to find answers using Google.  Please answer the following questions as if ```givemeana``` is real."
   ]
  },
  {
   "cell_type": "markdown",
   "metadata": {},
   "source": [
    "<font color=red>**Question 2.a:**</font> Name three different commands you could type in the BASH terminal to discover if ```givemeana``` is installed on the HPCC. Provide answers that search using different information in the system and not different commands that give exactly the same results because they search the same data.  "
   ]
  },
  {
   "cell_type": "raw",
   "metadata": {},
   "source": [
    "Put your first BASH command here"
   ]
  },
  {
   "cell_type": "raw",
   "metadata": {},
   "source": [
    "Put your second BASH command here"
   ]
  },
  {
   "cell_type": "raw",
   "metadata": {},
   "source": [
    "Put your third BASH command here"
   ]
  },
  {
   "cell_type": "markdown",
   "metadata": {},
   "source": [
    "Assume that you have found the ```givemeana``` binary executable and it is located in a folder that is inside your PATH environment variable (maybe it was already in your path, or maybe you loaded a module or maybe you added it to your PATH yourself).  When you type ```givemeana``` the program outputs the following to the screen:\n",
    "\n",
    "    >givemeana\n",
    "    Usage: givemeana <size> <options>\n",
    "        <size>  size of nxn simulation grid\n",
    "        -t  number of simulation steps (default 10)\n",
    "        -c  number of omp treads (default 1)\n",
    "        -h\thelp (this message)\n",
    "    >\n",
    "\n",
    "Given the above, answer the following questions:\n"
   ]
  },
  {
   "cell_type": "markdown",
   "metadata": {},
   "source": [
    "<font color=red>**Question 2.b:**</font> The following simple BASH loop is trying to conduct a scaling study from 2 to 10 CPUs. However, the ```{2...10}``` syntax is wrong.  Modify the code to correctly iterate from 2 to 10 CPUs.   "
   ]
  },
  {
   "cell_type": "markdown",
   "metadata": {},
   "source": [
    "```bash\n",
    "#!/bin/bash\n",
    "for n in {2...10}\n",
    "do\n",
    "    time givemeana 10000 -c $n -t 1000 > $n.out\n",
    "done\n",
    "```"
   ]
  },
  {
   "cell_type": "markdown",
   "metadata": {},
   "source": [
    "<font color=red>**Question 2.c:**</font> Given that ```givemeana``` is not a real program and therefore will cause a \"file not found\" error if you try to run it.  How did you test your answer code in **Question 2.b** to verify it is correct?"
   ]
  },
  {
   "cell_type": "markdown",
   "metadata": {},
   "source": [
    "Put your answer to the above question here."
   ]
  },
  {
   "cell_type": "markdown",
   "metadata": {},
   "source": [
    "<font color=red>**Question 2.d:**</font> The above script will create some files.  What are the files names and what would be stored in those files. **HINT** This is a tricky question.  Run a test and make sure you understand how the ```time``` command works. "
   ]
  },
  {
   "cell_type": "markdown",
   "metadata": {},
   "source": [
    "Put your answer to the above question here"
   ]
  },
  {
   "cell_type": "markdown",
   "metadata": {},
   "source": [
    "The program was tested three times and the timing results were plotted as follows:\n",
    "\n",
    "<img src=\"https://lh6.googleusercontent.com/NikcaZ--ePJhHloiPZk_LBzZvCsukXj60C4NceGtxnu2dLY7IvMUlnLQEPFZbL3bQOPpV_0tqwsnESafOmWwldkcIhx58GWlz-L_miVHqxbwVutq94zFy-0O9DJ8IpxEE3kSO0hgGvcbgB4\">\n",
    "<font color=red>**Question 2.e:**</font> The writer of ```givemeana``` ensures you that the amount of computation per run is the same (i.e. there is no random component to the calculation).  Describe some other possible sources of the variation in the data seen above.  Describe at least two things you could do to improve the methodology of this scaling study and provide more consistent results.   "
   ]
  },
  {
   "cell_type": "markdown",
   "metadata": {},
   "source": [
    "Put your answer to the above question here."
   ]
  },
  {
   "cell_type": "markdown",
   "metadata": {},
   "source": [
    "---\n",
    "\n",
    "# Question 3 - (25 points) Parallel Programming\n",
    "\n",
    "<img src=\"https://lh6.googleusercontent.com/Saizda6H6hpO7AQarPh95mEsQ6qqVtIOvQoVrzLlKvnUK69UrC-cjKazhQu6xp4xG80O6h2wPg=w740\" width=\"65%\">\n"
   ]
  },
  {
   "cell_type": "markdown",
   "metadata": {},
   "source": [
    "Computational Fluid Dynamics (CFD) uses numerical analysis to analyze and solve problems that involve fluid flows such as air moving over an airplane wing.  A common CFD program is called ```fluent``` (made by [ANSYS](https://www.ansys.com/products/fluids/ansys-fluent)) which is installed one the HPC.  \n",
    "\n",
    "Fluent is a simulation program that divides computational work by splitting up the simulated environment into discrete blocks (also called mesh elements). At each timestep, each element only models the fluid flow within it's boundaries by solving a set of Partial Differential Equation.  When all blocks are done they communicate with each other by exchanging information about the fluid that crossed the boundaries during the time step.  Some very high level psudo-code is as follows:\n",
    "\n",
    "```\n",
    "#Run simulation over all timesteps\n",
    "for t in timesteps  \n",
    "    #Have each meshelment evaluate it's change over the current time step.\n",
    "    for e in meshelements\n",
    "        e = solvemodel(e)\n",
    "        \n",
    "    #Exchange information that crosses the boundaries. \n",
    "    for e in meshelements\n",
    "        exchange_boundary_conditions_with_neighbors(e)\n",
    "```\n",
    "\n",
    "\n",
    "\n",
    "&#9989; <font color=red>**Question 1.a:**</font>: What module command do you use to be able to use the fluent executable?"
   ]
  },
  {
   "cell_type": "markdown",
   "metadata": {},
   "source": [
    "Put the answer to the above question here"
   ]
  },
  {
   "cell_type": "markdown",
   "metadata": {},
   "source": [
    "&#9989; <font color=red>**Question 1.b**</font>: Does fluent use shared memory parallelization, shared network parallelization, accelerators or a combination? Explain how you came up with your answer and provide links to any references. "
   ]
  },
  {
   "cell_type": "raw",
   "metadata": {},
   "source": [
    "Put the answer to the above question here"
   ]
  },
  {
   "cell_type": "markdown",
   "metadata": {},
   "source": [
    "&#9989; <font color=red>**Question 3.c**</font>:  In the picture above the fluent mesh has 40,000 elements.  Assuming this takes 0.001 seconds to solve the model (i.e. run ```solvemodel(e)``` once) for each element and 0.002 seconds to exchange boundary conditions (i.e. ```exchange_boundary_conditions_with_neighbors(e)``` once) for each element. Give a ballpark estimate for how long fluent will run on a single CPU for 10,000 time steps.  Show how you came up with your estimate."
   ]
  },
  {
   "cell_type": "markdown",
   "metadata": {},
   "source": [
    "Put your answer to the above question here"
   ]
  },
  {
   "cell_type": "markdown",
   "metadata": {},
   "source": [
    "&#9989; <font color=red>**Question 3.d**</font>:  The largest number of cores per node on the MSU HPCC is 96 and the largest number of cores any one user can use at once is 520.  Estimate how long it would take to run the job described in **Question 3.c** using all of the resources available to a fluent on the MSU HPCC.  Explain how you came up with your estimation."
   ]
  },
  {
   "cell_type": "markdown",
   "metadata": {},
   "source": [
    "Put your answer to the above question here"
   ]
  },
  {
   "cell_type": "markdown",
   "metadata": {},
   "source": [
    "&#9989; <font color=red>**Question 3.e**</font>:  Fluent has a Graphical User Interface (GUI) for visualizing the results of a simulation.  Most of our HPC is a Command Line Interface (CLI).  Describe a procedure you could use to run fluent (or any program) and interact with it's GUI. "
   ]
  },
  {
   "cell_type": "markdown",
   "metadata": {},
   "source": [
    "Put your answer to the above question here"
   ]
  },
  {
   "cell_type": "markdown",
   "metadata": {},
   "source": [
    "----\n",
    "\n",
    "# Question 4 - (25 points)  Making Code Go Faster\n",
    "\n",
    "<img src=\"https://lh4.googleusercontent.com/xljuYaQm_ggdnxGfSnpNfyDipKOHnlgdaPrpW_Lqw-ETahDpUYn7Y6GqDUbYlRU8p8kjdjxBGQ=w740\" width=\"50%\">\n",
    "\n",
    "One of of the core learning goals in this course is to help you understand the many ways you speed up your code.  With code speed in mind, please answer the following questions."
   ]
  },
  {
   "cell_type": "markdown",
   "metadata": {},
   "source": [
    "&#9989; <font color=red>**Question 4.a:**</font> Describe why you should assume that executing compiled code is always going to run faster than the same algorithm running in interpreted code?"
   ]
  },
  {
   "cell_type": "markdown",
   "metadata": {},
   "source": [
    "Put your answer to the above question here."
   ]
  },
  {
   "cell_type": "markdown",
   "metadata": {},
   "source": [
    "&#9989; <font color=red>**Question 4.b:**</font> Since compiled is always faster than interpreted explain why you would ever use an interpreted programming language?  "
   ]
  },
  {
   "cell_type": "markdown",
   "metadata": {},
   "source": [
    "Put your answer to the above question here."
   ]
  },
  {
   "cell_type": "markdown",
   "metadata": {},
   "source": [
    "&#9989; <font color=red>**Question 4.c:**</font> In class we used \"memory blocking\" to speed up code by taking advantage of the memory cache.  Actually computers have different levels of cache typically called L1, L2 and L3.  L1 is faster than L2 which is faster than L3 which is faster than main memory. How big are the cache sizes on dev-intel18?  **HINT** the ```hwloc``` commmand we used in class will also show memory sizes.   "
   ]
  },
  {
   "cell_type": "markdown",
   "metadata": {},
   "source": [
    "Put your answer to the above question here."
   ]
  },
  {
   "cell_type": "markdown",
   "metadata": {},
   "source": [
    "&#9989; <font color=red>**Question 4.d:**</font> Given your answers to **Question 4.b** and a standard double is 8-bytes,  what is a reasonable block size (i.e. how many doubles) could you use on the dev-intel18 node for the fastest L1 memory access? Explain how you came up with your answer."
   ]
  },
  {
   "cell_type": "markdown",
   "metadata": {},
   "source": [
    "Put your answer to the above question here."
   ]
  },
  {
   "cell_type": "markdown",
   "metadata": {},
   "source": [
    "&#9989; <font color=red>**Question 4.e:**</font> Even though Memory is much faster than the network, explain when you should use shared network parallelization instead of shared memory parallelization?"
   ]
  },
  {
   "cell_type": "markdown",
   "metadata": {},
   "source": [
    "Put your answer to the above question here."
   ]
  },
  {
   "cell_type": "markdown",
   "metadata": {},
   "source": [
    "---------\n",
    "### Congratulations, you're done with your EXAM\n",
    "\n",
    "Now, you just need to submit this assignment by uploading it to the course <a href=\"https://d2l.msu.edu/\">Desire2Learn</a> web page for today's dropbox.\n",
    "\n",
    "&#9989; <font color=red>**DO THIS:**</font>\n",
    "- Download the Notebook to your desktop with the filename using the format **\"<NETID\\>_Midterm-Exam.ipynb\"**.  Replace <NETID\\> in the filename with your personal MSU NetID (the stuff that comes before the @ symbol in your msu email address).\n",
    "- Upload the newly renamed notebook to the D2L dropbox. \n"
   ]
  },
  {
   "cell_type": "markdown",
   "metadata": {},
   "source": [
    "&#169; Copyright 2019,  Michigan State University Board of Trustees"
   ]
  }
 ],
 "metadata": {
  "kernelspec": {
   "display_name": "Python 3",
   "language": "python",
   "name": "python3"
  },
  "language_info": {
   "codemirror_mode": {
    "name": "ipython",
    "version": 3
   },
   "file_extension": ".py",
   "mimetype": "text/x-python",
   "name": "python",
   "nbconvert_exporter": "python",
   "pygments_lexer": "ipython3",
   "version": "3.6.6"
  }
 },
 "nbformat": 4,
 "nbformat_minor": 2
}
