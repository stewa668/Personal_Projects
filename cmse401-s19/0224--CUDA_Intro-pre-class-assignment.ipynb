{
 "cells": [
  {
   "cell_type": "markdown",
   "metadata": {},
   "source": [
    "In order to successfully complete this assignment you must do the required reading, watch the provided videos and complete all instructions.  The embedded Google form must be entirely filled out and submitted on or before **11:59pm on Sunday February 24th**.  Students must come to class the next day prepared to discuss the material covered in this assignment."
   ]
  },
  {
   "cell_type": "markdown",
   "metadata": {},
   "source": [
    "# Pre-Class Assignment: Introduction to CUDA"
   ]
  },
  {
   "cell_type": "markdown",
   "metadata": {},
   "source": [
    "### Goals for today's pre-class assignment \n",
    "\n",
    "1. CPU vs GPU\n",
    "1. CUDA on the HPCC\n",
    "3. Assignment wrap-up"
   ]
  },
  {
   "cell_type": "markdown",
   "metadata": {},
   "source": [
    "----\n",
    "\n",
    "# 1. CPU vs GPU\n",
    "\n",
    "Okay, these videos are just kind of fun and try to give a broad overview between GPUs and CPUS.  "
   ]
  },
  {
   "cell_type": "code",
   "execution_count": null,
   "metadata": {
    "scrolled": false
   },
   "outputs": [],
   "source": [
    "from IPython.display import YouTubeVideo\n",
    "YouTubeVideo(\"-P28LKWTzrI\",width=640,height=360)"
   ]
  },
  {
   "cell_type": "markdown",
   "metadata": {},
   "source": [
    "&#9989; <font color=red>**QUESTION:**</font>  Think about the analogy demonstrated in the Mythbuster video.  Serial code is the single robot arm and the GPU is the array.  Using the same basic analogy, describe a program that would represent a shared memory system such as OpenMP. "
   ]
  },
  {
   "cell_type": "markdown",
   "metadata": {},
   "source": [
    "Put your answer to the above question here"
   ]
  },
  {
   "cell_type": "code",
   "execution_count": null,
   "metadata": {
    "scrolled": true
   },
   "outputs": [],
   "source": [
    "from IPython.display import YouTubeVideo\n",
    "YouTubeVideo(\"1kypaBjJ-pg\",width=640,height=360)"
   ]
  },
  {
   "cell_type": "markdown",
   "metadata": {},
   "source": [
    "&#9989; <font color=red>**QUESTION:**</font>  What does the acronym GPGPU stand for?  "
   ]
  },
  {
   "cell_type": "markdown",
   "metadata": {},
   "source": [
    "Put your answer to the above question here"
   ]
  },
  {
   "cell_type": "code",
   "execution_count": null,
   "metadata": {},
   "outputs": [],
   "source": [
    "from IPython.display import YouTubeVideo\n",
    "YouTubeVideo(\"lQVV5JCd74I\",width=640,height=360)"
   ]
  },
  {
   "cell_type": "markdown",
   "metadata": {},
   "source": [
    "&#9989; <font color=red>**QUESTION:**</font> What is the name of the CUDA command that allocates memory on the GPU?"
   ]
  },
  {
   "cell_type": "markdown",
   "metadata": {},
   "source": [
    "Put your answer to the above question here"
   ]
  },
  {
   "cell_type": "markdown",
   "metadata": {},
   "source": [
    "&#9989; <font color=red>**QUESTION:**</font> What is the name of the CUDA command that copies memory from the CPU to the GPU?"
   ]
  },
  {
   "cell_type": "markdown",
   "metadata": {},
   "source": [
    "Put your answer to the above question here"
   ]
  },
  {
   "cell_type": "markdown",
   "metadata": {},
   "source": [
    "&#9989; <font color=red>**QUESTION:**</font> What is the difference between the \"HOST\" and the \"DEVICE\" in CUDA terminology?"
   ]
  },
  {
   "cell_type": "markdown",
   "metadata": {},
   "source": [
    "Put your answer to the above question here"
   ]
  },
  {
   "cell_type": "code",
   "execution_count": null,
   "metadata": {
    "scrolled": true
   },
   "outputs": [],
   "source": [
    "from IPython.display import YouTubeVideo\n",
    "YouTubeVideo(\"IzU4AVcMFys\",width=640,height=360)"
   ]
  },
  {
   "cell_type": "markdown",
   "metadata": {},
   "source": [
    "&#9989; <font color=red>**QUESTION:**</font> What is the difference between the \"HOST\" and the \"DEVICE\" in CUDA terminology?"
   ]
  },
  {
   "cell_type": "markdown",
   "metadata": {},
   "source": [
    "# 2. CUDA on the HPCC"
   ]
  },
  {
   "cell_type": "code",
   "execution_count": null,
   "metadata": {
    "scrolled": true
   },
   "outputs": [],
   "source": [
    "from IPython.display import YouTubeVideo\n",
    "YouTubeVideo(\"gzkKtcRpA6A\",width=640,height=360)"
   ]
  },
  {
   "cell_type": "markdown",
   "metadata": {},
   "source": [
    "Commands from the video\n",
    "\n",
    "    ssh dev-intel16-k80\n",
    "    module load powertools\n",
    "    getexample cuda\n",
    "    cd cuda\n",
    "    module load CUDA/9.2.8\n",
    "    nvcc -o simple_cuda simple.cu\n",
    "    ./simple.cu\n",
    "    "
   ]
  },
  {
   "cell_type": "markdown",
   "metadata": {},
   "source": [
    "&#9989; <font color=red>**DO THIS:**</font> Here is the code as it was modified in the video.  See if you can get it working."
   ]
  },
  {
   "cell_type": "code",
   "execution_count": null,
   "metadata": {},
   "outputs": [],
   "source": [
    "%%writefile NCode/simple.cu\n",
    "\n",
    "#include \"cuda.h\"\n",
    "#include <iostream>\n",
    "#define CUDA_CALL(x) {cudaError_t cuda_error__ = (x); if (cuda_error__) std::cout << \"CUDA error: \" << #x << \" returned \" << cudaGetErrorString(cuda_error__) << std::endl;}\n",
    "\n",
    "\n",
    "__global__ void theKernel(float * our_array)\n",
    "{\n",
    "    //This is array flattening, (Array Width * Y Index + X Index)\n",
    "    int index = (gridDim.x * blockDim.x) * \\\n",
    "              (blockIdx.y * blockDim.y + threadIdx.y) + \\\n",
    "              (blockIdx.x * blockDim.x + threadIdx.x);\n",
    "    our_array[index] = (float) index;\n",
    "}\n",
    "\n",
    "\n",
    "void printGrid(float an_array[16][16])\n",
    "{\n",
    "    for (int i = 0; i < 16; i++)\n",
    "    {\n",
    "        for (int j = 0; j < 16; j++)\n",
    "        {\n",
    "            std::cout << an_array[i][j];\n",
    "            std::cout << \" \";\n",
    "        }\n",
    "        std::cout << std::endl;\n",
    "    }\n",
    "}\n",
    "\n",
    "\n",
    "int main()\n",
    "{\n",
    "    float our_array[16][16];\n",
    "\n",
    "    for (int i = 0; i < 16; i++)\n",
    "    {\n",
    "        for (int j = 0; j < 16; j++)\n",
    "        {\n",
    "            our_array[i][j] = i;\n",
    "        }\n",
    "    }\n",
    "\n",
    "    //STEP 1: ALLOCATE\n",
    "    float * our_array_d;\n",
    "    int size = sizeof(float)*256;\n",
    "    CUDA_CALL(cudaMalloc((void **) &our_array_d, size));\n",
    "\n",
    "    //STEP 2: TRANSFER\n",
    "    CUDA_CALL(cudaMemcpy(our_array_d, our_array, size, cudaMemcpyHostToDevice));\n",
    "\n",
    "    //STEP 3: SET UP\n",
    "    dim3 blockSize(8,8,1);\n",
    "    dim3 gridSize(2,2,1);\n",
    "\n",
    "    //STEP 4: RUN\n",
    "    theKernel <<<gridSize, blockSize>>> (our_array_d);\n",
    "\n",
    "    //STEP 5: TRANSFER\n",
    "    printGrid(our_array);\n",
    "    CUDA_CALL(cudaMemcpy(our_array, our_array_d, size, cudaMemcpyDeviceToHost));\n",
    "    std::cout << \"--------------------\" << std::endl;\n",
    "    printGrid(our_array);\n",
    "}"
   ]
  },
  {
   "cell_type": "code",
   "execution_count": null,
   "metadata": {},
   "outputs": [],
   "source": [
    "#Compile Cuda\n",
    "!nvcc -o simple_cuda NCode/simple.cu"
   ]
  },
  {
   "cell_type": "code",
   "execution_count": null,
   "metadata": {},
   "outputs": [],
   "source": [
    "#Run Example\n",
    "!./simple_cuda"
   ]
  },
  {
   "cell_type": "markdown",
   "metadata": {},
   "source": [
    "----\n",
    "# 3. Assignment wrap-up\n",
    "\n",
    "Please fill out the form that appears when you run the code below.  **You must completely fill this out in order to receive credit for the assignment!**\n",
    "\n",
    "[Direct Link](https://docs.google.com/forms/d/e/1FAIpQLScj9YBw_FM5hLzZgmwKbt4JiWvaSQsFDDEHJromcXBTfcLI6w/viewform)"
   ]
  },
  {
   "cell_type": "markdown",
   "metadata": {},
   "source": [
    "&#9989; <font color=red>**QUESTION:**</font> Approximately how long (in minutes) did this assignment take for you to complete."
   ]
  },
  {
   "cell_type": "markdown",
   "metadata": {},
   "source": [
    "Put your answer to the above question here"
   ]
  },
  {
   "cell_type": "markdown",
   "metadata": {},
   "source": [
    "&#9989; <font color=red>**QUESTION:**</font>  What questions do you have, if any, about any of the topics discussed in this assignment after working through the jupyter notebook?"
   ]
  },
  {
   "cell_type": "markdown",
   "metadata": {},
   "source": [
    "Put your answer to the above question here"
   ]
  },
  {
   "cell_type": "markdown",
   "metadata": {},
   "source": [
    "&#9989; <font color=red>**QUESTION:**</font>  Do you have any further questions or comments about this material, or anything else that's going on in class? "
   ]
  },
  {
   "cell_type": "markdown",
   "metadata": {},
   "source": [
    "Put your answer to the above question here"
   ]
  },
  {
   "cell_type": "code",
   "execution_count": null,
   "metadata": {},
   "outputs": [],
   "source": [
    "from IPython.display import HTML\n",
    "HTML(\n",
    "\"\"\"\n",
    "<iframe \n",
    "\tsrc=\"https://docs.google.com/forms/d/e/1FAIpQLScj9YBw_FM5hLzZgmwKbt4JiWvaSQsFDDEHJromcXBTfcLI6w/viewform?embedded=true\" \n",
    "\twidth=\"100%\" \n",
    "\theight=\"1200px\" \n",
    "\tframeborder=\"0\" \n",
    "\tmarginheight=\"0\" \n",
    "\tmarginwidth=\"0\">\n",
    "\tLoading...\n",
    "</iframe>\n",
    "\"\"\"\n",
    ")"
   ]
  },
  {
   "cell_type": "markdown",
   "metadata": {},
   "source": [
    "---------\n",
    "### Congratulations, we're done!\n",
    "\n",
    "To get credit for this assignment you must fill out and submit the above Google From on or before the assignment due date."
   ]
  },
  {
   "cell_type": "markdown",
   "metadata": {},
   "source": [
    "\n",
    "**Course Resources:**\n",
    "- [Syllabus](https://tinyurl.com/y75cnzam)\n",
    "- [Preliminary Schedule](https://tinyurl.com/CMSE314-Schedule)\n",
    "- [Git Repository](https://gitlab.msu.edu/colbrydi/cmse401-s19)\n",
    "- [Jargon Jar and Command History](https://tinyurl.com/CMSE314-JargonJar) \n",
    "\n"
   ]
  },
  {
   "cell_type": "markdown",
   "metadata": {},
   "source": [
    "&#169; Copyright 2019,  Michigan State University Board of Trustees"
   ]
  }
 ],
 "metadata": {
  "anaconda-cloud": {},
  "kernelspec": {
   "display_name": "Python 3",
   "language": "python",
   "name": "python3"
  },
  "language_info": {
   "codemirror_mode": {
    "name": "ipython",
    "version": 3
   },
   "file_extension": ".py",
   "mimetype": "text/x-python",
   "name": "python",
   "nbconvert_exporter": "python",
   "pygments_lexer": "ipython3",
   "version": "3.6.6"
  }
 },
 "nbformat": 4,
 "nbformat_minor": 2
}
