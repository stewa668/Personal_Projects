{
 "cells": [
  {
   "cell_type": "markdown",
   "metadata": {},
   "source": [
    "<p style=\"text-align: right;\">\n",
    "In order to successfully complete this assignment you need to participate both individually and in groups during class on <b>Monday February 4st</b>.\n",
    "</p>\n"
   ]
  },
  {
   "cell_type": "markdown",
   "metadata": {},
   "source": [
    "# In-Class Assignment: BASH\n",
    "\n",
    "\n",
    "<img src=\"https://cdn-images-1.medium.com/max/1600/1*FIjDPNm9zRO_ESbUiGmCXA.png\" width=75%>"
   ]
  },
  {
   "cell_type": "markdown",
   "metadata": {},
   "source": [
    "### Agenda for today's class (70 minutes)\n",
    "\n",
    "</p>\n",
    "\n",
    "1. (20 minutes) Pre-class Review\n",
    "1. (20 minutes) BASH Tour\n",
    "1. (30 minutes) Challenges"
   ]
  },
  {
   "cell_type": "markdown",
   "metadata": {},
   "source": [
    "----\n",
    "# 1. Pre-class Review\n",
    " \n",
    "[0131--BASH-pre-class-assignment](0131--BASH-pre-class-assignment.ipynb)"
   ]
  },
  {
   "cell_type": "markdown",
   "metadata": {},
   "source": [
    "----\n",
    "# 2. BASH Tour\n",
    "\n",
    "**QUESTION:** What are the key components of a programming language?  What are the minimally useful set of commands you need to do something interesting in a programming \n",
    "\n",
    "- Variables\n",
    "    - input arguments\n",
    "    - Return variables\n",
    "- Process IDs\n",
    "- Block code\n",
    "    - If statements\n",
    "    - Loops\n",
    "- piping and redirection\n",
    "- Common BASH Commands\n",
    "    - ls\n",
    "    - pwd \n",
    "    - find\n",
    "    - cat, more or less\n",
    "    - grep \n",
    "    - sed\n",
    "    - cut\n",
    "    - wc\n",
    " "
   ]
  },
  {
   "cell_type": "markdown",
   "metadata": {},
   "source": [
    "**EXAMPLE**: Run the following command in the BCCD Directory. \n",
    "\n",
    "```bash\n",
    "echo $PATH | sed -e \"s/;/\\\\n/g\"\n",
    "```"
   ]
  },
  {
   "cell_type": "markdown",
   "metadata": {},
   "source": [
    "**EXAMPLE**: Run the following command in the BCCD Directory. \n",
    "\n",
    "```bash\n",
    "cat Makefile | grep cd | grep MAKE | cut -d \"d\" -f2- | cut -d \";\" -f 1 | sort | uniq\n",
    "```"
   ]
  },
  {
   "cell_type": "markdown",
   "metadata": {},
   "source": [
    "# 3. Challenges\n",
    "\n",
    "**Challenge 1:** Write a BASH script to loop though a list of usernames (ex ```./BASH/usernames.txt```) and print out any jobs each person may have running using ```squeue -l -u $USERNAME```."
   ]
  },
  {
   "cell_type": "markdown",
   "metadata": {},
   "source": [
    "**Challenge 2:** Write a bash script that finds all of the files in the current directory of the form slurm-#######.out and prints out only the jobid (i.e #######).  For an extra challenge, use the ```squeue``` command to check and see if the job is still running and print \"RUNNING\" or \"COMPLETE\" next to the job number."
   ]
  },
  {
   "cell_type": "markdown",
   "metadata": {},
   "source": [
    "**Challenge 3:** Write a submission script that takes a command as an input and runs the command 10 times and prints the time to the screen. For an extra challenge also print the average time."
   ]
  },
  {
   "cell_type": "markdown",
   "metadata": {},
   "source": [
    "**Challenge 4:** Write a bash script that renames all of the files in a directory with the ```out``` extension to all uppercase."
   ]
  },
  {
   "cell_type": "markdown",
   "metadata": {},
   "source": [
    "**Challenge 5:**  Write a bash script to start a program and make sure it only runs for 1 minute.  If the program takes longer than a minute to run it should be \"killed\" an an error message printed to the screen. For simplicity, use the ```sleep 10``` command as the \"test\" program.  For an extra challenge allow the long running command to be passed into the script as an input variable. "
   ]
  },
  {
   "cell_type": "markdown",
   "metadata": {},
   "source": [
    "-----\n",
    "### Congratulations, we're done!"
   ]
  },
  {
   "cell_type": "markdown",
   "metadata": {},
   "source": [
    "\n",
    "**Course Resources:**\n",
    "- [Syllabus](https://tinyurl.com/y75cnzam)\n",
    "- [Preliminary Schedule](https://tinyurl.com/CMSE314-Schedule)\n",
    "- [Git Repository](https://gitlab.msu.edu/colbrydi/cmse401-s19)\n",
    "- [Jargon Jar and Command History](https://tinyurl.com/CMSE314-JargonJar) \n",
    "\n"
   ]
  },
  {
   "cell_type": "markdown",
   "metadata": {},
   "source": [
    "&#169; Copyright 2019,  Michigan State University Board of Trustees"
   ]
  }
 ],
 "metadata": {
  "kernelspec": {
   "display_name": "Python 3",
   "language": "python",
   "name": "python3"
  },
  "language_info": {
   "codemirror_mode": {
    "name": "ipython",
    "version": 3
   },
   "file_extension": ".py",
   "mimetype": "text/x-python",
   "name": "python",
   "nbconvert_exporter": "python",
   "pygments_lexer": "ipython3",
   "version": "3.6.6"
  },
  "toc": {
   "base_numbering": 1,
   "nav_menu": {},
   "number_sections": false,
   "sideBar": false,
   "skip_h1_title": false,
   "title_cell": "Table of Contents",
   "title_sidebar": "Contents",
   "toc_cell": false,
   "toc_position": {},
   "toc_section_display": false,
   "toc_window_display": false
  }
 },
 "nbformat": 4,
 "nbformat_minor": 2
}
