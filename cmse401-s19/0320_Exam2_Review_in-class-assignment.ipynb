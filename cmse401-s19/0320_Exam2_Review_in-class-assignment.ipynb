{
 "cells": [
  {
   "cell_type": "markdown",
   "metadata": {},
   "source": [
    "\n",
    "In order to successfully complete this assignment you need to participate both individually and in groups during class on **Thursday March 15th**.\n"
   ]
  },
  {
   "cell_type": "markdown",
   "metadata": {},
   "source": [
    "# In-Class Assignment: Mid-Term Review\n",
    "\n",
    "<img src=\"http://s3.amazonaws.com/mindcipher/puzzles/puzzle_images/000/000/092/original/ParallelLinesOpticalIllusion2.JPG?1359085925\">\n",
    "\n",
    "Are these Lines Parallel? (Image From: http://www.mindcipher.com/puzzles/92)"
   ]
  },
  {
   "cell_type": "markdown",
   "metadata": {},
   "source": [
    "### Agenda for today's class (70 minutes)\n",
    "\n",
    "</p>\n",
    "\n",
    "1. (70 minutes) Midterm Review"
   ]
  },
  {
   "cell_type": "markdown",
   "metadata": {},
   "source": [
    "---\n",
    "# 1. Midterm 2 Review \n",
    "\n",
    "\n",
    "## Evaluation goals for Midterm Exam 1\n",
    "- Logging onto the HPC\n",
    "- Setting your path\n",
    "- Writing a submission script\n",
    "- Reading man and info pages and googling help\n",
    "- Edit a file\n",
    "- Debugging problems\n",
    "- Benchmarking code\n",
    "- Using the module system\n",
    "- Tick Trick\n",
    "- Piping information\n",
    "- BASH Block code\n",
    "- File redirection\n",
    "- File permissions\n",
    "- Shared memory vs Shared network parallel\n",
    "- Block memory\n",
    "- Finding commands\n",
    "- Multiple solutions to finding answers"
   ]
  },
  {
   "cell_type": "markdown",
   "metadata": {},
   "source": [
    "## Evaluation goals for Midterm Exam 2\n",
    "- Basic syntax and debugging for Shared memory parallization (OpenMP)\n",
    "- Compiling OpenMP code\n",
    "- Converting Serial Code to OpenMP Code\n",
    "- Submitting OpenMP Jobs to the HPC\n",
    "- Undertanding the stringths and weeknesses of OpenMP \n",
    "- Basic Syntax and debugging for GPU Programming (CUDA)\n",
    "- Compiling CUDA code\n",
    "- Converting Serial Code to CUDA\n",
    "- Submitting CUDA Jobs to the HPC\n",
    "- Undertanding the strengths and weeknesses of CUDA \n",
    "- Undertanding alternatives to CUDA\n",
    "- Compairing Serial, Shared Memory and GPU solutions\n",
    "- Understanding and fixing Deadlock\n",
    "- Understanding and fixing Race Coditions\n",
    "- Understanding how to calculate speedup and Amdahl's law\n",
    "- Strong vs Weak Scaling"
   ]
  },
  {
   "cell_type": "markdown",
   "metadata": {},
   "source": [
    "-----\n",
    "### Congratulations, we're done!"
   ]
  },
  {
   "cell_type": "markdown",
   "metadata": {},
   "source": [
    "\n",
    "**Course Resources:**\n",
    "- [Syllabus](https://tinyurl.com/y75cnzam)\n",
    "- [Preliminary Schedule](https://tinyurl.com/CMSE314-Schedule)\n",
    "- [Git Repository](https://gitlab.msu.edu/colbrydi/cmse401-s19)\n",
    "- [Jargon Jar and Command History](https://tinyurl.com/CMSE314-JargonJar) \n",
    "\n"
   ]
  },
  {
   "cell_type": "markdown",
   "metadata": {},
   "source": [
    "&#169; Copyright 2019,  Michigan State University Board of Trustees"
   ]
  }
 ],
 "metadata": {
  "kernelspec": {
   "display_name": "Python 3",
   "language": "python",
   "name": "python3"
  },
  "language_info": {
   "codemirror_mode": {
    "name": "ipython",
    "version": 3
   },
   "file_extension": ".py",
   "mimetype": "text/x-python",
   "name": "python",
   "nbconvert_exporter": "python",
   "pygments_lexer": "ipython3",
   "version": "3.7.1"
  }
 },
 "nbformat": 4,
 "nbformat_minor": 2
}
