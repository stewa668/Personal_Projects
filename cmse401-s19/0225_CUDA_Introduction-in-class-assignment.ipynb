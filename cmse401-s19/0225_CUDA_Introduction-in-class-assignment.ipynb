{
 "cells": [
  {
   "cell_type": "markdown",
   "metadata": {},
   "source": [
    "<p style=\"text-align: right;\">\n",
    "In order to successfully complete this assignment you need to participate both individually and in groups during class on **Monday February 25th**.\n",
    "</p>\n"
   ]
  },
  {
   "cell_type": "markdown",
   "metadata": {},
   "source": [
    "# In-Class Assignment: CUDA\n",
    "\n",
    "<img src=\"http://www.amax.com/blog/wp-content/uploads/2016/06/NVIDIA-GPU-Card-Comparison.jpg\" width=75%>\n",
    "\n",
    "<p style=\"text-align: right;\">https://www.amax.com/blog/?p=907</p>"
   ]
  },
  {
   "cell_type": "markdown",
   "metadata": {},
   "source": [
    "### Agenda for today's class (70 minutes)\n",
    "\n",
    "</p>\n",
    "1. (20 minutes) Finish up OpenMP\n",
    "1. (20 minutes) Pre-class review\n",
    "1. (20 minutes) BCCD CUDA Example\n",
    "1. (?? minutes - As far as we get...) Vector Add Example\n"
   ]
  },
  {
   "cell_type": "markdown",
   "metadata": {},
   "source": [
    "----\n",
    "\n",
    "# 0. Finish up OpenMP\n",
    "\n",
    "Here is my working OpenMP snip-it from class on friday: \n",
    "```c++\n",
    "#pragma omp parallel shared(dvdt, v, y) private(i, dx2inv,nx,nxm1,nt,dt)\n",
    "{             \n",
    "    for(int it=0;it<nt-1;it++) {\n",
    "        #pragma omp for schedule(static, nx/500)\n",
    "        for(i=1;i<nxm1;i++)\n",
    "            dvdt[i]=(y[i+1]+y[i-1]-2.0*y[i])*(dx2inv);\n",
    "\n",
    "        #pragma omp for schedule(static, nx/500)\n",
    "        for(i=1; i<nxm1; i++)  {\n",
    "            v[i] = v[i] + dt*dvdt[i];\n",
    "            y[i] = y[i] + dt*v[i];\n",
    "        }\n",
    "        #pragma omp barrier\n",
    "    }\n",
    "}\n",
    "\n",
    "\n",
    "```\n",
    "Minimal speed-up version\n",
    "\n",
    "```c++\n",
    "#pragma omp parallel private(nt) \n",
    "{\n",
    "    for(it=0;it<nt-1;it++) {\n",
    "        #pragma omp for \n",
    "        for(i=1;i<nxm1;i++)\n",
    "            dvdt[i]=(y[i+1]+y[i-1]-2.0*y[i])*(dx2inv);\n",
    "        #pragma omp for \n",
    "        for(i=1; i<nxm1; i++)  {\n",
    "            v[i] = v[i] + dt*dvdt[i];\n",
    "            y[i] = y[i] + dt*v[i];\n",
    "        }\n",
    "        #pragma omp barrier\n",
    "    }\n",
    "}\n",
    "```\n",
    "\n"
   ]
  },
  {
   "cell_type": "markdown",
   "metadata": {},
   "source": [
    "---\n",
    "# 1. Pre-class Review\n",
    "\n",
    "[0224--CUDA_Intro-pre-class-assignment](0224--CUDA_Intro-pre-class-assignment.ipynb)\n",
    "\n",
    "We learned the following in the video:\n",
    "1. You must use a dev node with a CUDA card (Ex. dev-intel14-k20 or dev-intel16-k80).\n",
    "2. You need to install the CUDA software (How do we do that on the HPC?).\n",
    "3. Once you do that, build thee software and run it.\n",
    "\n",
    "\n",
    "```c++\n",
    "#define CUDA_CALL(x) {cudaError_t cuda_error__ = (x); if (cuda_error__) printf(\"CUDA error: \" #x \" returned \\\"%s\\\"\\n\", cudaGetErrorString(cuda_error__));}\n",
    "```\n",
    "\n",
    "Steps in a common CUDA program:\n",
    "* STEP 1: ALLOCATE\n",
    "* STEP 2: TRANSFER\n",
    "* STEP 3: SET UP\n",
    "* STEP 4: RUN\n",
    "* STEP 5: TRANSFER"
   ]
  },
  {
   "cell_type": "markdown",
   "metadata": {},
   "source": [
    "---\n",
    "\n",
    "# 2. BCCD CUDA Example\n",
    "\n",
    "&#9989; <font color=red>**DO THIS:**</font> In the class Git repository, go back to the BCCD directory and compile and run the CUDA example.  Read though the output and discuss it with your neighbors and the class. \n"
   ]
  },
  {
   "cell_type": "markdown",
   "metadata": {},
   "source": [
    "----\n",
    "# 3. Vector Add Example\n",
    "\n",
    "The following is a vector add example.  "
   ]
  },
  {
   "cell_type": "code",
   "execution_count": null,
   "metadata": {},
   "outputs": [],
   "source": [
    "%%writefile NCode/vecadd.cu\n",
    "\n",
    "//Example modified from: https://gist.github.com/vo/3899348\n",
    "//Timing code from: https://www.pluralsight.com/blog/software-development/how-to-measure-execution-time-intervals-in-c--\n",
    "\n",
    "#include <iostream>\n",
    "#include <cuda.h>\n",
    "#include <chrono>\n",
    "#define CUDA_CALL(x) {cudaError_t cuda_error__ = (x); if (cuda_error__) { fprintf(stderr, \"CUDA error: \" #x \" returned \\\"%s\\\"\\n\", cudaGetErrorString(cuda_error__)); fflush(stderr); exit(cuda_error__); } }\n",
    "\n",
    "__global__ void vecAdd(int *a_d,int *b_d,int *c_d,int N)\n",
    "{\n",
    "   int i = blockDim.x * blockIdx.x + threadIdx.x;\n",
    "   if (i < N)\n",
    "       c_d[i] = a_d[i] + b_d[i]; \n",
    "}\n",
    "\n",
    "void vecAdd_h(int *A1,int *B1, int *C1, int N)\n",
    "{\n",
    "   for(int i=0;i<N;i++)\n",
    "      C1[i] = A1[i] + B1[i];\n",
    "}\n",
    "\n",
    "int main(int argc,char **argv)\n",
    "{\n",
    "   int n=10000000;\n",
    "   int nBytes = n*sizeof(int);\n",
    "   int *a,*b,*c,*c2;\n",
    "   int *a_d,*b_d,*c_d;\n",
    "\n",
    "   int num_threads = 1024;\n",
    "   int num_blocks = n/num_threads+1;\n",
    "   dim3 numThreads(num_threads,1,1);\n",
    "   dim3 numBlocks(num_blocks,1,1); \n",
    "    \n",
    "   //Check device\n",
    "   struct cudaDeviceProp properties;\n",
    "   cudaGetDeviceProperties(&properties, 0);\n",
    "   printf(\"using %d multiprocessors\\n\",properties.multiProcessorCount);\n",
    "   printf(\"max threads per processor: %d \\n\\n\",properties.maxThreadsPerMultiProcessor);\n",
    "    \n",
    "    \n",
    "   printf(\"nBytes=%d num_threads=%d, num_blocks=%d\\n\",nBytes,num_threads,num_blocks);\n",
    "\n",
    "   if (!(a = (int*) malloc(nBytes))) {\n",
    "        fprintf(stderr, \"malloc() FAILED (thread)\\n\");\n",
    "        exit(0);\n",
    "    }\n",
    "\n",
    "   if (!(b = (int*) malloc(nBytes))) {\n",
    "        fprintf(stderr, \"malloc() FAILED (thread)\\n\");\n",
    "        exit(0);\n",
    "    }\n",
    "\n",
    "   if (!(c = (int*) malloc(nBytes))) {\n",
    "        fprintf(stderr, \"malloc() FAILED (thread)\\n\");\n",
    "        exit(0);\n",
    "    }\n",
    "\n",
    "   if (!(c2 = (int*) malloc(nBytes))) {\n",
    "        fprintf(stderr, \"malloc() FAILED (thread)\\n\");\n",
    "        exit(0);\n",
    "    }\n",
    "    \n",
    "   for(int i=0;i<n;i++)\n",
    "      a[i]=i,b[i]=i;\n",
    "    \n",
    "   printf(\"Allocating device memory on host..\\n\");\n",
    "   CUDA_CALL(cudaMalloc((void **)&a_d,nBytes));\n",
    "   CUDA_CALL(cudaMalloc((void **)&b_d,nBytes));\n",
    "   CUDA_CALL(cudaMalloc((void **)&c_d,nBytes));\n",
    "    \n",
    "   auto start_d = std::chrono::high_resolution_clock::now();\n",
    "\n",
    "   printf(\"Copying to device..\\n\");\n",
    "   CUDA_CALL(cudaMemcpy(a_d,a,nBytes,cudaMemcpyHostToDevice));\n",
    "   CUDA_CALL(cudaMemcpy(b_d,b,nBytes,cudaMemcpyHostToDevice));\n",
    "   \n",
    "   printf(\"Doing GPU Vector add\\n\");\n",
    "   vecAdd<<<numBlocks, numThreads>>>(a_d,b_d,c_d,n);\n",
    "\n",
    "   cudaError_t err = cudaGetLastError();\n",
    "   if (err != cudaSuccess) {\n",
    "        fprintf(stderr, \"\\n\\nError: %s\\n\\n\", cudaGetErrorString(err)); fflush(stderr); exit(err);   \n",
    "   }\n",
    "    \n",
    "   printf(\"Copying results to host..\\n\");   \n",
    "   CUDA_CALL(cudaMemcpy(c,c_d,nBytes,cudaMemcpyDeviceToHost));\n",
    "   \n",
    "   auto end_d = std::chrono::high_resolution_clock::now();\n",
    "   \n",
    "   auto start_h = std::chrono::high_resolution_clock::now();\n",
    "   printf(\"Doing CPU Vector add\\n\");\n",
    "   vecAdd_h(a,b,c2,n);\n",
    "   auto end_h = std::chrono::high_resolution_clock::now();\n",
    "    \n",
    "   //Test results\n",
    "   int error = 0;\n",
    "   for(int i=0;i<n;i++) {\n",
    "      error += abs(c[i]-c2[i]);\n",
    "      if (error)\n",
    "          printf(\"%i, %d, %d\\n\", i, c[i], c2[i]);\n",
    "   }\n",
    "\n",
    "   //Print Timing\n",
    "   std::chrono::duration<double> time_d = end_d - start_d;\n",
    "   std::chrono::duration<double> time_h = end_h - start_h;\n",
    "   printf(\"vectorsize=%d\\n\",n);\n",
    "   printf(\"difference_error=%d\\n\",error);\n",
    "   printf(\"Device time: %f s\\n \", time_d.count());\n",
    "   printf(\"Host time: %f s\\n\", time_h.count()); \n",
    "    \n",
    "   cudaFree(a_d);\n",
    "   cudaFree(b_d);\n",
    "   cudaFree(c_d);\n",
    "   return 0;\n",
    "}"
   ]
  },
  {
   "cell_type": "code",
   "execution_count": null,
   "metadata": {},
   "outputs": [],
   "source": [
    "#Compile Cuda\n",
    "!nvcc -std=c++11 -o vecadd NCode/vecadd.cu"
   ]
  },
  {
   "cell_type": "code",
   "execution_count": null,
   "metadata": {
    "scrolled": true
   },
   "outputs": [],
   "source": [
    "#Run Example\n",
    "!./vecadd"
   ]
  },
  {
   "cell_type": "markdown",
   "metadata": {},
   "source": [
    "&#9989; <font color=red>**DO THIS:**</font> Copy and paste the above code to the HPCC and get it to compile and run.\n",
    "\n",
    "&#9989; <font color=red>**DO THIS:**</font> Analyse the code and see if you can figure out what it is doing.  Where are the key steps? \n",
    "\n",
    "&#9989; <font color=red>**DO THIS:**</font> Think about why this code does not do a fair timing comparison between the CPU and the GPU.  Make modifications to make it a more fair comparison.\n",
    "\n",
    "&#9989; <font color=red>**DO THIS:**</font> As in the pre-class video, the exit codes for the CUDA program are not being checked.  Add the CUDA_CALL command to your program. "
   ]
  },
  {
   "cell_type": "markdown",
   "metadata": {},
   "source": [
    "-----\n",
    "### Congratulations, we're done!"
   ]
  },
  {
   "cell_type": "markdown",
   "metadata": {},
   "source": [
    "\n",
    "**Course Resources:**\n",
    "- [Syllabus](https://tinyurl.com/y75cnzam)\n",
    "- [Preliminary Schedule](https://tinyurl.com/CMSE314-Schedule)\n",
    "- [Git Repository](https://gitlab.msu.edu/colbrydi/cmse401-s19)\n",
    "- [Jargon Jar and Command History](https://tinyurl.com/CMSE314-JargonJar) \n",
    "\n"
   ]
  },
  {
   "cell_type": "markdown",
   "metadata": {},
   "source": [
    "&#169; Copyright 2019,  Michigan State University Board of Trustees"
   ]
  }
 ],
 "metadata": {
  "kernelspec": {
   "display_name": "Python 3",
   "language": "python",
   "name": "python3"
  },
  "language_info": {
   "codemirror_mode": {
    "name": "ipython",
    "version": 3
   },
   "file_extension": ".py",
   "mimetype": "text/x-python",
   "name": "python",
   "nbconvert_exporter": "python",
   "pygments_lexer": "ipython3",
   "version": "3.6.6"
  }
 },
 "nbformat": 4,
 "nbformat_minor": 2
}
