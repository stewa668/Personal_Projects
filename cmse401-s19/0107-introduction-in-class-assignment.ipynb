{
 "cells": [
  {
   "cell_type": "markdown",
   "metadata": {},
   "source": [
    "<p style=\"text-align: right;\">\n",
    "In order to successfully complete this assignment you need to participate both individually and in groups during class on **Monday January 7th**.\n",
    "</p>"
   ]
  },
  {
   "cell_type": "markdown",
   "metadata": {},
   "source": [
    "# Welcome to CMSE 401 - Methods in Parallel Programming"
   ]
  },
  {
   "cell_type": "markdown",
   "metadata": {},
   "source": [
    "<img src=\"https://3c1703fe8d.site.internapcdn.net/newman/csz/news/800/2018/ornllaunches.jpg\"><p style=\"text-align: right;\">\n",
    "Image from: https://phys.org/news/2018-06-ornl-summit-supercomputer.html\n",
    "</p>"
   ]
  },
  {
   "cell_type": "markdown",
   "metadata": {},
   "source": [
    "### Agenda for today's class (70 minutes)\n",
    "</p>\n",
    "\n",
    "1. (25 minutes) Download Assignment and do Survey During RaspberryPi Cluster Demo\n",
    "2. (10 minutes) Round Robin Introductions\n",
    "3. (5 minutes) Knowing what you don't know\n",
    "3. (10 minutes) Jargon Jar and Command History\n",
    "3. (20 minutes) Syllabus and Schedule"
   ]
  },
  {
   "cell_type": "markdown",
   "metadata": {},
   "source": [
    "---\n",
    "# 1. Download assignment and do survey during RaspberryPi cluster demo\n",
    "\n",
    "As you arrive into class, please do the following:\n",
    "\n",
    "1. Download this in-class assignment from the course D2L page.  Or, if you already have GIT installed and ready to use, download the assignment from the GIT class repository: ```git clone git@gitlab.msu.edu:colbrydi/cmse401-s19.git```\n",
    "2. Complete the following pre-class survey: [Direct Link](https://docs.google.com/forms/d/1K0Qchj1hIyGv6a9q4Caapp-0IABI50sK1GVyrhjJ5Gc/edit)\n",
    "3. Go up and try out the RaspberryPi demo at the front of the class. \n",
    "\n",
    "<a href=\"https://www.networkworld.com/article/3156748/computers/10-amazing-raspberry-pi-clusters.html\"><img src=\"https://coderdojokilkenny.files.wordpress.com/2013/10/raspberry-pi-logo1.png\" width=\"30%\"></a>\n"
   ]
  },
  {
   "cell_type": "markdown",
   "metadata": {},
   "source": [
    "--- \n",
    "\n",
    "# 2. Round Robin Introductions\n",
    "\n",
    "Briefly say who you are, what is your major and why you want to take this class."
   ]
  },
  {
   "cell_type": "markdown",
   "metadata": {},
   "source": [
    "----\n",
    "\n",
    "# 3. Knowing what you don't Know\n",
    "\n",
    "<img src=\"https://lh5.googleusercontent.com/erqXjWLpTTfJCHO4DnKPwZJtTW6wiVI8FqKhoc6Sx-eu41QP-uY7CeSouirdaat8ERxRukLp1w=w740\">"
   ]
  },
  {
   "cell_type": "markdown",
   "metadata": {},
   "source": [
    "----\n",
    "# 4. Jargon Jar and Command History\n",
    "\n",
    "Definition of Jargon: “Special words or expressions that are used by a particular profession or group and are difficult for others to understand.”\n",
    "- Discipline-specific terms\n",
    "- Words with multiple meanings\n",
    "- Cultural references\n",
    "- Idioms\n",
    "- Acronyms\n",
    "\n",
    "During this entire course, students are encouraged to add terms and phrases that are confusing to this notebook.  As a group we also encourage everyone to add definitions, examples and references. - https://preview.tinyurl.com/CMSE314-JargonJar"
   ]
  },
  {
   "cell_type": "markdown",
   "metadata": {},
   "source": [
    "----\n",
    "\n",
    "# 5. Syllabus and Schedule\n",
    "\n",
    "<img src=\"https://3.bp.blogspot.com/-_5dGQOgIIl4/WXOmiP9nbrI/AAAAAAAAbAM/O6meBNN_nZ8TdsgG0feDr54rk4s6xjUoACLcBGAs/s1600/balance-between-neet-and-board.png\" width=\"70%\">\n",
    "\n",
    "- [Syllabus](https://tinyurl.com/y75cnzam)\n",
    "- [Preliminary Schedule](https://tinyurl.com/CMSE314-Schedule)\n",
    "\n",
    "**Closing thoughts** I am excited to be teaching this course with you.  Please note, although I have been teaching parallel programing and HPC  of for almost 10 years, this is the first time teaching it as an undergraduate course in this format.  We will need to work together to make sure we are achieving the learning goals.  Please be patient and flexible as we learn together and adjust throughout the semester. "
   ]
  },
  {
   "cell_type": "markdown",
   "metadata": {},
   "source": [
    "# Field Trip Annocement:\n",
    "\n",
    "Please mark your calendars for this Friday (January 11th).  We will be taking people on a tour of the MSU Data Center.  The tour will start at 12:30 so we plan on ending class at around 12:15 to give everyone time to get to the datacenter.  \n",
    "\n",
    "<img src=\"https://lh5.googleusercontent.com/_JiQxQino7L-SWyC0WgK00b8kcOaU2mEsw031R_mGqkibURsw2yOn0VON7kjhp8BQCrqa0UVkQ=w740\" widht=\"100%\">"
   ]
  },
  {
   "cell_type": "markdown",
   "metadata": {},
   "source": [
    "-----\n",
    "### Congratulations, we're done!\n",
    "\n",
    "**Course Resources:**\n",
    "- [Syllabus](https://tinyurl.com/y75cnzam)\n",
    "- [Preliminary Schedule](https://tinyurl.com/CMSE314-Schedule)\n",
    "- [Git Repository](https://gitlab.msu.edu/colbrydi/cmse401-s19)\n",
    "- [Jargon Jar and Command History](https://tinyurl.com/CMSE314-JargonJar) \n"
   ]
  },
  {
   "cell_type": "markdown",
   "metadata": {},
   "source": [
    "&#169; Copyright 2019,  Michigan State University Board of Trustees"
   ]
  }
 ],
 "metadata": {
  "kernelspec": {
   "display_name": "Python 3",
   "language": "python",
   "name": "python3"
  },
  "language_info": {
   "codemirror_mode": {
    "name": "ipython",
    "version": 3
   },
   "file_extension": ".py",
   "mimetype": "text/x-python",
   "name": "python",
   "nbconvert_exporter": "python",
   "pygments_lexer": "ipython3",
   "version": "3.6.5"
  }
 },
 "nbformat": 4,
 "nbformat_minor": 2
}
