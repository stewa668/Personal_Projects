{
 "cells": [
  {
   "cell_type": "markdown",
   "metadata": {},
   "source": [
    "In order to successfully complete this assignment you must do the required reading, watch the provided videos and complete all instructions.  The embedded Google form must be entirely filled out and submitted on or before **11:59pm on Sunday March 10th**.  Students must come to class the next day prepared to discuss the material covered in this assignment."
   ]
  },
  {
   "cell_type": "markdown",
   "metadata": {},
   "source": [
    "# Pre-Class Assignment: CUDA Memory Tiling "
   ]
  },
  {
   "cell_type": "markdown",
   "metadata": {},
   "source": [
    "### Goals for today's pre-class assignment \n",
    "\n",
    "</p>\n",
    "\n",
    "1. DECS Login Check\n",
    "1. Tiling\n",
    "2. Transpose Example\n",
    "3. Assignment wrap-up\n"
   ]
  },
  {
   "cell_type": "markdown",
   "metadata": {},
   "source": [
    "----\n",
    "\n",
    "# 1. DECS login Check\n",
    "\n",
    "In class we are going to test out the new CUDA jupyterhub.  Please make sure you are able to log onto the system using your Engineering Login and password:\n",
    "\n",
    "https://jupyterhub.egr.msu.edu\n",
    "\n",
    "If you have trouble, check the status of your account here:\n",
    "\n",
    "https://www.egr.msu.edu/decs/myaccount/"
   ]
  },
  {
   "cell_type": "markdown",
   "metadata": {},
   "source": [
    "&#9989; <font color=red>**QUESTION:**</font>  Where you able to log onto your DECS account?"
   ]
  },
  {
   "cell_type": "markdown",
   "metadata": {},
   "source": [
    "Put your answer to the above question here."
   ]
  },
  {
   "cell_type": "markdown",
   "metadata": {},
   "source": [
    "&#9989; <font color=red>**QUESTION:**</font>  If not, what problems did you encounter?"
   ]
  },
  {
   "cell_type": "markdown",
   "metadata": {},
   "source": [
    "Put your answer to the above question here."
   ]
  },
  {
   "cell_type": "markdown",
   "metadata": {},
   "source": [
    "-----\n",
    "\n",
    "# 2. Tiling\n",
    "\n",
    "A GPU does not do automatic memory caching like a CPU.  Instead you need to do all of work for memory management yourself.  The following video gives a brief overview of the concept of tiling.  "
   ]
  },
  {
   "cell_type": "code",
   "execution_count": null,
   "metadata": {
    "scrolled": true
   },
   "outputs": [],
   "source": [
    "from IPython.display import YouTubeVideo\n",
    "YouTubeVideo(\"tGu5DyIlofY\",width=640,height=360)"
   ]
  },
  {
   "cell_type": "markdown",
   "metadata": {},
   "source": [
    "&#9989; <font color=red>**QUESTION:**</font> Which of the following two code snippets (foo or bar) would benefit from tiling?\n",
    "\n",
    "```c++\n",
    "__global__ void foo(flout out[], float A[], float B[], float C[], float D[], float E[])\n",
    "{\n",
    "    int i = threadIdx.x;\n",
    "    out[i] = (A[i] + B[i] + C[i] + D[i] + E[i] / 5.of;\n",
    "}\n",
    "```\n",
    "\n",
    "```c++\n",
    "__global__ void bar(flout out[], float in[])\n",
    "{\n",
    "    int i = threadIdx.x;\n",
    "    out[i] = (in[i-2] + in[i-1] + in[i] + in[i+1] + in[i+2] / 5.of;\n",
    "}\n",
    "```          \n",
    "           "
   ]
  },
  {
   "cell_type": "markdown",
   "metadata": {},
   "source": [
    "&#9989; <font color=red>**QUESTION:**</font> Explain your answer to the above question."
   ]
  },
  {
   "cell_type": "markdown",
   "metadata": {},
   "source": [
    "Put your answer to the above question here."
   ]
  },
  {
   "cell_type": "markdown",
   "metadata": {},
   "source": [
    "----\n",
    "# 3. Transpose Example\n",
    "\n",
    "Consider the following inefficient CUDA transpose code.  \n",
    "\n",
    "&#9989; <font color=red>**DO THIS:**</font> Copy the code to the HPC, debug any errors and get it to run.  "
   ]
  },
  {
   "cell_type": "code",
   "execution_count": null,
   "metadata": {},
   "outputs": [],
   "source": [
    "%%writefile NCode/transpose.cu\n",
    "\n",
    "#include <iostream>\n",
    "#include <cuda.h>\n",
    "#include <chrono>\n",
    "#define CUDA_CALL(x) {cudaError_t cuda_error__ = (x); if (cuda_error__) { fprintf(stderr, \"CUDA error: \" #x \" returned \\\"%s\\\"\\n\", cudaGetErrorString(cuda_error__)); fflush(stderr); exit(cuda_error__); } }\n",
    "\n",
    "using namespace std;\n",
    "\n",
    "__global__ void transpose(double *in_d, double * out_d, int row, int col)\n",
    "{\n",
    "   int x = blockIdx.x * blockDim.x + threadIdx.x;\n",
    "   int y = blockIdx.y * blockDim.y + threadIdx.y;\n",
    "   out_d[y+col*x] = in_d[x+row*y];\n",
    "}\n",
    "\n",
    "int main(int argc,char **argv)\n",
    "{\n",
    "   int sz_x=32*300;\n",
    "   int sz_y=32*300;\n",
    "   int nBytes = sz_x*sz_y*sizeof(double);\n",
    "   int block_size;\n",
    "   double *m_h = (double *)malloc(nBytes);\n",
    "   double * in_d;\n",
    "   double * out_d;\n",
    "   int count = 0;\n",
    "   for (int i=0; i < sz_x*sz_y; i++){\n",
    "       m_h[i] = count;\n",
    "       count++;\n",
    "   }\n",
    "   std::cout << \"Allocating device memory on host..\\n\";\n",
    "   auto start_d = std::chrono::high_resolution_clock::now();\n",
    "   CUDA_CALL(cudaMalloc((void **)&in_d,nBytes));\n",
    "   CUDA_CALL(cudaMalloc((void **)&out_d,nBytes));\n",
    "\n",
    "   //Set up blocks\n",
    "   block_size=32;\n",
    "   dim3 dimBlock(block_size,block_size,1);\n",
    "   dim3 dimGrid(sz_x/block_size,sz_y/block_size,1);\n",
    "\n",
    "   std::cout << \"Doing GPU Transpose\\n\";\n",
    "   CUDA_CALL(cudaMemcpy(in_d,m_h,nBytes,cudaMemcpyHostToDevice));\n",
    "   transpose<<<dimGrid,dimBlock>>>(in_d,out_d,sz_y,sz_x);\n",
    "    \n",
    "   cudaError_t err = cudaGetLastError();\n",
    "   if (err != cudaSuccess) {\n",
    "        fprintf(stderr, \"\\n\\nError: %s\\n\\n\", cudaGetErrorString(err)); fflush(stderr); exit(err);   \n",
    "   }\n",
    "    \n",
    "   CUDA_CALL(cudaMemcpy(m_h,out_d,nBytes,cudaMemcpyDeviceToHost));\n",
    "   auto end_d = std::chrono::high_resolution_clock::now();\n",
    "\n",
    "   std::cout << \"Doing CPU Transpose\\n\";\n",
    "   auto start_h = std::chrono::high_resolution_clock::now();\n",
    "   for (int y=0; y < sz_y; y++){\n",
    "        for (int x=y; x < sz_x; x++){\n",
    "           double temp = m_h[x+sz_x*y];\n",
    "           //std::cout << temp << \" \";\n",
    "           m_h[x+sz_x*y] = m_h[y+sz_y*x];\n",
    "           m_h[y+sz_y*x] = temp;\n",
    "       }\n",
    "       //std::cout << \"\\n\";\n",
    "   }\n",
    "   auto end_h = std::chrono::high_resolution_clock::now();\n",
    "\n",
    "\n",
    "   //Checking errors (should be same values as start)\n",
    "   count = 0;\n",
    "   int errors = 0;\n",
    "   for (int i=0; i < sz_x*sz_y; i++){\n",
    "       if (m_h[i] != count)\n",
    "           errors++;\n",
    "       count++;\n",
    "   }\n",
    "   std::cout << errors << \" Errors found in transpose\\n\";\n",
    "\n",
    "    //Print Timing\n",
    "   std::chrono::duration<double> time_d = end_d - start_d;\n",
    "   std::cout << \"Device time: \" << time_d.count() << \" s\\n\";\n",
    "   std::chrono::duration<double> time_h = end_h - start_h;\n",
    "   std::cout << \"Host time: \" << time_h.count() << \" s\\n\";\n",
    "\n",
    "   cudaFree(in_d);\n",
    "   cudaFree(out_d);\n",
    "   return 0;\n",
    "}"
   ]
  },
  {
   "cell_type": "code",
   "execution_count": null,
   "metadata": {},
   "outputs": [],
   "source": [
    "#Ignore this cell, it will only work on a cuda enabled server, most likely  you will get a \"Command not found\" error\n",
    "#Compile Cuda \n",
    "!nvcc -std=c++11 -o transpose NCode/transpose.cu"
   ]
  },
  {
   "cell_type": "code",
   "execution_count": null,
   "metadata": {},
   "outputs": [],
   "source": [
    "#Ignore this cell, it will only work on a cuda enabled server, most likely you will get a \"No such file or directory\" error\n",
    "#Run Example \n",
    "!./transpose"
   ]
  },
  {
   "cell_type": "markdown",
   "metadata": {},
   "source": [
    "&#9989; <font color=red>**QUESTION:**</font> What is the \"speedup\" of running the GPU vs CPU.  Calculate the speedup using the following equation:\n",
    "\n",
    "$$speedup = \\frac{time_{host}}{time_{device}}$$"
   ]
  },
  {
   "cell_type": "markdown",
   "metadata": {},
   "source": [
    "Put your answer to the above question here"
   ]
  },
  {
   "cell_type": "markdown",
   "metadata": {},
   "source": [
    "The following video describes how you might improve the performace of the matrix transpose using tiling."
   ]
  },
  {
   "cell_type": "code",
   "execution_count": null,
   "metadata": {
    "scrolled": true
   },
   "outputs": [],
   "source": [
    "from IPython.display import YouTubeVideo\n",
    "YouTubeVideo(\"pP-1nJEp4Qc\",width=640,height=360)"
   ]
  },
  {
   "cell_type": "markdown",
   "metadata": {},
   "source": [
    "&#9989; <font color=red>**QUESTION:**</font> How could you modify the transpose code to take advantage of tiling?"
   ]
  },
  {
   "cell_type": "markdown",
   "metadata": {},
   "source": [
    "Put your answer to the above question here. "
   ]
  },
  {
   "cell_type": "markdown",
   "metadata": {},
   "source": [
    "----\n",
    "# 4. Assignment wrap-up\n",
    "\n",
    "Please fill out the form that appears when you run the code below.  **You must completely fill this out in order to receive credit for the assignment!**\n",
    "\n",
    "[Direct Link](https://docs.google.com/forms/d/e/1FAIpQLSds5Wabv2BoG9uCfb4ahXoPQKl-ACtYOAh925CDpGjSUKsT6Q/viewform)"
   ]
  },
  {
   "cell_type": "markdown",
   "metadata": {},
   "source": [
    "&#9989; <font color=red>**QUESTION:**</font> Approximately how long (in minutes) did this assignment take for you to complete."
   ]
  },
  {
   "cell_type": "markdown",
   "metadata": {},
   "source": [
    "Put your answer to the above question here"
   ]
  },
  {
   "cell_type": "markdown",
   "metadata": {},
   "source": [
    "&#9989; <font color=red>**QUESTION:**</font>  What questions do you have, if any, about any of the topics discussed in this assignment after working through the jupyter notebook?"
   ]
  },
  {
   "cell_type": "markdown",
   "metadata": {},
   "source": [
    "Put your answer to the above question here"
   ]
  },
  {
   "cell_type": "markdown",
   "metadata": {},
   "source": [
    "&#9989; <font color=red>**QUESTION:**</font>  Do you have any further questions or comments about this material, or anything else that's going on in class? "
   ]
  },
  {
   "cell_type": "markdown",
   "metadata": {},
   "source": [
    "Put your answer to the above question here"
   ]
  },
  {
   "cell_type": "code",
   "execution_count": null,
   "metadata": {},
   "outputs": [],
   "source": [
    "from IPython.display import HTML\n",
    "HTML(\n",
    "\"\"\"\n",
    "<iframe \n",
    "\tsrc=\"https://docs.google.com/forms/d/e/1FAIpQLSds5Wabv2BoG9uCfb4ahXoPQKl-ACtYOAh925CDpGjSUKsT6Q/viewform?embedded=true\" \n",
    "\twidth=\"100%\" \n",
    "\theight=\"1200px\" \n",
    "\tframeborder=\"0\" \n",
    "\tmarginheight=\"0\" \n",
    "\tmarginwidth=\"0\">\n",
    "\tLoading...\n",
    "</iframe>\n",
    "\"\"\"\n",
    ")"
   ]
  },
  {
   "cell_type": "markdown",
   "metadata": {},
   "source": [
    "---------\n",
    "### Congratulations, we're done!\n",
    "\n",
    "To get credit for this assignment you must fill out and submit the above Google From on or before the assignment due date."
   ]
  },
  {
   "cell_type": "markdown",
   "metadata": {},
   "source": [
    "\n",
    "**Course Resources:**\n",
    "- [Syllabus](https://tinyurl.com/y75cnzam)\n",
    "- [Preliminary Schedule](https://tinyurl.com/CMSE314-Schedule)\n",
    "- [Git Repository](https://gitlab.msu.edu/colbrydi/cmse401-s19)\n",
    "- [Jargon Jar and Command History](https://tinyurl.com/CMSE314-JargonJar) \n",
    "\n"
   ]
  },
  {
   "cell_type": "markdown",
   "metadata": {},
   "source": [
    "&#169; Copyright 2019,  Michigan State University Board of Trustees"
   ]
  }
 ],
 "metadata": {
  "anaconda-cloud": {},
  "kernelspec": {
   "display_name": "Python 3",
   "language": "python",
   "name": "python3"
  },
  "language_info": {
   "codemirror_mode": {
    "name": "ipython",
    "version": 3
   },
   "file_extension": ".py",
   "mimetype": "text/x-python",
   "name": "python",
   "nbconvert_exporter": "python",
   "pygments_lexer": "ipython3",
   "version": "3.6.6"
  }
 },
 "nbformat": 4,
 "nbformat_minor": 2
}
