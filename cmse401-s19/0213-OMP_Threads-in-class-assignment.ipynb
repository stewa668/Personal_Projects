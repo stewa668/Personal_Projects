{
 "cells": [
  {
   "cell_type": "markdown",
   "metadata": {},
   "source": [
    "<p style=\"text-align: right;\">\n",
    "In order to successfully complete this assignment you need to participate both individually and in groups during class on **Wednesday February 13th**.\n",
    "</p>\n"
   ]
  },
  {
   "cell_type": "markdown",
   "metadata": {},
   "source": [
    "# In-Class Assignment: Mmmmmmmm Pi\n",
    "\n",
    "<img src=\"https://lh4.googleusercontent.com/Dltikf4XEzNg1TONqzki9YzC20FkDBaMnhqC0hcAY1esMyD--H7Hjnn34pePrNjt1AENjXu7eg=w740\" width=\"50%\">"
   ]
  },
  {
   "cell_type": "markdown",
   "metadata": {},
   "source": [
    "### Agenda for today's class (70 minutes)\n",
    "\n",
    "</p>\n",
    "\n",
    "1. (20 minutes) Pre-class assignment overview\n",
    "1. (50 minutes) Group OpenMP Pi-code Timing Studies on the HPCC"
   ]
  },
  {
   "cell_type": "markdown",
   "metadata": {},
   "source": [
    "---\n",
    "# 1. Pre-class Assignment\n",
    "\n",
    "[0212--OMP_Threads-pre-class-assignment](0212--OMP_Threads-pre-class-assignment.ipynb)\n",
    "\n",
    "Let us review the pre-class assignment. Hopefully some of you were able to share your plots in the Google forms and we can have some discussion if you got your parallel code working. "
   ]
  },
  {
   "cell_type": "markdown",
   "metadata": {},
   "source": [
    "---\n",
    "# 2. Group OpenMP  Pi-code Timing Studies on the HPCC \n",
    "\n",
    "The rest of class we will try to help each other out so that everyone gets a parallel OpenMP version of the Pi-code working.  Lets see how far we get doing the following:\n",
    "\n",
    "- If you are stuck or confused, raise your hand and ask for help.\n",
    "- If you get stuck review code in the Google document. \n",
    "- Help your neighbors\n",
    "- If you have your basic code working, share it on the Google document.\n",
    "- Once you have a parallel code working, do a scaling study and very the number of cores.  Plot the results and share your plot on the Google document. \n",
    "- Conduct the scaling study on different development nodes and generate different plots. Share them on the Google document. \n",
    "- Write a submission script and run the scaling study using the SLURM scheduler.  \n",
    "- Share all of your solutions with each other using the following Google Document.\n",
    "- Review the Google Document and learn from each other's solutions.\n",
    "\n",
    "[Group Google Document](https://docs.google.com/document/d/1ySdREPlhHzk71BNMl_Y1dBRD-ZXeJZ4aWesfnrczuvs/edit?usp=sharing)"
   ]
  },
  {
   "cell_type": "markdown",
   "metadata": {},
   "source": [
    "-----\n",
    "### Congratulations, we're done!"
   ]
  },
  {
   "cell_type": "markdown",
   "metadata": {},
   "source": [
    "\n",
    "**Course Resources:**\n",
    "- [Syllabus](https://tinyurl.com/y75cnzam)\n",
    "- [Preliminary Schedule](https://tinyurl.com/CMSE314-Schedule)\n",
    "- [Git Repository](https://gitlab.msu.edu/colbrydi/cmse401-s19)\n",
    "- [Jargon Jar and Command History](https://tinyurl.com/CMSE314-JargonJar) \n",
    "\n"
   ]
  },
  {
   "cell_type": "markdown",
   "metadata": {},
   "source": [
    "&#169; Copyright 2019,  Michigan State University Board of Trustees"
   ]
  }
 ],
 "metadata": {
  "kernelspec": {
   "display_name": "Python 3",
   "language": "python",
   "name": "python3"
  },
  "language_info": {
   "codemirror_mode": {
    "name": "ipython",
    "version": 3
   },
   "file_extension": ".py",
   "mimetype": "text/x-python",
   "name": "python",
   "nbconvert_exporter": "python",
   "pygments_lexer": "ipython3",
   "version": "3.6.6"
  }
 },
 "nbformat": 4,
 "nbformat_minor": 2
}
