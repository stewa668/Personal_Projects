{
 "cells": [
  {
   "cell_type": "markdown",
   "metadata": {},
   "source": [
    "<p style=\"text-align: right;\">\n",
    "In order to successfully complete this assignment you need to participate both individually and in groups during class on **Friday January 25th**.\n",
    "</p>\n"
   ]
  },
  {
   "cell_type": "markdown",
   "metadata": {},
   "source": [
    "# In-Class Assignment: Internal Tour of the HPCC\n",
    "\n",
    "<img src=\"https://lh4.googleusercontent.com/rrbHzTPaEubnDmCkhFr_eX9Bb_488S4e2BT8Tt0UEj9imCYSfIVvW4cCKVUdiMlX_kJSMJAFSA=w685\">\n"
   ]
  },
  {
   "cell_type": "markdown",
   "metadata": {},
   "source": [
    "### Agenda for today's class (70 minutes)\n",
    "\n",
    "</p>\n",
    "\n",
    "1. (10 minutes) Review Pre-class assignment\n",
    "2. (20 minutes) List Hardware Topography - aka lstopo (HWLOC)\n",
    "3. (30 minutes) Stream Benchmark\n",
    "4. (10 minutes) Tour of the HPCC"
   ]
  },
  {
   "cell_type": "markdown",
   "metadata": {},
   "source": [
    "----\n",
    "# 1. Review Pre-class assignment\n"
   ]
  },
  {
   "cell_type": "markdown",
   "metadata": {},
   "source": [
    "----\n",
    "# 2. List Hardware Topography - aka lstopo (HWLOC)\n",
    "\n",
    "Login nodes as of 11/19/2018\n",
    "\n",
    "- dev-intel14 \n",
    "- dev-intel14-phi\n",
    "- dev-intel14-k20 \n",
    "- dev-intel16 \n",
    "- dev-intel16-k80 \n",
    "- dev-intel18"
   ]
  },
  {
   "cell_type": "raw",
   "metadata": {},
   "source": [
    "lstopo --no-io -.txt\n",
    "\n",
    "lstopo filename.txt"
   ]
  },
  {
   "cell_type": "raw",
   "metadata": {},
   "source": [
    "man lstopo  #press 'q' to quit manual page"
   ]
  },
  {
   "cell_type": "raw",
   "metadata": {},
   "source": [
    "lstopo $HOSTNAME.png\n",
    "mailme $HOSTNAME.png"
   ]
  },
  {
   "cell_type": "markdown",
   "metadata": {},
   "source": [
    "&#9989; <font color=red>**DO THIS:**</font>   Run the lstopo command on each of the development nodes and paste the image in the following google document:\n",
    "\n",
    "[LSTOPO Google Document](https://docs.google.com/document/d/1dcJ42CZ9a3JQ02Q2zXNpyFfbeyo48ThA40Icp9I8CPw/edit)"
   ]
  },
  {
   "cell_type": "markdown",
   "metadata": {},
   "source": [
    "----\n",
    "# 3. Stream Benchmark\n",
    "\n",
    "Split up into teams.  Each team will download and run the Stream Benchmark on a different login node:\n",
    "\n",
    "http://www.cs.virginia.edu/stream/\n",
    "\n",
    "\n",
    "Put results in our timing file: [Benchmark Studies](https://docs.google.com/spreadsheets/d/1WBf9TxULtwIv5D59tk5M-VRxBIHXCby79Q4cgEF7H7o/edit)"
   ]
  },
  {
   "cell_type": "markdown",
   "metadata": {},
   "source": [
    "# 4. Tour of the HPCC\n",
    "\n",
    "https://icer.msu.edu/dashboard\n",
    "\n",
    "If we have time I will give a virtual tour of the HPC. \n",
    "\n",
    "- Login vs developer resources\n",
    "- Multiple computers, shared filesystem\n",
    "- Module system for managing software\n",
    "- Batch Scheduler"
   ]
  },
  {
   "cell_type": "markdown",
   "metadata": {},
   "source": [
    "Web based login to the HPCC: https://webrdp.hpcc.msu.edu/\n",
    "\n",
    "**NOTE:** THis is also a shared computer that is resource intensive.  The Graphics make it much easier to overload compared to other systems. Be respectful of others who need it for their workflow instead of just for convienece. "
   ]
  },
  {
   "cell_type": "markdown",
   "metadata": {},
   "source": [
    "-----\n",
    "### Congratulations, we're done!"
   ]
  },
  {
   "cell_type": "markdown",
   "metadata": {},
   "source": [
    "\n",
    "**Course Resources:**\n",
    "- [Syllabus](https://tinyurl.com/y75cnzam)\n",
    "- [Preliminary Schedule](https://tinyurl.com/CMSE314-Schedule)\n",
    "- [Git Repository](https://gitlab.msu.edu/colbrydi/cmse401-s19)\n",
    "- [Jargon Jar and Command History](https://tinyurl.com/CMSE314-JargonJar) \n",
    "\n"
   ]
  },
  {
   "cell_type": "markdown",
   "metadata": {},
   "source": [
    "&#169; Copyright 2019,  Michigan State University Board of Trustees"
   ]
  }
 ],
 "metadata": {
  "kernelspec": {
   "display_name": "Python 3",
   "language": "python",
   "name": "python3"
  },
  "language_info": {
   "codemirror_mode": {
    "name": "ipython",
    "version": 3
   },
   "file_extension": ".py",
   "mimetype": "text/x-python",
   "name": "python",
   "nbconvert_exporter": "python",
   "pygments_lexer": "ipython3",
   "version": "3.6.5"
  }
 },
 "nbformat": 4,
 "nbformat_minor": 2
}
