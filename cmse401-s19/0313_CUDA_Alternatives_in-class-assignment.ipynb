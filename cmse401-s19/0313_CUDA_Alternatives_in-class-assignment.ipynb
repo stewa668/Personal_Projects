{
 "cells": [
  {
   "cell_type": "markdown",
   "metadata": {},
   "source": [
    "In order to successfully complete this assignment you need to participate both individually and in groups during class on **Wednesday March 13th**.\n"
   ]
  },
  {
   "cell_type": "markdown",
   "metadata": {},
   "source": [
    "# In-Class Assignment: CUDA Alternatives\n",
    "\n",
    "<table>\n",
    "  <tr>\n",
    "    <td><img src=\"https://lh3.googleusercontent.com/-fOzCZpGK6m8/AAAAAAAAAAI/AAAAAAAAAAw/owm58nzDGWQ/w360-h203-p-rw/photo.jpg\"></td>\n",
    "    <td><img src=\"data:image/jpeg;base64,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\"></td>\n",
    "  </tr>\n",
    "</table>"
   ]
  },
  {
   "cell_type": "markdown",
   "metadata": {},
   "source": [
    "### Agenda for today's class (70 minutes)\n",
    "\n",
    "</p>\n",
    "\n",
    "1. (40 minutes) Finish 1D CUDA Wave Example\n",
    "1. (30 minutes) Pre-class Review\n"
   ]
  },
  {
   "cell_type": "markdown",
   "metadata": {},
   "source": [
    "----\n",
    "\n",
    "# 3. Finish 1D CUDA Wave Example\n"
   ]
  },
  {
   "cell_type": "markdown",
   "metadata": {},
   "source": [
    "### Serial Example (Slow)"
   ]
  },
  {
   "cell_type": "code",
   "execution_count": null,
   "metadata": {},
   "outputs": [],
   "source": [
    "%%writefile NCode/wave_serial.c\n",
    "\n",
    "#include <stdio.h>\n",
    "#include <stdlib.h>\n",
    "#include <math.h>\n",
    "\n",
    "int main(int argc, char ** argv) {\n",
    "    int nx = 5000;\n",
    "    int nt = 1000000;\n",
    "    int i,it;\n",
    "    double x[nx];\n",
    "    double y[nx];\n",
    "    double v[nx];\n",
    "    double dvdt[nx];\n",
    "    double dt;\n",
    "    double dx;\n",
    "    double max,min;\n",
    "    double dx2inv;\n",
    "    double tmax;\n",
    "\n",
    "    max=10.0;\n",
    "    min=0.0;\n",
    "    dx = (max-min)/(double)(nx);\n",
    "    x[0] = min;\n",
    "    for(i=1;i<nx;i++) {\n",
    "        x[i] = min+(double)i*dx;\n",
    "    }\n",
    "    x[nx-1] = max;\n",
    "    tmax=10.0;\n",
    "    dt= (tmax-0.0)/(double)(nt);\n",
    "\n",
    "    \n",
    "    for (i=0;i<nx;i++)  {\n",
    "        y[i] = exp(-(x[i]-5.0)*(x[i]-5.0));\n",
    "        v[i] = 0.0;\n",
    "        dvdt[i] = 0.0;\n",
    "    }\n",
    "    \n",
    "    dx2inv=1.0/(dx*dx);\n",
    "    \n",
    "    for(it=0;it<200000;it++) {\n",
    "        for(i=1;i<nx-1;i++)\n",
    "            dvdt[i]=(y[i+1]+y[i-1]-2.0*y[i])*(dx2inv);\n",
    "\n",
    "        for(i=1; i<nx-1; i++)  {\n",
    "            v[i] = v[i] + dt*dvdt[i];\n",
    "            y[i] = y[i] + dt*v[i];\n",
    "        }\n",
    "\n",
    "    }\n",
    "\n",
    "    for(i=0; i<nx; i++) {\n",
    "        printf(\"%g, %g\\n\",x[i],y[i]);\n",
    "    }\n",
    "    \n",
    "    return 0;\n",
    "}\n"
   ]
  },
  {
   "cell_type": "code",
   "execution_count": null,
   "metadata": {},
   "outputs": [],
   "source": [
    "!g++ -o serial NCode/wave_serial.c"
   ]
  },
  {
   "cell_type": "code",
   "execution_count": null,
   "metadata": {},
   "outputs": [],
   "source": [
    "!time ./serial > temp.txt"
   ]
  },
  {
   "cell_type": "code",
   "execution_count": null,
   "metadata": {},
   "outputs": [],
   "source": [
    "import csv\n",
    "\n",
    "x = []\n",
    "y = []\n",
    "with open('temp.txt') as csv_file:\n",
    "    csv_reader = csv.reader(csv_file, delimiter=',')\n",
    "    line_count = 0\n",
    "    for row in csv_reader:\n",
    "        x.append(float(row[0]))\n",
    "        y.append(float(row[1]))"
   ]
  },
  {
   "cell_type": "code",
   "execution_count": null,
   "metadata": {
    "scrolled": true
   },
   "outputs": [],
   "source": [
    "%matplotlib inline\n",
    "import matplotlib.pylab as plt\n",
    "plt.plot(x,y)"
   ]
  },
  {
   "cell_type": "markdown",
   "metadata": {},
   "source": [
    "### CUDA Version"
   ]
  },
  {
   "cell_type": "code",
   "execution_count": null,
   "metadata": {},
   "outputs": [],
   "source": [
    "%%writefile NCode/wave_cuda_tiled.cu\n",
    "#include <stdio.h>\n",
    "#include <stdlib.h>\n",
    "#include <math.h>\n",
    "#include <cuda.h>\n",
    "#define CUDA_CALL(x) {cudaError_t cuda_error__ = (x); if (cuda_error__) { fprintf(stderr, \"CUDA error: \" #x \" returned \\\"%s\\\"\\n\", cudaGetErrorString(cuda_error__)); fflush(stderr); exit(cuda_error__); } }\n",
    "\n",
    "const int BLOCKDIM=1024;\n",
    "\n",
    "__global__ void accel_update(double* d_dvdt, double* d_y, int nx, double dx2inv)\n",
    "{\n",
    "\tint i = (blockDim.x * blockIdx.x + threadIdx.x)+1;\n",
    "\tif (i < nx-1)\n",
    "        d_dvdt[i] = (d_y[i+1]+d_y[i-1]-2.0*d_y[i])*dx2inv;\n",
    "}\n",
    "\n",
    "__global__ void pos_update(double * d_dvdt, double * d_y, double * d_v, int nx, double dt)\n",
    "{\n",
    "\tint i = (blockDim.x * blockIdx.x + threadIdx.x)+1;\n",
    "    if (i < nx-1) {\n",
    "        d_v[i] = d_v[i] + dt*d_dvdt[i];\n",
    "        d_y[i] = d_y[i] + dt*d_v[i];\n",
    "    }  \n",
    "}\n",
    "\n",
    "const int LOCALDIM=BLOCKDIM+2;\n",
    "__global__ void tile_accel_update(double* d_dvdt, double* d_y, int nx, double dx2inv)\n",
    "{\n",
    "\tint i = blockDim.x * blockIdx.x + threadIdx.x;\n",
    "    int mx = blockDim.x * (blockIdx.x + 1) - 1;\n",
    "    \n",
    "    //Allocate local memory\n",
    "    __shared__ double y_local[LOCALDIM];  \n",
    "    \n",
    "    //Copy to local index\n",
    "    int local_idx = threadIdx.x+1; \n",
    "    y_local[local_idx] = d_y[i]; \n",
    "    \n",
    "    //fill in edges\n",
    "    if(threadIdx.x == 0) {\n",
    "        y_local[0] = d_y[i-1];  \n",
    "        y_local[LOCALDIM-1] = d_y[mx]; \n",
    "    }    \n",
    "    \n",
    "    //Check for edge case\n",
    "    if(i == 0 || i > nx-2)  \n",
    "        d_dvdt[i] = 0;\n",
    "    else {\n",
    "        d_dvdt[i]=(y_local[local_idx+1]+y_local[local_idx-1]-2.0*y_local[local_idx])*(dx2inv); \n",
    "        d_dvdt[i] = (d_y[i+1]+d_y[i-1]-2.0*d_y[i])*dx2inv;\n",
    "    }\n",
    "}\n",
    "\n",
    "__global__ void all(double* d_dvdt, double* d_y,  double * d_v, int nx, double dx2inv, double dt, int nt)\n",
    "{\n",
    "\tint i = blockDim.x * blockIdx.x + threadIdx.x;\n",
    "    int mx = blockDim.x * (blockIdx.x + 1) - 1;\n",
    "    \n",
    "    //Allocate local memory\n",
    "    __shared__ double y_local[LOCALDIM];  \n",
    "    \n",
    "    //Copy to local index\n",
    "    int local_idx = threadIdx.x+1;  \n",
    "    y_local[local_idx] = d_y[i]; \n",
    "    \n",
    "    //fill in edges\n",
    "    if(threadIdx.x == 0) {\n",
    "        y_local[0] = d_y[i-1];  \n",
    "        y_local[LOCALDIM-1] = d_y[mx]; \n",
    "    }    \n",
    "    \n",
    "    //Check for edge case\n",
    "    if(i == 0 || i > nx-2)  \n",
    "        d_dvdt[i] = 0;\n",
    "    else {\n",
    "        for(int it=0;it<nt;it++) {\n",
    "            //fill in edges\n",
    "            d_dvdt[i]=(y_local[local_idx+1]+y_local[local_idx-1]-2.0*y_local[local_idx])*(dx2inv); \n",
    "\n",
    "            d_v[i] = d_v[i] + dt*d_dvdt[i];\n",
    "            y_local[local_idx] = y_local[local_idx] + dt*d_v[i];\n",
    "            \n",
    "        }\n",
    "    }\n",
    "    d_y[i] = y_local[local_idx];\n",
    "}\n",
    "\n",
    "    \n",
    "int main(int argc, char ** argv) {\n",
    "    int nx = 5000;\n",
    "    int nt = 1000000;\n",
    "    int i,it;\n",
    "    double x[nx];\n",
    "    double y[nx];\n",
    "    double v[nx];\n",
    "    double dvdt[nx];\n",
    "    double dt;\n",
    "    double dx;\n",
    "    double max,min;\n",
    "    double dx2inv;\n",
    "    double tmax;\n",
    "\n",
    "    max=10.0;\n",
    "    min=0.0;\n",
    "    dx = (max-min)/(double)(nx);\n",
    "    x[0] = min;\n",
    "    for(i=1;i<nx;i++) {\n",
    "        x[i] = min+(double)i*dx;\n",
    "    }\n",
    "    x[nx-1] = max;\n",
    "    tmax=10.0;\n",
    "    dt= (tmax-0.0)/(double)(nt);\n",
    "\n",
    "    for (i=0;i<nx;i++)  {\n",
    "        y[i] = exp(-(x[i]-5.0)*(x[i]-5.0));\n",
    "        v[i] = 0.0;\n",
    "        dvdt[i] = 0.0;\n",
    "    }\n",
    "    \n",
    "    dx2inv=1.0/(dx*dx);\n",
    "\n",
    "    double *d_x, *d_y, *d_v, *d_dvdt;\n",
    "    cudaError_t err; \n",
    "    int nBytes = nx*sizeof(double);\n",
    "    CUDA_CALL(cudaMalloc((void **)&d_x,nBytes));\n",
    "    CUDA_CALL(cudaMalloc((void **)&d_y,nBytes));\n",
    "    CUDA_CALL(cudaMalloc((void **)&d_v,nBytes));\n",
    "    CUDA_CALL(cudaMalloc((void **)&d_dvdt,nBytes));\n",
    "    \n",
    "   fprintf(stderr, \"dt = %f, dx = %f\\n\", dt,dx);\n",
    "   CUDA_CALL(cudaMemcpy(d_y,y,nBytes,cudaMemcpyHostToDevice));\n",
    "   CUDA_CALL(cudaMemcpy(d_v,v,nBytes,cudaMemcpyHostToDevice));\n",
    "   CUDA_CALL(cudaMemcpy(d_dvdt,dvdt,nBytes,cudaMemcpyHostToDevice));\n",
    "    \n",
    "   dx2inv=1.0/(dx*dx);\n",
    "    \n",
    "   int block_size=BLOCKDIM;\n",
    "   int block_no = (nx-2)/block_size;\n",
    "   dim3 dimBlock(block_size,1,1);\n",
    "   dim3 dimGrid(block_no,1,1);\n",
    "\n",
    "    /******************************/\n",
    "    for(it=0;it<200000;it++) {\n",
    "        \n",
    "        accel_update<<<dimGrid, dimBlock>>>(d_dvdt, d_y, nx, dx2inv);\n",
    "        //tile_accel_update<<<dimGrid, dimBlock>>>(d_dvdt, d_y, nx, dx2inv);\n",
    "        \n",
    "        err = cudaGetLastError();\n",
    "        if (err != cudaSuccess) {\n",
    "             fprintf(stderr, \"\\n\\nError: %s\\n\\n\", cudaGetErrorString(err)); fflush(stderr); exit(err);   \n",
    "        }\n",
    "        \n",
    "        pos_update<<<dimGrid, dimBlock>>>(d_dvdt, d_y, d_v,nx, dt);\n",
    "        \n",
    "         err = cudaGetLastError();\n",
    "        if (err != cudaSuccess) {\n",
    "             fprintf(stderr, \"\\n\\nError: %s\\n\\n\", cudaGetErrorString(err)); fflush(stderr); exit(err);   \n",
    "        }\n",
    "    }\n",
    "    /******************************/\n",
    "        \n",
    "    CUDA_CALL(cudaMemcpy(y,d_y,nBytes,cudaMemcpyDeviceToHost));\n",
    "\n",
    "    //printf(\"x, y\\n\");\n",
    "    for(i=0; i<nx; i++) {\n",
    "        printf(\"%g, %g\\n\",x[i],y[i]);\n",
    "    }\n",
    "    \n",
    "    cudaFree(d_dvdt);\n",
    "    cudaFree(d_y);\n",
    "    cudaFree(d_v);\n",
    "\n",
    "    return 0;\n",
    "}\n"
   ]
  },
  {
   "cell_type": "code",
   "execution_count": null,
   "metadata": {
    "scrolled": false
   },
   "outputs": [],
   "source": [
    "#Compile Cuda\n",
    "!nvcc -std=c++11 -o wave_cuda_tiled NCode/wave_cuda_tiled.cu"
   ]
  },
  {
   "cell_type": "code",
   "execution_count": null,
   "metadata": {},
   "outputs": [],
   "source": [
    "#Run Example\n",
    "!time ./wave_cuda_tiled > temp2.txt"
   ]
  },
  {
   "cell_type": "code",
   "execution_count": null,
   "metadata": {},
   "outputs": [],
   "source": [
    "import csv\n",
    "\n",
    "x = []\n",
    "y = []\n",
    "with open('temp2.txt') as csv_file:\n",
    "    csv_reader = csv.reader(csv_file, delimiter=',')\n",
    "    line_count = 0\n",
    "    for row in csv_reader:\n",
    "        x.append(float(row[0]))\n",
    "        y.append(float(row[1]))"
   ]
  },
  {
   "cell_type": "code",
   "execution_count": null,
   "metadata": {
    "scrolled": true
   },
   "outputs": [],
   "source": [
    "%matplotlib inline\n",
    "import matplotlib.pylab as plt\n",
    "plt.plot(x,y)"
   ]
  },
  {
   "cell_type": "markdown",
   "metadata": {},
   "source": [
    "---\n",
    "# 2. Pre-class Review\n",
    "\n",
    "[0312--CUDA_Alternatives-pre-class-assignment](0228--CUDA_Memory-pre-class-assignment.ipynb)\n",
    "\n",
    "As a class we will discuss the various alternatives to cuda and their pros and cons."
   ]
  },
  {
   "cell_type": "markdown",
   "metadata": {},
   "source": [
    "-----\n",
    "### Congratulations, we're done!"
   ]
  },
  {
   "cell_type": "markdown",
   "metadata": {},
   "source": [
    "\n",
    "**Course Resources:**\n",
    "- [Syllabus](https://tinyurl.com/y75cnzam)\n",
    "- [Preliminary Schedule](https://tinyurl.com/CMSE314-Schedule)\n",
    "- [Git Repository](https://gitlab.msu.edu/colbrydi/cmse401-s19)\n",
    "- [Jargon Jar and Command History](https://tinyurl.com/CMSE314-JargonJar) \n",
    "\n"
   ]
  },
  {
   "cell_type": "markdown",
   "metadata": {},
   "source": [
    "&#169; Copyright 2019,  Michigan State University Board of Trustees"
   ]
  }
 ],
 "metadata": {
  "kernelspec": {
   "display_name": "Python 3",
   "language": "python",
   "name": "python3"
  },
  "language_info": {
   "codemirror_mode": {
    "name": "ipython",
    "version": 3
   },
   "file_extension": ".py",
   "mimetype": "text/x-python",
   "name": "python",
   "nbconvert_exporter": "python",
   "pygments_lexer": "ipython3",
   "version": "3.6.6"
  },
  "toc": {
   "base_numbering": 1,
   "nav_menu": {},
   "number_sections": false,
   "sideBar": false,
   "skip_h1_title": false,
   "title_cell": "Table of Contents",
   "title_sidebar": "Contents",
   "toc_cell": false,
   "toc_position": {},
   "toc_section_display": false,
   "toc_window_display": false
  }
 },
 "nbformat": 4,
 "nbformat_minor": 2
}
