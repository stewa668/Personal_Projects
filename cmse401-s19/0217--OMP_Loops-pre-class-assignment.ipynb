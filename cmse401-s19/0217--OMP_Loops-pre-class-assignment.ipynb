{
 "cells": [
  {
   "cell_type": "markdown",
   "metadata": {},
   "source": [
    "In order to successfully complete this assignment you must do the required reading, watch the provided videos and complete all instructions.  The embedded Google form must be entirely filled out and submitted on or before **11:59pm on Sunday February 17th**.  Students must come to class the next day prepared to discuss the material covered in this assignment. "
   ]
  },
  {
   "cell_type": "markdown",
   "metadata": {},
   "source": [
    "# Pre-Class Assignment: OMP Loops"
   ]
  },
  {
   "cell_type": "markdown",
   "metadata": {},
   "source": [
    "### Goals for today's pre-class assignment \n",
    "\n",
    "</p>\n",
    "\n",
    "1. Review/Recap of Critical Sections\n",
    "1. Work Sharing\n",
    "1. Reduction \n",
    "1. Assignment wrap-up\n"
   ]
  },
  {
   "cell_type": "markdown",
   "metadata": {},
   "source": [
    "----\n",
    "# 1. Review/Recap of Critical Sections\n",
    "\n",
    "This is a good video but is mostly a review of what we have already discussed. It is great if you want to solidify your understanding. However, there is a lot of videos this week and your instructors want to be mindful of your time.\n",
    "\n",
    "&#9989; <font color=red>**DO THIS:**</font> Watch the following video on YouTube which is a review of the \"Pi\" program and it's summary on critical sections [Introduction to OpenMP: 08 Discussion 3](https://www.youtube.com/watch?v=pLa972Rgl1I) "
   ]
  },
  {
   "cell_type": "markdown",
   "metadata": {},
   "source": [
    "----\n",
    "# 2. Work Sharing\n",
    "\n",
    "The following video introduces the concept of work sharing using loops in OpenMP.  This is a critical topic and will likely be the most common way you will use OpenMP (This is very true for the homework). \n",
    "\n",
    "&#9989; <font color=red>**DO THIS:**</font> Watch the following video on YouTube and answer the questions provided [Introduction to OpenMP: 09 part 1 Module 5](https://www.youtube.com/watch?v=jdYHVeh2wEI) "
   ]
  },
  {
   "cell_type": "markdown",
   "metadata": {},
   "source": [
    "&#9989; <font color=red>**QUESTION:**</font> What is the OpenMP ```pragma``` command that transforms a simple ```for``` loop into parallel section?"
   ]
  },
  {
   "cell_type": "raw",
   "metadata": {},
   "source": [
    "Put your answer to the above question here."
   ]
  },
  {
   "cell_type": "markdown",
   "metadata": {},
   "source": [
    "&#9989; <font color=red>**QUESTION:**</font> What BASH command could you use in a submission script to set the ```OMP_SCHEDULE``` environment variable before running your program using the ```schedule(runtime)``` runtime option."
   ]
  },
  {
   "cell_type": "raw",
   "metadata": {},
   "source": [
    "Put your answer to the above question here."
   ]
  },
  {
   "cell_type": "markdown",
   "metadata": {},
   "source": [
    "----\n",
    "\n",
    "# 3. Reduction \n",
    "\n",
    "We talked about reduction loops briefly in class.  You will also be using this on your homework.  \n",
    "\n",
    "&#9989; <font color=red>**DO THIS:**</font> Watch the following video on YouTube [Introduction to OpenMP: 09 part 2 Module 5](https://www.youtube.com/watch?v=iPb6OLhDEmM)  "
   ]
  },
  {
   "cell_type": "markdown",
   "metadata": {},
   "source": [
    "### Steps to using OpenMP on loops\n",
    "1. Find the compute intensive loops\n",
    "2. Modify those loops so that there are no loop carry dependencies\n",
    "3. Add the loop pragmas."
   ]
  },
  {
   "cell_type": "markdown",
   "metadata": {},
   "source": [
    "&#9989; <font color=red>**QUESTION:**</font> What is a carry dependency?"
   ]
  },
  {
   "cell_type": "markdown",
   "metadata": {},
   "source": [
    "Put your answer to the above question here."
   ]
  },
  {
   "cell_type": "markdown",
   "metadata": {},
   "source": [
    "&#9989; <font color=red>**DO THIS:**</font> Go back to the serial pi program (shown below) and parallelize it with a loop construct using a reduction operator. Be prepared to share your answer in class.  \n",
    "\n",
    "**MAKE SURE YOU AT LEAST TRY!!!** The act of trying to figure this code out will teach you much more than just coying and pasting answers from your peers during class. Don't just stop when you don't understand something. Programming is often about being frustrated because you don't understand what is going on yet still pushing though that frustration.   Be mindful of your time but do not be lazy in your learning. "
   ]
  },
  {
   "cell_type": "markdown",
   "metadata": {},
   "source": [
    "### Original Serial Pi program\n",
    "```c++\n",
    "static long num_steps  = 100000;\n",
    "double step;\n",
    "int main()\n",
    "{\n",
    "    int i; double x,pi,sum=0.0;\n",
    "    step = 1.0/(double) num_steps;\n",
    "    for (i=0;i<num_steps;i++) \n",
    "    {\n",
    "        x = (i + 0.5) * step;\n",
    "        sum = sum+4.0/(1.0+x*x);\n",
    "    }\n",
    "    pi = step * sum;\n",
    "}\n",
    "\n",
    "```"
   ]
  },
  {
   "cell_type": "markdown",
   "metadata": {},
   "source": [
    "----\n",
    "# 3. Assignment wrap-up\n",
    "\n",
    "Please fill out the form that appears when you run the code below.  **You must completely fill this out in order to receive credit for the assignment!**\n",
    "\n",
    "[Direct Link](https://docs.google.com/forms/d/e/1FAIpQLSfuvVOrR4mnvMJ-m3I9n0AzFZoE26G_NfBWE1eOeMjQV6grEw/viewform)"
   ]
  },
  {
   "cell_type": "markdown",
   "metadata": {},
   "source": [
    "&#9989; <font color=red>**QUESTION:**</font> Approximately how long (in minutes) did this assignment take for you to complete."
   ]
  },
  {
   "cell_type": "markdown",
   "metadata": {},
   "source": [
    "Put your answer to the above question here"
   ]
  },
  {
   "cell_type": "markdown",
   "metadata": {},
   "source": [
    "&#9989; <font color=red>**QUESTION:**</font>  What questions do you have, if any, about any of the topics discussed in this assignment after working through the jupyter notebook?"
   ]
  },
  {
   "cell_type": "markdown",
   "metadata": {},
   "source": [
    "Put your answer to the above question here"
   ]
  },
  {
   "cell_type": "markdown",
   "metadata": {},
   "source": [
    "&#9989; <font color=red>**QUESTION:**</font>  Do you have any further questions or comments about this material, or anything else that's going on in class? "
   ]
  },
  {
   "cell_type": "markdown",
   "metadata": {},
   "source": [
    "Put your answer to the above question here"
   ]
  },
  {
   "cell_type": "code",
   "execution_count": 3,
   "metadata": {},
   "outputs": [
    {
     "data": {
      "text/html": [
       "\n",
       "<iframe \n",
       "\tsrc=\"https://docs.google.com/forms/d/e/1FAIpQLSfuvVOrR4mnvMJ-m3I9n0AzFZoE26G_NfBWE1eOeMjQV6grEw/viewform?embedded=true\" \n",
       "\twidth=\"100%\" \n",
       "\theight=\"1200px\" \n",
       "\tframeborder=\"0\" \n",
       "\tmarginheight=\"0\" \n",
       "\tmarginwidth=\"0\">\n",
       "\tLoading...\n",
       "</iframe>\n"
      ],
      "text/plain": [
       "<IPython.core.display.HTML object>"
      ]
     },
     "execution_count": 3,
     "metadata": {},
     "output_type": "execute_result"
    }
   ],
   "source": [
    "from IPython.display import HTML\n",
    "HTML(\n",
    "\"\"\"\n",
    "<iframe \n",
    "\tsrc=\"https://docs.google.com/forms/d/e/1FAIpQLSfuvVOrR4mnvMJ-m3I9n0AzFZoE26G_NfBWE1eOeMjQV6grEw/viewform?embedded=true\" \n",
    "\twidth=\"100%\" \n",
    "\theight=\"1200px\" \n",
    "\tframeborder=\"0\" \n",
    "\tmarginheight=\"0\" \n",
    "\tmarginwidth=\"0\">\n",
    "\tLoading...\n",
    "</iframe>\n",
    "\"\"\"\n",
    ")"
   ]
  },
  {
   "cell_type": "markdown",
   "metadata": {},
   "source": [
    "---------\n",
    "### Congratulations, we're done!\n",
    "\n",
    "To get credit for this assignment you must fill out and submit the above Google From on or before the assignment due date."
   ]
  },
  {
   "cell_type": "markdown",
   "metadata": {},
   "source": [
    "\n",
    "**Course Resources:**\n",
    "- [Syllabus](https://tinyurl.com/y75cnzam)\n",
    "- [Preliminary Schedule](https://tinyurl.com/CMSE314-Schedule)\n",
    "- [Git Repository](https://gitlab.msu.edu/colbrydi/cmse401-s19)\n",
    "- [Jargon Jar and Command History](https://tinyurl.com/CMSE314-JargonJar) \n",
    "\n"
   ]
  },
  {
   "cell_type": "markdown",
   "metadata": {},
   "source": [
    "&#169; Copyright 2019,  Michigan State University Board of Trustees"
   ]
  }
 ],
 "metadata": {
  "anaconda-cloud": {},
  "kernelspec": {
   "display_name": "Python 3",
   "language": "python",
   "name": "python3"
  },
  "language_info": {
   "codemirror_mode": {
    "name": "ipython",
    "version": 3
   },
   "file_extension": ".py",
   "mimetype": "text/x-python",
   "name": "python",
   "nbconvert_exporter": "python",
   "pygments_lexer": "ipython3",
   "version": "3.6.5"
  }
 },
 "nbformat": 4,
 "nbformat_minor": 2
}
