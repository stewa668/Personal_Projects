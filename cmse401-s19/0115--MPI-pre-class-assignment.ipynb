{
 "cells": [
  {
   "cell_type": "markdown",
   "metadata": {},
   "source": [
    "In order to successfully complete this assignment you must do the required reading, watch the provided videos and complete all instructions.  The embedded Google form must be entirely filled out and submitted on or before **11:59pm on Tuesday January 15th**.  Students must come to class the next day prepared to discuss the material covered in this assignment. "
   ]
  },
  {
   "cell_type": "markdown",
   "metadata": {},
   "source": [
    "# Pre-Class Assignment: Introduction to the Message Passing Interface (MPI)"
   ]
  },
  {
   "cell_type": "markdown",
   "metadata": {},
   "source": [
    "# Goals for today's pre-class assignment \n",
    "\n",
    "</p>\n",
    "\n",
    "1. Introduction to MPI\n",
    "1. Assignment Wrap-up"
   ]
  },
  {
   "cell_type": "markdown",
   "metadata": {},
   "source": [
    "----\n",
    "\n",
    "# 1. Introduction to MPI"
   ]
  },
  {
   "cell_type": "code",
   "execution_count": 1,
   "metadata": {
    "scrolled": true
   },
   "outputs": [
    {
     "data": {
      "image/jpeg": "[encoded data removed]",
      "text/html": [
       "\n",
       "        <iframe\n",
       "            width=\"640\"\n",
       "            height=\"360\"\n",
       "            src=\"https://www.youtube.com/embed/V4Y8W7Zu18Y\"\n",
       "            frameborder=\"0\"\n",
       "            allowfullscreen\n",
       "        ></iframe>\n",
       "        "
      ],
      "text/plain": [
       "<IPython.lib.display.YouTubeVideo at 0x7f755c088a20>"
      ]
     },
     "execution_count": 1,
     "metadata": {},
     "output_type": "execute_result"
    }
   ],
   "source": [
    "from IPython.display import YouTubeVideo\n",
    "YouTubeVideo(\"V4Y8W7Zu18Y\",width=640,height=360)"
   ]
  },
  {
   "cell_type": "markdown",
   "metadata": {},
   "source": [
    "Here are the BASH commands used in the video.  These are just for your notes, we will use them more later in the semester. I included them here so you don't need to re-watch the entire video.  You may want to include your own notes to remind you what each command does:\n",
    "```\n",
    "    who | wc -l\n",
    "    mkdir MPI_Example\n",
    "    ls\n",
    "    cat > hello_mpi.c\n",
    "    mpicc -o hello_mpi hello_mpi.c\n",
    "    ./hello_mpi\n",
    "    echo $HOSTNAME > hostfile.txt\n",
    "    echo $HOSTNAME >> hostfile.txt\n",
    "    cat hostfile.txt | wc -l\n",
    "    mpirun -hostfile hostfile,txt ./hello_mpi\n",
    "    mpirun ./hello_mpi\n",
    "    mpirun -n 8 ./hello_mpi\n",
    "    clear\n",
    "\n",
    "    \n",
    "``` "
   ]
  },
  {
   "cell_type": "markdown",
   "metadata": {},
   "source": [
    "The following is the final MPI example code I got working on the HPCC.  It is minorly different than the code shown in the video. \n",
    "\n",
    "    /* Needed for printing */ \n",
    "    #include <stdio.h>          \n",
    "    #include <stdlib.h>\n",
    "\n",
    "    /* Get the MPI header file */\n",
    "    #include <mpi.h>\n",
    "    #include <unistd.h> \n",
    "\n",
    "    /* Max number of nodes to test */\n",
    "    #define max_nodes 264  \n",
    "\n",
    "    /* Largest hostname string hostnames */\n",
    "    #define str_length 50       \n",
    "    int main(int argc, char **argv)\n",
    "    {\n",
    "       /* Declare variables */\n",
    "       int   proc, rank, size, namelen;\n",
    "       int   ids[max_nodes];\n",
    "       char  hostname[str_length][max_nodes];\n",
    "       char  p_name[str_length];\n",
    "\n",
    "       MPI_Status status;\n",
    "       MPI_Init(&argc, &argv);\n",
    "       MPI_Comm_rank(MPI_COMM_WORLD, &rank);\n",
    "       MPI_Comm_size(MPI_COMM_WORLD, &size);\n",
    "       MPI_Get_processor_name(p_name,&namelen);\n",
    "    if (rank==0) {\n",
    "       printf(\"Hello From: %s I am the receiving processor %d of %d\\n\",p_name, rank+1, size);\n",
    "       for (proc=1;proc<size;proc++) {\n",
    "          MPI_Recv(&hostname[0][proc], str_length,MPI_INT,proc, 1,MPI_COMM_WORLD,&status);\n",
    "          MPI_Recv(&ids[proc], str_length,MPI_INT,proc, 2,MPI_COMM_WORLD,&status);\n",
    "          printf(\"Hello From: %-20s I am processor %d of %d\\n\", &hostname[0][proc], ids[proc]+1, size);\n",
    "       }\n",
    "    } else { // NOT Rank 0\n",
    "          srand(rank);\n",
    "          int t = rand()%10+1;\n",
    "          sleep(t);\n",
    "          MPI_Send(&p_name,str_length, MPI_INT,0,1,MPI_COMM_WORLD);\n",
    "          MPI_Send(&rank,str_length, MPI_INT,0,2,MPI_COMM_WORLD);\n",
    "       }\n",
    "       MPI_Finalize();\n",
    "\n",
    "       return(0);\n",
    "    }\n"
   ]
  },
  {
   "cell_type": "markdown",
   "metadata": {},
   "source": [
    "&#9989; <font color=red>**DO THIS:**</font> Spend no more than 30 minutes trying to get the example shown in this video to run on either your BCCD virtual Machine or on the HPCC. I realize we have not covered some key information (that is okay). Get is far as you can given your current knowledge and note where you get stuck. "
   ]
  },
  {
   "cell_type": "markdown",
   "metadata": {},
   "source": [
    "&#9989; <font color=red>**QUESTION:**</font> How far did you get with the MPI Example?  Where did you get stuck?"
   ]
  },
  {
   "cell_type": "markdown",
   "metadata": {},
   "source": [
    "Put your answer to the above question here"
   ]
  },
  {
   "cell_type": "markdown",
   "metadata": {},
   "source": [
    "----\n",
    "# 2. Assignment wrap-up\n",
    "\n",
    "Please fill out the form that appears when you run the code below.  **You must completely fill this out in order to receive credit for the assignment!**\n",
    "\n",
    "[Direct Link](https://docs.google.com/forms/d/e/1FAIpQLSf2nqE54Vr6HB-sy-9mg_s64rmXGitWJMBLGiEs94n82qLmrw/viewform)"
   ]
  },
  {
   "cell_type": "markdown",
   "metadata": {},
   "source": [
    "&#9989; <font color=red>**QUESTION:**</font> Approximately how long (in minutes) did this assignment take for you to complete."
   ]
  },
  {
   "cell_type": "markdown",
   "metadata": {},
   "source": [
    "Put your answer to the above question here"
   ]
  },
  {
   "cell_type": "markdown",
   "metadata": {},
   "source": [
    "&#9989; <font color=red>**QUESTION:**</font>  What questions do you have, if any, about any of the topics discussed in this assignment after working through the jupyter notebook?"
   ]
  },
  {
   "cell_type": "markdown",
   "metadata": {},
   "source": [
    "Put your answer to the above question here"
   ]
  },
  {
   "cell_type": "markdown",
   "metadata": {},
   "source": [
    "&#9989; <font color=red>**QUESTION:**</font>  Do you have any further questions or comments about this material, or anything else that's going on in class? "
   ]
  },
  {
   "cell_type": "markdown",
   "metadata": {},
   "source": [
    "Put your answer to the above question here"
   ]
  },
  {
   "cell_type": "markdown",
   "metadata": {},
   "source": [
    "&#9989; <font color=red>**Question:**</font> What have you heard about that you are hoping to learn more about?"
   ]
  },
  {
   "cell_type": "markdown",
   "metadata": {},
   "source": [
    "Put your answer to the above question here"
   ]
  },
  {
   "cell_type": "markdown",
   "metadata": {},
   "source": [
    "&#9989; <font color=red>**DO THIS:**</font> Please fill out the form that appears when you run the code below.  **You must completely fill this out in order to receive credit for the assignment!**\n",
    "\n",
    "[Direct Link](https://docs.google.com/forms/d/e/1FAIpQLSf2nqE54Vr6HB-sy-9mg_s64rmXGitWJMBLGiEs94n82qLmrw/viewform)"
   ]
  },
  {
   "cell_type": "code",
   "execution_count": 1,
   "metadata": {},
   "outputs": [
    {
     "data": {
      "text/html": [
       "\n",
       "<iframe \n",
       "\tsrc=\"https://docs.google.com/forms/d/e/1FAIpQLSf2nqE54Vr6HB-sy-9mg_s64rmXGitWJMBLGiEs94n82qLmrw/viewform?embedded=true\" \n",
       "\twidth=\"100%\" \n",
       "\theight=\"1200px\" \n",
       "\tframeborder=\"0\" \n",
       "\tmarginheight=\"0\" \n",
       "\tmarginwidth=\"0\">\n",
       "\tLoading...\n",
       "</iframe>\n"
      ],
      "text/plain": [
       "<IPython.core.display.HTML object>"
      ]
     },
     "execution_count": 1,
     "metadata": {},
     "output_type": "execute_result"
    }
   ],
   "source": [
    "from IPython.display import HTML\n",
    "HTML(\n",
    "\"\"\"\n",
    "<iframe \n",
    "\tsrc=\"https://docs.google.com/forms/d/e/1FAIpQLSf2nqE54Vr6HB-sy-9mg_s64rmXGitWJMBLGiEs94n82qLmrw/viewform?embedded=true\" \n",
    "\twidth=\"100%\" \n",
    "\theight=\"1200px\" \n",
    "\tframeborder=\"0\" \n",
    "\tmarginheight=\"0\" \n",
    "\tmarginwidth=\"0\">\n",
    "\tLoading...\n",
    "</iframe>\n",
    "\"\"\"\n",
    ")"
   ]
  },
  {
   "cell_type": "markdown",
   "metadata": {},
   "source": [
    "---------\n",
    "### Congratulations, we're done!\n",
    "\n",
    "To get credit for this assignment you must fill out and submit the above Google From on or before the assignment due date.\n",
    "\n",
    "**Course Resources:**\n",
    "- [Syllabus](https://tinyurl.com/y75cnzam)\n",
    "- [Preliminary Schedule](https://tinyurl.com/CMSE314-Schedule)\n",
    "- [Git Repository](https://gitlab.msu.edu/colbrydi/cmse401-s19)\n",
    "- [Jargon Jar and Command History](https://tinyurl.com/CMSE314-JargonJar) \n",
    "\n"
   ]
  },
  {
   "cell_type": "markdown",
   "metadata": {},
   "source": [
    "&#169; Copyright 2019,  Michigan State University Board of Trustees"
   ]
  }
 ],
 "metadata": {
  "anaconda-cloud": {},
  "kernelspec": {
   "display_name": "Python 3",
   "language": "python",
   "name": "python3"
  },
  "language_info": {
   "codemirror_mode": {
    "name": "ipython",
    "version": 3
   },
   "file_extension": ".py",
   "mimetype": "text/x-python",
   "name": "python",
   "nbconvert_exporter": "python",
   "pygments_lexer": "ipython3",
   "version": "3.6.5"
  }
 },
 "nbformat": 4,
 "nbformat_minor": 2
}
