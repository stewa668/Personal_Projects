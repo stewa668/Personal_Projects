{
 "cells": [
  {
   "cell_type": "markdown",
   "metadata": {},
   "source": [
    "<p style=\"text-align: right;\">\n",
    "In order to successfully complete this assignment you need to participate both individually and in groups during class on **Wednesday January 9th**.\n",
    "</p>"
   ]
  },
  {
   "cell_type": "markdown",
   "metadata": {},
   "source": [
    "# In-Class Assignment: ~Seven Dwarfs of Scientific Computing\n",
    "\n",
    "<img src=\"http://pluspng.com/img-png/7-dwarfs-png-kingdom-hearts-dwarfs-png-1600-667-quotes-posts-pinterest-dwarf-snow-white-and-snow-1600.png\">\n",
    "<p style=\"text-align: right;\">Image from: https://www.sporcle.com/games/mhershfield/find-the-7-dwarfs</p>\n"
   ]
  },
  {
   "cell_type": "markdown",
   "metadata": {},
   "source": [
    "### Agenda for today's class (70 minutes)\n",
    "\n",
    "</p>\n",
    "1. (10 minutes) Pre-class assignment review\n",
    "1. (20 minutes) Matrix Multiply Timing Study\n",
    "1. (10 minutes) The ~Seven Dwarfs of Scientific Computing\n",
    "1. (20 minutes) Parallel Communication \n",
    "1. (10 minutes) Homework 1"
   ]
  },
  {
   "cell_type": "markdown",
   "metadata": {},
   "source": [
    "----\n",
    "\n",
    "# 1. Pre-class assignment review\n",
    "\n",
    "Where did you get stuck?\n",
    "\n",
    "[0108--Software_Review_pre-class-assignment](0108--Software_Review_pre-class-assignment.ipynb)\n",
    "\n",
    "\n",
    "**REMINDER**: Field Trip on Friday"
   ]
  },
  {
   "cell_type": "markdown",
   "metadata": {},
   "source": [
    "----\n",
    "# 2. Matrix Multiply Timing Study\n",
    "\n",
    "Consider the following two matrices:\n",
    "\n",
    "$$ A = \n",
    "\\left[\n",
    "\\begin{matrix}\n",
    "    1   & 0 & 4  & 5\\\\\n",
    "    0   & 2 & -2 & 7\\\\\n",
    "    4   & 0 & 2 & 2 \\\\\n",
    "    6 & 10 & 3 & -1\n",
    "\\end{matrix}\n",
    "\\right] \n",
    "$$\n",
    "\n",
    "$$ B = \n",
    "\\left[\n",
    "\\begin{matrix}\n",
    "    1   & 0 & 4  & 4\\\\\n",
    "    0   & 2 & -2 & 4 \\\\\n",
    "    0   & 0 & 2 & -2 \\\\\n",
    "    -10 & 15 & 0 & 2\n",
    "\\end{matrix}\n",
    "\\right] \n",
    "$$"
   ]
  },
  {
   "cell_type": "markdown",
   "metadata": {},
   "source": [
    "Think about how long it would take you to calculate the matrix multiplication $C=AB$ by hand using pen and paper. Lets call this time estimate $T_1$. \n",
    "\n",
    "Remember, you can calculate the $i$th row and $j$th column of $C$ using a dot product between the $i$th row of $A$ and the $j$th column of $B$.  For example\n",
    "\n",
    "$$C_{ij} = A_{i1}B_{1j} + A_{i2}B_{2j} + A_{i3}B_{3j} + A_{i4}B_{4j}$$\n",
    "\n",
    "&#9989; <font color=red>**DO THIS:**</font> Time yourself to see how long it will take you to calculate the following dot product by hand:\n",
    "\n",
    "$$d = 10\\cdot2+3\\cdot7+0\\cdot5+1\\cdot2$$\n",
    "\n",
    "&#9989; <font color=red>**DO THIS:**</font> Write down your time on the board in the space provided by the instructor."
   ]
  },
  {
   "cell_type": "markdown",
   "metadata": {},
   "source": [
    "&#9989; <font color=red>**QUESTION:**</font> Useing our timed data, on average how long would it take to estimate the entire $4 \\times 4$ matrix multiplication?  "
   ]
  },
  {
   "cell_type": "markdown",
   "metadata": {},
   "source": [
    "&#9989; <font color=red>**Group Discussion:**</font> Now lets think of this as a race where we can all work together. How could we split up the problem to make the calculation even faster? "
   ]
  },
  {
   "cell_type": "markdown",
   "metadata": {},
   "source": [
    "&#9989; <font color=red>**QUESTION:**</font> Assuming we all work at the same speed.  What is the fastest we should be able to make this calculation?"
   ]
  },
  {
   "cell_type": "markdown",
   "metadata": {},
   "source": [
    "&#9989; <font color=red>**QUESTION:**</font> What is the maximum number of people we can use to speed up this calculation?  "
   ]
  },
  {
   "cell_type": "markdown",
   "metadata": {},
   "source": [
    "----\n",
    "\n",
    "# 2. The ~Seven Dwarfs of Scientific Computing\n",
    "\n",
    "\n",
    "**Phillip Colella** original (2004) “Defining Software Requirements for Scientific Computing”, Phillip Colella, 2004  seven Dwarfs defining software requirements for scientific computing. [2013 presentation Slides](https://www.krellinst.org/doecsgf/conf/2013/pres/pcolella.pdf)\n",
    "\n",
    "1. Structured Grids   \n",
    "2. Unstructured Grids  \n",
    "3. Fast Fourier Transform  \n",
    "4. Dense Linear Algebra \n",
    "5. Sparse Linear Algebra\n",
    "6. Particles\n",
    "7. Monte Carlo\n",
    "\n",
    "David Patterson and Katherine Yelick (UC Berkeley), upgraded to 13 dwarfs [URL]( http://view.eecs.berkeley.edu/wiki/Dwarf_Mine)\n",
    "\n",
    "1. Dense Linear Algebra  \n",
    "2. Sparse Linear Algebra  \n",
    "3. Spectral Methods  \n",
    "4. N-Body Methods  \n",
    "5. Structured Grids  \n",
    "6. Unstructured Grids  \n",
    "7. MapReduce\n",
    "8. Combinational Logic\n",
    "9. Graph Traversal\n",
    "10. Dynamic Programming\n",
    "11. Backtrack and Branch-and-Bound\n",
    "12. Graphical Models\n",
    "13. Finite State Machines\n",
    "\n",
    "\n",
    "Erich L. Kaltofen (NC State), createed a new list called the Seven Dwarfs of Symbolic Computation [URL](http://www4.ncsu.edu/~kaltofen/bibliography/10/Ka10_7dwarfs.pdf)\n",
    "1. Exact linear algebra, integer lattices\n",
    "2. Exact polynomial and differential algebra, Gr¨obner bases\n",
    "3. Inverse symbolic problems, e.g., interpolation and parameterization\n",
    "4. Tarski’s algebraic theory of real geometry\n",
    "5. Hybrid symbolic-numeric computation\n",
    "6. Computation of closed form solutions\n",
    "7. Rewrite rule systems and computational group theory\n",
    "\n",
    "\n",
    "Your semester projects will relate to one or more of these dwarfs. "
   ]
  },
  {
   "cell_type": "markdown",
   "metadata": {},
   "source": [
    "----\n",
    "\n",
    "# 3. Parallel Communication \n",
    "\n",
    "<img src=\"https://c1.staticflickr.com/7/6216/6231108255_d79c06db19.jpg\">\n",
    "\n",
    "\n",
    "1. No Communication Needed (Pleasantly/Embarrassingly Parallel)\n",
    "2. Distributed Memory Systems (ex. MPI, Hadoop)\n",
    "3. Shared Memory Systems (ex. OpenMP, OpenACC, or pthreads)\n",
    "4. Accelerators (ex. GPGPUs, FPGAs)"
   ]
  },
  {
   "cell_type": "markdown",
   "metadata": {},
   "source": [
    "---\n",
    "\n",
    "# 4. Homework 1\n",
    "\n",
    "\n",
    "[0121-HW1-Wave_Equation](0121-HW1-Wave_Equation.ipynb)"
   ]
  },
  {
   "cell_type": "markdown",
   "metadata": {},
   "source": [
    "-----\n",
    "### Congratulations, we're done!\n",
    "\n",
    "**Course Resources:**\n",
    "- [Syllabus](https://tinyurl.com/y75cnzam)\n",
    "- [Preliminary Schedule](https://tinyurl.com/CMSE314-Schedule)\n",
    "- [Git Repository](https://gitlab.msu.edu/colbrydi/cmse401-s19)\n",
    "- [Jargon Jar and Command History](https://tinyurl.com/CMSE314-JargonJar) \n"
   ]
  },
  {
   "cell_type": "markdown",
   "metadata": {},
   "source": [
    "&#169; Copyright 2019,  Michigan State University Board of Trustees"
   ]
  }
 ],
 "metadata": {
  "kernelspec": {
   "display_name": "Python 3",
   "language": "python",
   "name": "python3"
  },
  "language_info": {
   "codemirror_mode": {
    "name": "ipython",
    "version": 3
   },
   "file_extension": ".py",
   "mimetype": "text/x-python",
   "name": "python",
   "nbconvert_exporter": "python",
   "pygments_lexer": "ipython3",
   "version": "3.6.5"
  }
 },
 "nbformat": 4,
 "nbformat_minor": 2
}
