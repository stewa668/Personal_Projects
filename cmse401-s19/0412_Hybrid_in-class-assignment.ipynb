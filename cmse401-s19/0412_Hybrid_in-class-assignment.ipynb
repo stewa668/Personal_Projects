{
 "cells": [
  {
   "cell_type": "markdown",
   "metadata": {},
   "source": [
    "**NOTE:** There is no pre-class assignment for this activity.\n",
    "\n",
    "In order to successfully complete this assignment you need to participate both individually and in groups during class on **Friday April 12th**.\n",
    "\n"
   ]
  },
  {
   "cell_type": "markdown",
   "metadata": {},
   "source": [
    "# In-Class Assignment: Hybrid Codes\n",
    "\n",
    "<img src=\"https://upload.wikimedia.org/wikipedia/commons/2/24/Hydra1.gif\">\n",
    "\n",
    "Image From: https://en.wikipedia.org/wiki/Hydra"
   ]
  },
  {
   "cell_type": "markdown",
   "metadata": {},
   "source": [
    "### Agenda for today's class (70 minutes)\n",
    "\n",
    "</p>\n",
    "\n",
    "1. (20 minutes) Review Hybrid Codes\n",
    "2. (20 minutes) How to run Hybrid MPI/OpenMP code on the HPCC\n",
    "1. (30 minutes) Benchmark"
   ]
  },
  {
   "cell_type": "markdown",
   "metadata": {},
   "source": [
    "----\n",
    "\n",
    "# 1. Review Hybrid Codes \n",
    "\n",
    "&#9989; <font color=red>**DO THIS:**</font> Examine the **Pandemic** code in the BCCD directory.  Specifically look at the MAKEFILE and see how the hybrid code is implemented/compiled.\n",
    "\n",
    "&#9989; <font color=red>**DO THIS:**</font> Examine the **Life** code in the BCCD directory.  Specifically look at the MAKEFILE and see how the hybrid code is implemented/compiled."
   ]
  },
  {
   "cell_type": "markdown",
   "metadata": {},
   "source": [
    "&#9989; <font color=red>**QUESTION:**</font> This seems like a lot of work, Why would you every implement a hybrid code?"
   ]
  },
  {
   "cell_type": "markdown",
   "metadata": {},
   "source": [
    "Put the answer to the above question here."
   ]
  },
  {
   "cell_type": "markdown",
   "metadata": {},
   "source": [
    "----\n",
    "\n",
    "# 2. How to run Hybrid MPI/OpenMP code on the HPCC\n",
    "\n",
    "&#9989; <font color=red>**DO THIS:**</font> Write a submission script to run either the hybrid **Pandemic** or the **Life code** on the HPCC.\n",
    "\n",
    "&#9989; <font color=red>**QUESTION:**</font>  What SLURM settings are needed to control a hybrid code?"
   ]
  },
  {
   "cell_type": "markdown",
   "metadata": {},
   "source": [
    "Put the answer to the above question here."
   ]
  },
  {
   "cell_type": "markdown",
   "metadata": {},
   "source": [
    "&#9989; <font color=red>**QUESTION:**</font> How do we know that the submission script is working?"
   ]
  },
  {
   "cell_type": "markdown",
   "metadata": {},
   "source": [
    "Put the answer to the above question here."
   ]
  },
  {
   "cell_type": "markdown",
   "metadata": {},
   "source": [
    "---\n",
    "# 3. Benchmark\n",
    "\n",
    "&#9989; <font color=red>**DO THIS:**</font> Change the inputs to the code such that it will run around 1 minute on a single core. \n",
    "\n",
    "&#9989; <font color=red>**QUESTION:**</font> what did you change and how long did it take to run on a single core?"
   ]
  },
  {
   "cell_type": "markdown",
   "metadata": {},
   "source": [
    "Put the answer to the above question here."
   ]
  },
  {
   "cell_type": "markdown",
   "metadata": {},
   "source": [
    "&#9989; <font color=red>**DO THIS:**</font> If we want to try all possible numbers of MPI and OpenMP threads to see what is fastest.  If we only do up to 10 each this will be 100 different benchmarks.  Instead lets compare 10 threads of MPI, 10 threads of openMP vs 1 thread."
   ]
  },
  {
   "cell_type": "markdown",
   "metadata": {},
   "source": [
    "&#9989; <font color=red>**QUESTION:**</font> How big should the hybrid code be to have an advantage over an MPI only code?"
   ]
  },
  {
   "cell_type": "markdown",
   "metadata": {},
   "source": [
    "Put the answer to the above question here."
   ]
  },
  {
   "cell_type": "markdown",
   "metadata": {},
   "source": [
    "&#9989; <font color=red>**QUESTION:**</font> How big should the hybrid code be to have an advantage over an MPI only code?"
   ]
  },
  {
   "cell_type": "markdown",
   "metadata": {},
   "source": [
    "Put the answer to the above question here."
   ]
  },
  {
   "cell_type": "markdown",
   "metadata": {},
   "source": [
    "&#9989; <font color=red>**QUESTION:**</font> How big should the hybrid code be to have an advantage over an OpenMP only code?"
   ]
  },
  {
   "cell_type": "markdown",
   "metadata": {},
   "source": [
    "-----\n",
    "### Congratulations, we're done!"
   ]
  },
  {
   "cell_type": "markdown",
   "metadata": {},
   "source": [
    "\n",
    "**Course Resources:**\n",
    "- [Syllabus](https://tinyurl.com/y75cnzam)\n",
    "- [Preliminary Schedule](https://tinyurl.com/CMSE314-Schedule)\n",
    "- [Git Repository](https://gitlab.msu.edu/colbrydi/cmse401-s19)\n",
    "- [Jargon Jar and Command History](https://tinyurl.com/CMSE314-JargonJar) \n",
    "\n"
   ]
  },
  {
   "cell_type": "markdown",
   "metadata": {},
   "source": [
    "&#169; Copyright 2019,  Michigan State University Board of Trustees"
   ]
  }
 ],
 "metadata": {
  "kernelspec": {
   "display_name": "Python 3",
   "language": "python",
   "name": "python3"
  },
  "language_info": {
   "codemirror_mode": {
    "name": "ipython",
    "version": 3
   },
   "file_extension": ".py",
   "mimetype": "text/x-python",
   "name": "python",
   "nbconvert_exporter": "python",
   "pygments_lexer": "ipython3",
   "version": "3.6.5"
  }
 },
 "nbformat": 4,
 "nbformat_minor": 2
}
