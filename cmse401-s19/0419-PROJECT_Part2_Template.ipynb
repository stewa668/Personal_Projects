{
 "cells": [
  {
   "cell_type": "markdown",
   "metadata": {},
   "source": [
    "In order to successfully complete this assignment you need to turn in a project report and deliverables to D2L on or before **11:59pm Friday April 19th**.\n",
    "\n",
    "NOTE: This template is just a suggestion. Modify based on your project and interests. Remove assignment instructions (such as this cell) and write the report as if it is a \"technical\" report not part of the class.  \n",
    "\n",
    "This template is **not a \"worksheet\"** you just fill in. Part of the learning goals is to understand how to communicate effectivly.  In this case, removeing the instructions cells and only including your report conent. \n",
    "\n",
    "Feel free to use content from previous reports but make sure you are adding to the content. Grade will be based on how well you communicate what you did and what you learned.  I will look at how your deliverables match up with your original goals. A miss match is fine but it should be clear why the project deviated from the original expectations. "
   ]
  },
  {
   "cell_type": "markdown",
   "metadata": {},
   "source": [
    "# <center> &#9989; Part 1 - Project Title </center>\n",
    "\n",
    "<center>By &#9989; \"Your name\"</center>"
   ]
  },
  {
   "cell_type": "markdown",
   "metadata": {},
   "source": [
    "&#9989; Replace the following with a picture that \"defines\" your project.  This could be software logo, an expected outcome of your project, or a graphical representation of the research area. Again, it is okay to use the picture from the proposal but it is also good to come up with a new unique picture.  \n",
    "\n",
    "<img src=\"http://simpleicon.com/wp-content/uploads/camera.png\" width=\"20%\">\n",
    "<p style=\"text-align: right;\">Image from: URL REFERENCE</p>"
   ]
  },
  {
   "cell_type": "markdown",
   "metadata": {},
   "source": [
    "---\n",
    "# Abstract\n",
    "\n",
    "&#9989;  Provide a short paragraph about the domain you cover in your project (research area, sports, economics, etc). Explain why you picked this domain (i.e. what is your motivation). Explain how computation is used in this domain. Give a short description of what you did and a summary of results.  \n",
    "\n"
   ]
  },
  {
   "cell_type": "markdown",
   "metadata": {},
   "source": [
    "---\n",
    "# Methodology\n",
    "\n",
    "&#9989;  Provide a more detailed description about what you did for this project.  Include detailed instructions needed to reprodue the project.  These instructions should be detailed enough for a future student to be able to read the report, reproduce your results and pick up where you left off. "
   ]
  },
  {
   "cell_type": "markdown",
   "metadata": {},
   "source": [
    "---\n",
    "# Results\n",
    "\n",
    "&#9989;  Provide the results of a benchmark or scaling study for your project.  Make sure you include a description of the hardware that was used and graph the results.   Graphs alone are not sufficent, explain the graphs. Did they meet expectations?  Was there any anaomolies?"
   ]
  },
  {
   "cell_type": "markdown",
   "metadata": {},
   "source": [
    "---\n",
    "# Future Work and Concluding Discussion\n",
    "\n",
    "&#9989;  Give another short description of the project and your final results.  Use this to talk about what you learned in this project.  Include what you found interstesting and what would be a next step.  "
   ]
  },
  {
   "cell_type": "markdown",
   "metadata": {},
   "source": [
    "---\n",
    "# References\n",
    "\n",
    "&#9989;  Include links to websites and resources used in this project.  "
   ]
  },
  {
   "cell_type": "markdown",
   "metadata": {},
   "source": [
    "# Presentations\n",
    "\n",
    "In addition to this report each student will be expected to turn in a slide deck and make a presentation the final week of class.  To help easily coordinate final presentation students are encouraged to use Google Slides and share their presentation link with the instructor (colbrydi@msu.edu).  \n",
    "\n",
    "**WARNING** if you plan to use your own computer you must come to class prepared with the necessary cables that allow you to connect to the room equipment (HDMI or VGA).  If you plan to use the instructor's computer you must email the slides (or a link) the day before your presentation.  \n",
    "\n",
    "Students are expected to target 3-5 slides for a max 5-minute presentation with an additional 2-3 minutes for questions. Content should cover what is in your report, including;\n",
    "\n",
    "- An overall explanation about the domain covered by the project.  \n",
    "- A quick description of the software you installed for the first part of the project.\n",
    "- What you ended up doing for your project and graphs of your results\n",
    "- Include things that you learned. Tricks and nuggets of information are especially useful.  Your goal should be to try and teach your peers something we have not covered in class. \n",
    "\n",
    "Some things to keep in mind include when making your slides:\n",
    "\n",
    "- Be mindful of your audience.  You are trying to communicate ideas to your peers and not the instructor. \n",
    "- Do not use too many words or bullets in the sides.\n",
    "- Make sure you use whitespace well. (i.e. don't clutter)\n",
    "- Try using pictures in place of words.\n",
    "- Use animations sparingly to convey a point.\n",
    "- Your slides will be a guild for your presentation to help your audience follow along. Slides are not expected to convey all information,\n",
    "\n",
    "Your presentation will be graded on your preparedness (i.e. did you practice and did you keep your presentation in the allotted time). "
   ]
  },
  {
   "cell_type": "raw",
   "metadata": {},
   "source": [
    "Presentation Schedule\n",
    "\n",
    "Monday April 22\n",
    "\t1 Matt Bundas\n",
    "\t2 Nathan Feather\n",
    "\t3 Peter Carras\n",
    "\t4 Abudit Rai\n",
    "\t5 Ely Hsu\n",
    "\t6 Jack Hamel\n",
    "\t7 Nicholas Todoroff\n",
    "\t8 Anthony Bommarito\n",
    "\n",
    "\n",
    "Wednesday April 24\n",
    "\t1 Gregory Margosian\n",
    "\t2 Aditya Savanur\n",
    "\t3 Katie Schram\n",
    "\t4 Zachary Stewart\n",
    "\t5 Tj Nguyen\n",
    "\t6 Jordan Stomps\n",
    "\t7 Gabrielle Murashova"
   ]
  },
  {
   "cell_type": "markdown",
   "metadata": {},
   "source": [
    "# Project Rubric\n",
    "Remember the project is worth 20% of your final grade. The project points will be broken down as follows:\n",
    "\n",
    "- 10% proposal\n",
    "- 10% Part 1 project report   \n",
    "- 40% Final Report report\n",
    "- 15% Slides\n",
    "- 15% Presentation\n",
    "- 10% Participation \\*\\*\n",
    "\n",
    "\\*\\* Students will be expected to fill out paper feedback forms for their peers and participate by asking questions and engaging in the presentations. Students are not allowed to be on their phones or laptops during presentations."
   ]
  },
  {
   "cell_type": "markdown",
   "metadata": {},
   "source": [
    "-----\n",
    "### &#9989;  Congratulations, you are done!\n",
    "\n",
    "Now, you just need to submit this report by uploading it to the course <a href=\"https://d2l.msu.edu/\">Desire2Learn</a> web page for today's dropbox."
   ]
  }
 ],
 "metadata": {
  "anaconda-cloud": {},
  "kernelspec": {
   "display_name": "Python 3",
   "language": "python",
   "name": "python3"
  },
  "language_info": {
   "codemirror_mode": {
    "name": "ipython",
    "version": 3
   },
   "file_extension": ".py",
   "mimetype": "text/x-python",
   "name": "python",
   "nbconvert_exporter": "python",
   "pygments_lexer": "ipython3",
   "version": "3.6.5"
  }
 },
 "nbformat": 4,
 "nbformat_minor": 1
}
