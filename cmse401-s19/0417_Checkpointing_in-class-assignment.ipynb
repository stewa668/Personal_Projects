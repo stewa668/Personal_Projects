{
 "cells": [
  {
   "cell_type": "markdown",
   "metadata": {},
   "source": [
    "**NOTE:** There is no pre-class assignment for this activity.\n",
    "\n",
    "In order to successfully complete this assignment you need to participate both individually and in groups during class on **Wednesday April 17th**.\n",
    "\n"
   ]
  },
  {
   "cell_type": "markdown",
   "metadata": {},
   "source": [
    "# In-Class Assignment: Checkpoint Resart\n",
    "<img src=\"http://phdcomics.com/comics/archive/phd012207s.gif\">"
   ]
  },
  {
   "cell_type": "markdown",
   "metadata": {},
   "source": [
    "### Agenda for today's class (70 minutes)\n",
    "\n",
    "</p>\n",
    "\n",
    "1. (10 minutes) What is checkpoint/restart and what problems does it solve? \n",
    "2. (20 minutes) Using DMTCP on the HPCC. \n",
    "3. (20 minutes) SIRS Forms"
   ]
  },
  {
   "cell_type": "markdown",
   "metadata": {},
   "source": [
    "# 1. What is checkpoint/restart and what problems does it solve? \n",
    "<img src=\"https://image.slidesharecdn.com/dmtcp-android-120613025149-phpapp02/95/implement-checkpointing-for-android-32-728.jpg?cb=1339612345\" width=60%>\n",
    "\n",
    "\n",
    "[DMTCP: Distributed MultiThreaded CheckPointing](http://dmtcp.sourceforge.net/)"
   ]
  },
  {
   "cell_type": "markdown",
   "metadata": {},
   "source": [
    "----\n",
    "\n",
    "# 2. Using  DMTCP on the HPCC.\n",
    "\n",
    "As a class lets look at the following submission script and try to figure out everything that it does.  \n",
    "\n",
    "If you get it. Try to get an example working on the HPCC."
   ]
  },
  {
   "cell_type": "markdown",
   "metadata": {},
   "source": [
    "```bash\n",
    "#!/bin/bash -login\n",
    "\n",
    "## make job description and resource requests for short partial task:\n",
    "#SBATCH -J count-longjob                  # Job Name\n",
    "#SBATCH --time=00:06:00                   # Run time (hh:mm:ss) -  mimutes\n",
    "#SBATCH -N 1 -c 1 --mem=20MB              # requested resource\n",
    "#SBATCH --constraint=lac\n",
    "\n",
    "# Set a limited stack size so DMTCP could work\n",
    "ulimit -s 8192\n",
    "\n",
    "# current working directory shuld have source code dmtcp1.c\n",
    "cd ${SLURM_SUBMIT_DIR}\n",
    "\n",
    "# script name. This script is to be resubmit multiple times\n",
    "export SLURM_JOBSCRIPT=\"longjob.sb\"\n",
    "\n",
    "# start dmtcp_coordinator\n",
    "fname=port.$SLURM_JOBID                                                                 # to store port number\n",
    "dmtcp_coordinator --daemon --exit-on-last -p 0 --port-file $fname $@ 1>/dev/null 2>&1   # start coordinater\n",
    "h=`hostname`                                                                            # get host name\n",
    "p=`cat $fname`\n",
    "export DMTCP_COORD_HOST=$h\n",
    "export DMTCP_COORD_PORT=$p\n",
    "#rm $fname\n",
    "\n",
    "# print out some information\n",
    "#echo \"coordinator is on host $DMTCP_COORD_HOST \"\n",
    "#echo \"port number is $DMTCP_COORD_PORT \"\n",
    "#echo \" working directory: ${SLURM_SUBMIT_DIR} \"\n",
    "#echo \" job script is $SLURM_JOBSCRIPT \"\n",
    "\n",
    "####################### BODY of the JOB ######################\n",
    "# prepare work environment of the job\n",
    "module swap GNU/6.4.0-2.28 GCC/4.9.2\n",
    "\n",
    "# build the program if not exist\n",
    "if [ ! -f count.exe ] \n",
    "then\n",
    "    cc count.c -o count.exe\n",
    "fi\n",
    "\n",
    "# run the program count.exe. \n",
    "# To run interactively: \n",
    "# $ ./count.exe n num.odd 1> num.even \n",
    "# it will count to number n and generate 2 files: \n",
    "# num.odd contains all the odd number;\n",
    "# num.even contains all the even number.\n",
    "\n",
    "# To run with DMTCP, use dmtcp commamds.\n",
    "# if first time launch, use \"dmtcp_launch\"\n",
    "# otherwise use \"dmtcp_restart\"\n",
    "\n",
    "# set checkpoint interval. This script would wait after dmtcp_launch\n",
    "# the job for the interval (in seconds), then do start the checkpoint. \n",
    "export CKPT_WAIT_SEC=$(( 3 * 60 ))\n",
    "\n",
    "# Launch or restart the execution\n",
    "if [ ! -f ckpt_*.dmtcp ]         # no ckpt file exists, use dmtcp_launch\n",
    "then\n",
    "  # first time run, use dmtcp_launch the job */\n",
    "  echo \" call dmtcp_launch \"\n",
    "  dmtcp_launch -h $DMTCP_COORD_HOST -p $DMTCP_COORD_PORT --rm --ckpt-open-files ./count.exe 800 num.odd 1> num.even 10>&- 11>&- &\n",
    "\n",
    "  #wait for an inverval of checkpoint seconds to start checkpointing\n",
    "  sleep $CKPT_WAIT_SEC\n",
    "\n",
    "  # start checkpointing\n",
    "  # echo \" start dmtcp checkpointing\"\n",
    "  dmtcp_command -h $DMTCP_COORD_HOST -p $DMTCP_COORD_PORT --ckpt-open-files --bcheckpoint\n",
    "  # echo \" finish dmtcp checkpointing\"\n",
    "\n",
    "  # kill the running job after checkpointing\n",
    "  # echo \" terminate job after checkpoint \"\n",
    "  dmtcp_command -h $DMTCP_COORD_HOST -p $DMTCP_COORD_PORT --quit\n",
    "  # echo \" terminate job after checkpoint \"\n",
    "\n",
    "  # resubmit the job\n",
    "  echo resubmit ${SLURM_JOBSCRIPT}\n",
    "  sbatch $SLURM_JOBSCRIPT\n",
    "\n",
    "else\n",
    "  # restart job with checkpoint files\n",
    "  echo \" call dmtcp_restart \"\n",
    "  dmtcp_restart -h $DMTCP_COORD_HOST -p $DMTCP_COORD_PORT ckpt_*.dmtcp 1> num.even &\n",
    "  # echo \" restarted \"\n",
    "\n",
    "  # wait for a checkpoint interval to start checkpointing\n",
    "  sleep $CKPT_WAIT_SEC\n",
    "\n",
    "  # if program is running, do the checkpoint and resubmit\n",
    "  if dmtcp_command -h $DMTCP_COORD_HOST -p $DMTCP_COORD_PORT -s 1>/dev/null 2>&1\n",
    "  then\t \n",
    "    # echo \" start checkpointing again \"\n",
    "    # clean up old ckpt files before start new ckpt\n",
    "    rm -r ckpt_*.dmtcp\n",
    "    dmtcp_command -h $DMTCP_COORD_HOST -p $DMTCP_COORD_PORT --ckpt-open-files -bc\n",
    "    # echo \" finish checkpointing again \"\n",
    "    # kill the running program\n",
    "    dmtcp_command -h $DMTCP_COORD_HOST -p $DMTCP_COORD_PORT --quit\n",
    "    # resubmit this script to slurm\n",
    "    echo resumit $SLURM_JOBSCRIPT\n",
    "    sbatch $SLURM_JOBSCRIPT\n",
    "  else\n",
    "    echo \"job finished\"\n",
    "  fi\n",
    "fi\n",
    "\n",
    "scontrol show job $SLURM_JOB_ID\n",
    "```"
   ]
  },
  {
   "cell_type": "markdown",
   "metadata": {},
   "source": [
    "-----\n",
    "### Congratulations, we're done!"
   ]
  },
  {
   "cell_type": "markdown",
   "metadata": {},
   "source": [
    "\n",
    "**Course Resources:**\n",
    "- [Syllabus](https://tinyurl.com/y75cnzam)\n",
    "- [Preliminary Schedule](https://tinyurl.com/CMSE314-Schedule)\n",
    "- [Git Repository](https://gitlab.msu.edu/colbrydi/cmse401-s19)\n",
    "- [Jargon Jar and Command History](https://tinyurl.com/CMSE314-JargonJar) \n",
    "\n"
   ]
  },
  {
   "cell_type": "markdown",
   "metadata": {},
   "source": [
    "&#169; Copyright 2019,  Michigan State University Board of Trustees"
   ]
  }
 ],
 "metadata": {
  "kernelspec": {
   "display_name": "Python 3",
   "language": "python",
   "name": "python3"
  },
  "language_info": {
   "codemirror_mode": {
    "name": "ipython",
    "version": 3
   },
   "file_extension": ".py",
   "mimetype": "text/x-python",
   "name": "python",
   "nbconvert_exporter": "python",
   "pygments_lexer": "ipython3",
   "version": "3.6.5"
  }
 },
 "nbformat": 4,
 "nbformat_minor": 2
}
