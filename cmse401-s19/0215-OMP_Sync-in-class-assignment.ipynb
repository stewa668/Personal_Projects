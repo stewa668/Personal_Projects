{
 "cells": [
  {
   "cell_type": "markdown",
   "metadata": {},
   "source": [
    "<p style=\"text-align: right;\">\n",
    "In order to successfully complete this assignment you need to participate both individually and in groups during class on **Friday February 15th**.\n",
    "</p>\n"
   ]
  },
  {
   "cell_type": "markdown",
   "metadata": {},
   "source": [
    "### Agenda for today's class (70 minutes)\n",
    "\n",
    "</p>\n",
    "\n",
    "1. (20 minutes) Pre-class review, Critical Sections and Finish OMP Pi Example\n",
    "1. (20 minutes) Preliminary Introduction to HW4\n",
    "1. (30 minutes) Fix Instructor's Sloppy Planning"
   ]
  },
  {
   "cell_type": "markdown",
   "metadata": {},
   "source": [
    "# In-Class Assignment: OpenMP Critical Sections and Basic Loops\n",
    "\n",
    "\n",
    "<img src=\"https://lh4.googleusercontent.com/HhED4Hd3rrOUvlgOWnQflBimnSM-fQGfaOJjfxi-ugrZCV1F-hsx-VxY3oXenw8rEFmoSdT67g=w526\">\n"
   ]
  },
  {
   "cell_type": "markdown",
   "metadata": {},
   "source": [
    "---\n",
    "# 1. Pre-class review, Critical Sections and Finish OMP Pi Example\n",
    "\n",
    "http://www.studentclustercompetition.us/\n"
   ]
  },
  {
   "cell_type": "markdown",
   "metadata": {},
   "source": [
    "---\n",
    "# 2. Preliminary Introduction to HW4\n",
    "\n",
    "[0301-HW4-Image_processing](0301-HW4-Image_processing.ipynb)\n"
   ]
  },
  {
   "cell_type": "markdown",
   "metadata": {},
   "source": [
    "---\n",
    "# 3. Fix Instructor's Sloppy Planning\n",
    "\n",
    "i.e. lets take a breath and spend today doing a review and making sure everyone is on the same page before moving on. "
   ]
  },
  {
   "cell_type": "markdown",
   "metadata": {},
   "source": [
    "-----\n",
    "### Congratulations, we're done!"
   ]
  },
  {
   "cell_type": "markdown",
   "metadata": {},
   "source": [
    "\n",
    "**Course Resources:**\n",
    "- [Syllabus](https://tinyurl.com/y75cnzam)\n",
    "- [Preliminary Schedule](https://tinyurl.com/CMSE314-Schedule)\n",
    "- [Git Repository](https://gitlab.msu.edu/colbrydi/cmse401-s19)\n",
    "- [Jargon Jar and Command History](https://tinyurl.com/CMSE314-JargonJar) \n",
    "\n"
   ]
  },
  {
   "cell_type": "markdown",
   "metadata": {},
   "source": [
    "&#169; Copyright 2019,  Michigan State University Board of Trustees"
   ]
  }
 ],
 "metadata": {
  "kernelspec": {
   "display_name": "Python 3",
   "language": "python",
   "name": "python3"
  },
  "language_info": {
   "codemirror_mode": {
    "name": "ipython",
    "version": 3
   },
   "file_extension": ".py",
   "mimetype": "text/x-python",
   "name": "python",
   "nbconvert_exporter": "python",
   "pygments_lexer": "ipython3",
   "version": "3.6.5"
  }
 },
 "nbformat": 4,
 "nbformat_minor": 2
}
