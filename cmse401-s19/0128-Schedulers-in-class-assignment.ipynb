{
 "cells": [
  {
   "cell_type": "markdown",
   "metadata": {},
   "source": [
    "<p style=\"text-align: right;\">\n",
    "In order to successfully complete this assignment you need to participate both individually and in groups during class on **Monday January 28th**.\n",
    "</p>\n"
   ]
  },
  {
   "cell_type": "markdown",
   "metadata": {},
   "source": [
    "# In-Class Assignment: Schedulers\n",
    "\n",
    "<img src=\"http://cdn.collider.com/wp-content/uploads/2016/02/futurama-slurm-poster.jpg\" width=\"80%\">\n",
    "<p style=\"text-align: right;\">Image from: [Futurama](https://www.imdb.com/title/tt0149460/)"
   ]
  },
  {
   "cell_type": "markdown",
   "metadata": {},
   "source": [
    "### Agenda for today's class (70 minutes)\n",
    "\n",
    "</p>\n",
    "1. (10 minutes) Pre-class Review\n",
    "1. (10 minutes) Minimizing the \"Mean Time to Science\"\n",
    "1. (20 minutes) Pandemic (OpenMP) and Galaxsee (MPI) Using the Scheduler\n",
    "1. (30 minutes) Explore"
   ]
  },
  {
   "cell_type": "markdown",
   "metadata": {},
   "source": [
    "----\n",
    "# 1. Pre-class review\n",
    "\n",
    "[0127--Schedulers-pre-class-assignment](0127--Schedulers-pre-class-assignment.ipynb)"
   ]
  },
  {
   "cell_type": "markdown",
   "metadata": {},
   "source": [
    "----\n",
    "\n",
    "# 2. Minimizing the \"Mean Time to Science\"\n",
    "\n",
    "**DISCUSSION QUESTION**: When thinking about science that use computation.  What factors influence the speed of science?  "
   ]
  },
  {
   "cell_type": "markdown",
   "metadata": {},
   "source": [
    "----\n",
    "# 3. Pandemic (OpenMP) and Galaxsee (MPI) Using the Scheduler\n",
    "\n",
    "Write a SLURM Submission script to run the Pandemic and Galaxsee examples on multiple cores.  Make sure the exmaple provides timing information. \n",
    "\n",
    "Results of the study should be recorded on the folloiwng website:\n",
    "\n",
    "[Timing Studies](https://docs.google.com/spreadsheets/d/1WBf9TxULtwIv5D59tk5M-VRxBIHXCby79Q4cgEF7H7o/edit#gid=0)\n"
   ]
  },
  {
   "cell_type": "markdown",
   "metadata": {},
   "source": [
    "----\n",
    "# 4. Explore\n",
    "\n",
    "In the time remaining, investigate the examples in the BCCD folder. See if you can create a submission script that will run the example in parallel using the SLURM Scheduler. \n",
    "\n",
    "     Area-under-curve\n",
    "     CUDA\n",
    "     GalaxSee\n",
    "     GalaxSee-v2\n",
    "     Hello-world\n",
    "     Life\n",
    "     Pandemic\n",
    "     Parameter-space\n",
    "     Sieve\n",
    "     StatKit/petakit\n",
    "     Tree-sort\n",
    "\n",
    "Mail the instructor any scripts you get working.  "
   ]
  },
  {
   "cell_type": "markdown",
   "metadata": {},
   "source": [
    "-----\n",
    "### Congratulations, we're done!"
   ]
  },
  {
   "cell_type": "markdown",
   "metadata": {},
   "source": [
    "\n",
    "**Course Resources:**\n",
    "- [Syllabus](https://tinyurl.com/y75cnzam)\n",
    "- [Preliminary Schedule](https://tinyurl.com/CMSE314-Schedule)\n",
    "- [Git Repository](https://gitlab.msu.edu/colbrydi/cmse401-s19)\n",
    "- [Jargon Jar and Command History](https://tinyurl.com/CMSE314-JargonJar) \n",
    "\n"
   ]
  },
  {
   "cell_type": "markdown",
   "metadata": {},
   "source": [
    "&#169; Copyright 2019,  Michigan State University Board of Trustees"
   ]
  }
 ],
 "metadata": {
  "kernelspec": {
   "display_name": "Python 3",
   "language": "python",
   "name": "python3"
  },
  "language_info": {
   "codemirror_mode": {
    "name": "ipython",
    "version": 3
   },
   "file_extension": ".py",
   "mimetype": "text/x-python",
   "name": "python",
   "nbconvert_exporter": "python",
   "pygments_lexer": "ipython3",
   "version": "3.6.5"
  }
 },
 "nbformat": 4,
 "nbformat_minor": 2
}
