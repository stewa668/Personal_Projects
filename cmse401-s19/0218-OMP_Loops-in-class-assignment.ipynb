{
 "cells": [
  {
   "cell_type": "markdown",
   "metadata": {},
   "source": [
    "<p style=\"text-align: right;\">\n",
    "In order to successfully complete this assignment you need to participate both individually and in groups during class on **Monday February 18th**.\n",
    "</p>\n"
   ]
  },
  {
   "cell_type": "markdown",
   "metadata": {},
   "source": [
    "# In-Class Assignment: Loops\n",
    "\n",
    "\n",
    "<img src=\"https://upload.wikimedia.org/wikipedia/commons/2/2c/For_loop.png\">\n",
    "<p style=\"text-align: right;\">Image from: https://en.wikipedia.org/wiki/For_loop</p>\n",
    "</p>\n"
   ]
  },
  {
   "cell_type": "markdown",
   "metadata": {},
   "source": [
    "### Agenda for today's class (70 minutes)\n",
    "\n",
    "</p>\n",
    "\n",
    "1. (0 minutes) Group OpenMP loop Pi-code Timing Studies on the HPCC \n",
    "1. (10 minutes) HW3 Review\n",
    "1. (10 minutes) Pre-class review\n",
    "2. (10 minutes) Introduction to HW4\n"
   ]
  },
  {
   "cell_type": "markdown",
   "metadata": {},
   "source": [
    "---\n",
    "# 1.  OpenMP Loop Pi-Code Timing Studies on the HPCC \n",
    "\n",
    "The rest of class we will try to help each other out so that everyone gets a parallel OpenMP version of the Pi-code working.  Lets see how far we get doing the following:\n",
    "\n",
    "- If you are stuck or confused, raise your hand and ask for help.\n",
    "- If you get stuck review code in the Google document. \n",
    "- Help your neighbors\n",
    "- If you have your basic code working, share it on the Google document.\n",
    "- Once you have a parallel code working, do a scaling study and very the number of cores.  Plot the results and share your plot on the Google document. \n",
    "- Conduct the scaling study on different development nodes and generate different plots. Share them on the Google document. \n",
    "- Write a submission script and run the scaling study using the SLURM scheduler.  \n",
    "- Share all of your solutions with each other using the following Google Document.\n",
    "- Review the Google Document and learn from each other's solutions.\n",
    "\n",
    "[Group Google Document](https://docs.google.com/document/d/1ySdREPlhHzk71BNMl_Y1dBRD-ZXeJZ4aWesfnrczuvs/edit?usp=sharing)"
   ]
  },
  {
   "cell_type": "markdown",
   "metadata": {},
   "source": [
    "---\n",
    "# 2. HW3 Review\n",
    "\n",
    "[0215-HW3-Genome_Assembly.ipynb](0215-HW3-Genome_Assembly.ipynb)\n"
   ]
  },
  {
   "cell_type": "markdown",
   "metadata": {},
   "source": [
    "---\n",
    "# 3. Pre-class Review\n",
    "\n",
    "\n",
    "In class we will talk about the basic loop sharing construct which looks like the following:\n",
    "\n",
    "```c++\n",
    "#pragma omp parallel\n",
    "{\n",
    "    #pragma omp for\n",
    "    for (int i=0; i < max_itr; i++)\n",
    "    {\n",
    "\n",
    "    }\n",
    "}\n",
    "```\n",
    "\n",
    "\n",
    "[0217--OMP_Loops-pre-class-assignment](0217--OMP_Loops-pre-class-assignment.ipynb)\n"
   ]
  },
  {
   "cell_type": "markdown",
   "metadata": {},
   "source": [
    "---\n",
    "# 4. Full Introduction to HW4\n",
    "\n",
    "[0301-HW4-Image_processing](0301-HW4-Image_processing.ipynb)\n"
   ]
  },
  {
   "cell_type": "markdown",
   "metadata": {},
   "source": [
    "-----\n",
    "### Congratulations, we're done!"
   ]
  },
  {
   "cell_type": "markdown",
   "metadata": {},
   "source": [
    "\n",
    "**Course Resources:**\n",
    "- [Syllabus](https://tinyurl.com/y75cnzam)\n",
    "- [Preliminary Schedule](https://tinyurl.com/CMSE314-Schedule)\n",
    "- [Git Repository](https://gitlab.msu.edu/colbrydi/cmse401-s19)\n",
    "- [Jargon Jar and Command History](https://tinyurl.com/CMSE314-JargonJar) \n",
    "\n"
   ]
  },
  {
   "cell_type": "markdown",
   "metadata": {},
   "source": [
    "&#169; Copyright 2019,  Michigan State University Board of Trustees"
   ]
  }
 ],
 "metadata": {
  "kernelspec": {
   "display_name": "Python 3",
   "language": "python",
   "name": "python3"
  },
  "language_info": {
   "codemirror_mode": {
    "name": "ipython",
    "version": 3
   },
   "file_extension": ".py",
   "mimetype": "text/x-python",
   "name": "python",
   "nbconvert_exporter": "python",
   "pygments_lexer": "ipython3",
   "version": "3.6.5"
  }
 },
 "nbformat": 4,
 "nbformat_minor": 2
}
