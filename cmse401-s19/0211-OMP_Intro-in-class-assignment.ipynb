{
 "cells": [
  {
   "cell_type": "markdown",
   "metadata": {},
   "source": [
    "<p style=\"text-align: right;\">\n",
    "In order to successfully complete this assignment you need to participate both individually and in groups during class on **Monday February 11th**.\n",
    "</p>\n"
   ]
  },
  {
   "cell_type": "markdown",
   "metadata": {},
   "source": [
    "# In-Class Assignment: Introduction to OpenMP \n",
    "\n",
    "<img src=\"https://upload.wikimedia.org/wikipedia/commons/thumb/f/f1/Fork_join.svg/800px-Fork_join.svg.png\">\n",
    "\n",
    "<p style=\"text-align: right;\">Image from: [Wikipedia](https://en.wikipedia.org/wiki/Fork%E2%80%93join_model)</p>\n",
    "</p>"
   ]
  },
  {
   "cell_type": "markdown",
   "metadata": {},
   "source": [
    "### Agenda for today's class (70 minutes)\n",
    "\n",
    "</p>\n",
    "\n",
    "1. (10 minutes) Project Proposals (due Feb 22)\n",
    "1. (20 minutes) Exam Review\n",
    "1. (20 minutes) XSEDE Review\n",
    "1. (10 minutes) Pre-class assignment review\n",
    "1. (10 minutes) OpenMP Code Inspection"
   ]
  },
  {
   "cell_type": "markdown",
   "metadata": {},
   "source": [
    "---\n",
    "# 1. Project Proposals (due Feb 22)\n",
    "\n",
    "We will take about 10 minutes in class to discuss project proposals which are due February 22nd. \n",
    "\n",
    "[0222-Project_Proposal_Template](0222-Project_Proposal_Template.ipynb)\n"
   ]
  },
  {
   "cell_type": "markdown",
   "metadata": {},
   "source": [
    "---\n",
    "# 2. Exam Review\n",
    "\n",
    "We will take 20 minutes to go over exam feedback and discuss solutions. \n",
    "\n",
    "[0208-Midterm-Exam1](0208-Midterm-Exam1-INSTRUCTOR.ipynb)"
   ]
  },
  {
   "cell_type": "markdown",
   "metadata": {},
   "source": [
    "---\n",
    "# 3. XSEDE Review\n",
    "\n",
    "Lets take another 20 minutes to talk about XSEDE \n",
    "\n",
    "[0205--XSEDE-pre-class-assignment](0205--XSEDE-pre-class-assignment.ipynb)"
   ]
  },
  {
   "cell_type": "markdown",
   "metadata": {},
   "source": [
    "---\n",
    "# 4. Pre-class assignment review\n",
    "\n",
    "Lets see how far we get talking about OpenMP\n",
    "\n",
    "[0210--OMP_Intro-pre-class-assignment](0210--OMP_Intro-pre-class-assignment.ipynb)"
   ]
  },
  {
   "cell_type": "markdown",
   "metadata": {},
   "source": [
    "----\n",
    "# 5. OpenMP Code Inspection\n",
    "As a class we are going to explore and try to learn the OpenMP syntax indirectly. Here are some questions to help guild the discussion.\n",
    "\n",
    "* Where can we find some OpenMP Example Code?\n",
    "* What OpenMP specific commands do you see in the Code?\n",
    "* When comparing to other examples, which commands seem common and which commands rare?\n",
    "* What do the commands seem to do? "
   ]
  },
  {
   "cell_type": "markdown",
   "metadata": {},
   "source": [
    "-----\n",
    "### Congratulations, we're done!"
   ]
  },
  {
   "cell_type": "markdown",
   "metadata": {},
   "source": [
    "\n",
    "**Course Resources:**\n",
    "- [Syllabus](https://tinyurl.com/y75cnzam)\n",
    "- [Preliminary Schedule](https://tinyurl.com/CMSE314-Schedule)\n",
    "- [Git Repository](https://gitlab.msu.edu/colbrydi/cmse401-s19)\n",
    "- [Jargon Jar and Command History](https://tinyurl.com/CMSE314-JargonJar) \n",
    "\n"
   ]
  },
  {
   "cell_type": "markdown",
   "metadata": {},
   "source": [
    "&#169; Copyright 2019,  Michigan State University Board of Trustees"
   ]
  }
 ],
 "metadata": {
  "kernelspec": {
   "display_name": "Python 3",
   "language": "python",
   "name": "python3"
  },
  "language_info": {
   "codemirror_mode": {
    "name": "ipython",
    "version": 3
   },
   "file_extension": ".py",
   "mimetype": "text/x-python",
   "name": "python",
   "nbconvert_exporter": "python",
   "pygments_lexer": "ipython3",
   "version": "3.6.6"
  }
 },
 "nbformat": 4,
 "nbformat_minor": 2
}
