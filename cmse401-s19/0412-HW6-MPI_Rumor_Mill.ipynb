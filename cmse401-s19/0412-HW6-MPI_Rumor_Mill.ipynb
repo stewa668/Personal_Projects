{
 "cells": [
  {
   "cell_type": "markdown",
   "metadata": {},
   "source": [
    "In order to successfully complete this assignment you must follow all instructions in this notebook and upload your files with your answers on or before **11:59pm on Friday April 12th**."
   ]
  },
  {
   "cell_type": "markdown",
   "metadata": {},
   "source": [
    "# Homework 5: The Rumor Mill\n",
    "\n",
    "In this homework we will modify a serial code to run across nodes using MPI.\n",
    "\n",
    "\n",
    "### Goals for this assignment:\n",
    "\n",
    "By the end of this assignment, you should be able to:\n",
    "\n",
    "* Benchmark The Rumor Mill\n",
    "* Time the individual components\n",
    "* MPIodify the simulation\n",
    "* Output Visualization\n",
    "* Scaling Study\n",
    "* Homework Report\n",
    "\n",
    "<img src=\"https://farm6.staticflickr.com/5182/5766506970_64806a7180_b.jpg\" width=\"90%\" alt=\"animated gif\">\n"
   ]
  },
  {
   "cell_type": "markdown",
   "metadata": {},
   "source": [
    "----\n",
    "\n",
    "# 1. Benchmark The Rumor Mill\n",
    "\n",
    "&#9989; <font color=red>**DO THIS:**</font> Download the code provided in the class repository in the folder called ```HW6_Rumor```.  Compile and run the code on a developer node. Generate a figure to compare how the serial code runs on an average 10 runs."
   ]
  },
  {
   "cell_type": "markdown",
   "metadata": {},
   "source": [
    "----\n",
    "# 2. Time the individual components\n",
    "\n",
    "The next step is to benchmark how well the system runs on a serial core and where the bottlenecks are.\n",
    "\n",
    "&#9989; <font color=red>**DO THIS:**</font> Modify the code to time the individual components of the algorithm using a timing library that is accurate to at least milliseconds.  Separate the total \"setup\" time from the total main \"simulation\" loop time and the total \"file I/O\" time inside the main loop.  Redo the above timing study with a breakdown for each and generate a figure. "
   ]
  },
  {
   "cell_type": "markdown",
   "metadata": {},
   "source": [
    "# 3. MPIodify the simulation\n",
    "\n",
    "Now we are going to split the simulation into separate grids that share boarders.  Each node only needs to keep track of the rumors in its own grid.  MPI Send/Recv messages should be used to pass the \"boundary\" vectors of each grid to it's neighboring grids after every iteration.  "
   ]
  },
  {
   "cell_type": "markdown",
   "metadata": {},
   "source": [
    "&#9989; <font color=red>**DO THIS:**</font> Rewrite the code to use MPI. For this homework, focus on splitting the simulation grid and running portions of the grid on different nodes. "
   ]
  },
  {
   "cell_type": "markdown",
   "metadata": {},
   "source": [
    "# 4. Output Visualization\n",
    "We also need to know if the simulation is working.  After every $N$ loops MPI should send the entire grid to the host process to save out to a file for visualization.  Visualization should look similar to the following:\n",
    "\n",
    "PUT VISUALIZATION Link HERE\n",
    "\n",
    "&#9989; <font color=red>**DO THIS:**</font> Rewrite the output part of the code to send the entire grid back to the main process and have the main process write the grid out as a png file.   \n",
    "\n",
    "**Optional Bonus** - Having each node communicate its grid back to the main process for visualization is very slow.  As a challenge, try coming up with a way to eliminate this step.  There are two approaches you could consider:\n",
    "\n",
    "1. Rewrite the code so that each process saves its portion of the grid as a separate file. Then write another program that concatenates the images together after the simulation.  You could write the program yourself in something like python but it is also really easy to use the ImageMagic ```convert``` command with +/-append option.\n",
    "2. Use the HDF5 parallel data library. I started writing this option into the homework as an easy solution but there were some details that make it tricky.  It is a good solution but you need to then make sure you have an easy way to convert the HDF5 file back into an image.  "
   ]
  },
  {
   "cell_type": "markdown",
   "metadata": {},
   "source": [
    "# 4. Scaling Study\n",
    "Finally we want to see how well the system scales.  At what scale does the system benefit from running on multiple processors.  \n",
    "\n",
    "\n",
    "&#9989; <font color=red>**DO THIS:**</font> Write submissions script(s) to run the system on different numbers of processors with different numbers of simulation sizes.  Make sure you are able to demonstrate the scaling of the system and make recommendations as to the size of jobs that would need to run given the input world size and the number of iterations.  Include the submissions cripts in your deliverables and make sure the instructions explain how to reproduce all of your figures. \n"
   ]
  },
  {
   "cell_type": "markdown",
   "metadata": {},
   "source": [
    "# 3. Homework Report\n",
    "\n",
    "\n",
    "\n",
    "Write a short (approx. 1-page) report for this homework.  Include the report and all of your code/instructions when you turn in the project (ex. Makefiles, library install instructions, etc). Make sure the report answers the following questions:"
   ]
  },
  {
   "cell_type": "markdown",
   "metadata": {},
   "source": [
    "&#9989; <font color=red>**QUESTION:**</font>  On Average how long did it take to execute the simulation above? make sure you include a description of how you calculated the average and display the information in graph form as well as text."
   ]
  },
  {
   "cell_type": "markdown",
   "metadata": {},
   "source": [
    "&#9989; <font color=red>**QUESTION:**</font> What changes did you make to the code to use MPI.  Describe these at a high level.  "
   ]
  },
  {
   "cell_type": "markdown",
   "metadata": {},
   "source": [
    "&#9989; <font color=red>**QUESTION:**</font> What instructions are needed for the instructor to reproduce your results? i.e. what commands are needed to compile your code?  What libraries (if any) Libraries are needed?  Do not assume that the instructor is familiar with your language. Make sure instructions are complete. Write them as if you were giving them to another student in this course or maybe CMSE202. "
   ]
  },
  {
   "cell_type": "markdown",
   "metadata": {},
   "source": [
    "&#9989; <font color=red>**QUESTION:**</font>  Describe the computer which you conducted the timing study (CPU speed, RAM, OS, software version, Cores used, etc.)."
   ]
  },
  {
   "cell_type": "markdown",
   "metadata": {},
   "source": [
    "&#9989; <font color=red>**QUESTION:**</font>  Describe other ways you could make your program go faster. "
   ]
  },
  {
   "cell_type": "markdown",
   "metadata": {},
   "source": [
    "&#9989; <font color=red>**DO THIS:**</font> Prepare your files for the instructor.  When you are done, zip up your entire solution directory into a tgz file using the ```tar``` command with compression.  "
   ]
  },
  {
   "cell_type": "markdown",
   "metadata": {},
   "source": [
    "----\n",
    "\n",
    "### Turning in your homework\n",
    "\n",
    "Now, you need to submit this assignment by uploading your files to the course Desire2Learn web page. Make sure you include your report and source code so the instructor can reproduce your results. "
   ]
  },
  {
   "cell_type": "markdown",
   "metadata": {},
   "source": [
    "&#169; Copyright 2019,  Michigan State University Board of Trustees"
   ]
  }
 ],
 "metadata": {
  "anaconda-cloud": {},
  "kernelspec": {
   "display_name": "Python 3",
   "language": "python",
   "name": "python3"
  },
  "language_info": {
   "codemirror_mode": {
    "name": "ipython",
    "version": 3
   },
   "file_extension": ".py",
   "mimetype": "text/x-python",
   "name": "python",
   "nbconvert_exporter": "python",
   "pygments_lexer": "ipython3",
   "version": "3.6.5"
  }
 },
 "nbformat": 4,
 "nbformat_minor": 2
}
