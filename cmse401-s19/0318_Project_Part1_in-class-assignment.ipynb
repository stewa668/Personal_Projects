{
 "cells": [
  {
   "cell_type": "markdown",
   "metadata": {},
   "source": [
    "\n",
    "In order to successfully complete this assignment you need to participate both individually and in groups during class on **Monday March 18th**.\n"
   ]
  },
  {
   "cell_type": "markdown",
   "metadata": {},
   "source": [
    "# In-Class Assignment: Project Part 1 Presentations\n",
    "\n",
    "<img src=\"https://www.optometricmanagement.com/archive/2012/November/images/OM_November_A13_Fig01.jpg\" width=40%>\n",
    "\n"
   ]
  },
  {
   "cell_type": "markdown",
   "metadata": {},
   "source": [
    "### Agenda for today's class (70 minutes)\n",
    "\n",
    "</p>\n",
    "\n",
    "1. (20 minutes) Project Parts\n",
    "1. (5 minutes) Break up into discussion groups\n",
    "1. (30 minutes) Round Robin presentation\n",
    "1. (15 minutes) Class Debrief"
   ]
  },
  {
   "cell_type": "markdown",
   "metadata": {},
   "source": [
    "---\n",
    "# 1. Project Parts\n",
    "\n",
    "It is unclear the best way to select groups based on the exploration project.  We want to group people based on interest and their ability to help each other out. As a way to learn more about your groups, I recommend that everyone put their laptops away and stand up.  We are going to do a \"vote by moving\" excercise based on answering the following questions:\n",
    "\n",
    "- Did you make a getexample as part of your project (ex: yes, no, modified an existing one, other).\n",
    "- How does your software relate to the HPCC? (ex: already installed, I figured out how to install it, I am not using the HPCC)\n",
    "- What is your software written in?  (ex: Python, CUDA, C/C++, FORTRAN, other)\n",
    "- What domain are you interested in? (ex: physics, chemistry, Supply Chain Management, Economics, medial imaging)\n",
    "- How does your software parallelize? (ex: Serial, Shared Memory, GPU, Shared Network)\n",
    "\n",
    "The goal is to move around and form groups of two or more people that answer the question most similarly to your own answer.  Some answers may be ambiguous so make your best guess. We are going to try and rearrange ourselves a couple of times until we find a question that seems to cluster us well. You will need to briefly discuss your answers with others to see where is your best fit.  Avoid groups of one or two if possible. \n",
    "\n",
    "After each question, new groups will be formed and the instructor will go around to each group asking them how they answered the question. \n",
    "\n",
    "Pay attention to the people in the groups you form. \n",
    "\n",
    "Now that you have done this activity a few times, what other questions should we use to group you?  As a class, come up with at least three and form groups based on these questions. "
   ]
  },
  {
   "cell_type": "markdown",
   "metadata": {},
   "source": [
    "---\n",
    "# 2. Break up into discussion groups\n",
    "\n",
    "Now lets break up into discussion groups of three (or four) people based on the previous exercise and your interests.  \n",
    "\n",
    "Once groups are formed, get your laptops and find a place in the room for your group to meet. "
   ]
  },
  {
   "cell_type": "markdown",
   "metadata": {},
   "source": [
    "----\n",
    "\n",
    "# 3. Round Robin Presentations\n",
    "\n",
    "In your groups, share what each of you have been doing with your project, progress made so far and any roadblocks you may be having.  The goal is to let everyone talk but also have a discussion with each other. Try to talk for about 10 minutes for each presentation.  The instructor will be coming around to listen to 1-2 minutes of your presentation and potentially ask you some questions.\n",
    "\n",
    "For each presentation designate someone as a timekeeper and someone else as the note taker. Rotate the roles. "
   ]
  },
  {
   "cell_type": "markdown",
   "metadata": {},
   "source": [
    "----\n",
    "# 4. Class Debrief\n",
    "\n",
    "In the remainder of the class, we will share some observations you learned in your group. We will start by going around the classroom and everyone giving a *very brief* (30 seconds or so) broad overview of their project (e.g., \"I am writing an agent-based model for bird migration that I am parallelizing using CUDA\" would be perfectly sufficient). Take special note of any common roadblocks that you see may be hindering the progress of your project. If no one talks, the instructor will call on people."
   ]
  },
  {
   "cell_type": "markdown",
   "metadata": {},
   "source": [
    "-----\n",
    "### Congratulations, we're done!"
   ]
  },
  {
   "cell_type": "markdown",
   "metadata": {},
   "source": [
    "\n",
    "**Course Resources:**\n",
    "- [Syllabus](https://tinyurl.com/y75cnzam)\n",
    "- [Preliminary Schedule](https://tinyurl.com/CMSE314-Schedule)\n",
    "- [Git Repository](https://gitlab.msu.edu/colbrydi/cmse401-s19)\n",
    "- [Jargon Jar and Command History](https://tinyurl.com/CMSE314-JargonJar) \n",
    "\n"
   ]
  },
  {
   "cell_type": "markdown",
   "metadata": {},
   "source": [
    "&#169; Copyright 2019,  Michigan State University Board of Trustees"
   ]
  }
 ],
 "metadata": {
  "kernelspec": {
   "display_name": "Python 3",
   "language": "python",
   "name": "python3"
  },
  "language_info": {
   "codemirror_mode": {
    "name": "ipython",
    "version": 3
   },
   "file_extension": ".py",
   "mimetype": "text/x-python",
   "name": "python",
   "nbconvert_exporter": "python",
   "pygments_lexer": "ipython3",
   "version": "3.7.1"
  }
 },
 "nbformat": 4,
 "nbformat_minor": 2
}
