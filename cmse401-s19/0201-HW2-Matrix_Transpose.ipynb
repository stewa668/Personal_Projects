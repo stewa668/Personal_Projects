{
 "cells": [
  {
   "cell_type": "markdown",
   "metadata": {},
   "source": [
    "In order to successfully complete this assignment you must follow all instructions in this notebook and upload your files with your answers on or before **11:59pm on Friday February 1st**."
   ]
  },
  {
   "cell_type": "markdown",
   "metadata": {},
   "source": [
    "# Homework 2: Matrix Transpose and spatial locality\n",
    "\n",
    "<img src=\"https://livewell.care/wp-content/uploads/2017/08/6a01543429fb37970c01a3fd267db2970b.png\">\n",
    "\n",
    "<p style=\"text-align: right;\">Image from: [livewell.care](https://livewell.care/understanding-the-difference-between-short-term-and-long-term-memory-loss/) (link not related to this assignment. I just liked the picture)</p>\n",
    "\n",
    "\n",
    "\n",
    "In this homework we will explore methods to efficiently access memory and benchmark the differences. \n",
    "\n",
    "### Goals for this assignment:\n",
    "\n",
    "By the end of this assignment, you should be able to:\n",
    "\n",
    "* Observe the impact of a lack of spatial locality\n",
    "* Gain experience using blocking of loops to improve locality\n",
    "* Explore the use of the cache oblivious approach to formulate algorithms\n",
    "\n",
    "**Background:** please read this paper on pre-fetching https://www.cc.gatech.edu/~hyesoon/lee_taco12.pdf\n"
   ]
  },
  {
   "cell_type": "markdown",
   "metadata": {},
   "source": [
    "# Part 1:\n",
    "Write a simple code in C to transpose a dense matrix of size $n \\times n$. Time the performance of your code on one of the HPCC Development nodes for $n = 200, 1000, 5000, 8000, 10000, 15000, 20000, 40000$.\n",
    "\n",
    "**Note:**\n",
    "You may use C, C++ or FORTRAN for this code. Do not use aggressive optimization from the compiler (e.g., try only low level optimization, such as –O0)"
   ]
  },
  {
   "cell_type": "markdown",
   "metadata": {},
   "source": [
    "# Part 2:\n",
    "Take your simple code and block both loops to work with a bsize x bsize matrix. In Fortran, that code looks like the following: (**Note:** the Fortran “do i=s, e, incr” is like the C “for(i=s; i<=e; i+=incr)”)\n",
    "```\n",
    "do i=1,matSize, bsize \n",
    "    do j=1,matSize, bsize\n",
    "        do i1=i,min(i+bsize-1,matSize) \n",
    "            do j1=j,min(j+bsize-1,matSize)\n",
    "                matB(i1,j1) = matA(j1,i1) \n",
    "            enddo\n",
    "        enddo \n",
    "    enddo\n",
    "enddo\n",
    "```\n",
    "\n",
    "Using a bsize of 16, run the same tests as in Part 1 and record the timings in the table."
   ]
  },
  {
   "cell_type": "markdown",
   "metadata": {},
   "source": [
    " # Part 3:\n",
    "Run the following c code which is a simple cache oblivious code, for the same matrix sizes as in Part 1. "
   ]
  },
  {
   "cell_type": "raw",
   "metadata": {},
   "source": [
    "#include <stdio.h>\n",
    "#include <sys/types.h>\n",
    "#include <sys/time.h>\n",
    "#include <stdlib.h>\n",
    "\n",
    "/* Transpose, assuming column-major (Fortran) storage order (allows direct\n",
    "   comparison with Fortran routines) */\n",
    "int transpose( double *a, int ndra, int nr, int nc, double *b, int ndrb )\n",
    "{\n",
    "  if (nr < 32) {\n",
    "    /* perform transpose */\n",
    "    int i, j, ii;\n",
    "    double *bb=b;\n",
    "    const double *aa=a;\n",
    "    for (j=0; j<nc; j++) {\n",
    "      ii = 0;\n",
    "      for (i=0; i<nr; i++) {\n",
    "\t/* b[j+i*ndrb] = a[i+j*ndra]; */\n",
    "\tbb[ii] = aa[i];\n",
    "\t/* Strength reduction */\n",
    "\tii += ndrb;\n",
    "      }\n",
    "      aa += ndra; \n",
    "      bb ++;\n",
    "    }\n",
    "  }\n",
    "  else {\n",
    "    /* subdivide the long side */\n",
    "    if (nr > nc) {\n",
    "      transpose( a, ndra, nr/2, nc, b, ndrb );\n",
    "      transpose( a + nr/2 ,ndra, nr-nr/2, nc, b+(nr/2)*ndrb, ndrb );\n",
    "    }\n",
    "    else {\n",
    "      transpose( a, ndra, nr, nc/2, b, ndrb );\n",
    "      transpose( a+ndra*(nc/2), ndra, nr, nc-nc/2, b+nc/2, ndrb );\n",
    "    }\n",
    "  }\n",
    "}\n",
    "\n",
    "int transposeBase( double *a, int ndra, int nr, int nc, double *b, int ndrb )\n",
    "{\n",
    "  /* perform transpose */\n",
    "  int i, j, ii;\n",
    "  double *bb=b;\n",
    "  const double *aa=a;\n",
    "  for (j=0; j<nc; j++) {\n",
    "    ii = 0;\n",
    "    for (i=0; i<nr; i++) {\n",
    "      /* b[j+i*ndrb] = a[i+j*ndra]; */\n",
    "      bb[ii] = aa[i];\n",
    "      /* Strength reduction */\n",
    "      ii += ndrb;\n",
    "    }\n",
    "    aa += ndra; \n",
    "    bb ++;\n",
    "  }\n",
    "}\n",
    "\n",
    "int main( int argc, char *argv[] )\n",
    "{\n",
    "    int matSize=4000, maxTest=10;\n",
    "    double *matA, *matB;\n",
    "    int i, j, tests, n;\n",
    "    int k, rept=10;\n",
    "    struct timeval  tStart, tEnd;\n",
    "    float tLoop, t, rate;\n",
    "\n",
    "    if (argc > 1) {\n",
    "      matSize = atoi(argv[1]);\n",
    "    }\n",
    "    printf( \"Transpose %d x %d\\n\", matSize, matSize );\n",
    "\n",
    "    n = matSize * matSize;\n",
    "    matA = (double *) malloc( n * sizeof(double) );\n",
    "    matB = (double *) malloc( n * sizeof(double) );\n",
    "\n",
    "    for (i=0; i<n; i++) {\n",
    "      matA[i] = -i;\n",
    "      matB[i] = i;\n",
    "    }\n",
    "\n",
    "    tLoop = 1.0e10;\n",
    "    for (tests=0; tests<maxTest; tests++) {\n",
    "\tgettimeofday( &tStart, 0 );\n",
    "\tfor (k=0; k<rept; k++) {\n",
    "\t  transpose( matA, matSize, matSize, matSize, matB, matSize );\n",
    "\t}\n",
    "\tgettimeofday( &tEnd, 0 );\n",
    "\tt = (tEnd.tv_sec - tStart.tv_sec) + \n",
    "\t    1.0e-6 * (tEnd.tv_usec - tStart.tv_usec);\n",
    "\tt = t / rept;\n",
    "\tif (t < tLoop) tLoop = t;\n",
    "    }\n",
    "    \n",
    "    printf( \"Time = %f\\n\", tLoop );\n",
    "    rate = 8*(matSize*matSize) / tLoop;\n",
    "    printf( \"Rate = %f MB/s\\n\", rate * 1.0e-6 );\n",
    "\n",
    "    tLoop = 1.0e10;\n",
    "    for (tests=0; tests<maxTest; tests++) {\n",
    "\tgettimeofday( &tStart, 0 );\n",
    "\tfor (k=0; k<rept; k++) {\n",
    "\t  transposeBase( matA, matSize, matSize, matSize, matB, matSize );\n",
    "\t}\n",
    "\tgettimeofday( &tEnd, 0 );\n",
    "\tt = (tEnd.tv_sec - tStart.tv_sec) + \n",
    "\t    1.0e-6 * (tEnd.tv_usec - tStart.tv_usec);\n",
    "\tt = t / rept;\n",
    "\tif (t < tLoop) tLoop = t;\n",
    "    }\n",
    "    \n",
    "    printf( \"BaseTime = %f\\n\", tLoop );\n",
    "    rate = 8*(matSize*matSize) / tLoop;\n",
    "    printf( \"Base Rate = %f MB/s\\n\", rate * 1.0e-6 );\n",
    "\n",
    "    free( matA );\n",
    "    free( matB );\n",
    "\n",
    "    return 0;\n",
    "}"
   ]
  },
  {
   "cell_type": "markdown",
   "metadata": {},
   "source": [
    "Record the timings in a table similar to the following and generate a graph to put in your report.\n",
    "\n",
    "The table should look like this:\n",
    "  \n",
    "| Size  | Basic | Blocked | Cache Oblivious |\n",
    "|-------|-------|---------|-----------------|\n",
    "| 200   |       |         |                 |\n",
    "| 1000  |       |         |                 |\n",
    "| 5000  |       |         |                 |\n",
    "| 8000  |       |         |                 |\n",
    "| 10000 |       |         |                 |\n",
    "| 15000 |       |         |                 |\n",
    "| 20000 |       |         |                 |\n",
    "| 40000 |       |         |                 |"
   ]
  },
  {
   "cell_type": "markdown",
   "metadata": {},
   "source": [
    "# Homework Report\n",
    "\n",
    "Write a short (approx. 1-page) report for this homework.  Include the timing table and a corresponding graph for all three parts above.  The report and all of your code/instructions when you turn in the project (ex. Makefiles, library install instructions, etc). Make sure the report answers the following questions:"
   ]
  },
  {
   "cell_type": "markdown",
   "metadata": {},
   "source": [
    "&#9989; <font color=red>**QUESTION:**</font> Which method (based on 3 sets of measurement) is best? Does it depend on the matrix size?"
   ]
  },
  {
   "cell_type": "markdown",
   "metadata": {},
   "source": [
    "&#9989; <font color=red>**QUESTION:**</font> What programming language/version did you use to implement your transpose code?"
   ]
  },
  {
   "cell_type": "markdown",
   "metadata": {},
   "source": [
    "&#9989; <font color=red>**QUESTION:**</font> What instructions are needed for the instructor to reproduce your results? i.e. what commands are needed to compile your code?  What libraries (if any) are needed?  Do not assume that the instructor is familiar with your language. Make sure instructions are complete. Write them as if you were giving them to another student in this course or maybe CMSE202. "
   ]
  },
  {
   "cell_type": "markdown",
   "metadata": {},
   "source": [
    "&#9989; <font color=red>**QUESTION:**</font>  Describe the computer which you conducted the timing study (CPU speed, RAM, OS, software version, Cores used, etc.)."
   ]
  },
  {
   "cell_type": "markdown",
   "metadata": {},
   "source": [
    "&#9989; <font color=red>**QUESTION:**</font>  Describe ways you could make your program go faster. "
   ]
  },
  {
   "cell_type": "markdown",
   "metadata": {},
   "source": [
    "&#9989; <font color=red>**QUESTION:**</font>  Would it help to block separately for each level of cache? Why or why not?"
   ]
  },
  {
   "cell_type": "markdown",
   "metadata": {},
   "source": [
    "&#9989; <font color=red>**QUESTION:**</font> In this exercise you used square blocks. Would rectangular blocks be better? If so, what shape and why? How would you test this?"
   ]
  },
  {
   "cell_type": "markdown",
   "metadata": {},
   "source": [
    "&#9989; <font color=red>**QUESTION:**</font> Can you use the cache oblivious performance model to estimate the matrix size where the transpose performance changes abruptly?"
   ]
  },
  {
   "cell_type": "markdown",
   "metadata": {},
   "source": [
    "# Optional Bonus\n",
    "\n",
    "Automate your work flow.  See if you can write a SLURM submission script to compile, run all of the tests and generate the final plot.  "
   ]
  },
  {
   "cell_type": "markdown",
   "metadata": {},
   "source": [
    "----\n",
    "\n",
    "### Turning in your homework\n",
    "\n",
    "Now, you need to submit this assignment by uploading your files to the course Desire2Learn web page. Make sure you include your report and source code so the instructor may reproduce your results. "
   ]
  },
  {
   "cell_type": "markdown",
   "metadata": {},
   "source": [
    "&#169; Copyright 2019,  Michigan State University Board of Trustees"
   ]
  }
 ],
 "metadata": {
  "anaconda-cloud": {},
  "kernelspec": {
   "display_name": "Python 3",
   "language": "python",
   "name": "python3"
  },
  "language_info": {
   "codemirror_mode": {
    "name": "ipython",
    "version": 3
   },
   "file_extension": ".py",
   "mimetype": "text/x-python",
   "name": "python",
   "nbconvert_exporter": "python",
   "pygments_lexer": "ipython3",
   "version": "3.6.6"
  },
  "toc": {
   "base_numbering": 1,
   "nav_menu": {},
   "number_sections": false,
   "sideBar": false,
   "skip_h1_title": false,
   "title_cell": "Table of Contents",
   "title_sidebar": "Contents",
   "toc_cell": false,
   "toc_position": {},
   "toc_section_display": false,
   "toc_window_display": false
  }
 },
 "nbformat": 4,
 "nbformat_minor": 2
}
