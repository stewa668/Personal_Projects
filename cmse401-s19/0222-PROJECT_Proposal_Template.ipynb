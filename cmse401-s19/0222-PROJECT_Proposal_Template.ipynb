{
 "cells": [
  {
   "cell_type": "markdown",
   "metadata": {},
   "source": [
    "<p style=\"text-align: right;\">\n",
    "In order to successfully complete this assignment you need to turn in a project proposal to D2L on or before **11:59pm Friday February 22nd**.\n",
    "</p>\n"
   ]
  },
  {
   "cell_type": "markdown",
   "metadata": {},
   "source": [
    "# <center> &#9989; Project Title </center>\n",
    "\n",
    "<center>By &#9989; \"Your name\"</center>"
   ]
  },
  {
   "cell_type": "markdown",
   "metadata": {},
   "source": [
    "&#9989; Replace the following with a picture that \"defines\" your project.  This could be software logo, an expected outcome of your project, or a graphical representation of the research area. \n",
    "\n",
    "<img src=\"http://simpleicon.com/wp-content/uploads/camera.png\" width=\"20%\">\n",
    "<p style=\"text-align: right;\">Image from: URL REFERENCE</p>"
   ]
  },
  {
   "cell_type": "markdown",
   "metadata": {},
   "source": [
    "---\n",
    "# Abstract\n",
    "\n",
    "&#9989;  Provide a short paragraph about the domain you are going to cover in your project (research area, sports, economics, etc). Explain why you picked this domain (i.e. what is your motivation). Explain how computation is used I this domain.    Give a short description that describes the software are you want to explore,  what hardware are you going to use during this exploration, what you hope to benchmark, what you hope to speed up and and what will be a successful outcome.  \n"
   ]
  },
  {
   "cell_type": "markdown",
   "metadata": {},
   "source": [
    "---\n",
    "# Part 1 Software Exploration\n",
    "\n",
    "&#9989;  Provide a more detailed paragraph about the software you are going to review for the first part of the assignment.  Again this will vary based on project but provide any links (references) and information on where you plan to start.  Also descrbe what you expect as the outcome of this step.  Will you have a list of instructions for running the code on the HPC or maybe a folder in a format compatible with ```getexample```?\n"
   ]
  },
  {
   "cell_type": "markdown",
   "metadata": {},
   "source": [
    "---\n",
    "# Part 2 Benchmark and Optimization\n",
    "\n",
    "&#9989;  Explain what code you are going to benchmark.  Do you know if it already can be run in parallel?  If so what types of things are you going to look for to optimize the though put of the software.  How will you evaluate the software to know if the project is successful? What do you hope/expect to deliver and a successful outcome in your final report?  For example, you plan to implement ```openmp``` and demonstrate 20 times speedup in the code or I plan to identify a bottleneck in the code and demonstrate a 4x speed up the slow.  "
   ]
  },
  {
   "cell_type": "markdown",
   "metadata": {},
   "source": [
    "-----\n",
    "### &#9989;  Congratulations, you are done!\n",
    "\n",
    "Now, you just need to submit this report by uploading it to the course <a href=\"https://d2l.msu.edu/\">Desire2Learn</a> web page for today's dropbox."
   ]
  }
 ],
 "metadata": {
  "anaconda-cloud": {},
  "kernelspec": {
   "display_name": "Python 3",
   "language": "python",
   "name": "python3"
  },
  "language_info": {
   "codemirror_mode": {
    "name": "ipython",
    "version": 3
   },
   "file_extension": ".py",
   "mimetype": "text/x-python",
   "name": "python",
   "nbconvert_exporter": "python",
   "pygments_lexer": "ipython3",
   "version": "3.6.5"
  }
 },
 "nbformat": 4,
 "nbformat_minor": 1
}
