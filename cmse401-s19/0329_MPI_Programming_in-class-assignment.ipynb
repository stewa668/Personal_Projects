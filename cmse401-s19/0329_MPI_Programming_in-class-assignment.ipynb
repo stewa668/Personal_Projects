{
 "cells": [
  {
   "cell_type": "markdown",
   "metadata": {},
   "source": [
    "In order to successfully complete this assignment you need to participate both individually and in groups during class on **Friday March 29th**.\n",
    "\n"
   ]
  },
  {
   "cell_type": "markdown",
   "metadata": {},
   "source": [
    "# In-Class Assignment: MPI Programming Basics\n",
    "\n",
    "\n",
    "<img src=\"https://farm2.staticflickr.com/1207/3352784321_0d648bec78.jpg\">\n"
   ]
  },
  {
   "cell_type": "markdown",
   "metadata": {},
   "source": [
    "### Agenda for today's class (70 minutes)\n",
    "\n",
    "</p>\n",
    "\n",
    "1. (10 minutes) Pre-class Review\n",
    "2. (60 minutes) Pi Estimation in MPI"
   ]
  },
  {
   "cell_type": "markdown",
   "metadata": {},
   "source": [
    "---\n",
    "# 1. Pre-class Review \n",
    "\n",
    "[0326-MPI-Benchmarking-pre-class-assignment](0326-MPI-Benchmarking-pre-class-assignment.ipynb)"
   ]
  },
  {
   "cell_type": "markdown",
   "metadata": {},
   "source": [
    "# 2. Pi Estimation\n",
    "\n",
    "Lets go back and consider the pi estimation algorithm we used in [0213-OMP_Threads-in-class-assignment](0213-OMP_Threads-in-class-assignment.ipynb):\n",
    "\n",
    "```c++\n",
    "#include <omp.h>\n",
    "static long num_steps = 100000; double step;\n",
    "#define NUM_THREADS 2\n",
    "void main ()\n",
    "{ \n",
    "    int i, nthreads; double pi, sum[NUM_THREADS];\n",
    "     step = 1.0/(double) num_steps;\n",
    "     omp_set_num_threads(NUM_THREADS);\n",
    "     #pragma omp parallel\n",
    "     {\n",
    "         int i, id,nthrds;\n",
    "         double x;\n",
    "         id = omp_get_thread_num();\n",
    "         nthrds = omp_get_num_threads();\n",
    "         if (id == 0) nthreads = nthrds;\n",
    "         for (i=id, sum[id]=0.0;i< num_steps; i=i+nthrds) {\n",
    "             x = (i+0.5)*step;\n",
    "             sum[id] += 4.0/(1.0+x*x);\n",
    "         }\n",
    "     }\n",
    "     for(i=0, pi=0.0;i<nthreads;i++)pi += sum[i] * step;\n",
    "}\n",
    "```\n",
    "\n",
    "&#9989; <font color=red>**DO THIS:**</font> As a class, lets discuss the cons for moving this example to a Shared Memory system.\n",
    "\n",
    "\n",
    "Dispyte this being a poor example for running in MPI, lets spend today converting the code to an MPI version just to get an idea about how MPI would work.\n",
    "\n",
    "&#9989; <font color=red>**DO THIS:**</font> Take the above example and turn it into an MPI Only program."
   ]
  },
  {
   "cell_type": "markdown",
   "metadata": {},
   "source": [
    "-----\n",
    "### Congratulations, we're done!"
   ]
  },
  {
   "cell_type": "markdown",
   "metadata": {},
   "source": [
    "\n",
    "**Course Resources:**\n",
    "- [Syllabus](https://tinyurl.com/y75cnzam)\n",
    "- [Preliminary Schedule](https://tinyurl.com/CMSE314-Schedule)\n",
    "- [Git Repository](https://gitlab.msu.edu/colbrydi/cmse401-s19)\n",
    "- [Jargon Jar and Command History](https://tinyurl.com/CMSE314-JargonJar) \n",
    "\n"
   ]
  },
  {
   "cell_type": "markdown",
   "metadata": {},
   "source": [
    "&#169; Copyright 2019,  Michigan State University Board of Trustees"
   ]
  }
 ],
 "metadata": {
  "kernelspec": {
   "display_name": "Python 3",
   "language": "python",
   "name": "python3"
  },
  "language_info": {
   "codemirror_mode": {
    "name": "ipython",
    "version": 3
   },
   "file_extension": ".py",
   "mimetype": "text/x-python",
   "name": "python",
   "nbconvert_exporter": "python",
   "pygments_lexer": "ipython3",
   "version": "3.6.5"
  }
 },
 "nbformat": 4,
 "nbformat_minor": 2
}
