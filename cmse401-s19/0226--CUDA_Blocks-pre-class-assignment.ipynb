{
 "cells": [
  {
   "cell_type": "markdown",
   "metadata": {},
   "source": [
    "In order to successfully complete this assignment you must do the required reading, watch the provided videos and complete all instructions.  The embedded Google form must be entirely filled out and submitted on or before **11:59pm on Tuesday February 26th**.  Students must come to class the next day prepared to discuss the material covered in this assignment."
   ]
  },
  {
   "cell_type": "markdown",
   "metadata": {},
   "source": [
    "### Goals for today's pre-class assignment \n",
    "\n",
    "</p>\n",
    "\n",
    "1. Scheduling GPUs on HPCC\n",
    "1. Indexing a Kernel using Blocks and Grids"
   ]
  },
  {
   "cell_type": "markdown",
   "metadata": {},
   "source": [
    "# Pre-Class Assignment: Scheduling CUDA Jobs\n"
   ]
  },
  {
   "cell_type": "markdown",
   "metadata": {},
   "source": [
    "# 1. Scheduling GPUs on HPCC\n",
    "\n",
    "The following video shows you how to schedule basic CUDA jobs on the HPCC."
   ]
  },
  {
   "cell_type": "code",
   "execution_count": null,
   "metadata": {
    "scrolled": true
   },
   "outputs": [],
   "source": [
    "from IPython.display import YouTubeVideo\n",
    "YouTubeVideo(\"-y0ysuxbEa8\",width=640,height=360)"
   ]
  },
  {
   "cell_type": "markdown",
   "metadata": {},
   "source": [
    "&#9989; <font color=red>**QUESTION:**</font> What SLURM command should you add to your submission script to request a GPU?"
   ]
  },
  {
   "cell_type": "markdown",
   "metadata": {},
   "source": [
    "Put your answer to the above question here."
   ]
  },
  {
   "cell_type": "markdown",
   "metadata": {},
   "source": [
    "&#9989; <font color=red>**QUESTION:**</font> What module command do you need to include in your submission script to run CUDA programs?"
   ]
  },
  {
   "cell_type": "markdown",
   "metadata": {},
   "source": [
    "Put your answer to the above question here."
   ]
  },
  {
   "cell_type": "markdown",
   "metadata": {},
   "source": [
    "# 2. Indexing a Kernl using Blocks and Grids"
   ]
  },
  {
   "cell_type": "markdown",
   "metadata": {},
   "source": [
    "Each Cuda Kernel is a thread that runs inside of a block that runs inside of a grid. This organization is designed to make thread able to efficiently cooperate with each other. The following picture gives you a mental picture of how threads are organized into blocks which are organized into grids.\n",
    "\n",
    "<img src=\"https://upload.wikimedia.org/wikipedia/commons/thumb/5/5b/Block-thread.svg/1280px-Block-thread.svg.png\" width=50%>\n",
    "\n",
    "Each thread knows it's address based on the following variables:\n",
    "* ```gridDim.x```, ```gridDim.y``` and ```gridDim.z``` The size of the block grid in the ```x```, ```y``` and ```z``` directions.\n",
    "* ```blockDim.x```, ```blockDim.y``` and ```blockDim.z``` The size of the block grid in the ```x```, ```y``` and ```z``` directions.\n",
    "* ```threadIdx.x```, ```threadIdx.y``` and ```threadIdx.z``` . The location of the thread in ```x,y,z``` block coordinates.\n",
    "* ```blockIdx.x```, ```blockIdx.y``` and ```blockIdx.z``` . The location of the block in ```x,y,z``` grid coordinates.\n",
    "\n",
    "Mony programs do not use all three dimensions.  For example, consider the following CUDA kernel from the last pre-class assignment which only uses 2D example and assumes the ```threadIdx.z``` and ```blockIndx.z``` are zero:\n",
    "\n",
    "```c++\n",
    "__global__ void theKernel(float * our_array)\n",
    "{\n",
    "    //This is array flattening, (Array Width * Y Index + X Index)\n",
    "    int index = (gridDim.x * blockDim.x) * \\\n",
    "              (blockIdx.y * blockDim.y + threadIdx.y) + \\\n",
    "              (blockIdx.x * blockDim.x + threadIdx.x);\n",
    "    our_array[index] = (float) index;\n",
    "}\n",
    "```\n",
    "\n",
    "Here is a simpler one from the Vector Add code which only uses one dimension:\n",
    "\n",
    "```c++\n",
    "__global__ void vecAdd(int *A,int *B,int *C,int N)\n",
    "{\n",
    "   int i = blockIdx.x * blockDim.x + threadIdx.x;\n",
    "   C[i] = A[i] + B[i]; \n",
    "}\n",
    "```"
   ]
  },
  {
   "cell_type": "markdown",
   "metadata": {},
   "source": [
    "&#9989; <font color=red>**QUESTION:**</font> Similar to the above code, how would you calculate a unique index for a three dimensional grid with three dimensional blocks (i.e. take the ```int index``` calculation from above and extend it into three dimensions)?"
   ]
  },
  {
   "cell_type": "markdown",
   "metadata": {},
   "source": [
    "Put your answer to the above question here. "
   ]
  },
  {
   "cell_type": "code",
   "execution_count": null,
   "metadata": {
    "scrolled": false
   },
   "outputs": [],
   "source": [
    "from IPython.display import YouTubeVideo\n",
    "YouTubeVideo(\"usY0643pYs8\",width=640,height=360)"
   ]
  },
  {
   "cell_type": "markdown",
   "metadata": {},
   "source": [
    "&#9989; <font color=red>**QUESTION:**</font> What does SM stand for?"
   ]
  },
  {
   "cell_type": "markdown",
   "metadata": {},
   "source": [
    "Put your answer to the above question here. "
   ]
  },
  {
   "cell_type": "markdown",
   "metadata": {},
   "source": [
    "# 3. Launching a Kernel"
   ]
  },
  {
   "cell_type": "markdown",
   "metadata": {},
   "source": [
    "In the last pre-class the Kernel (shown above) was lanched using the following code:\n",
    "\n",
    "```c++\n",
    "dim3 gridSize(2,2,1);\n",
    "dim3 blockSize(8,8,1);\n",
    "theKernel <<<gridSize, blockSize>>> (our_array_d);\n",
    "```\n",
    "\n",
    "And the Vector Add example from class used the following code:\n",
    "\n",
    "```c++\n",
    "int n=10000000;\n",
    "int block_size=1024;\n",
    "int block_no = n/block_size;\n",
    "dim3 dimGrid(block_no,1,1);\n",
    "dim3 dimBlock(block_size,1,1);\n",
    "vecAdd<<<block_no,block_size>>>(a_d,b_d,c_d,n);\n",
    "```\n",
    "\n",
    "The following video tries to explain this syntax:"
   ]
  },
  {
   "cell_type": "code",
   "execution_count": null,
   "metadata": {
    "scrolled": true
   },
   "outputs": [],
   "source": [
    "from IPython.display import YouTubeVideo\n",
    "YouTubeVideo(\"yNs8B1VnMAA\",width=640,height=360)"
   ]
  },
  {
   "cell_type": "markdown",
   "metadata": {},
   "source": [
    "Consider the following Kernel Call described at the end of the above video:\n",
    "\n",
    "```c++\n",
    "Kernel <<<dim3(8,4,2), dim3(16,16)>>>(...)\n",
    "```"
   ]
  },
  {
   "cell_type": "markdown",
   "metadata": {},
   "source": [
    "&#9989; <font color=red>**QUESTION:**</font> How many blocks are there?"
   ]
  },
  {
   "cell_type": "markdown",
   "metadata": {},
   "source": [
    "Put your answer to the above question here. "
   ]
  },
  {
   "cell_type": "markdown",
   "metadata": {},
   "source": [
    "&#9989; <font color=red>**QUESTION:**</font> How many Threads per block?"
   ]
  },
  {
   "cell_type": "markdown",
   "metadata": {},
   "source": [
    "Put your answer to the above question here. "
   ]
  },
  {
   "cell_type": "markdown",
   "metadata": {},
   "source": [
    "&#9989; <font color=red>**QUESTION:**</font> How many total threads?"
   ]
  },
  {
   "cell_type": "markdown",
   "metadata": {},
   "source": [
    "Put your answer to the above question here. "
   ]
  },
  {
   "cell_type": "markdown",
   "metadata": {},
   "source": [
    "# 4. Branch Divergence\n"
   ]
  },
  {
   "cell_type": "code",
   "execution_count": null,
   "metadata": {
    "scrolled": false
   },
   "outputs": [],
   "source": [
    "from IPython.display import YouTubeVideo\n",
    "YouTubeVideo(\"cYw7VsyVTe4\",width=640,height=360)"
   ]
  },
  {
   "cell_type": "markdown",
   "metadata": {},
   "source": [
    "&#9989; <font color=red>**QUESTION:**</font> What is Branch Divergence and why it is bad?"
   ]
  },
  {
   "cell_type": "markdown",
   "metadata": {},
   "source": [
    "Put your answer to the above question here. "
   ]
  },
  {
   "cell_type": "markdown",
   "metadata": {},
   "source": [
    "----\n",
    "# 5. Assignment wrap-up\n",
    "\n",
    "Please fill out the form that appears when you run the code below.  **You must completely fill this out in order to receive credit for the assignment!**\n",
    "\n",
    "[Direct Link](https://docs.google.com/forms/d/e/1FAIpQLScuf1EUuG3dk0SQEQ-pH1VmfPgsIJn9ZPFhh9YxJVhxTwX03Q/viewform)"
   ]
  },
  {
   "cell_type": "markdown",
   "metadata": {},
   "source": [
    "&#9989; <font color=red>**QUESTION:**</font> Approximately how long (in minutes) did this assignment take for you to complete."
   ]
  },
  {
   "cell_type": "markdown",
   "metadata": {},
   "source": [
    "Put your answer to the above question here"
   ]
  },
  {
   "cell_type": "markdown",
   "metadata": {},
   "source": [
    "&#9989; <font color=red>**QUESTION:**</font>  What questions do you have, if any, about any of the topics discussed in this assignment after working through the jupyter notebook?"
   ]
  },
  {
   "cell_type": "markdown",
   "metadata": {},
   "source": [
    "Put your answer to the above question here"
   ]
  },
  {
   "cell_type": "markdown",
   "metadata": {},
   "source": [
    "&#9989; <font color=red>**QUESTION:**</font>  Do you have any further questions or comments about this material, or anything else that's going on in class? "
   ]
  },
  {
   "cell_type": "markdown",
   "metadata": {},
   "source": [
    "Put your answer to the above question here"
   ]
  },
  {
   "cell_type": "code",
   "execution_count": null,
   "metadata": {},
   "outputs": [],
   "source": [
    "from IPython.display import HTML\n",
    "HTML(\n",
    "\"\"\"\n",
    "<iframe \n",
    "\tsrc=\"https://docs.google.com/forms/d/e/1FAIpQLScuf1EUuG3dk0SQEQ-pH1VmfPgsIJn9ZPFhh9YxJVhxTwX03Q/viewform?embedded=true\" \n",
    "\twidth=\"100%\" \n",
    "\theight=\"1200px\" \n",
    "\tframeborder=\"0\" \n",
    "\tmarginheight=\"0\" \n",
    "\tmarginwidth=\"0\">\n",
    "\tLoading...\n",
    "</iframe>\n",
    "\"\"\"\n",
    ")"
   ]
  },
  {
   "cell_type": "markdown",
   "metadata": {},
   "source": [
    "---------\n",
    "### Congratulations, we're done!\n",
    "\n",
    "To get credit for this assignment you must fill out and submit the above Google From on or before the assignment due date."
   ]
  },
  {
   "cell_type": "markdown",
   "metadata": {},
   "source": [
    "\n",
    "**Course Resources:**\n",
    "- [Syllabus](https://tinyurl.com/y75cnzam)\n",
    "- [Preliminary Schedule](https://tinyurl.com/CMSE314-Schedule)\n",
    "- [Git Repository](https://gitlab.msu.edu/colbrydi/cmse401-s19)\n",
    "- [Jargon Jar and Command History](https://tinyurl.com/CMSE314-JargonJar) \n",
    "\n"
   ]
  },
  {
   "cell_type": "markdown",
   "metadata": {},
   "source": [
    "&#169; Copyright 2019,  Michigan State University Board of Trustees"
   ]
  }
 ],
 "metadata": {
  "anaconda-cloud": {},
  "kernelspec": {
   "display_name": "Python 3",
   "language": "python",
   "name": "python3"
  },
  "language_info": {
   "codemirror_mode": {
    "name": "ipython",
    "version": 3
   },
   "file_extension": ".py",
   "mimetype": "text/x-python",
   "name": "python",
   "nbconvert_exporter": "python",
   "pygments_lexer": "ipython3",
   "version": "3.6.6"
  }
 },
 "nbformat": 4,
 "nbformat_minor": 2
}
