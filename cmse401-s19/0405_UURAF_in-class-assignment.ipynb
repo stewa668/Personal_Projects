{
 "cells": [
  {
   "cell_type": "markdown",
   "metadata": {},
   "source": [
    "**NOTE:** There is no pre-class assignment for this activity.\n",
    "\n",
    "\n",
    "In order to successfully complete this assignment you need to participate in the MSU UURAF on **Friday April 5th** as described in this notebook.\n"
   ]
  },
  {
   "cell_type": "markdown",
   "metadata": {},
   "source": [
    "# In-Class Assignment: UURAF\n",
    "\n",
    "<img src=\"https://msutoday.msu.edu/_/img/assets/2016/uuraf.jpg\" width=\"50%\">\n",
    "\n",
    "We will **NOT** be meeting in class today. Instead I would like everyone to use the class time to attend the 2019 University Undergraduate Research and Arts Forum (UURAF) which will be held on Friday April 5 at the MSU Union. More information about the event can be found here:\n",
    "\n",
    "https://urca.msu.edu/uuraf\n",
    "\n",
    "\n",
    "----\n",
    "# 1. UURAF \n",
    "\n",
    "While at UURAF, review posters and presentations and find ones that use computation or could benefit from computational methods as a part of the research.  For example, any large scale data science or computational modeling presentation would qualify.  Basically anything that that use the HPCC or could take advantage of HPCC computational resources would qualify.  \n",
    "\n",
    "\n",
    "&#9989; <font color=red>**DO THIS:**</font> Take a picture of the poster(s) or title slide of the presentation(s). Email the picture to your instructor (colbrydi@msu.edu) with a brief description about the research and how it uses (or could use) computation. Pay special attention to how the research could relate to topics we have covered in class.  \n",
    "\n",
    "&#9989; <font color=red>**DO THIS:**</font> Feel free to send more than one.\n",
    "\n",
    "&#9989; <font color=red>**DO THIS:**</font> Be prepared to come to class on Monday and briefly talk about the research you found. "
   ]
  },
  {
   "cell_type": "markdown",
   "metadata": {},
   "source": [
    "-----\n",
    "### Congratulations, we're done!"
   ]
  },
  {
   "cell_type": "markdown",
   "metadata": {},
   "source": [
    "\n",
    "**Course Resources:**\n",
    "- [Syllabus](https://tinyurl.com/y75cnzam)\n",
    "- [Preliminary Schedule](https://tinyurl.com/CMSE314-Schedule)\n",
    "- [Git Repository](https://gitlab.msu.edu/colbrydi/cmse401-s19)\n",
    "- [Jargon Jar and Command History](https://tinyurl.com/CMSE314-JargonJar) \n",
    "\n"
   ]
  },
  {
   "cell_type": "markdown",
   "metadata": {},
   "source": [
    "&#169; Copyright 2019,  Michigan State University Board of Trustees"
   ]
  }
 ],
 "metadata": {
  "kernelspec": {
   "display_name": "Python 3",
   "language": "python",
   "name": "python3"
  },
  "language_info": {
   "codemirror_mode": {
    "name": "ipython",
    "version": 3
   },
   "file_extension": ".py",
   "mimetype": "text/x-python",
   "name": "python",
   "nbconvert_exporter": "python",
   "pygments_lexer": "ipython3",
   "version": "3.6.5"
  }
 },
 "nbformat": 4,
 "nbformat_minor": 2
}
