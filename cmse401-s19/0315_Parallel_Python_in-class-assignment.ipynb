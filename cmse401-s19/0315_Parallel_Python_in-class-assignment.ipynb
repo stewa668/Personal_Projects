{
 "cells": [
  {
   "cell_type": "markdown",
   "metadata": {},
   "source": [
    "\n",
    "In order to successfully complete this assignment you need to participate both individually and in groups during class on **Thursday March 15th**.\n"
   ]
  },
  {
   "cell_type": "markdown",
   "metadata": {},
   "source": [
    "# In-Class Assignment: Parallel Python\n",
    "\n",
    "<img src=\"https://images-na.ssl-images-amazon.com/images/I/41dqFN7dIrL.jpg\">\n",
    "<p style=\"text-align: right;\">Image from: https://www.nvidia.com</p>\n",
    "</p>\n"
   ]
  },
  {
   "cell_type": "markdown",
   "metadata": {},
   "source": [
    "### Agenda for today's class (70 minutes)\n",
    "\n",
    "</p>\n",
    "\n",
    "1. (20 minutes) Pre-class Review\n",
    "1. (30 minutes) Numba Example\n",
    "1. (20 minutes) Explore Parallel Python"
   ]
  },
  {
   "cell_type": "markdown",
   "metadata": {},
   "source": [
    "---\n",
    "# 1. Pre-class Review\n",
    "\n",
    "[0314--Parallel_Python-pre-class-assignment](0314--Parallel_Python-pre-class-assignment.ipynb)"
   ]
  },
  {
   "cell_type": "markdown",
   "metadata": {},
   "source": [
    "----\n",
    "\n",
    "# 2. Numba Example\n",
    "\n",
    "As a class lets review the 1D Example and see if we can get it working in parrallel using Numba."
   ]
  },
  {
   "cell_type": "code",
   "execution_count": null,
   "metadata": {},
   "outputs": [],
   "source": [
    "%matplotlib inline\n",
    "import matplotlib.pylab as plt\n",
    "from IPython.display import display, clear_output\n",
    "import time\n",
    "def show_animation(delay=0.01):\n",
    "    fig = plt.gcf()\n",
    "    time.sleep(delay)       # Sleep for half a second to slow down the animation\n",
    "    clear_output(wait=True) # Clear output for dynamic display\n",
    "    display(fig)            # Reset display\n",
    "    fig.clear()             # Prevent overlapping and layered plots"
   ]
  },
  {
   "cell_type": "code",
   "execution_count": null,
   "metadata": {
    "scrolled": false
   },
   "outputs": [],
   "source": [
    "%%time \n",
    "import math\n",
    "\n",
    "xmin = 0.0\n",
    "xmax = 10.0\n",
    "nx = 500\n",
    "dx = (xmax-xmin)/(nx-1.0)\n",
    "x = [0.0]*nx\n",
    "x[0]=0.0\n",
    "for i in range(1,nx-1):\n",
    "    x[i]=xmin+i*dx\n",
    "x[nx-1]=10.0\n",
    "\n",
    "nt = 100000\n",
    "tmin = 0.0\n",
    "tmax = 10.0\n",
    "dt = (tmax-tmin)/(nt-1.0)\n",
    "tgrid = [0.0]*nt\n",
    "tgrid[0]=0.0\n",
    "for i in range(1,nt-1):\n",
    "    tgrid[i]=tmin+i*dt\n",
    "tgrid[nx-1]=10.0\n",
    "\n",
    "\n",
    "y = [0.0]*nx\n",
    "v = [0.0]*nx\n",
    "dvdt = [0.0]*nx\n",
    "for i in range(0,nx-1):\n",
    "    y[i] = math.exp(-(x[i]-5.0)**2)\n",
    "\n",
    "count = 0\n",
    "for t in tgrid:\n",
    "    for i in range(1,nx-2):\n",
    "        dvdt[i]=(y[i+1]+y[i-1]-2.0*y[i])/dx/dx\n",
    "    for i in range(0,nx-1):\n",
    "        y[i] = y[i] + v[i]*dt\n",
    "        v[i] = v[i] + dvdt[i]*dt\n",
    "\n",
    "    if not count%10000:\n",
    "        plt.plot(x, y);\n",
    "        plt.title(count)\n",
    "        show_animation();\n",
    "    count += 1\n",
    "\n",
    "plt.plot(x, y);"
   ]
  },
  {
   "cell_type": "markdown",
   "metadata": {},
   "source": [
    "----\n",
    "# 3. Explore Parallel Python\n",
    "\n",
    "In the remainder of the class, see if you can explore some of the other was to make python code run in parallel. \n",
    "\n",
    "Share what we learn with the class."
   ]
  },
  {
   "cell_type": "markdown",
   "metadata": {},
   "source": [
    "-----\n",
    "### Congratulations, we're done!"
   ]
  },
  {
   "cell_type": "markdown",
   "metadata": {},
   "source": [
    "\n",
    "**Course Resources:**\n",
    "- [Syllabus](https://tinyurl.com/y75cnzam)\n",
    "- [Preliminary Schedule](https://tinyurl.com/CMSE314-Schedule)\n",
    "- [Git Repository](https://gitlab.msu.edu/colbrydi/cmse401-s19)\n",
    "- [Jargon Jar and Command History](https://tinyurl.com/CMSE314-JargonJar) \n",
    "\n"
   ]
  },
  {
   "cell_type": "markdown",
   "metadata": {},
   "source": [
    "&#169; Copyright 2019,  Michigan State University Board of Trustees"
   ]
  }
 ],
 "metadata": {
  "kernelspec": {
   "display_name": "Python 3",
   "language": "python",
   "name": "python3"
  },
  "language_info": {
   "codemirror_mode": {
    "name": "ipython",
    "version": 3
   },
   "file_extension": ".py",
   "mimetype": "text/x-python",
   "name": "python",
   "nbconvert_exporter": "python",
   "pygments_lexer": "ipython3",
   "version": "3.6.6"
  }
 },
 "nbformat": 4,
 "nbformat_minor": 2
}
