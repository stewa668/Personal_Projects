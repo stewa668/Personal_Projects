{
 "cells": [
  {
   "cell_type": "markdown",
   "metadata": {},
   "source": [
    "<p style=\"text-align: right;\">\n",
    "In order to successfully complete this assignment you need to participate both individually and in groups during class on **Wednesday January 23th**.\n",
    "</p>\n"
   ]
  },
  {
   "cell_type": "markdown",
   "metadata": {},
   "source": [
    "# In-Class Assignment: Which Langague is the fastest?\n",
    "\n",
    "<img src=\"https://cacm.acm.org/system/assets/0003/2262/081618_Python-Cpp.large.jpg?1534448896&1534448896\" width=\"30%\">\n",
    "<p style=\"text-align: right;\">Image from: https://cacm.acm.org/news/230374-report-python-closes-in-on-c/fulltext</p>\n",
    "    "
   ]
  },
  {
   "cell_type": "markdown",
   "metadata": {},
   "source": [
    "### Agenda for today's class (70 minutes)\n",
    "\n",
    "</p>\n",
    "\n",
    "1. (10 minutes) Review Pre-class assignment\n",
    "1. (10 minutes) Review HW1 results\n",
    "1. (40 minutes) Timeing Comparison\n",
    "1. (10 minutes) Project Discussion"
   ]
  },
  {
   "cell_type": "markdown",
   "metadata": {},
   "source": [
    "----\n",
    "# 1. Review Pre-class assignment\n",
    "\n",
    "[0122--ENV-pre-class-assignment](0122--ENV-pre-class-assignment.ipunb)\n",
    "\n"
   ]
  },
  {
   "cell_type": "markdown",
   "metadata": {},
   "source": [
    "----\n",
    "# 2. Review HW1 results\n",
    "\n",
    "As a class we will go over the homework and the timeing results. "
   ]
  },
  {
   "cell_type": "markdown",
   "metadata": {},
   "source": [
    "----\n",
    "# 3. Timeing Comparison\n",
    "\n",
    "Log onto the HPCC and do a ```git pull``` on the CMSE401 git repository.  This should create a new folder called ```WAVE_COMP```.\n",
    "\n",
    "In the ```WAVE_COMP``` folder are the following solutions to the Wave equation.  \n",
    "\n",
    "- C  \n",
    "- CSHARP  \n",
    "- FORTRAN  \n",
    "- JAVA  \n",
    "- MATLAB  \n",
    "- PYTHON\n",
    "\n",
    "As a class we will split up these solutions, get them to run and do a timeing study for each. \n",
    "\n",
    "\n",
    "Put results in our timing file: [Timing Studies](https://docs.google.com/spreadsheets/d/1WBf9TxULtwIv5D59tk5M-VRxBIHXCby79Q4cgEF7H7o/edit)"
   ]
  },
  {
   "cell_type": "markdown",
   "metadata": {},
   "source": [
    "# 4. Project Discussion\n",
    "\n",
    "If we have enough time we will have a discussion about class projects. "
   ]
  },
  {
   "cell_type": "markdown",
   "metadata": {},
   "source": [
    "-----\n",
    "### Congratulations, we're done!"
   ]
  },
  {
   "cell_type": "markdown",
   "metadata": {},
   "source": [
    "\n",
    "**Course Resources:**\n",
    "- [Syllabus](https://tinyurl.com/y75cnzam)\n",
    "- [Preliminary Schedule](https://tinyurl.com/CMSE314-Schedule)\n",
    "- [Git Repository](https://gitlab.msu.edu/colbrydi/cmse401-s19)\n",
    "- [Jargon Jar and Command History](https://tinyurl.com/CMSE314-JargonJar) "
   ]
  },
  {
   "cell_type": "markdown",
   "metadata": {},
   "source": [
    "&#169; Copyright 2019,  Michigan State University Board of Trustees"
   ]
  }
 ],
 "metadata": {
  "kernelspec": {
   "display_name": "Python 3",
   "language": "python",
   "name": "python3"
  },
  "language_info": {
   "codemirror_mode": {
    "name": "ipython",
    "version": 3
   },
   "file_extension": ".py",
   "mimetype": "text/x-python",
   "name": "python",
   "nbconvert_exporter": "python",
   "pygments_lexer": "ipython3",
   "version": "3.6.5"
  }
 },
 "nbformat": 4,
 "nbformat_minor": 2
}
