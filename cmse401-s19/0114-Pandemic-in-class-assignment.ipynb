{
 "cells": [
  {
   "cell_type": "markdown",
   "metadata": {},
   "source": [
    "<p style=\"text-align: right;\">\n",
    "In order to successfully complete this assignment you need to participate both individually and in groups during class on **Monday January 14th**.\n",
    "</p>"
   ]
  },
  {
   "cell_type": "markdown",
   "metadata": {},
   "source": [
    "# In-Class Assignment: Ad-hoc cluster (Day 1 - Pandemic)\n",
    "\n",
    "<img src=\"https://upload.wikimedia.org/wikipedia/commons/d/d8/2009_world_subdivisions_flu_pandemic_-_2.png\" width=\"80%\">\n",
    "\n",
    "<p style=\"text-align: right;\">Image from: https://en.wikipedia.org/wiki/Pandemic</p>\n",
    "</p>\n",
    "\n"
   ]
  },
  {
   "cell_type": "markdown",
   "metadata": {},
   "source": [
    "### Agenda for today's class (70 minutes)\n",
    "</p>\n",
    "1. (10 minutes) Pre-class assignment review\n",
    "1. (30 mintues) Set up BCCD Cluster\n",
    "2. (30 minutes) Run and Benchmark Pandemic"
   ]
  },
  {
   "cell_type": "markdown",
   "metadata": {},
   "source": [
    "----\n",
    "\n",
    "# 1. Pre-class assignment review\n",
    "\n",
    "Where did you get stuck?\n",
    "\n",
    "[0110--BCCD-pre-class-assignment](0110--BCCD-pre-class-assignment.ipynb)"
   ]
  },
  {
   "cell_type": "markdown",
   "metadata": {},
   "source": [
    "---\n",
    "# 2. Set up BCCD Cluster\n",
    "\n",
    "In class we are going to set up a computer cluster out of classroom Laptops. \n",
    "\n",
    "1. Get out laptops and boot them up.\n",
    "2. Connect each laptop to power\n",
    "3. Connect each laptop to the network.\n",
    "4. Boot the BCCD Virtual Machine.\n",
    "\n"
   ]
  },
  {
   "cell_type": "markdown",
   "metadata": {},
   "source": [
    "--- \n",
    "\n",
    "# 3. Run and benchmark Pandemic\n",
    "\n",
    "&#9989; <font color=red>**DO THIS:**</font>  As a class we will run a timing study using the Pandemic Example on the BCCD VM.  Some treatments to test include:\n",
    "\n",
    "- Serial Code\n",
    "- Baseline OpenMP Code \n",
    "- Scaling Study (with different numbers of cores)\n",
    "- Different computers\n",
    "\n",
    "\n",
    "Results of the study should be recorded on the folloiwng website:\n",
    "\n",
    "[Timing Studies](https://docs.google.com/spreadsheets/d/1WBf9TxULtwIv5D59tk5M-VRxBIHXCby79Q4cgEF7H7o/edit)\n"
   ]
  },
  {
   "cell_type": "markdown",
   "metadata": {},
   "source": [
    "-----\n",
    "### Congratulations, we're done!"
   ]
  },
  {
   "cell_type": "markdown",
   "metadata": {},
   "source": [
    "\n",
    "**Course Resources:**\n",
    "- [Syllabus](https://tinyurl.com/y75cnzam)\n",
    "- [Preliminary Schedule](https://tinyurl.com/CMSE314-Schedule)\n",
    "- [Git Repository](https://gitlab.msu.edu/colbrydi/cmse401-s19)\n",
    "- [Jargon Jar and Command History](https://tinyurl.com/CMSE314-JargonJar) \n",
    "\n"
   ]
  },
  {
   "cell_type": "markdown",
   "metadata": {},
   "source": [
    "&#169; Copyright 2019,  Michigan State University Board of Trustees"
   ]
  }
 ],
 "metadata": {
  "kernelspec": {
   "display_name": "Python 3",
   "language": "python",
   "name": "python3"
  },
  "language_info": {
   "codemirror_mode": {
    "name": "ipython",
    "version": 3
   },
   "file_extension": ".py",
   "mimetype": "text/x-python",
   "name": "python",
   "nbconvert_exporter": "python",
   "pygments_lexer": "ipython3",
   "version": "3.6.5"
  }
 },
 "nbformat": 4,
 "nbformat_minor": 2
}
