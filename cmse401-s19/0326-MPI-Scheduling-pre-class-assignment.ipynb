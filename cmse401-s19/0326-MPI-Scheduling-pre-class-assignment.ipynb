{
 "cells": [
  {
   "cell_type": "markdown",
   "metadata": {},
   "source": [
    "In order to successfully complete this assignment you must do the required reading, watch the provided videos and complete all instructions.  The embedded Google form must be entirely filled out and submitted on or before **11:59pm on Tuesday March 26th**.  Students must come to class the next day prepared to discuss the material covered in this assignment."
   ]
  },
  {
   "cell_type": "markdown",
   "metadata": {},
   "source": [
    "# Pre-Class Assignment: MPI Scheduling"
   ]
  },
  {
   "cell_type": "markdown",
   "metadata": {},
   "source": [
    "### Goals for today's pre-class assignment \n",
    "\n",
    "</p>\n",
    "\n",
    "1. Scheduling Distributed Memory Jobs In SLURM\n",
    "4. Best ```sbatch``` options for MPI\n",
    "3. mpiexec vs srun\n",
    "4. Assignment wrap-up\n",
    "\n"
   ]
  },
  {
   "cell_type": "markdown",
   "metadata": {},
   "source": [
    "-----\n",
    "\n",
    "# 1.  Scheduling Distributed Memory Jobs In SLURM\n",
    "\n",
    "\n",
    "The SLURM Scheduler can be set up in many different configurations and has many different abstraction layers.  For example SLURM differentiates cores, threads, sockets, nodes.  Review the manual (man) page for the SLURM ```sbatch``` command here:\n",
    "\n",
    "https://slurm.schedmd.com/sbatch.html\n",
    "\n",
    "Based on my reading of this document I think the terms can be grouped into two different ways to abstract the problem.    \n",
    "\n",
    "### Hardware abstraction\n",
    "* **node** - A physical computing system that shares a common memory address space.  A node may have more than one socket and a socket may have multiple cores. However, all the cores on a single node would share the same memory space. \n",
    "* **sockets** - A physical socket that a CPU chip would be put in.  There can be multiple sockets per node.\n",
    "* **cores** - Independent computing cores. There are typically multiple cores per socket. \n",
    "* **threads** - Independent programming threads that can be run on a single core or different cores.\n",
    "\n",
    "### Program abstraction\n",
    "* **job** - A set of commands controlled by the scheduler. Each job is given a different unique identifier.\n",
    "* **task** - A discrete piece of work being distributed by a \"job\" typically related to a thread.\n",
    "\n",
    "There are a dizzying number of SLURM options relate to how jobs map programs onto hardware. Some of them include:\n",
    "\n",
    "* -N, --nodes\n",
    "* -n, --ntasks\n",
    "* --ntasks-per-core\n",
    "* --ntasks-per-node, --tasks-per-node\n",
    "* --ntasks-per-socket\n",
    "* --sockets-per-node\n",
    "* --cores-per-socket\n",
    "* --threads-per-core\n",
    "* --cpus-per-task\n",
    "* --mincpus\n",
    "* --use-min-nodes\n"
   ]
  },
  {
   "cell_type": "markdown",
   "metadata": {},
   "source": [
    "&#9989; <font color=red>**QUESTION:**</font> Go back to our study of OpenMP, which of the above options do we use to schedule shared memory jobs?"
   ]
  },
  {
   "cell_type": "markdown",
   "metadata": {},
   "source": [
    "Put your answer here."
   ]
  },
  {
   "cell_type": "markdown",
   "metadata": {},
   "source": [
    "&#9989; <font color=red>**QUESTION:**</font> When running an OpenMP job we want to have multiple threads on each node.  Why do we generally avoid multiple threads per core?"
   ]
  },
  {
   "cell_type": "markdown",
   "metadata": {},
   "source": [
    "Put your answer here."
   ]
  },
  {
   "cell_type": "markdown",
   "metadata": {},
   "source": [
    "-----\n",
    "\n",
    "# 2.  Best ```sbatch``` options for MPI\n",
    "\n",
    "Early in the semester I suggested using the following syntax for scheduling MPI jobs across the cluster:\n",
    "\n",
    "```bash\n",
    "#SBATCH --ntasks-per-node=1\n",
    "#SBATCH --nodes=7\n",
    "```\n",
    "\n",
    "However, I think this recommendation is wrong. With these two options each job runs on seven different node and are allocated only one core per node.  This is not quite the way we want to run MPI jobs.  It is generally better to run multiple cores on a single node because MPI communication will be faster between the cores.  One option would be to request all seven cores on the same node:\n",
    "\n",
    "```bash\n",
    "#SBATCH -nodes=1\n",
    "#SBATCH --ntasks-per-node=7\n",
    "```\n",
    "\n",
    "However, this is not quite right either. This option would only scale to the largest node.  This job is also much harder to schedule because the scheduler would have to wait for all seven cores to be available on a single node.\n",
    "\n",
    "\n",
    "Instead, we want to provide flexibility to the scheduler so the job will start as soon as cores are available anywhere on the system.  For example, to we don't care if we schedule 7 tasks on 1 node or 7 nodes. "
   ]
  },
  {
   "cell_type": "markdown",
   "metadata": {},
   "source": [
    "&#9989; <font color=red>**QUESTION:**</font> Which of the above options you would need to use to allow the scheduler to choose how to allocate $T$ tasks across anywhere between 1 and $T$ nodes.  If you can't figure it out based on the manual and your tests, go ahead and guess. We will clarify in class. "
   ]
  },
  {
   "cell_type": "markdown",
   "metadata": {},
   "source": [
    "Put your answer here."
   ]
  },
  {
   "cell_type": "markdown",
   "metadata": {},
   "source": [
    "-----\n",
    "\n",
    "# 3.  mpiexec vs srun\n",
    "\n",
    "At the beginning of the semester I mentioned there is no difference between running ```mpiexec``` and ```srun```.  in fact, I didn't know why SLURM bothered making a different program that does the same thing.  Since then, I discovered that in fact ```srun``` is useful.  Please read the following website and answer the questions about ```srun``` and ```mpiexec```.\n",
    "\n",
    "https://wiki.hpcc.msu.edu/display/ITH/Show+Job+Steps+by+sacct+and+srun+Commands\n",
    "\n"
   ]
  },
  {
   "cell_type": "markdown",
   "metadata": {},
   "source": [
    "&#9989; <font color=red>**QUESTION:**</font> What advantage does ```srun``` have over ```mpiexec```?"
   ]
  },
  {
   "cell_type": "markdown",
   "metadata": {},
   "source": [
    "Put your answer here."
   ]
  },
  {
   "cell_type": "markdown",
   "metadata": {},
   "source": [
    "----\n",
    "# 4. Assignment wrap-up\n",
    "\n",
    "Please fill out the form that appears when you run the code below.  **You must completely fill this out in order to receive credit for the assignment!**\n",
    "\n",
    "[Direct Link](https://docs.google.com/forms/d/e/1FAIpQLSfNr7FjAifKQE9DKsXoQOYyg9kZMV8eChcN0BtSDilbuLrL8Q/viewform)"
   ]
  },
  {
   "cell_type": "markdown",
   "metadata": {},
   "source": [
    "&#9989; <font color=red>**QUESTION:**</font> Approximately how long (in minutes) did this assignment take for you to complete."
   ]
  },
  {
   "cell_type": "markdown",
   "metadata": {},
   "source": [
    "Put your answer to the above question here"
   ]
  },
  {
   "cell_type": "markdown",
   "metadata": {},
   "source": [
    "&#9989; <font color=red>**QUESTION:**</font>  What questions do you have, if any, about any of the topics discussed in this assignment after working through the jupyter notebook?"
   ]
  },
  {
   "cell_type": "markdown",
   "metadata": {},
   "source": [
    "Put your answer to the above question here"
   ]
  },
  {
   "cell_type": "markdown",
   "metadata": {},
   "source": [
    "&#9989; <font color=red>**QUESTION:**</font>  Do you have any further questions or comments about this material, or anything else that's going on in class? "
   ]
  },
  {
   "cell_type": "markdown",
   "metadata": {},
   "source": [
    "Put your answer to the above question here"
   ]
  },
  {
   "cell_type": "code",
   "execution_count": 1,
   "metadata": {},
   "outputs": [
    {
     "data": {
      "text/html": [
       "\n",
       "<iframe \n",
       "\tsrc=\"https://docs.google.com/forms/d/e/1FAIpQLSfNr7FjAifKQE9DKsXoQOYyg9kZMV8eChcN0BtSDilbuLrL8Q/viewform?embedded=true\" \n",
       "\twidth=\"100%\" \n",
       "\theight=\"1200px\" \n",
       "\tframeborder=\"0\" \n",
       "\tmarginheight=\"0\" \n",
       "\tmarginwidth=\"0\">\n",
       "\tLoading...\n",
       "</iframe>\n"
      ],
      "text/plain": [
       "<IPython.core.display.HTML object>"
      ]
     },
     "execution_count": 1,
     "metadata": {},
     "output_type": "execute_result"
    }
   ],
   "source": [
    "from IPython.display import HTML\n",
    "HTML(\n",
    "\"\"\"\n",
    "<iframe \n",
    "\tsrc=\"https://docs.google.com/forms/d/e/1FAIpQLSfNr7FjAifKQE9DKsXoQOYyg9kZMV8eChcN0BtSDilbuLrL8Q/viewform?embedded=true\" \n",
    "\twidth=\"100%\" \n",
    "\theight=\"1200px\" \n",
    "\tframeborder=\"0\" \n",
    "\tmarginheight=\"0\" \n",
    "\tmarginwidth=\"0\">\n",
    "\tLoading...\n",
    "</iframe>\n",
    "\"\"\"\n",
    ")"
   ]
  },
  {
   "cell_type": "markdown",
   "metadata": {},
   "source": [
    "---------\n",
    "### Congratulations, we're done!\n",
    "\n",
    "To get credit for this assignment you must fill out and submit the above Google From on or before the assignment due date."
   ]
  },
  {
   "cell_type": "markdown",
   "metadata": {},
   "source": [
    "\n",
    "**Course Resources:**\n",
    "- [Syllabus](https://tinyurl.com/y75cnzam)\n",
    "- [Preliminary Schedule](https://tinyurl.com/CMSE314-Schedule)\n",
    "- [Git Repository](https://gitlab.msu.edu/colbrydi/cmse401-s19)\n",
    "- [Jargon Jar and Command History](https://tinyurl.com/CMSE314-JargonJar) \n",
    "\n"
   ]
  },
  {
   "cell_type": "markdown",
   "metadata": {},
   "source": [
    "&#169; Copyright 2019,  Michigan State University Board of Trustees"
   ]
  }
 ],
 "metadata": {
  "anaconda-cloud": {},
  "kernelspec": {
   "display_name": "Python 3",
   "language": "python",
   "name": "python3"
  },
  "language_info": {
   "codemirror_mode": {
    "name": "ipython",
    "version": 3
   },
   "file_extension": ".py",
   "mimetype": "text/x-python",
   "name": "python",
   "nbconvert_exporter": "python",
   "pygments_lexer": "ipython3",
   "version": "3.6.5"
  }
 },
 "nbformat": 4,
 "nbformat_minor": 2
}
