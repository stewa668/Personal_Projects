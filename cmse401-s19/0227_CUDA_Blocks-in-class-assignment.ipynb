{
 "cells": [
  {
   "cell_type": "markdown",
   "metadata": {},
   "source": [
    "\n",
    "In order to successfully complete this assignment you need to participate both individually and in groups during class on **Wednesday February 27nd**.\n",
    "\n"
   ]
  },
  {
   "cell_type": "markdown",
   "metadata": {},
   "source": [
    "# In-Class Assignment: CUDA Blocks/Grids/Threadds\n",
    "\n",
    "<img src=\"https://upload.wikimedia.org/wikipedia/commons/e/ed/Greek_Phalanx.jpg\">\n",
    "<p style=\"text-align: right;\">Image from: https://en.wikipedia.org/wiki/Phalanx</p>\n",
    "</p>\n"
   ]
  },
  {
   "cell_type": "markdown",
   "metadata": {},
   "source": [
    "### Agenda for today's class (70 minutes)\n",
    "\n",
    "</p>\n",
    "\n",
    "1. (20 minutes) Pre-class Review\n",
    "1. (40 minutes) Magma Example\n",
    "1. (10 minutes) Start 1D Wave Example\n"
   ]
  },
  {
   "cell_type": "markdown",
   "metadata": {},
   "source": [
    "---\n",
    "# 1. Pre-class Review\n",
    "\n",
    "[0226--CUDA_Blocks-pre-class-assignment](0226--CUDA_Blocks-pre-class-assignment.ipynb)\n",
    "\n",
    "\n",
    "\n",
    "<img src=\"https://www.researchgate.net/profile/Nandakishore_Santhi/publication/285235201/figure/fig2/AS:352267598352385@1460998548443/Example-of-a-CUDA-grid-The-grid-is-composed-of-blocks-each-block-is-composed-of-warps.png\" width=50%>"
   ]
  },
  {
   "cell_type": "markdown",
   "metadata": {},
   "source": [
    "# 2. Magma Example\n",
    "\n",
    "> Magma is a large, well-supported software package designed for computations in algebra, number theory, algebraic geometry and algebraic combinatorics. It provides a mathematically rigorous environment for defining and working with structures such as groups, rings, fields, modules, algebras, schemes, curves, graphs, designs, codes and many others. Magma also supports a number of databases designed to aid computational research in those areas of mathematics which are algebraic in nature. \n",
    "\n",
    "http://magma.maths.usyd.edu.au/magma/"
   ]
  },
  {
   "cell_type": "markdown",
   "metadata": {},
   "source": [
    "&#9989; <font color=red>**QUESTION:**</font> Download a magma example using getexample:\n",
    "\n",
    "\n",
    "&#9989; <font color=red>**QUESTION:**</font> Fix the example to run on a CUDA node properly\n",
    "\n",
    "&#9989; <font color=red>**QUESTION:**</font> Benchmark the example and compare running time in a job betwee k20 and k80. Hint: see https://wiki.hpcc.msu.edu/display/TEAC/Job+Specifications\n"
   ]
  },
  {
   "cell_type": "markdown",
   "metadata": {},
   "source": [
    "----\n",
    "\n",
    "# 3. Start 1D Wave Example\n",
    "\n",
    "Individually and as a class lets see if we can run the 1D wave example on the GPU and measure the performace\n",
    "\n",
    "\n",
    "```c++\n",
    "#include <stdio.h>\n",
    "#include <stdlib.h>\n",
    "#include <math.h>\n",
    "\n",
    "int main(int argc, char ** argv) {\n",
    "    int nx = 500;\n",
    "    int nt = 100000;\n",
    "    int i,it;\n",
    "    double x[nx];\n",
    "    double y[nx];\n",
    "    double v[nx];\n",
    "    double dvdt[nx];\n",
    "    double dt;\n",
    "    double dx;\n",
    "    double max,min;\n",
    "    double dx2inv;\n",
    "    double tmax;\n",
    "    int nxm1;\n",
    "\n",
    "    max=10.0;\n",
    "    min=0.0;\n",
    "    dx = (max-min)/(double)(nx);\n",
    "    x[0] = min;\n",
    "    for(i=1;i<nx-1;i++) {\n",
    "        x[i] = min+(double)i*dx;\n",
    "    }\n",
    "    x[nx-1] = max;\n",
    "    tmax=10.0;\n",
    "    dt= (tmax-0.0)/(double)(nt);\n",
    "\n",
    "    for (i=0;i<nx;i++)  {\n",
    "        y[i] = exp(-(x[i]-5.0)*(x[i]-5.0));\n",
    "        v[i] = 0.0;\n",
    "        dvdt[i] = 0.0;\n",
    "    }\n",
    "    \n",
    "    dx2inv=1.0/(dx*dx);\n",
    "    nxm1=nx-1;\n",
    "    for(it=0;it<nt-1;it++) {\n",
    "        for(i=1;i<nxm1;i++)\n",
    "            dvdt[i]=(y[i+1]+y[i-1]-2.0*y[i])*(dx2inv);\n",
    "\n",
    "        for(i=1; i<nxm1; i++)  {\n",
    "            v[i] = v[i] + dt*dvdt[i];\n",
    "            y[i] = y[i] + dt*v[i];\n",
    "        }\n",
    "\n",
    "    }\n",
    "\n",
    "    for(i=nx/2-10; i<nx/2+10; i++) {\n",
    "        printf(\"%g %g\\n\",x[i],y[i]);\n",
    "    }\n",
    "\n",
    "    return 0;\n",
    "}\n",
    "\n",
    "```"
   ]
  },
  {
   "cell_type": "markdown",
   "metadata": {},
   "source": [
    "-----\n",
    "### Congratulations, we're done!"
   ]
  },
  {
   "cell_type": "markdown",
   "metadata": {},
   "source": [
    "\n",
    "**Course Resources:**\n",
    "- [Syllabus](https://tinyurl.com/y75cnzam)\n",
    "- [Preliminary Schedule](https://tinyurl.com/CMSE314-Schedule)\n",
    "- [Git Repository](https://gitlab.msu.edu/colbrydi/cmse401-s19)\n",
    "- [Jargon Jar and Command History](https://tinyurl.com/CMSE314-JargonJar) \n",
    "\n"
   ]
  },
  {
   "cell_type": "markdown",
   "metadata": {},
   "source": [
    "&#169; Copyright 2019,  Michigan State University Board of Trustees"
   ]
  }
 ],
 "metadata": {
  "kernelspec": {
   "display_name": "Python 3",
   "language": "python",
   "name": "python3"
  },
  "language_info": {
   "codemirror_mode": {
    "name": "ipython",
    "version": 3
   },
   "file_extension": ".py",
   "mimetype": "text/x-python",
   "name": "python",
   "nbconvert_exporter": "python",
   "pygments_lexer": "ipython3",
   "version": "3.6.6"
  }
 },
 "nbformat": 4,
 "nbformat_minor": 2
}
