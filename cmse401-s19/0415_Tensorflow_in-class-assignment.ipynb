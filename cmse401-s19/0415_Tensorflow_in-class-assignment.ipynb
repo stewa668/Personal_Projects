{
 "cells": [
  {
   "cell_type": "markdown",
   "metadata": {},
   "source": [
    "**NOTE:** There is no pre-class assignment for this activity.\n",
    "\n",
    "In order to successfully complete this assignment you need to participate both individually and in groups during class on **Monday April 15th**.\n",
    "\n"
   ]
  },
  {
   "cell_type": "markdown",
   "metadata": {},
   "source": [
    "# In-Class Assignment: Tensorflow\n",
    "\n",
    "<img src=\"https://upload.wikimedia.org/wikipedia/commons/thumb/1/11/TensorFlowLogo.svg/2000px-TensorFlowLogo.svg.png\" width=50%>"
   ]
  },
  {
   "cell_type": "markdown",
   "metadata": {},
   "source": [
    "### Agenda for today's class (70 minutes)\n",
    "\n",
    "</p>\n",
    "\n",
    "1. (20 minutes) Homework HW6 Rumor Mill Review\n",
    "2. (30 minutes) Installing and Testing Tensorflow\n",
    "1. (20 minutes) Benchmark And Graph Results of Tensorflow"
   ]
  },
  {
   "cell_type": "markdown",
   "metadata": {},
   "source": [
    "----\n",
    "\n",
    "# 1. Homework HW6 Rumor Mill Review\n",
    "\n",
    "\n",
    "[0412-HW6-MPI_Rumor_Mill](0412-HW6-MPI_Rumor_Mill.ipynb)"
   ]
  },
  {
   "cell_type": "markdown",
   "metadata": {},
   "source": [
    "----\n",
    "\n",
    "# 2. Installing Tensorflow\n",
    "\n",
    "Instructions for installing Tensorflow can be found here:\n",
    "\n",
    "https://wiki.hpcc.msu.edu/display/ITH/General+notes+and+installation+via+Python+virtualenv\n",
    "\n",
    "This includes the following instructions to reset the HPC Environment:\n",
    "\n",
    "```bash\n",
    "module purge\n",
    "module load CUDA/10.0.130\n",
    "module load cuDNN/7.5.0.56-CUDA-10.0.130\n",
    "module load GCC/5.4.0-2.26 OpenMPI/1.10.3\n",
    "module load Python/3.5.2\n",
    "```\n"
   ]
  },
  {
   "cell_type": "markdown",
   "metadata": {},
   "source": [
    "The next step is to make something called a python virtual environment.  If you are not using these, you should, they are cool and help you sandbox module installations:\n",
    "\n",
    "```bash\n",
    "#Setup and activeate a new python vertual enviornment\n",
    "virtualenv -p python3 tf2env\n",
    "export PYDIR=~/tf2env\n",
    "source tf2env/bin/activate\n",
    "```"
   ]
  },
  {
   "cell_type": "markdown",
   "metadata": {},
   "source": [
    "Once we have our new python enviornment set-up we need to install some programs:\n",
    "```bash\n",
    "#Install needed libraries\n",
    "pip3 install --upgrade tensorflow-gpu\n",
    "pip3 install keras\n",
    "```"
   ]
  },
  {
   "cell_type": "markdown",
   "metadata": {},
   "source": [
    "----\n",
    "\n",
    "# 3. Testing Tensorflow\n",
    "\n",
    "Lets now try to see if we use the above "
   ]
  },
  {
   "cell_type": "markdown",
   "metadata": {},
   "source": [
    "...and, set some enviornment variables.  \n",
    "\n",
    "```bash\n",
    "module purge\n",
    "module load CUDA/10.0.130\n",
    "module load cuDNN/7.5.0.56-CUDA-10.0.130\n",
    "module load GCC/5.4.0-2.26 OpenMPI/1.10.3\n",
    "module load Python/3.5.2\n",
    "\n",
    "source tf2env/bin/activate\n",
    "```"
   ]
  },
  {
   "cell_type": "markdown",
   "metadata": {},
   "source": [
    "The final step is to see if this thing works:\n",
    "```bash\n",
    "export TENSORFLOWPROGRAM=/opt/software/hpc_examples/examples/Tensorflow/convolutional.py\n",
    "time python $TENSORFLOWPROGRAM \n",
    "```"
   ]
  },
  {
   "cell_type": "markdown",
   "metadata": {},
   "source": [
    "----\n",
    "\n",
    "# 3. Benchmark Tensorflow\n",
    "\n",
    "Lets now try to see if we use the above "
   ]
  },
  {
   "cell_type": "markdown",
   "metadata": {},
   "source": [
    "-----\n",
    "### Congratulations, we're done!"
   ]
  },
  {
   "cell_type": "markdown",
   "metadata": {},
   "source": [
    "\n",
    "**Course Resources:**\n",
    "- [Syllabus](https://tinyurl.com/y75cnzam)\n",
    "- [Preliminary Schedule](https://tinyurl.com/CMSE314-Schedule)\n",
    "- [Git Repository](https://gitlab.msu.edu/colbrydi/cmse401-s19)\n",
    "- [Jargon Jar and Command History](https://tinyurl.com/CMSE314-JargonJar) \n",
    "\n"
   ]
  },
  {
   "cell_type": "markdown",
   "metadata": {},
   "source": [
    "&#169; Copyright 2019,  Michigan State University Board of Trustees"
   ]
  }
 ],
 "metadata": {
  "kernelspec": {
   "display_name": "Python 3",
   "language": "python",
   "name": "python3"
  },
  "language_info": {
   "codemirror_mode": {
    "name": "ipython",
    "version": 3
   },
   "file_extension": ".py",
   "mimetype": "text/x-python",
   "name": "python",
   "nbconvert_exporter": "python",
   "pygments_lexer": "ipython3",
   "version": "3.6.5"
  }
 },
 "nbformat": 4,
 "nbformat_minor": 2
}
