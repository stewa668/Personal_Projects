{
 "cells": [
  {
   "cell_type": "markdown",
   "metadata": {},
   "source": [
    "In order to successfully complete this assignment you need to participate both individually and in groups during class on **Monday April 1st**."
   ]
  },
  {
   "cell_type": "markdown",
   "metadata": {},
   "source": [
    "# In-Class Assignment: MPI Errors\n",
    "\n",
    "<img src=\"https://cdn.pixabay.com/photo/2016/10/04/13/52/fail-1714367_960_720.jpg\" width=30%>\n",
    "<p style=\"text-align: right;\">Animation from: [Pixabay](https://pixabay.com/)</p>"
   ]
  },
  {
   "cell_type": "markdown",
   "metadata": {},
   "source": [
    "### Agenda for today's class (70 minutes)\n",
    "\n",
    "</p>\n",
    "\n",
    "1. (30 minutes) Exam 2 Review\n",
    "2. (10 minutes) Homework 6 - MPI Rumor Mill\n",
    "2. (10 minutes) Pre-class Review \n",
    "1. (20 minutes) MPI Error Example"
   ]
  },
  {
   "cell_type": "markdown",
   "metadata": {},
   "source": [
    "----\n",
    "\n",
    "# 1. Homework 5 - 2DWave Equation reivew\n",
    "\n",
    "[HW5-2DWave_Equation_CUDA](HW5-2DWave_Equation_CUDA.ipynb)"
   ]
  },
  {
   "cell_type": "markdown",
   "metadata": {},
   "source": [
    "----\n",
    "\n",
    "# 2. Homework 6 - MPI Rumor Mill\n",
    "\n",
    "[0412-HW6-MPI_Rumor_Mill](0412-HW6-MPI_Rumor_Mill.ipynb)"
   ]
  },
  {
   "cell_type": "markdown",
   "metadata": {},
   "source": [
    "---\n",
    "# 3. Pre-class Review \n",
    "\n",
    "[0331-MPI-Errors-pre-class-assignment](0331-MPI-Errors-pre-class-assignment.ipynb)"
   ]
  },
  {
   "cell_type": "markdown",
   "metadata": {},
   "source": [
    "---\n",
    "\n",
    "# 4. MPI Error Example\n",
    "\n",
    "As a class, lets look at our code from Friday and add Error Checking. \n",
    "\n",
    "\n",
    "How do we check if error handeling is working?"
   ]
  },
  {
   "cell_type": "markdown",
   "metadata": {},
   "source": [
    "-----\n",
    "### Congratulations, we're done!"
   ]
  },
  {
   "cell_type": "markdown",
   "metadata": {},
   "source": [
    "\n",
    "**Course Resources:**\n",
    "- [Syllabus](https://tinyurl.com/y75cnzam)\n",
    "- [Preliminary Schedule](https://tinyurl.com/CMSE314-Schedule)\n",
    "- [Git Repository](https://gitlab.msu.edu/colbrydi/cmse401-s19)\n",
    "- [Jargon Jar and Command History](https://tinyurl.com/CMSE314-JargonJar) \n",
    "\n"
   ]
  },
  {
   "cell_type": "markdown",
   "metadata": {},
   "source": [
    "&#169; Copyright 2019,  Michigan State University Board of Trustees"
   ]
  }
 ],
 "metadata": {
  "kernelspec": {
   "display_name": "Python 3",
   "language": "python",
   "name": "python3"
  },
  "language_info": {
   "codemirror_mode": {
    "name": "ipython",
    "version": 3
   },
   "file_extension": ".py",
   "mimetype": "text/x-python",
   "name": "python",
   "nbconvert_exporter": "python",
   "pygments_lexer": "ipython3",
   "version": "3.6.5"
  }
 },
 "nbformat": 4,
 "nbformat_minor": 2
}
