{
 "cells": [
  {
   "cell_type": "markdown",
   "metadata": {},
   "source": [
    "<p style=\"text-align: right;\">\n",
    "In order to successfully complete this assignment you need to participate both individually and in groups during class on **Friday January 11th**.\n",
    "</p>"
   ]
  },
  {
   "cell_type": "markdown",
   "metadata": {},
   "source": [
    "# In-Class Assignment: Pandemic and GalaxSee on the HPCC\n",
    "\n",
    "<img src=\"http://www.labri.fr/perso/barthou/wordcloud.png\">\n",
    "<p style=\"text-align: right;\">Image from: [Denis Barthou](http://www.labri.fr/perso/barthou/)</p>\n",
    "</p>"
   ]
  },
  {
   "cell_type": "markdown",
   "metadata": {},
   "source": [
    "### Agenda for today's class (70 minutes)\n",
    "</p>\n",
    "1. (10 minutes) Pre-class assignment review\n",
    "1. (20 mintues) Project Planning\n",
    "2. (40 minutes) Pandemic and Galaxsee on HPCC"
   ]
  },
  {
   "cell_type": "markdown",
   "metadata": {},
   "source": [
    "----\n",
    "\n",
    "# 1. Pre-class assignment review\n",
    "\n",
    "Where did you get stuck?\n",
    "\n",
    "[0117--HPC-pre-class-assignment](0117--HPC-pre-class-assignment.ipynb)"
   ]
  },
  {
   "cell_type": "markdown",
   "metadata": {},
   "source": [
    "----\n",
    "\n",
    "# 2. Project Planning\n",
    "\n",
    "Class projects will include five basic milestones:\n",
    "\n",
    "- **Stage 1: Project Proposals** - Overview of what you would like to do for your projects.  What software will you explore, what science problem you will solve and what are the expected outcomes. \n",
    "- **Stage 2: Software Exploration** - You will explore software NOT covered in this course. Software may include a library, programming language, hardware, scientific code, etc).  The project will require you to learn about the software, get it installed and working on the HPC (or equivalent) and write up a short tutorial with examples with enough details so that your peers can get it up and running).  \n",
    "- **Stage 3: Parallel Coding** - You will identify an existing scientific/engineering problem that currently runs slow on a single core.  You will either write a new program form scratch or modify an existing code to run in parallel.  You may also modify an existing parallel code to run in parallel faster.   You may, but are not required to use the software you explored in stage 2 of the project. \n",
    "- **Stage 4: Scaling Study** - You will conduct a scaling study of your Stage 3 project demonstrating speedup. \n",
    "- **Stage 5: Final Report/Presentation** - You will present the results of your scaling study to your peers in the form of an oral presentation. \n"
   ]
  },
  {
   "cell_type": "markdown",
   "metadata": {},
   "source": [
    "## Software ideas\n",
    "\n",
    "```\n",
    "OpenFlow\n",
    "Blast\n",
    "Petsci\n",
    "OpenMM\n",
    "MKL\n",
    "BLAS\n",
    "FFTW\n",
    "Kokkos\n",
    "Charm++\n",
    "Python Numba\n",
    "FPGA\n",
    "Tensorflow\n",
    "GPU\n",
    "OpenACC\n",
    "OpenCV\n",
    "MakeFlow\n",
    "Hadoop\n",
    "Twister\n",
    "Condor\n",
    "XSEDE\n",
    "```"
   ]
  },
  {
   "cell_type": "markdown",
   "metadata": {},
   "source": [
    "# 3. Pandemic and GalaxSee on HPCC\n",
    "\n",
    "Now we are all going to log onto the HPCC and run GalaxSee and Pandemic.  We will split the class into parts and you will figure out how to get things working.  \n",
    "\n",
    "Put results in our timing file: [Timing Studies](https://docs.google.com/spreadsheets/d/1WBf9TxULtwIv5D59tk5M-VRxBIHXCby79Q4cgEF7H7o/edit)\n"
   ]
  },
  {
   "cell_type": "markdown",
   "metadata": {},
   "source": [
    "-----\n",
    "### Congratulations, we're done!"
   ]
  },
  {
   "cell_type": "markdown",
   "metadata": {},
   "source": [
    "\n",
    "**Course Resources:**\n",
    "- [Syllabus](https://tinyurl.com/y75cnzam)\n",
    "- [Preliminary Schedule](https://tinyurl.com/CMSE314-Schedule)\n",
    "- [Git Repository](https://gitlab.msu.edu/colbrydi/cmse401-s19)\n",
    "- [Jargon Jar and Command History](https://tinyurl.com/CMSE314-JargonJar) \n",
    "\n"
   ]
  },
  {
   "cell_type": "markdown",
   "metadata": {},
   "source": [
    "&#169; Copyright 2019,  Michigan State University Board of Trustees"
   ]
  }
 ],
 "metadata": {
  "kernelspec": {
   "display_name": "Python 3",
   "language": "python",
   "name": "python3"
  },
  "language_info": {
   "codemirror_mode": {
    "name": "ipython",
    "version": 3
   },
   "file_extension": ".py",
   "mimetype": "text/x-python",
   "name": "python",
   "nbconvert_exporter": "python",
   "pygments_lexer": "ipython3",
   "version": "3.6.5"
  }
 },
 "nbformat": 4,
 "nbformat_minor": 2
}
