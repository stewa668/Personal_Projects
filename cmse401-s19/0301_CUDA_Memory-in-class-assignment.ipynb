{
 "cells": [
  {
   "cell_type": "markdown",
   "metadata": {},
   "source": [
    "\n",
    "In order to successfully complete this assignment you need to participate both individually and in groups during class on **Friday March 1st**.\n"
   ]
  },
  {
   "cell_type": "markdown",
   "metadata": {},
   "source": [
    "# In-Class Assignment: CUDA Practice\n",
    "\n",
    "<img src=\"https://devblogs.nvidia.com/wp-content/uploads/2012/10/CUDA_Cube_1K-300x298.jpg\">\n",
    "<p style=\"text-align: right;\">Image from: https://www.nvidia.com</p>\n",
    "</p>\n"
   ]
  },
  {
   "cell_type": "markdown",
   "metadata": {},
   "source": [
    "### Agenda for today's class (70 minutes)\n",
    "\n",
    "</p>\n",
    "\n",
    "1. (20 minutes) Pre-class Review\n",
    "1. (40 minutes) Finish 1D Wave Example\n",
    "1. (5 minutes) Amdahl's law \n",
    "1. (5 minutes) Strong vs Weak Scaling\n"
   ]
  },
  {
   "cell_type": "markdown",
   "metadata": {},
   "source": [
    "---\n",
    "# 1. Pre-class Review\n",
    "\n",
    "[0228--CUDA_Memory-pre-class-assignment](0228--CUDA_Memory-pre-class-assignment.ipynb)"
   ]
  },
  {
   "cell_type": "markdown",
   "metadata": {},
   "source": [
    "----\n",
    "\n",
    "# 3. 1D Wave Example\n",
    "\n",
    "Individually and as a class lets see if we can run the 1D wave example on the GPU and measure the performance:\n",
    "\n",
    "\n",
    "```c++\n",
    "#include <stdio.h>\n",
    "#include <stdlib.h>\n",
    "#include <math.h>\n",
    "\n",
    "int main(int argc, char ** argv) {\n",
    "    int nx = 500;\n",
    "    int nt = 100000;\n",
    "    int i,it;\n",
    "    double x[nx];\n",
    "    double y[nx];\n",
    "    double v[nx];\n",
    "    double dvdt[nx];\n",
    "    double dt;\n",
    "    double dx;\n",
    "    double max,min;\n",
    "    double dx2inv;\n",
    "    double tmax;\n",
    "    int nxm1;\n",
    "\n",
    "    max=10.0;\n",
    "    min=0.0;\n",
    "    dx = (max-min)/(double)(nx);\n",
    "    x[0] = min;\n",
    "    for(i=1;i<nx-1;i++) {\n",
    "        x[i] = min+(double)i*dx;\n",
    "    }\n",
    "    x[nx-1] = max;\n",
    "    tmax=10.0;\n",
    "    dt= (tmax-0.0)/(double)(nt);\n",
    "\n",
    "    for (i=0;i<nx;i++)  {\n",
    "        y[i] = exp(-(x[i]-5.0)*(x[i]-5.0));\n",
    "        v[i] = 0.0;\n",
    "        dvdt[i] = 0.0;\n",
    "    }\n",
    "    \n",
    "    dx2inv=1.0/(dx*dx);\n",
    "    nxm1=nx-1;\n",
    "    for(it=0;it<nt-1;it++) {\n",
    "        for(i=1;i<nxm1;i++)\n",
    "            dvdt[i]=(y[i+1]+y[i-1]-2.0*y[i])*(dx2inv);\n",
    "\n",
    "        for(i=1; i<nxm1; i++)  {\n",
    "            v[i] = v[i] + dt*dvdt[i];\n",
    "            y[i] = y[i] + dt*v[i];\n",
    "        }\n",
    "\n",
    "    }\n",
    "\n",
    "    for(i=nx/2-10; i<nx/2+10; i++) {\n",
    "        printf(\"%g %g\\n\",x[i],y[i]);\n",
    "    }\n",
    "\n",
    "    return 0;\n",
    "}\n",
    "\n",
    "```"
   ]
  },
  {
   "cell_type": "markdown",
   "metadata": {},
   "source": [
    "----\n",
    "\n",
    "# 3. Amdahl's law\n",
    "\n",
    "The following examples come from here: https://en.wikipedia.org/wiki/Amdahl%27s_law\n",
    "\n",
    "Amdahl's law can be formulated in the following way:\n",
    "\n",
    "$$S_\\text{latency}(s)=\\frac {1}{(1-p)+{\\frac {p}{s}}}$$"
   ]
  },
  {
   "cell_type": "markdown",
   "metadata": {},
   "source": [
    "$S_\\text{latency}$ is the theoretical speedup of the execution of the whole task;\n",
    "\n",
    "- $s$ is the speedup of the part of the task that benefits from improved system resources;\n",
    "- p is the proportion of execution time that the part benefiting from improved resources originally occupied.\n",
    "\n",
    "Furthermore,\n",
    "\n",
    "$${\\displaystyle {\\begin{cases}S_{\\text{latency}}(s)\\leq {\\dfrac {1}{1-p}}\\\\[8pt]\\lim \\limits _{s\\to \\infty }S_{\\text{latency}}(s)={\\dfrac {1}{1-p}}.\\end{cases}}} $$\n",
    "\n",
    "If 30% of the execution time may be the subject of a speedup, $p$ will be 0.3; if the improvement makes the affected part twice as fast, $s$ will be 2. Amdahl's law states that the overall speedup of applying the improvement will be:\n",
    "\n",
    "$${\\displaystyle S_{\\text{latency}}={\\frac {1}{1-p+{\\frac {p}{s}}}}={\\frac {1}{1-0.3+{\\frac {0.3}{2}}}}=1.18.}$$\n",
    "\n",
    "For example, assume that we are given a serial task which is split into four consecutive parts, whose percentages of execution time are p1 = 0.11, p2 = 0.18, p3 = 0.23, and p4 = 0.48 respectively. Then we are told that the 1st part is not sped up, so s1 = 1, while the 2nd part is sped up 5 times, so s2 = 5, the 3rd part is sped up 20 times, so s3 = 20, and the 4th part is sped up 1.6 times, so s4 = 1.6. By using Amdahl's law, the overall speedup is\n",
    "\n",
    "$${\\displaystyle S_{\\text{latency}}={\\frac {1}{{\\frac {p1}{s1}}+{\\frac {p2}{s2}}+{\\frac {p3}{s3}}+{\\frac {p4}{s4}}}}={\\frac {1}{{\\frac {0.11}{1}}+{\\frac {0.18}{5}}+{\\frac {0.23}{20}}+{\\frac {0.48}{1.6}}}}=2.19} $$\n",
    "\n",
    "Notice how the 5 times and 20 times speedup on the 2nd and 3rd parts respectively don't have much effect on the overall speedup when the 4th part (48% of the execution time) is accelerated by only 1.6 times."
   ]
  },
  {
   "cell_type": "markdown",
   "metadata": {},
   "source": [
    "----\n",
    "\n",
    "# 4. Strong vs Weak Scaling\n",
    "\n",
    "> **STRONG SCALING** In this case the problem size stays fixed but the number of processing elements are increased. This is used as justification for programs that take a long time to run (something that is cpu-bound). The goal in this case is to find a \"sweet spot\" that allows the computation to complete in a reasonable amount of time, yet does not waste too many cycles due to parallel overhead. In strong scaling, a program is considered to scale linearly if the speedup (in terms of work units completed per unit time) is equal to the number of processing elements used ( N ). In general, it is harder to achieve good strong-scaling at larger process counts since the communication overhead for many/most algorithms increases in proportion to the number of processes used.\n",
    "> \n",
    "> If the amount of time to complete a work unit with 1 processing element is $t_1$, and the amount of time to complete the same unit of work with $N$ processing elements is $t_N$, the strong scaling efficiency (as a percentage of linear) is given as:\n",
    "\n",
    "$$ \\frac{t_1}{( N * t_N )} * 100%$$\n",
    "\n",
    "\n",
    "> **WEAK SCALING** In this case the problem size (workload) assigned to each processing element stays constant and additional elements are used to solve a larger total problem (one that wouldn't fit in RAM on a single node, for example). Therefore, this type of measurement is justification for programs that take a lot of memory or other system resources (something that is memory-bound). In the case of weak scaling, linear scaling is achieved if the run time stays constant while the workload is increased in direct proportion to the number of processors. Most programs running in this mode should scale well to larger core counts as they typically employ nearest-neighbour communication patterns where the communication overhead is relatively constant regardless of the number of processes used; exceptions include algorithms that employ heavy use of global communication patterns, eg. FFTs and transposes.\n",
    ">\n",
    "> If the amount of time to complete a work unit with 1 processing element is $t_1$, and the amount of time to complete $N$ of the same work units with $N$ processing elements is $t_N$, the weak scaling efficiency (as a percentage of linear) is given as:\n",
    "\n",
    "$$ \\frac{t_1}{t_N} * 100% $$\n",
    "\n",
    "\n",
    "<p style=\"text-align: right;\">from: https://www.sharcnet.ca/help/index.php/Measuring_Parallel_Scaling_Performance</p>\n",
    "\n"
   ]
  },
  {
   "cell_type": "markdown",
   "metadata": {},
   "source": [
    "-----\n",
    "### Congratulations, we're done!"
   ]
  },
  {
   "cell_type": "markdown",
   "metadata": {},
   "source": [
    "\n",
    "**Course Resources:**\n",
    "- [Syllabus](https://tinyurl.com/y75cnzam)\n",
    "- [Preliminary Schedule](https://tinyurl.com/CMSE314-Schedule)\n",
    "- [Git Repository](https://gitlab.msu.edu/colbrydi/cmse401-s19)\n",
    "- [Jargon Jar and Command History](https://tinyurl.com/CMSE314-JargonJar) \n",
    "\n"
   ]
  },
  {
   "cell_type": "markdown",
   "metadata": {},
   "source": [
    "&#169; Copyright 2019,  Michigan State University Board of Trustees"
   ]
  }
 ],
 "metadata": {
  "kernelspec": {
   "display_name": "Python 3",
   "language": "python",
   "name": "python3"
  },
  "language_info": {
   "codemirror_mode": {
    "name": "ipython",
    "version": 3
   },
   "file_extension": ".py",
   "mimetype": "text/x-python",
   "name": "python",
   "nbconvert_exporter": "python",
   "pygments_lexer": "ipython3",
   "version": "3.6.6"
  }
 },
 "nbformat": 4,
 "nbformat_minor": 2
}
