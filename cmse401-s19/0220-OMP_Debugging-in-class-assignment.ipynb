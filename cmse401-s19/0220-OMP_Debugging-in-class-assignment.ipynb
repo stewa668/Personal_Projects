{
 "cells": [
  {
   "cell_type": "markdown",
   "metadata": {},
   "source": [
    "<p style=\"text-align: right;\">\n",
    "In order to successfully complete this assignment you need to participate both individually and in groups during class on **Wednesday February 20th**.\n",
    "</p>\n"
   ]
  },
  {
   "cell_type": "markdown",
   "metadata": {},
   "source": [
    "# In-Class Assignment: Debugging Parrallel Problems\n",
    "\n",
    "<img src=\"http://farm3.static.flickr.com/2632/3763969995_6aae9c3b42_o.png\">\n",
    "<p style=\"text-align: right;\">Image from: http://michaeljswart.com/2009/07/deadlocks-explained/</p>\n",
    "</p>\n"
   ]
  },
  {
   "cell_type": "markdown",
   "metadata": {},
   "source": [
    "### Agenda for today's class (70 minutes)\n",
    "\n",
    "</p>\n",
    "\n",
    "1. (10 minutes) Pre-class Review\n",
    "1. (20 minutes) Getexample Code Review\n",
    "1. (20 minutes) Race Condition\n",
    "1. (10 minutes) Proposal Discussion\n"
   ]
  },
  {
   "cell_type": "markdown",
   "metadata": {},
   "source": [
    "---\n",
    "# 1. Pre-class Review\n",
    "\n",
    "[0219--OMP_weeds-pre-class-assignment](0219--OMP_weeds-pre-class-assignment.ipynb)\n"
   ]
  },
  {
   "cell_type": "markdown",
   "metadata": {},
   "source": [
    "---\n",
    "# 2.  Getexample Code Review\n",
    "\n",
    "Download the ```openmp_exercise``` getexample.  Review the code in your groups and figure out what it is doing.\n",
    "\n",
    "Disscuss in your groups and share with the class."
   ]
  },
  {
   "cell_type": "markdown",
   "metadata": {},
   "source": [
    "----\n",
    "\n",
    "# 3. Race Condition Example\n",
    "Try to find and suggest a fix for the race condition in the following code.\n",
    "\n",
    "Example from: https://github.com/ofloveandhate/adv_sci_comp_spring2017/tree/master/openmp/problems\n",
    "\n",
    "```c++\n",
    "\n",
    "\n",
    "#include <omp.h>\n",
    "\n",
    "#include <vector>\n",
    "#include <iostream>\n",
    "\n",
    "int main()\n",
    "{\n",
    "\tint counter = 0;\n",
    "\n",
    "\tconstexpr auto size = 1000;\n",
    "\tstd::vector<int> ints(size);\n",
    "\t#pragma omp parallel for\n",
    "\tfor (int ii=0; ii<size; ++ii)\n",
    "\t{\n",
    "\t\tif (ii%2)\n",
    "\t\t\t++counter;\n",
    "\t}\n",
    "\n",
    "\n",
    "\tstd::cout << counter << '\\n';\n",
    "\n",
    "\treturn 0;\n",
    "}\n",
    "\n",
    "```"
   ]
  },
  {
   "cell_type": "markdown",
   "metadata": {},
   "source": [
    "# 3. Deadlock Example\n",
    "Try to find and suggest a fix for the deadlock in the following code.\n",
    "\n",
    "Example from: https://github.com/ofloveandhate/adv_sci_comp_spring2017/tree/master/openmp/problems\n",
    "\n",
    "```c++\n",
    "#include <omp.h>\n",
    "\n",
    "#include <vector>\n",
    "#include <iostream>\n",
    "\n",
    "// uses unspecified name for critical region.\n",
    "void foo()\n",
    "{\n",
    "\t#pragma omp parallel\n",
    "\t#pragma omp critical\n",
    "\t{\n",
    "\t\tauto id = omp_get_thread_num();\n",
    "\t\tstd::cout << \"o,hai there, i'm \" << id << '\\n';\n",
    "\t}\n",
    "\n",
    "}\n",
    "\n",
    "// goes with foo above.\n",
    "// uses an unspecified name for critical region.\n",
    "void deadlockA()\n",
    "{\n",
    "\tint sum{0}; \n",
    "\n",
    "\t#pragma omp parallel for\n",
    "\tfor (int ii=0; ii<100; ++ii)\n",
    "\t{\n",
    "\t\t#pragma omp critical\n",
    "\t\t{\n",
    "\t\t\tsum += ii;\n",
    "\t\t\tfoo();\n",
    "\t\t}\n",
    "\t}\n",
    "}\n",
    "\n",
    "\n",
    "// slightly different than A.  causes deadlock\n",
    "// even when using names for the critical sections\n",
    "void deadlockB()\n",
    "{\n",
    "\t#pragma omp parallel\n",
    "\t{\n",
    "\t\t#pragma omp critical(A)\n",
    "\t\t{\n",
    "\t\t\t#pragma omp critical(B)\n",
    "\t\t\t{\n",
    "\t\t\t\tstd::cout << \"whassup\\n\";\n",
    "\t\t\t}\n",
    "\t\t}\n",
    "\t\t#pragma omp critical(B)\n",
    "\t\t{\n",
    "\t\t\t#pragma omp critical(A)\n",
    "\t\t\t{\n",
    "\t\t\t\tstd::cout << \"ahoy\\n\";\n",
    "\t\t\t}\n",
    "\t\t}\n",
    "\t}\n",
    "\n",
    "}\n",
    "\n",
    "\n",
    "\n",
    "int main()\n",
    "{\n",
    "\tdeadlockB();\n",
    "\treturn 0;\n",
    "}\n",
    "```"
   ]
  },
  {
   "cell_type": "markdown",
   "metadata": {},
   "source": [
    "-----\n",
    "### Congratulations, we're done!"
   ]
  },
  {
   "cell_type": "markdown",
   "metadata": {},
   "source": [
    "\n",
    "**Course Resources:**\n",
    "- [Syllabus](https://tinyurl.com/y75cnzam)\n",
    "- [Preliminary Schedule](https://tinyurl.com/CMSE314-Schedule)\n",
    "- [Git Repository](https://gitlab.msu.edu/colbrydi/cmse401-s19)\n",
    "- [Jargon Jar and Command History](https://tinyurl.com/CMSE314-JargonJar) \n",
    "\n"
   ]
  },
  {
   "cell_type": "markdown",
   "metadata": {},
   "source": [
    "&#169; Copyright 2019,  Michigan State University Board of Trustees"
   ]
  }
 ],
 "metadata": {
  "kernelspec": {
   "display_name": "Python 3",
   "language": "python",
   "name": "python3"
  },
  "language_info": {
   "codemirror_mode": {
    "name": "ipython",
    "version": 3
   },
   "file_extension": ".py",
   "mimetype": "text/x-python",
   "name": "python",
   "nbconvert_exporter": "python",
   "pygments_lexer": "ipython3",
   "version": "3.6.5"
  }
 },
 "nbformat": 4,
 "nbformat_minor": 2
}
