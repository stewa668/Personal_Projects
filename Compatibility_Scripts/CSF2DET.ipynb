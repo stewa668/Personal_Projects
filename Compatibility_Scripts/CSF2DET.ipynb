{
 "cells": [
  {
   "cell_type": "code",
   "execution_count": 12,
   "id": "e2dcb995",
   "metadata": {},
   "outputs": [],
   "source": [
    "from copy import copy\n",
    "import numpy as numpy"
   ]
  },
  {
   "cell_type": "code",
   "execution_count": 38,
   "id": "9c75b85a",
   "metadata": {},
   "outputs": [],
   "source": [
    "def gamess_guga(file_name,threshold=0.0,**kwargs):\n",
    "  '''Reads GAMESS-US GUGA output.\n",
    "\n",
    "  **Parameters:**\n",
    "\n",
    "    file_name: str, file descriptor\n",
    "      Specifies the filename for the input file.\n",
    "      fname can also be used with a file descriptor instad of a filename.\n",
    "    threshold : float, optional\n",
    "      Specifies a read threshold for the CI coefficients.\n",
    "\n",
    "  **Returns:**\n",
    "\n",
    "    ci : list of CIinfo class instances\n",
    "      See :ref:`Central Variables` for details.\n",
    "  '''\n",
    "  display('\\nReading data of GUGA calculation from GAMESS-US...')\n",
    "\n",
    "  ci = [[]]\n",
    "  general_information = {'fileinfo': file_name,\n",
    "                         'read_threshold': threshold}\n",
    "\n",
    "\n",
    "  fname = open(file_name, 'r')\n",
    "\n",
    "\n",
    "  from io import TextIOWrapper\n",
    "  if isinstance(fname, TextIOWrapper):\n",
    "    flines = fname.readlines()\n",
    "\n",
    "  STATE_ZONE=False\n",
    "  state_energies = []\n",
    "  state_CSFs = []\n",
    "  state_coeffs = []\n",
    "  state_OCCs = []\n",
    "\n",
    "  NUMCI = 0\n",
    "  NFZC = []\n",
    "  NMCC = []\n",
    "  NDOC = []\n",
    "  NAOS = []\n",
    "  NBOS = []\n",
    "  NALP = []\n",
    "  NVAL = []\n",
    "  NEXT = []\n",
    "  NFZV = []\n",
    "  nel = []\n",
    "  spin = []\n",
    "\n",
    "  for i,line in enumerate(flines):\n",
    "    if STATE_ZONE:\n",
    "      thisline = line.split()\n",
    "      if \" STATE #\" in line:\n",
    "        state_energies[-1].append(float(thisline[-1]))\n",
    "        temp_state_CSFs = []\n",
    "        temp_state_OCCs = []\n",
    "        temp_state_coeffs = []\n",
    "        continue\n",
    "      if len(thisline) == 3 and abs(float(thisline[1])) >= threshold:\n",
    "        temp_state_CSFs.append(int(thisline[0]))\n",
    "        temp_state_coeffs.append(float(thisline[1]))\n",
    "        temp = [int(x) for x in thisline[2]]\n",
    "        temp_state_OCCs.append(temp)\n",
    "        continue\n",
    "      if \" THE \" in line:\n",
    "        state_CSFs[-1].append(temp_state_CSFs)\n",
    "        state_coeffs[-1].append(temp_state_coeffs)\n",
    "        state_OCCs[-1].append(temp_state_OCCs)\n",
    "        continue\n",
    "      if \"STEP CPU TIME\" in line:\n",
    "        STATE_ZONE = False\n",
    "        continue\n",
    "    if \"CI CALCULATION\" in line:\n",
    "      NUMCI += 1\n",
    "      ci.append([])\n",
    "      state_energies.append([])\n",
    "      state_CSFs.append([])\n",
    "      state_coeffs.append([])\n",
    "      state_OCCs.append([])\n",
    "      NFZC.append(int(flines[i+14].split()[1]))\n",
    "      NDOC.append(int(flines[i+14].split()[3]))\n",
    "      NEXT.append(int(flines[i+14].split()[5]))\n",
    "      NMCC.append(int(flines[i+15].split()[1]))\n",
    "      NAOS.append(int(flines[i+15].split()[3]))\n",
    "      NFZV.append(int(flines[i+15].split()[5]))\n",
    "      NBOS.append(int(flines[i+16].split()[1]))\n",
    "      NALP.append(int(flines[i+17].split()[1]))\n",
    "      NVAL.append(int(flines[i+18].split()[1]))\n",
    "      nel.append( 2*(NFZC[-1]+NDOC[-1]+NMCC[-1]) + 1*(NAOS[-1]+NBOS[-1]+NALP[-1]))\n",
    "      spin.append( 1 + NALP[-1] )\n",
    "      continue\n",
    "\n",
    "    if \" NUMBER OF STATES REQUESTED =\" in line:\n",
    "      STATE_ZONE=True\n",
    "      numstates = int(line.split()[-1])\n",
    "      continue\n",
    "\n",
    "  fname.close()\n",
    "\n",
    "  NCORE = [sum(i) for i in zip(*[NFZC,NMCC])]\n",
    "  NACT = [sum(i) for i in zip(*[NDOC,NAOS,NBOS,NALP,NVAL,NEXT])]\n",
    "\n",
    "  CSFs_l = []\n",
    "  for stg_CSFs in state_CSFs:\n",
    "    CSFs = set()\n",
    "    for st_CSFs in stg_CSFs:\n",
    "      for c in st_CSFs:\n",
    "        CSFs.add(c)\n",
    "    CSFs_l.append(sorted(list(CSFs)))\n",
    "\n",
    "  CSFs = [{}]\n",
    "\n",
    "  fname = open(file_name, 'r')\n",
    "\n",
    "  if isinstance(fname, TextIOWrapper):\n",
    "    flines = fname.readlines()\n",
    "\n",
    "  CI_index = 0\n",
    "  SKIP = 0\n",
    "\n",
    "  for i,line in enumerate(flines):\n",
    "    if \"CI CALCULATION\" in line:\n",
    "      SKIP = 0\n",
    "    if SKIP:\n",
    "      continue\n",
    "    if  \" CASE VECTOR =\" in line:\n",
    "      if int(line.split()[3]) == CSFs_l[CI_index][0]:\n",
    "        CSFs[CI_index][CSFs_l[CI_index][0]] = [int(x) for x in flines[i+1].split()[0]]\n",
    "        CSFs_l[CI_index].pop(0)\n",
    "        if len(CSFs_l[CI_index])==0:\n",
    "          CI_index += 1\n",
    "          CSFs.append({})\n",
    "          SKIP = 1\n",
    "          continue\n",
    "\n",
    "  CSFs.pop(-1)\n",
    "\n",
    "  fname.close()\n",
    "\n",
    "  spinz = []\n",
    "  for s in spin:\n",
    "    spinz.append([s-1-2*x for x in range(s)])\n",
    "    \n",
    "  state_num = 0\n",
    "  for CI_i in range(NUMCI):\n",
    "    for i in range(len(state_energies[CI_i])):\n",
    "      for ms in spinz[CI_i]:\n",
    "        ci[CI_i].append({})\n",
    "        ci[CI_i][-1][\"info\"] = copy(general_information)\n",
    "        ci[CI_i][-1][\"info\"][\"state\"] = state_num\n",
    "        state_num += 1\n",
    "        ci[CI_i][-1][\"info\"][\"energy\"] = state_energies[CI_i][i]\n",
    "        ci[CI_i][-1][\"info\"][\"spin\"] = spin[CI_i]\n",
    "        ci[CI_i][-1][\"info\"][\"ms\"] = ms/2\n",
    "        ci[CI_i][-1][\"info\"][\"nel\"] = nel[CI_i]\n",
    "        ci[CI_i][-1][\"info\"][\"occ_info\"] = [NCORE[CI_i],NACT[CI_i],NFZV[CI_i]]\n",
    "        ci[CI_i][-1][\"coeffs\"] = []\n",
    "        ci[CI_i][-1][\"occ\"] = []\n",
    "        ci[CI_i][-1][\"cv\"] = []\n",
    "        for j,csfi in enumerate(state_CSFs[CI_i][i]):\n",
    "          CGCs, OCCs = CV_to_dets(CSFs[CI_i][csfi], NCORE[CI_i], NDOC[CI_i], NALP[CI_i], NVAL[CI_i], ms)\n",
    "          for k in range(len(CGCs)):\n",
    "            ci[CI_i][-1][\"coeffs\"].append(state_coeffs[CI_i][i][j]*CGCs[k])\n",
    "            ci[CI_i][-1][\"occ\"].append(OCCs[k])\n",
    "            ci[CI_i][-1][\"cv\"].append(CSFs[CI_i][csfi])\n",
    "        ci[CI_i][-1][\"coeffs\"] = numpy.array(ci[CI_i][-1][\"coeffs\"])\n",
    "        ci[CI_i][-1][\"occ\"] = numpy.array(ci[CI_i][-1][\"occ\"])\n",
    "\n",
    "  #--- Calculating norm of CI states\n",
    "  display('\\nIn total, %d states have been read.' % sum([len(i) for i in ci]))\n",
    "  display('Norm of the states:')\n",
    "  for i in range(len(ci)):\n",
    "    for j in range(len(ci[i])):\n",
    "      norm = sum([x*x for x in ci[i][j]['coeffs']])\n",
    "      display('State %s (%s,%s):Norm = %0.8f (%d Coefficients)' %\n",
    "              (ci[i][j][\"info\"]['state'],ci[i][j]['info']['spin'],ci[i][j]['info']['ms'],\n",
    "               norm,len(ci[i][j]['coeffs'])))\n",
    "  display('')\n",
    "\n",
    "  ci_new = []\n",
    "  for i in ci:\n",
    "    ci_new.extend(i)\n",
    "\n",
    "  return ci_new\n",
    "\n"
   ]
  },
  {
   "cell_type": "code",
   "execution_count": 2,
   "id": "c156b370",
   "metadata": {},
   "outputs": [],
   "source": [
    "def CV_to_dets(CV, NCORE, NDOC, NALP, NVAL, MS):\n",
    "    \"\"\"\n",
    "    Turn Case Vector into Determinants and Coefficients\n",
    "    Not coded for NAOS or NBOS, can be adjusted\n",
    "    GAMESS Case Vector ascends through unoccupied, descends through doubly occupied, the descends through singly occupied\n",
    "    1 unoccupied\n",
    "    2 single, raises total spin\n",
    "    3 single, lowers total spin\n",
    "    4 is doubly occupied ( necessarily singlet, see Szabo Ex. 2.38 )\n",
    "    \"\"\"\n",
    "\n",
    "    NPHASE = 1\n",
    "    IB = 0\n",
    "    NOPEN = 0\n",
    "    s = [] # Says if electron raises or lowers total spin (left to right)\n",
    "    IORDER = [x for x in range(NCORE+NDOC+NALP+1, NCORE+NDOC+NALP+NVAL+1)] \\\n",
    "           + [x for x in range(NCORE+NDOC, NCORE, -1)] \\\n",
    "           + [x for x in range(NCORE+NDOC+NALP, NCORE+NDOC, -1)]\n",
    "\n",
    "    for c in CV:\n",
    "        if c == 1:\n",
    "            continue\n",
    "        if c == 2:\n",
    "            IB += 1\n",
    "            NOPEN += 1\n",
    "            s.append(1)\n",
    "            continue\n",
    "\n",
    "        if c == 3:\n",
    "            IB -= 1\n",
    "            NOPEN += 1\n",
    "            s.append(-1)\n",
    "            continue\n",
    "\n",
    "        if c == 4:\n",
    "            if IB%2:\n",
    "                NPHASE *= -1 # Enforce Antisymmetry under Exchange?\n",
    "            continue\n",
    "\n",
    "    s_z, CGCs, iCGCs = SPNFNC(NOPEN, s, MS) # Have to go through all Ms when relativistic\n",
    "\n",
    "    CGCs = [NPHASE*x for x in CGCs]\n",
    "    iCGCs = [NPHASE*x for x in iCGCs]\n",
    "    OCCs = []\n",
    "\n",
    "    for i,sz in enumerate(s_z):\n",
    "        DET = MAKDET(CV, IORDER, sz)\n",
    "        occupation = numpy.zeros((NDOC+NALP+NVAL,2),dtype=numpy.intc)\n",
    "        for orb in DET:\n",
    "            if orb > 0:\n",
    "                occupation[orb-NCORE-1,0] = 1\n",
    "            elif orb < 0:\n",
    "                occupation[abs(orb)-NCORE-1,1] = 1\n",
    "        OCCs.append(occupation)\n",
    "\n",
    "    return CGCs, OCCs\n"
   ]
  },
  {
   "cell_type": "code",
   "execution_count": 3,
   "id": "28e8ca3f",
   "metadata": {},
   "outputs": [],
   "source": [
    "def SPNFNC(NOPEN, s=[0], Ms=0):\n",
    "    \"\"\"\n",
    "    Generates spin functions\n",
    "    \"\"\"\n",
    "\n",
    "    if NOPEN == 0:\n",
    "        return [0], [1], [1]\n",
    "\n",
    "    s_z = [[1],[-1]]\n",
    "    for i in range(NOPEN-1):\n",
    "        s_z = [x+[1] for x in s_z] + [x+[-1] for x in s_z] # All permutations of spin_z for opens (off by factor of 2)\n",
    "\n",
    "    S_z = []\n",
    "    for sz in s_z:\n",
    "        S_z.append([sum(sz[:1+i]) for i in range(NOPEN)]) # All total S_z as one travels along the spins\n",
    "\n",
    "    pop_ind = 0\n",
    "    while pop_ind < len(s_z):\n",
    "        if S_z[pop_ind][-1] == Ms: # Exclude determinants with non-allowed total spin\n",
    "            pop_ind += 1\n",
    "        else:\n",
    "            S_z.pop(pop_ind)\n",
    "            s_z.pop(pop_ind)\n",
    "\n",
    "    S = [sum(s[:1+i]) for i in range(NOPEN)] # Total Spin tracked from left to right\n",
    "\n",
    "    pop_ind = 0\n",
    "    while pop_ind < len(s_z):\n",
    "        for j in range(NOPEN):\n",
    "            if abs(S_z[pop_ind][j]) > S[j]: # Exclude determinants with non-allowed total spin couplings\n",
    "                S_z.pop(pop_ind)\n",
    "                s_z.pop(pop_ind)\n",
    "                pop_ind -= 1\n",
    "                break\n",
    "        pop_ind += 1\n",
    "\n",
    "    #   \"Calculate the Clebsh-Gordon Coefficients\"\n",
    "\n",
    "    CGCs = []\n",
    "    iCGCs = []\n",
    "\n",
    "    for i in range(len(s_z)):\n",
    "        COEF = 1\n",
    "        for j in range(NOPEN):\n",
    "            if s[j] == 1:\n",
    "                if s_z[i][j] == 1:\n",
    "                    COEF *= (S[j]+S_z[i][j])\n",
    "                else:\n",
    "                    COEF *= (S[j]-S_z[i][j])\n",
    "                COEF /= 2*S[j]\n",
    "            else:\n",
    "                if s_z[i][j] == 1:\n",
    "                    COEF *= (S[j]-S_z[i][j]+2)\n",
    "                    if S[j]%2 == 0:\n",
    "                        COEF *= -1\n",
    "                else:\n",
    "                    COEF *= (S[j]+S_z[i][j]+2)\n",
    "                    if S[j]%2 == 1:\n",
    "                        COEF *= -1\n",
    "                COEF /= (2*S[j] + 4)\n",
    "        if COEF == 0:\n",
    "            continue\n",
    "        CGCs.append(COEF/abs(COEF)**(1/2))\n",
    "        iCGCs.append(1/COEF)\n",
    "\n",
    "    return s_z, CGCs, iCGCs\n"
   ]
  },
  {
   "cell_type": "code",
   "execution_count": 4,
   "id": "24fc530a",
   "metadata": {},
   "outputs": [],
   "source": [
    "def MAKDET(CV,IORDER,sz):\n",
    "    DET = []\n",
    "    iSO = 0\n",
    "    for i,cv in enumerate(CV):\n",
    "        if cv == 1:\n",
    "            continue\n",
    "        elif cv == 4:\n",
    "            DET.append(IORDER[i])\n",
    "            DET.append(-IORDER[i])\n",
    "        else:\n",
    "            if sz[iSO] == 1:\n",
    "                DET.append(IORDER[i])\n",
    "            else:\n",
    "                DET.append(-IORDER[i])\n",
    "            iSO += 1\n",
    "    return DET\n"
   ]
  },
  {
   "cell_type": "code",
   "execution_count": 39,
   "id": "643267af",
   "metadata": {},
   "outputs": [
    {
     "data": {
      "text/plain": [
       "'\\nReading data of GUGA calculation from GAMESS-US...'"
      ]
     },
     "metadata": {},
     "output_type": "display_data"
    },
    {
     "data": {
      "text/plain": [
       "'\\nIn total, 180 states have been read.'"
      ]
     },
     "metadata": {},
     "output_type": "display_data"
    },
    {
     "data": {
      "text/plain": [
       "'Norm of the states:'"
      ]
     },
     "metadata": {},
     "output_type": "display_data"
    },
    {
     "data": {
      "text/plain": [
       "'State 0 (1,0.0):Norm = 0.93857370 (45 Coefficients)'"
      ]
     },
     "metadata": {},
     "output_type": "display_data"
    },
    {
     "data": {
      "text/plain": [
       "'State 1 (1,0.0):Norm = 0.96505103 (46 Coefficients)'"
      ]
     },
     "metadata": {},
     "output_type": "display_data"
    },
    {
     "data": {
      "text/plain": [
       "'State 2 (1,0.0):Norm = 0.98641201 (12 Coefficients)'"
      ]
     },
     "metadata": {},
     "output_type": "display_data"
    },
    {
     "data": {
      "text/plain": [
       "'State 3 (1,0.0):Norm = 0.96364001 (60 Coefficients)'"
      ]
     },
     "metadata": {},
     "output_type": "display_data"
    },
    {
     "data": {
      "text/plain": [
       "'State 4 (1,0.0):Norm = 0.96363868 (60 Coefficients)'"
      ]
     },
     "metadata": {},
     "output_type": "display_data"
    },
    {
     "data": {
      "text/plain": [
       "'State 5 (1,0.0):Norm = 0.99265364 (17 Coefficients)'"
      ]
     },
     "metadata": {},
     "output_type": "display_data"
    },
    {
     "data": {
      "text/plain": [
       "'State 6 (1,0.0):Norm = 0.93942733 (78 Coefficients)'"
      ]
     },
     "metadata": {},
     "output_type": "display_data"
    },
    {
     "data": {
      "text/plain": [
       "'State 7 (1,0.0):Norm = 0.93942739 (78 Coefficients)'"
      ]
     },
     "metadata": {},
     "output_type": "display_data"
    },
    {
     "data": {
      "text/plain": [
       "'State 8 (1,0.0):Norm = 0.92699047 (108 Coefficients)'"
      ]
     },
     "metadata": {},
     "output_type": "display_data"
    },
    {
     "data": {
      "text/plain": [
       "'State 9 (1,0.0):Norm = 0.93965463 (128 Coefficients)'"
      ]
     },
     "metadata": {},
     "output_type": "display_data"
    },
    {
     "data": {
      "text/plain": [
       "'State 10 (1,0.0):Norm = 0.96846488 (104 Coefficients)'"
      ]
     },
     "metadata": {},
     "output_type": "display_data"
    },
    {
     "data": {
      "text/plain": [
       "'State 11 (1,0.0):Norm = 0.96846584 (104 Coefficients)'"
      ]
     },
     "metadata": {},
     "output_type": "display_data"
    },
    {
     "data": {
      "text/plain": [
       "'State 12 (1,0.0):Norm = 0.93001590 (104 Coefficients)'"
      ]
     },
     "metadata": {},
     "output_type": "display_data"
    },
    {
     "data": {
      "text/plain": [
       "'State 13 (1,0.0):Norm = 0.93701788 (99 Coefficients)'"
      ]
     },
     "metadata": {},
     "output_type": "display_data"
    },
    {
     "data": {
      "text/plain": [
       "'State 14 (1,0.0):Norm = 0.95191666 (86 Coefficients)'"
      ]
     },
     "metadata": {},
     "output_type": "display_data"
    },
    {
     "data": {
      "text/plain": [
       "'State 15 (1,0.0):Norm = 0.94976734 (46 Coefficients)'"
      ]
     },
     "metadata": {},
     "output_type": "display_data"
    },
    {
     "data": {
      "text/plain": [
       "'State 16 (1,0.0):Norm = 0.94976734 (46 Coefficients)'"
      ]
     },
     "metadata": {},
     "output_type": "display_data"
    },
    {
     "data": {
      "text/plain": [
       "'State 17 (1,0.0):Norm = 0.95455817 (74 Coefficients)'"
      ]
     },
     "metadata": {},
     "output_type": "display_data"
    },
    {
     "data": {
      "text/plain": [
       "'State 18 (1,0.0):Norm = 0.94985448 (118 Coefficients)'"
      ]
     },
     "metadata": {},
     "output_type": "display_data"
    },
    {
     "data": {
      "text/plain": [
       "'State 19 (1,0.0):Norm = 0.94985509 (118 Coefficients)'"
      ]
     },
     "metadata": {},
     "output_type": "display_data"
    },
    {
     "data": {
      "text/plain": [
       "'State 20 (3,1.0):Norm = 0.93380430 (56 Coefficients)'"
      ]
     },
     "metadata": {},
     "output_type": "display_data"
    },
    {
     "data": {
      "text/plain": [
       "'State 21 (3,0.0):Norm = 0.93380430 (110 Coefficients)'"
      ]
     },
     "metadata": {},
     "output_type": "display_data"
    },
    {
     "data": {
      "text/plain": [
       "'State 22 (3,-1.0):Norm = 0.93380430 (56 Coefficients)'"
      ]
     },
     "metadata": {},
     "output_type": "display_data"
    },
    {
     "data": {
      "text/plain": [
       "'State 23 (3,1.0):Norm = 0.88895849 (47 Coefficients)'"
      ]
     },
     "metadata": {},
     "output_type": "display_data"
    },
    {
     "data": {
      "text/plain": [
       "'State 24 (3,0.0):Norm = 0.88895849 (90 Coefficients)'"
      ]
     },
     "metadata": {},
     "output_type": "display_data"
    },
    {
     "data": {
      "text/plain": [
       "'State 25 (3,-1.0):Norm = 0.88895849 (47 Coefficients)'"
      ]
     },
     "metadata": {},
     "output_type": "display_data"
    },
    {
     "data": {
      "text/plain": [
       "'State 26 (3,1.0):Norm = 0.88895849 (47 Coefficients)'"
      ]
     },
     "metadata": {},
     "output_type": "display_data"
    },
    {
     "data": {
      "text/plain": [
       "'State 27 (3,0.0):Norm = 0.88895849 (90 Coefficients)'"
      ]
     },
     "metadata": {},
     "output_type": "display_data"
    },
    {
     "data": {
      "text/plain": [
       "'State 28 (3,-1.0):Norm = 0.88895849 (47 Coefficients)'"
      ]
     },
     "metadata": {},
     "output_type": "display_data"
    },
    {
     "data": {
      "text/plain": [
       "'State 29 (3,1.0):Norm = 0.89785972 (68 Coefficients)'"
      ]
     },
     "metadata": {},
     "output_type": "display_data"
    },
    {
     "data": {
      "text/plain": [
       "'State 30 (3,0.0):Norm = 0.89785972 (128 Coefficients)'"
      ]
     },
     "metadata": {},
     "output_type": "display_data"
    },
    {
     "data": {
      "text/plain": [
       "'State 31 (3,-1.0):Norm = 0.89785972 (68 Coefficients)'"
      ]
     },
     "metadata": {},
     "output_type": "display_data"
    },
    {
     "data": {
      "text/plain": [
       "'State 32 (3,1.0):Norm = 0.90027572 (74 Coefficients)'"
      ]
     },
     "metadata": {},
     "output_type": "display_data"
    },
    {
     "data": {
      "text/plain": [
       "'State 33 (3,0.0):Norm = 0.90027572 (140 Coefficients)'"
      ]
     },
     "metadata": {},
     "output_type": "display_data"
    },
    {
     "data": {
      "text/plain": [
       "'State 34 (3,-1.0):Norm = 0.90027572 (74 Coefficients)'"
      ]
     },
     "metadata": {},
     "output_type": "display_data"
    },
    {
     "data": {
      "text/plain": [
       "'State 35 (3,1.0):Norm = 0.90922696 (57 Coefficients)'"
      ]
     },
     "metadata": {},
     "output_type": "display_data"
    },
    {
     "data": {
      "text/plain": [
       "'State 36 (3,0.0):Norm = 0.90922696 (110 Coefficients)'"
      ]
     },
     "metadata": {},
     "output_type": "display_data"
    },
    {
     "data": {
      "text/plain": [
       "'State 37 (3,-1.0):Norm = 0.90922696 (57 Coefficients)'"
      ]
     },
     "metadata": {},
     "output_type": "display_data"
    },
    {
     "data": {
      "text/plain": [
       "'State 38 (3,1.0):Norm = 0.90916132 (57 Coefficients)'"
      ]
     },
     "metadata": {},
     "output_type": "display_data"
    },
    {
     "data": {
      "text/plain": [
       "'State 39 (3,0.0):Norm = 0.90916132 (110 Coefficients)'"
      ]
     },
     "metadata": {},
     "output_type": "display_data"
    },
    {
     "data": {
      "text/plain": [
       "'State 40 (3,-1.0):Norm = 0.90916132 (57 Coefficients)'"
      ]
     },
     "metadata": {},
     "output_type": "display_data"
    },
    {
     "data": {
      "text/plain": [
       "'State 41 (3,1.0):Norm = 0.89312719 (48 Coefficients)'"
      ]
     },
     "metadata": {},
     "output_type": "display_data"
    },
    {
     "data": {
      "text/plain": [
       "'State 42 (3,0.0):Norm = 0.89312719 (92 Coefficients)'"
      ]
     },
     "metadata": {},
     "output_type": "display_data"
    },
    {
     "data": {
      "text/plain": [
       "'State 43 (3,-1.0):Norm = 0.89312719 (48 Coefficients)'"
      ]
     },
     "metadata": {},
     "output_type": "display_data"
    },
    {
     "data": {
      "text/plain": [
       "'State 44 (3,1.0):Norm = 0.89893706 (67 Coefficients)'"
      ]
     },
     "metadata": {},
     "output_type": "display_data"
    },
    {
     "data": {
      "text/plain": [
       "'State 45 (3,0.0):Norm = 0.89893706 (122 Coefficients)'"
      ]
     },
     "metadata": {},
     "output_type": "display_data"
    },
    {
     "data": {
      "text/plain": [
       "'State 46 (3,-1.0):Norm = 0.89893706 (67 Coefficients)'"
      ]
     },
     "metadata": {},
     "output_type": "display_data"
    },
    {
     "data": {
      "text/plain": [
       "'State 47 (3,1.0):Norm = 0.89845578 (68 Coefficients)'"
      ]
     },
     "metadata": {},
     "output_type": "display_data"
    },
    {
     "data": {
      "text/plain": [
       "'State 48 (3,0.0):Norm = 0.89845578 (122 Coefficients)'"
      ]
     },
     "metadata": {},
     "output_type": "display_data"
    },
    {
     "data": {
      "text/plain": [
       "'State 49 (3,-1.0):Norm = 0.89845578 (68 Coefficients)'"
      ]
     },
     "metadata": {},
     "output_type": "display_data"
    },
    {
     "data": {
      "text/plain": [
       "'State 50 (3,1.0):Norm = 0.83643838 (159 Coefficients)'"
      ]
     },
     "metadata": {},
     "output_type": "display_data"
    },
    {
     "data": {
      "text/plain": [
       "'State 51 (3,0.0):Norm = 0.83643838 (302 Coefficients)'"
      ]
     },
     "metadata": {},
     "output_type": "display_data"
    },
    {
     "data": {
      "text/plain": [
       "'State 52 (3,-1.0):Norm = 0.83643838 (159 Coefficients)'"
      ]
     },
     "metadata": {},
     "output_type": "display_data"
    },
    {
     "data": {
      "text/plain": [
       "'State 53 (3,1.0):Norm = 0.83782030 (157 Coefficients)'"
      ]
     },
     "metadata": {},
     "output_type": "display_data"
    },
    {
     "data": {
      "text/plain": [
       "'State 54 (3,0.0):Norm = 0.83782030 (298 Coefficients)'"
      ]
     },
     "metadata": {},
     "output_type": "display_data"
    },
    {
     "data": {
      "text/plain": [
       "'State 55 (3,-1.0):Norm = 0.83782030 (157 Coefficients)'"
      ]
     },
     "metadata": {},
     "output_type": "display_data"
    },
    {
     "data": {
      "text/plain": [
       "'State 56 (3,1.0):Norm = 0.87486143 (166 Coefficients)'"
      ]
     },
     "metadata": {},
     "output_type": "display_data"
    },
    {
     "data": {
      "text/plain": [
       "'State 57 (3,0.0):Norm = 0.87486143 (312 Coefficients)'"
      ]
     },
     "metadata": {},
     "output_type": "display_data"
    },
    {
     "data": {
      "text/plain": [
       "'State 58 (3,-1.0):Norm = 0.87486143 (166 Coefficients)'"
      ]
     },
     "metadata": {},
     "output_type": "display_data"
    },
    {
     "data": {
      "text/plain": [
       "'State 59 (3,1.0):Norm = 0.86200470 (92 Coefficients)'"
      ]
     },
     "metadata": {},
     "output_type": "display_data"
    },
    {
     "data": {
      "text/plain": [
       "'State 60 (3,0.0):Norm = 0.86200470 (172 Coefficients)'"
      ]
     },
     "metadata": {},
     "output_type": "display_data"
    },
    {
     "data": {
      "text/plain": [
       "'State 61 (3,-1.0):Norm = 0.86200470 (92 Coefficients)'"
      ]
     },
     "metadata": {},
     "output_type": "display_data"
    },
    {
     "data": {
      "text/plain": [
       "'State 62 (3,1.0):Norm = 0.86609180 (94 Coefficients)'"
      ]
     },
     "metadata": {},
     "output_type": "display_data"
    },
    {
     "data": {
      "text/plain": [
       "'State 63 (3,0.0):Norm = 0.86609180 (176 Coefficients)'"
      ]
     },
     "metadata": {},
     "output_type": "display_data"
    },
    {
     "data": {
      "text/plain": [
       "'State 64 (3,-1.0):Norm = 0.86609180 (94 Coefficients)'"
      ]
     },
     "metadata": {},
     "output_type": "display_data"
    },
    {
     "data": {
      "text/plain": [
       "'State 65 (3,1.0):Norm = 0.89681708 (129 Coefficients)'"
      ]
     },
     "metadata": {},
     "output_type": "display_data"
    },
    {
     "data": {
      "text/plain": [
       "'State 66 (3,0.0):Norm = 0.89681708 (228 Coefficients)'"
      ]
     },
     "metadata": {},
     "output_type": "display_data"
    },
    {
     "data": {
      "text/plain": [
       "'State 67 (3,-1.0):Norm = 0.89681708 (129 Coefficients)'"
      ]
     },
     "metadata": {},
     "output_type": "display_data"
    },
    {
     "data": {
      "text/plain": [
       "'State 68 (3,1.0):Norm = 0.85219881 (117 Coefficients)'"
      ]
     },
     "metadata": {},
     "output_type": "display_data"
    },
    {
     "data": {
      "text/plain": [
       "'State 69 (3,0.0):Norm = 0.85219881 (222 Coefficients)'"
      ]
     },
     "metadata": {},
     "output_type": "display_data"
    },
    {
     "data": {
      "text/plain": [
       "'State 70 (3,-1.0):Norm = 0.85219881 (117 Coefficients)'"
      ]
     },
     "metadata": {},
     "output_type": "display_data"
    },
    {
     "data": {
      "text/plain": [
       "'State 71 (3,1.0):Norm = 0.84990966 (115 Coefficients)'"
      ]
     },
     "metadata": {},
     "output_type": "display_data"
    },
    {
     "data": {
      "text/plain": [
       "'State 72 (3,0.0):Norm = 0.84990966 (218 Coefficients)'"
      ]
     },
     "metadata": {},
     "output_type": "display_data"
    },
    {
     "data": {
      "text/plain": [
       "'State 73 (3,-1.0):Norm = 0.84990966 (115 Coefficients)'"
      ]
     },
     "metadata": {},
     "output_type": "display_data"
    },
    {
     "data": {
      "text/plain": [
       "'State 74 (3,1.0):Norm = 0.83816438 (160 Coefficients)'"
      ]
     },
     "metadata": {},
     "output_type": "display_data"
    },
    {
     "data": {
      "text/plain": [
       "'State 75 (3,0.0):Norm = 0.83816438 (302 Coefficients)'"
      ]
     },
     "metadata": {},
     "output_type": "display_data"
    },
    {
     "data": {
      "text/plain": [
       "'State 76 (3,-1.0):Norm = 0.83816438 (160 Coefficients)'"
      ]
     },
     "metadata": {},
     "output_type": "display_data"
    },
    {
     "data": {
      "text/plain": [
       "'State 77 (3,1.0):Norm = 0.88564205 (200 Coefficients)'"
      ]
     },
     "metadata": {},
     "output_type": "display_data"
    },
    {
     "data": {
      "text/plain": [
       "'State 78 (3,0.0):Norm = 0.88564205 (362 Coefficients)'"
      ]
     },
     "metadata": {},
     "output_type": "display_data"
    },
    {
     "data": {
      "text/plain": [
       "'State 79 (3,-1.0):Norm = 0.88564205 (200 Coefficients)'"
      ]
     },
     "metadata": {},
     "output_type": "display_data"
    },
    {
     "data": {
      "text/plain": [
       "'State 80 (5,2.0):Norm = 0.93487274 (52 Coefficients)'"
      ]
     },
     "metadata": {},
     "output_type": "display_data"
    },
    {
     "data": {
      "text/plain": [
       "'State 81 (5,1.0):Norm = 0.93487274 (194 Coefficients)'"
      ]
     },
     "metadata": {},
     "output_type": "display_data"
    },
    {
     "data": {
      "text/plain": [
       "'State 82 (5,0.0):Norm = 0.93487274 (284 Coefficients)'"
      ]
     },
     "metadata": {},
     "output_type": "display_data"
    },
    {
     "data": {
      "text/plain": [
       "'State 83 (5,-1.0):Norm = 0.93487274 (194 Coefficients)'"
      ]
     },
     "metadata": {},
     "output_type": "display_data"
    },
    {
     "data": {
      "text/plain": [
       "'State 84 (5,-2.0):Norm = 0.93487274 (52 Coefficients)'"
      ]
     },
     "metadata": {},
     "output_type": "display_data"
    },
    {
     "data": {
      "text/plain": [
       "'State 85 (5,2.0):Norm = 0.89619132 (26 Coefficients)'"
      ]
     },
     "metadata": {},
     "output_type": "display_data"
    },
    {
     "data": {
      "text/plain": [
       "'State 86 (5,1.0):Norm = 0.89619132 (104 Coefficients)'"
      ]
     },
     "metadata": {},
     "output_type": "display_data"
    },
    {
     "data": {
      "text/plain": [
       "'State 87 (5,0.0):Norm = 0.89619132 (156 Coefficients)'"
      ]
     },
     "metadata": {},
     "output_type": "display_data"
    },
    {
     "data": {
      "text/plain": [
       "'State 88 (5,-1.0):Norm = 0.89619132 (104 Coefficients)'"
      ]
     },
     "metadata": {},
     "output_type": "display_data"
    },
    {
     "data": {
      "text/plain": [
       "'State 89 (5,-2.0):Norm = 0.89619132 (26 Coefficients)'"
      ]
     },
     "metadata": {},
     "output_type": "display_data"
    },
    {
     "data": {
      "text/plain": [
       "'State 90 (5,2.0):Norm = 0.89871673 (29 Coefficients)'"
      ]
     },
     "metadata": {},
     "output_type": "display_data"
    },
    {
     "data": {
      "text/plain": [
       "'State 91 (5,1.0):Norm = 0.89871673 (116 Coefficients)'"
      ]
     },
     "metadata": {},
     "output_type": "display_data"
    },
    {
     "data": {
      "text/plain": [
       "'State 92 (5,0.0):Norm = 0.89871673 (174 Coefficients)'"
      ]
     },
     "metadata": {},
     "output_type": "display_data"
    },
    {
     "data": {
      "text/plain": [
       "'State 93 (5,-1.0):Norm = 0.89871673 (116 Coefficients)'"
      ]
     },
     "metadata": {},
     "output_type": "display_data"
    },
    {
     "data": {
      "text/plain": [
       "'State 94 (5,-2.0):Norm = 0.89871673 (29 Coefficients)'"
      ]
     },
     "metadata": {},
     "output_type": "display_data"
    },
    {
     "data": {
      "text/plain": [
       "'State 95 (5,2.0):Norm = 0.90407269 (43 Coefficients)'"
      ]
     },
     "metadata": {},
     "output_type": "display_data"
    },
    {
     "data": {
      "text/plain": [
       "'State 96 (5,1.0):Norm = 0.90407269 (172 Coefficients)'"
      ]
     },
     "metadata": {},
     "output_type": "display_data"
    },
    {
     "data": {
      "text/plain": [
       "'State 97 (5,0.0):Norm = 0.90407269 (258 Coefficients)'"
      ]
     },
     "metadata": {},
     "output_type": "display_data"
    },
    {
     "data": {
      "text/plain": [
       "'State 98 (5,-1.0):Norm = 0.90407269 (172 Coefficients)'"
      ]
     },
     "metadata": {},
     "output_type": "display_data"
    },
    {
     "data": {
      "text/plain": [
       "'State 99 (5,-2.0):Norm = 0.90407269 (43 Coefficients)'"
      ]
     },
     "metadata": {},
     "output_type": "display_data"
    },
    {
     "data": {
      "text/plain": [
       "'State 100 (5,2.0):Norm = 0.90407186 (43 Coefficients)'"
      ]
     },
     "metadata": {},
     "output_type": "display_data"
    },
    {
     "data": {
      "text/plain": [
       "'State 101 (5,1.0):Norm = 0.90407186 (172 Coefficients)'"
      ]
     },
     "metadata": {},
     "output_type": "display_data"
    },
    {
     "data": {
      "text/plain": [
       "'State 102 (5,0.0):Norm = 0.90407186 (258 Coefficients)'"
      ]
     },
     "metadata": {},
     "output_type": "display_data"
    },
    {
     "data": {
      "text/plain": [
       "'State 103 (5,-1.0):Norm = 0.90407186 (172 Coefficients)'"
      ]
     },
     "metadata": {},
     "output_type": "display_data"
    },
    {
     "data": {
      "text/plain": [
       "'State 104 (5,-2.0):Norm = 0.90407186 (43 Coefficients)'"
      ]
     },
     "metadata": {},
     "output_type": "display_data"
    },
    {
     "data": {
      "text/plain": [
       "'State 105 (5,2.0):Norm = 0.89958226 (45 Coefficients)'"
      ]
     },
     "metadata": {},
     "output_type": "display_data"
    },
    {
     "data": {
      "text/plain": [
       "'State 106 (5,1.0):Norm = 0.89958226 (170 Coefficients)'"
      ]
     },
     "metadata": {},
     "output_type": "display_data"
    },
    {
     "data": {
      "text/plain": [
       "'State 107 (5,0.0):Norm = 0.89958226 (250 Coefficients)'"
      ]
     },
     "metadata": {},
     "output_type": "display_data"
    },
    {
     "data": {
      "text/plain": [
       "'State 108 (5,-1.0):Norm = 0.89958226 (170 Coefficients)'"
      ]
     },
     "metadata": {},
     "output_type": "display_data"
    },
    {
     "data": {
      "text/plain": [
       "'State 109 (5,-2.0):Norm = 0.89958226 (45 Coefficients)'"
      ]
     },
     "metadata": {},
     "output_type": "display_data"
    },
    {
     "data": {
      "text/plain": [
       "'State 110 (5,2.0):Norm = 0.89958231 (45 Coefficients)'"
      ]
     },
     "metadata": {},
     "output_type": "display_data"
    },
    {
     "data": {
      "text/plain": [
       "'State 111 (5,1.0):Norm = 0.89958231 (170 Coefficients)'"
      ]
     },
     "metadata": {},
     "output_type": "display_data"
    },
    {
     "data": {
      "text/plain": [
       "'State 112 (5,0.0):Norm = 0.89958231 (250 Coefficients)'"
      ]
     },
     "metadata": {},
     "output_type": "display_data"
    },
    {
     "data": {
      "text/plain": [
       "'State 113 (5,-1.0):Norm = 0.89958231 (170 Coefficients)'"
      ]
     },
     "metadata": {},
     "output_type": "display_data"
    },
    {
     "data": {
      "text/plain": [
       "'State 114 (5,-2.0):Norm = 0.89958231 (45 Coefficients)'"
      ]
     },
     "metadata": {},
     "output_type": "display_data"
    },
    {
     "data": {
      "text/plain": [
       "'State 115 (5,2.0):Norm = 0.92215231 (12 Coefficients)'"
      ]
     },
     "metadata": {},
     "output_type": "display_data"
    },
    {
     "data": {
      "text/plain": [
       "'State 116 (5,1.0):Norm = 0.92215231 (48 Coefficients)'"
      ]
     },
     "metadata": {},
     "output_type": "display_data"
    },
    {
     "data": {
      "text/plain": [
       "'State 117 (5,0.0):Norm = 0.92215231 (72 Coefficients)'"
      ]
     },
     "metadata": {},
     "output_type": "display_data"
    },
    {
     "data": {
      "text/plain": [
       "'State 118 (5,-1.0):Norm = 0.92215231 (48 Coefficients)'"
      ]
     },
     "metadata": {},
     "output_type": "display_data"
    },
    {
     "data": {
      "text/plain": [
       "'State 119 (5,-2.0):Norm = 0.92215231 (12 Coefficients)'"
      ]
     },
     "metadata": {},
     "output_type": "display_data"
    },
    {
     "data": {
      "text/plain": [
       "'State 120 (5,2.0):Norm = 0.92214982 (12 Coefficients)'"
      ]
     },
     "metadata": {},
     "output_type": "display_data"
    },
    {
     "data": {
      "text/plain": [
       "'State 121 (5,1.0):Norm = 0.92214982 (48 Coefficients)'"
      ]
     },
     "metadata": {},
     "output_type": "display_data"
    },
    {
     "data": {
      "text/plain": [
       "'State 122 (5,0.0):Norm = 0.92214982 (72 Coefficients)'"
      ]
     },
     "metadata": {},
     "output_type": "display_data"
    },
    {
     "data": {
      "text/plain": [
       "'State 123 (5,-1.0):Norm = 0.92214982 (48 Coefficients)'"
      ]
     },
     "metadata": {},
     "output_type": "display_data"
    },
    {
     "data": {
      "text/plain": [
       "'State 124 (5,-2.0):Norm = 0.92214982 (12 Coefficients)'"
      ]
     },
     "metadata": {},
     "output_type": "display_data"
    },
    {
     "data": {
      "text/plain": [
       "'State 125 (5,2.0):Norm = 0.91901228 (13 Coefficients)'"
      ]
     },
     "metadata": {},
     "output_type": "display_data"
    },
    {
     "data": {
      "text/plain": [
       "'State 126 (5,1.0):Norm = 0.91901228 (52 Coefficients)'"
      ]
     },
     "metadata": {},
     "output_type": "display_data"
    },
    {
     "data": {
      "text/plain": [
       "'State 127 (5,0.0):Norm = 0.91901228 (78 Coefficients)'"
      ]
     },
     "metadata": {},
     "output_type": "display_data"
    },
    {
     "data": {
      "text/plain": [
       "'State 128 (5,-1.0):Norm = 0.91901228 (52 Coefficients)'"
      ]
     },
     "metadata": {},
     "output_type": "display_data"
    },
    {
     "data": {
      "text/plain": [
       "'State 129 (5,-2.0):Norm = 0.91901228 (13 Coefficients)'"
      ]
     },
     "metadata": {},
     "output_type": "display_data"
    },
    {
     "data": {
      "text/plain": [
       "'State 130 (5,2.0):Norm = 0.90604900 (85 Coefficients)'"
      ]
     },
     "metadata": {},
     "output_type": "display_data"
    },
    {
     "data": {
      "text/plain": [
       "'State 131 (5,1.0):Norm = 0.90604900 (280 Coefficients)'"
      ]
     },
     "metadata": {},
     "output_type": "display_data"
    },
    {
     "data": {
      "text/plain": [
       "'State 132 (5,0.0):Norm = 0.90604900 (402 Coefficients)'"
      ]
     },
     "metadata": {},
     "output_type": "display_data"
    },
    {
     "data": {
      "text/plain": [
       "'State 133 (5,-1.0):Norm = 0.90604900 (280 Coefficients)'"
      ]
     },
     "metadata": {},
     "output_type": "display_data"
    },
    {
     "data": {
      "text/plain": [
       "'State 134 (5,-2.0):Norm = 0.90604900 (85 Coefficients)'"
      ]
     },
     "metadata": {},
     "output_type": "display_data"
    },
    {
     "data": {
      "text/plain": [
       "'State 135 (5,2.0):Norm = 0.87465027 (63 Coefficients)'"
      ]
     },
     "metadata": {},
     "output_type": "display_data"
    },
    {
     "data": {
      "text/plain": [
       "'State 136 (5,1.0):Norm = 0.87465027 (231 Coefficients)'"
      ]
     },
     "metadata": {},
     "output_type": "display_data"
    },
    {
     "data": {
      "text/plain": [
       "'State 137 (5,0.0):Norm = 0.87465027 (338 Coefficients)'"
      ]
     },
     "metadata": {},
     "output_type": "display_data"
    },
    {
     "data": {
      "text/plain": [
       "'State 138 (5,-1.0):Norm = 0.87465027 (231 Coefficients)'"
      ]
     },
     "metadata": {},
     "output_type": "display_data"
    },
    {
     "data": {
      "text/plain": [
       "'State 139 (5,-2.0):Norm = 0.87465027 (63 Coefficients)'"
      ]
     },
     "metadata": {},
     "output_type": "display_data"
    },
    {
     "data": {
      "text/plain": [
       "'State 140 (5,2.0):Norm = 0.87281270 (60 Coefficients)'"
      ]
     },
     "metadata": {},
     "output_type": "display_data"
    },
    {
     "data": {
      "text/plain": [
       "'State 141 (5,1.0):Norm = 0.87281270 (219 Coefficients)'"
      ]
     },
     "metadata": {},
     "output_type": "display_data"
    },
    {
     "data": {
      "text/plain": [
       "'State 142 (5,0.0):Norm = 0.87281270 (320 Coefficients)'"
      ]
     },
     "metadata": {},
     "output_type": "display_data"
    },
    {
     "data": {
      "text/plain": [
       "'State 143 (5,-1.0):Norm = 0.87281270 (219 Coefficients)'"
      ]
     },
     "metadata": {},
     "output_type": "display_data"
    },
    {
     "data": {
      "text/plain": [
       "'State 144 (5,-2.0):Norm = 0.87281270 (60 Coefficients)'"
      ]
     },
     "metadata": {},
     "output_type": "display_data"
    },
    {
     "data": {
      "text/plain": [
       "'State 145 (5,2.0):Norm = 0.88006519 (85 Coefficients)'"
      ]
     },
     "metadata": {},
     "output_type": "display_data"
    },
    {
     "data": {
      "text/plain": [
       "'State 146 (5,1.0):Norm = 0.88006519 (270 Coefficients)'"
      ]
     },
     "metadata": {},
     "output_type": "display_data"
    },
    {
     "data": {
      "text/plain": [
       "'State 147 (5,0.0):Norm = 0.88006519 (382 Coefficients)'"
      ]
     },
     "metadata": {},
     "output_type": "display_data"
    },
    {
     "data": {
      "text/plain": [
       "'State 148 (5,-1.0):Norm = 0.88006519 (270 Coefficients)'"
      ]
     },
     "metadata": {},
     "output_type": "display_data"
    },
    {
     "data": {
      "text/plain": [
       "'State 149 (5,-2.0):Norm = 0.88006519 (85 Coefficients)'"
      ]
     },
     "metadata": {},
     "output_type": "display_data"
    },
    {
     "data": {
      "text/plain": [
       "'State 150 (5,2.0):Norm = 0.87548466 (70 Coefficients)'"
      ]
     },
     "metadata": {},
     "output_type": "display_data"
    },
    {
     "data": {
      "text/plain": [
       "'State 151 (5,1.0):Norm = 0.87548466 (222 Coefficients)'"
      ]
     },
     "metadata": {},
     "output_type": "display_data"
    },
    {
     "data": {
      "text/plain": [
       "'State 152 (5,0.0):Norm = 0.87548466 (316 Coefficients)'"
      ]
     },
     "metadata": {},
     "output_type": "display_data"
    },
    {
     "data": {
      "text/plain": [
       "'State 153 (5,-1.0):Norm = 0.87548466 (222 Coefficients)'"
      ]
     },
     "metadata": {},
     "output_type": "display_data"
    },
    {
     "data": {
      "text/plain": [
       "'State 154 (5,-2.0):Norm = 0.87548466 (70 Coefficients)'"
      ]
     },
     "metadata": {},
     "output_type": "display_data"
    },
    {
     "data": {
      "text/plain": [
       "'State 155 (5,2.0):Norm = 0.89900736 (85 Coefficients)'"
      ]
     },
     "metadata": {},
     "output_type": "display_data"
    },
    {
     "data": {
      "text/plain": [
       "'State 156 (5,1.0):Norm = 0.89900736 (272 Coefficients)'"
      ]
     },
     "metadata": {},
     "output_type": "display_data"
    },
    {
     "data": {
      "text/plain": [
       "'State 157 (5,0.0):Norm = 0.89900736 (386 Coefficients)'"
      ]
     },
     "metadata": {},
     "output_type": "display_data"
    },
    {
     "data": {
      "text/plain": [
       "'State 158 (5,-1.0):Norm = 0.89900736 (272 Coefficients)'"
      ]
     },
     "metadata": {},
     "output_type": "display_data"
    },
    {
     "data": {
      "text/plain": [
       "'State 159 (5,-2.0):Norm = 0.89900736 (85 Coefficients)'"
      ]
     },
     "metadata": {},
     "output_type": "display_data"
    },
    {
     "data": {
      "text/plain": [
       "'State 160 (5,2.0):Norm = 0.89738833 (73 Coefficients)'"
      ]
     },
     "metadata": {},
     "output_type": "display_data"
    },
    {
     "data": {
      "text/plain": [
       "'State 161 (5,1.0):Norm = 0.89738833 (224 Coefficients)'"
      ]
     },
     "metadata": {},
     "output_type": "display_data"
    },
    {
     "data": {
      "text/plain": [
       "'State 162 (5,0.0):Norm = 0.89738833 (314 Coefficients)'"
      ]
     },
     "metadata": {},
     "output_type": "display_data"
    },
    {
     "data": {
      "text/plain": [
       "'State 163 (5,-1.0):Norm = 0.89738833 (224 Coefficients)'"
      ]
     },
     "metadata": {},
     "output_type": "display_data"
    },
    {
     "data": {
      "text/plain": [
       "'State 164 (5,-2.0):Norm = 0.89738833 (73 Coefficients)'"
      ]
     },
     "metadata": {},
     "output_type": "display_data"
    },
    {
     "data": {
      "text/plain": [
       "'State 165 (5,2.0):Norm = 0.89738679 (73 Coefficients)'"
      ]
     },
     "metadata": {},
     "output_type": "display_data"
    },
    {
     "data": {
      "text/plain": [
       "'State 166 (5,1.0):Norm = 0.89738679 (224 Coefficients)'"
      ]
     },
     "metadata": {},
     "output_type": "display_data"
    },
    {
     "data": {
      "text/plain": [
       "'State 167 (5,0.0):Norm = 0.89738679 (314 Coefficients)'"
      ]
     },
     "metadata": {},
     "output_type": "display_data"
    },
    {
     "data": {
      "text/plain": [
       "'State 168 (5,-1.0):Norm = 0.89738679 (224 Coefficients)'"
      ]
     },
     "metadata": {},
     "output_type": "display_data"
    },
    {
     "data": {
      "text/plain": [
       "'State 169 (5,-2.0):Norm = 0.89738679 (73 Coefficients)'"
      ]
     },
     "metadata": {},
     "output_type": "display_data"
    },
    {
     "data": {
      "text/plain": [
       "'State 170 (5,2.0):Norm = 0.91747252 (74 Coefficients)'"
      ]
     },
     "metadata": {},
     "output_type": "display_data"
    },
    {
     "data": {
      "text/plain": [
       "'State 171 (5,1.0):Norm = 0.91747252 (228 Coefficients)'"
      ]
     },
     "metadata": {},
     "output_type": "display_data"
    },
    {
     "data": {
      "text/plain": [
       "'State 172 (5,0.0):Norm = 0.91747252 (320 Coefficients)'"
      ]
     },
     "metadata": {},
     "output_type": "display_data"
    },
    {
     "data": {
      "text/plain": [
       "'State 173 (5,-1.0):Norm = 0.91747252 (228 Coefficients)'"
      ]
     },
     "metadata": {},
     "output_type": "display_data"
    },
    {
     "data": {
      "text/plain": [
       "'State 174 (5,-2.0):Norm = 0.91747252 (74 Coefficients)'"
      ]
     },
     "metadata": {},
     "output_type": "display_data"
    },
    {
     "data": {
      "text/plain": [
       "'State 175 (5,2.0):Norm = 0.91747172 (74 Coefficients)'"
      ]
     },
     "metadata": {},
     "output_type": "display_data"
    },
    {
     "data": {
      "text/plain": [
       "'State 176 (5,1.0):Norm = 0.91747172 (228 Coefficients)'"
      ]
     },
     "metadata": {},
     "output_type": "display_data"
    },
    {
     "data": {
      "text/plain": [
       "'State 177 (5,0.0):Norm = 0.91747172 (320 Coefficients)'"
      ]
     },
     "metadata": {},
     "output_type": "display_data"
    },
    {
     "data": {
      "text/plain": [
       "'State 178 (5,-1.0):Norm = 0.91747172 (228 Coefficients)'"
      ]
     },
     "metadata": {},
     "output_type": "display_data"
    },
    {
     "data": {
      "text/plain": [
       "'State 179 (5,-2.0):Norm = 0.91747172 (74 Coefficients)'"
      ]
     },
     "metadata": {},
     "output_type": "display_data"
    },
    {
     "data": {
      "text/plain": [
       "''"
      ]
     },
     "metadata": {},
     "output_type": "display_data"
    }
   ],
   "source": [
    "ci = gamess_guga(\"socisd3.out\")"
   ]
  },
  {
   "cell_type": "code",
   "execution_count": 40,
   "id": "434ba2f8",
   "metadata": {},
   "outputs": [],
   "source": [
    "for st in ci:\n",
    "    ben_can_call_this_whatever = {}\n",
    "    for oc in st['occ']:\n",
    "        k = \"\".join(str(y) for y in [x[0]+2*x[1] for x in oc])\n",
    "        ben_can_call_this_whatever[k] = 0 # Makes a dictionary k for all significant determinants\n",
    "    for i,oc in enumerate(st['occ']):\n",
    "        k = \"\".join(str(y) for y in [x[0]+2*x[1] for x in oc])\n",
    "        ben_can_call_this_whatever[k] += st['coeffs'][i]\n",
    "    st['dets'] = ben_can_call_this_whatever"
   ]
  },
  {
   "cell_type": "code",
   "execution_count": 41,
   "id": "7bca2b36",
   "metadata": {},
   "outputs": [
    {
     "data": {
      "text/plain": [
       "array([ 0.916627  , -0.0752298 ,  0.0752298 , -0.03917089,  0.03917089,\n",
       "       -0.067441  , -0.0752298 ,  0.0752298 , -0.03917089,  0.03917089,\n",
       "        0.05359081, -0.0267954 , -0.0267954 , -0.0267954 , -0.0267954 ,\n",
       "        0.05359081,  0.026151  , -0.026151  , -0.026151  ,  0.026151  ,\n",
       "       -0.067441  ,  0.03602073, -0.03602073, -0.04357378,  0.02178689,\n",
       "        0.02178689,  0.02178689,  0.02178689, -0.04357378, -0.0346615 ,\n",
       "        0.0346615 ,  0.0346615 , -0.0346615 , -0.04357378,  0.02178689,\n",
       "        0.02178689,  0.02178689,  0.02178689, -0.04357378, -0.0346615 ,\n",
       "        0.0346615 ,  0.0346615 , -0.0346615 , -0.148465  , -0.059202  ])"
      ]
     },
     "execution_count": 41,
     "metadata": {},
     "output_type": "execute_result"
    }
   ],
   "source": [
    "ci[0]['coeffs']"
   ]
  },
  {
   "cell_type": "code",
   "execution_count": 42,
   "id": "d43b734b",
   "metadata": {},
   "outputs": [
    {
     "data": {
      "text/plain": [
       "array([[[1, 1],\n",
       "        [1, 1],\n",
       "        [1, 1],\n",
       "        ...,\n",
       "        [0, 0],\n",
       "        [0, 0],\n",
       "        [0, 0]],\n",
       "\n",
       "       [[1, 1],\n",
       "        [1, 1],\n",
       "        [1, 1],\n",
       "        ...,\n",
       "        [0, 0],\n",
       "        [0, 0],\n",
       "        [0, 0]],\n",
       "\n",
       "       [[1, 1],\n",
       "        [1, 1],\n",
       "        [1, 1],\n",
       "        ...,\n",
       "        [0, 0],\n",
       "        [0, 0],\n",
       "        [0, 0]],\n",
       "\n",
       "       ...,\n",
       "\n",
       "       [[1, 1],\n",
       "        [1, 1],\n",
       "        [1, 1],\n",
       "        ...,\n",
       "        [0, 0],\n",
       "        [0, 0],\n",
       "        [0, 0]],\n",
       "\n",
       "       [[1, 1],\n",
       "        [1, 1],\n",
       "        [1, 1],\n",
       "        ...,\n",
       "        [0, 0],\n",
       "        [0, 0],\n",
       "        [0, 0]],\n",
       "\n",
       "       [[1, 1],\n",
       "        [1, 1],\n",
       "        [1, 1],\n",
       "        ...,\n",
       "        [0, 0],\n",
       "        [0, 0],\n",
       "        [0, 0]]], dtype=int32)"
      ]
     },
     "execution_count": 42,
     "metadata": {},
     "output_type": "execute_result"
    }
   ],
   "source": [
    "ci[0]['occ']"
   ]
  },
  {
   "cell_type": "code",
   "execution_count": 43,
   "id": "9fc040d5",
   "metadata": {},
   "outputs": [
    {
     "data": {
      "text/plain": [
       "[[1, 1, 1, 1, 1, 1, 1, 1, 1, 4, 4, 4, 4, 4, 4, 4, 4, 4],\n",
       " [1, 1, 1, 2, 1, 1, 1, 1, 1, 4, 4, 4, 3, 4, 4, 4, 4, 4],\n",
       " [1, 1, 1, 2, 1, 1, 1, 1, 1, 4, 4, 4, 3, 4, 4, 4, 4, 4],\n",
       " [1, 1, 1, 2, 1, 1, 1, 1, 1, 4, 4, 4, 4, 3, 4, 4, 4, 4],\n",
       " [1, 1, 1, 2, 1, 1, 1, 1, 1, 4, 4, 4, 4, 3, 4, 4, 4, 4],\n",
       " [1, 1, 1, 4, 1, 1, 1, 1, 1, 4, 4, 4, 1, 4, 4, 4, 4, 4],\n",
       " [1, 1, 2, 1, 1, 1, 1, 1, 1, 4, 4, 3, 4, 4, 4, 4, 4, 4],\n",
       " [1, 1, 2, 1, 1, 1, 1, 1, 1, 4, 4, 3, 4, 4, 4, 4, 4, 4],\n",
       " [1, 1, 2, 1, 1, 1, 1, 1, 1, 4, 4, 4, 4, 4, 3, 4, 4, 4],\n",
       " [1, 1, 2, 1, 1, 1, 1, 1, 1, 4, 4, 4, 4, 4, 3, 4, 4, 4],\n",
       " [1, 1, 2, 2, 1, 1, 1, 1, 1, 4, 4, 3, 3, 4, 4, 4, 4, 4],\n",
       " [1, 1, 2, 2, 1, 1, 1, 1, 1, 4, 4, 3, 3, 4, 4, 4, 4, 4],\n",
       " [1, 1, 2, 2, 1, 1, 1, 1, 1, 4, 4, 3, 3, 4, 4, 4, 4, 4],\n",
       " [1, 1, 2, 2, 1, 1, 1, 1, 1, 4, 4, 3, 3, 4, 4, 4, 4, 4],\n",
       " [1, 1, 2, 2, 1, 1, 1, 1, 1, 4, 4, 3, 3, 4, 4, 4, 4, 4],\n",
       " [1, 1, 2, 2, 1, 1, 1, 1, 1, 4, 4, 3, 3, 4, 4, 4, 4, 4],\n",
       " [1, 1, 2, 3, 1, 1, 1, 1, 1, 4, 4, 2, 3, 4, 4, 4, 4, 4],\n",
       " [1, 1, 2, 3, 1, 1, 1, 1, 1, 4, 4, 2, 3, 4, 4, 4, 4, 4],\n",
       " [1, 1, 2, 3, 1, 1, 1, 1, 1, 4, 4, 2, 3, 4, 4, 4, 4, 4],\n",
       " [1, 1, 2, 3, 1, 1, 1, 1, 1, 4, 4, 2, 3, 4, 4, 4, 4, 4],\n",
       " [1, 1, 4, 1, 1, 1, 1, 1, 1, 4, 4, 1, 4, 4, 4, 4, 4, 4],\n",
       " [1, 2, 1, 1, 1, 1, 1, 1, 1, 4, 3, 4, 4, 4, 4, 4, 4, 4],\n",
       " [1, 2, 1, 1, 1, 1, 1, 1, 1, 4, 3, 4, 4, 4, 4, 4, 4, 4],\n",
       " [1, 2, 1, 2, 1, 1, 1, 1, 1, 4, 3, 4, 3, 4, 4, 4, 4, 4],\n",
       " [1, 2, 1, 2, 1, 1, 1, 1, 1, 4, 3, 4, 3, 4, 4, 4, 4, 4],\n",
       " [1, 2, 1, 2, 1, 1, 1, 1, 1, 4, 3, 4, 3, 4, 4, 4, 4, 4],\n",
       " [1, 2, 1, 2, 1, 1, 1, 1, 1, 4, 3, 4, 3, 4, 4, 4, 4, 4],\n",
       " [1, 2, 1, 2, 1, 1, 1, 1, 1, 4, 3, 4, 3, 4, 4, 4, 4, 4],\n",
       " [1, 2, 1, 2, 1, 1, 1, 1, 1, 4, 3, 4, 3, 4, 4, 4, 4, 4],\n",
       " [1, 2, 1, 3, 1, 1, 1, 1, 1, 4, 2, 4, 3, 4, 4, 4, 4, 4],\n",
       " [1, 2, 1, 3, 1, 1, 1, 1, 1, 4, 2, 4, 3, 4, 4, 4, 4, 4],\n",
       " [1, 2, 1, 3, 1, 1, 1, 1, 1, 4, 2, 4, 3, 4, 4, 4, 4, 4],\n",
       " [1, 2, 1, 3, 1, 1, 1, 1, 1, 4, 2, 4, 3, 4, 4, 4, 4, 4],\n",
       " [1, 2, 2, 1, 1, 1, 1, 1, 1, 4, 3, 3, 4, 4, 4, 4, 4, 4],\n",
       " [1, 2, 2, 1, 1, 1, 1, 1, 1, 4, 3, 3, 4, 4, 4, 4, 4, 4],\n",
       " [1, 2, 2, 1, 1, 1, 1, 1, 1, 4, 3, 3, 4, 4, 4, 4, 4, 4],\n",
       " [1, 2, 2, 1, 1, 1, 1, 1, 1, 4, 3, 3, 4, 4, 4, 4, 4, 4],\n",
       " [1, 2, 2, 1, 1, 1, 1, 1, 1, 4, 3, 3, 4, 4, 4, 4, 4, 4],\n",
       " [1, 2, 2, 1, 1, 1, 1, 1, 1, 4, 3, 3, 4, 4, 4, 4, 4, 4],\n",
       " [1, 2, 3, 1, 1, 1, 1, 1, 1, 4, 2, 3, 4, 4, 4, 4, 4, 4],\n",
       " [1, 2, 3, 1, 1, 1, 1, 1, 1, 4, 2, 3, 4, 4, 4, 4, 4, 4],\n",
       " [1, 2, 3, 1, 1, 1, 1, 1, 1, 4, 2, 3, 4, 4, 4, 4, 4, 4],\n",
       " [1, 2, 3, 1, 1, 1, 1, 1, 1, 4, 2, 3, 4, 4, 4, 4, 4, 4],\n",
       " [1, 4, 1, 1, 1, 1, 1, 1, 1, 4, 1, 4, 4, 4, 4, 4, 4, 4],\n",
       " [4, 1, 1, 1, 1, 1, 1, 1, 1, 1, 4, 4, 4, 4, 4, 4, 4, 4]]"
      ]
     },
     "execution_count": 43,
     "metadata": {},
     "output_type": "execute_result"
    }
   ],
   "source": [
    "ci[0]['cv']"
   ]
  },
  {
   "cell_type": "code",
   "execution_count": 44,
   "id": "21e39002",
   "metadata": {},
   "outputs": [
    {
     "data": {
      "text/plain": [
       "{'333333333000000000': 0.916627,\n",
       " '333331333000200000': -0.07522979755721797,\n",
       " '333332333000100000': 0.07522979755721797,\n",
       " '333313333000200000': -0.039170887250609986,\n",
       " '333323333000100000': 0.039170887250609986,\n",
       " '333330333000300000': -0.067441,\n",
       " '333333133002000000': -0.07522979755721797,\n",
       " '333333233001000000': 0.07522979755721797,\n",
       " '333133333002000000': -0.039170887250609986,\n",
       " '333233333001000000': 0.039170887250609986,\n",
       " '333331133002200000': 0.05359080668671944,\n",
       " '333331233002100000': -0.0006444033433597209,\n",
       " '333331233001200000': -0.05294640334335972,\n",
       " '333332133002100000': -0.05294640334335972,\n",
       " '333332133001200000': -0.0006444033433597209,\n",
       " '333332233001100000': 0.05359080668671944,\n",
       " '333333033003000000': -0.067441,\n",
       " '333333313020000000': 0.03602072654042392,\n",
       " '333333323010000000': -0.03602072654042392,\n",
       " '333331313020200000': -0.04357377951627943,\n",
       " '333331323020100000': -0.012874610241860283,\n",
       " '333331323010200000': 0.05644838975813971,\n",
       " '333332313020100000': 0.05644838975813971,\n",
       " '333332313010200000': -0.012874610241860283,\n",
       " '333332323010100000': -0.04357377951627943,\n",
       " '333333113022000000': -0.04357377951627943,\n",
       " '333333123021000000': -0.012874610241860283,\n",
       " '333333123012000000': 0.05644838975813971,\n",
       " '333333213021000000': 0.05644838975813971,\n",
       " '333333213012000000': -0.012874610241860283,\n",
       " '333333223011000000': -0.04357377951627943,\n",
       " '333333303030000000': -0.148465,\n",
       " '333333330300000000': -0.059202}"
      ]
     },
     "execution_count": 44,
     "metadata": {},
     "output_type": "execute_result"
    }
   ],
   "source": [
    "ci[0]['dets']"
   ]
  },
  {
   "cell_type": "code",
   "execution_count": 45,
   "id": "68e562b4",
   "metadata": {},
   "outputs": [
    {
     "data": {
      "text/plain": [
       "0.9385737011089995"
      ]
     },
     "execution_count": 45,
     "metadata": {},
     "output_type": "execute_result"
    }
   ],
   "source": [
    "norm = 0\n",
    "for k in ci[0]['dets']:\n",
    "    norm += ci[0]['dets'][k]**2\n",
    "norm"
   ]
  },
  {
   "cell_type": "markdown",
   "id": "f6fac646",
   "metadata": {},
   "source": [
    "Same norm as state 0 using CSFs\n",
    "\n",
    "3 is double\n",
    "\n",
    "1 is alpha\n",
    "\n",
    "2 is beta\n",
    "\n",
    "0 is unoccupied"
   ]
  },
  {
   "cell_type": "code",
   "execution_count": null,
   "id": "1ab9dbde",
   "metadata": {},
   "outputs": [],
   "source": []
  }
 ],
 "metadata": {
  "kernelspec": {
   "display_name": "Python 3 (ipykernel)",
   "language": "python",
   "name": "python3"
  },
  "language_info": {
   "codemirror_mode": {
    "name": "ipython",
    "version": 3
   },
   "file_extension": ".py",
   "mimetype": "text/x-python",
   "name": "python",
   "nbconvert_exporter": "python",
   "pygments_lexer": "ipython3",
   "version": "3.9.13"
  }
 },
 "nbformat": 4,
 "nbformat_minor": 5
}
